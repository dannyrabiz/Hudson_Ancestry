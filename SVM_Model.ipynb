{
 "cells": [
  {
   "cell_type": "code",
   "execution_count": 1,
   "id": "7a39c192",
   "metadata": {},
   "outputs": [
    {
     "name": "stdout",
     "output_type": "stream",
     "text": [
      "%pylab is deprecated, use %matplotlib inline and import the required libraries.\n",
      "Populating the interactive namespace from numpy and matplotlib\n"
     ]
    }
   ],
   "source": [
    "%pylab inline \n",
    "import pandas as pd \n",
    "import joblib"
   ]
  },
  {
   "cell_type": "code",
   "execution_count": 2,
   "id": "9455f39e",
   "metadata": {},
   "outputs": [],
   "source": [
    "# Load the selected variant indices\n",
    "selected_variant_df = joblib.load('new_selected_variants_df.pkl')\n",
    "\n",
    "# Use these indices to filter future VCF data\n",
    "#filtered_vcf_data = vcf_data.iloc[selected_variant_indices]  # Assuming vcf_data is your future data"
   ]
  },
  {
   "cell_type": "code",
   "execution_count": 3,
   "id": "8b43accf",
   "metadata": {},
   "outputs": [
    {
     "name": "stdout",
     "output_type": "stream",
     "text": [
      "BED file has been created: selected_variant.bed\n"
     ]
    }
   ],
   "source": [
    "bed_df = selected_variant_df[['#CHROM', 'POS', 'REF', 'ALT']].copy()\n",
    "\n",
    "# Adjust the POS column for BED's 0-based start (subtract 1)\n",
    "bed_df['start'] = bed_df['POS'] - 1\n",
    "bed_df['end'] = bed_df['POS']\n",
    "\n",
    "# Rearrange columns for BED format (chromosome, start, end, followed by REF and ALT)\n",
    "bed_df = bed_df[['#CHROM', 'start', 'end', 'REF', 'ALT']]\n",
    "\n",
    "# Write the dataframe to a BED file\n",
    "bed_df.to_csv('new_SVM_hg38.bed', sep='\\t', header=False, index=False)\n",
    "\n",
    "print(\"BED file has been created: selected_variant.bed\")"
   ]
  },
  {
   "cell_type": "code",
   "execution_count": 13,
   "id": "cdf4684c",
   "metadata": {},
   "outputs": [
    {
     "data": {
      "text/plain": [
       "(4723, 5)"
      ]
     },
     "execution_count": 13,
     "metadata": {},
     "output_type": "execute_result"
    }
   ],
   "source": [
    "bed_df.shape"
   ]
  },
  {
   "cell_type": "code",
   "execution_count": 14,
   "id": "b7796ec6",
   "metadata": {},
   "outputs": [
    {
     "data": {
      "text/plain": [
       "(4729, 5)"
      ]
     },
     "execution_count": 14,
     "metadata": {},
     "output_type": "execute_result"
    }
   ],
   "source": [
    "hg19_bed.shape"
   ]
  },
  {
   "cell_type": "code",
   "execution_count": 15,
   "id": "39d26a5c",
   "metadata": {},
   "outputs": [],
   "source": [
    "bed_df.reset_index(drop=True, inplace=True)"
   ]
  },
  {
   "cell_type": "code",
   "execution_count": null,
   "id": "a5ba67ad",
   "metadata": {},
   "outputs": [],
   "source": []
  },
  {
   "cell_type": "code",
   "execution_count": 4,
   "id": "6ff1ab6a",
   "metadata": {},
   "outputs": [],
   "source": [
    "#Import lift over \n",
    "hg19_bed = pd.read_csv('new_SVM_hg19_liftover.bed', sep ='\\t', header = None)"
   ]
  },
  {
   "cell_type": "code",
   "execution_count": 5,
   "id": "13cba6a7",
   "metadata": {},
   "outputs": [],
   "source": [
    "hg19_bed.columns = ['#CHROM', 'start', 'end' ,'REF', 'ALT']"
   ]
  },
  {
   "cell_type": "code",
   "execution_count": 6,
   "id": "c0b72382",
   "metadata": {},
   "outputs": [],
   "source": [
    "missing_indices = [20, 21, 159, 4110, 4300, 4431]\n",
    "\n",
    "# Create a filler row\n",
    "filler_row = {\n",
    "    '#CHROM': '#Deleted in new',\n",
    "    'start': None,\n",
    "    'end': None,\n",
    "    'REF': None,\n",
    "    'ALT': None, \n",
    "}\n",
    "\n",
    "# Insert fillers at the correct positions while maintaining the index structure\n",
    "for idx in missing_indices:\n",
    "    # Insert the filler row into hg19_bed at the specified index\n",
    "    hg19_bed = pd.concat([hg19_bed.iloc[:idx], pd.DataFrame([filler_row]), hg19_bed.iloc[idx:]]).reset_index(drop=True)\n",
    "\n"
   ]
  },
  {
   "cell_type": "code",
   "execution_count": 7,
   "id": "0ef13868",
   "metadata": {},
   "outputs": [],
   "source": [
    "hg19_bed['ALT'] = bed_df['ALT']"
   ]
  },
  {
   "cell_type": "code",
   "execution_count": 21,
   "id": "fd8560b6",
   "metadata": {},
   "outputs": [
    {
     "name": "stdout",
     "output_type": "stream",
     "text": [
      "BED file with fillers has been created: hg19_bed_with_fillers.bed\n"
     ]
    }
   ],
   "source": [
    "# Save the modified hg19_bed dataframe to a BED file\n",
    "hg19_bed.to_csv('new_hg19_bed_SVM_index.bed', sep='\\t', header=False, index=False)\n",
    "\n",
    "print(\"BED file with fillers has been created: hg19_bed_with_fillers.bed\")"
   ]
  },
  {
   "cell_type": "code",
   "execution_count": null,
   "id": "8a071d2d",
   "metadata": {},
   "outputs": [],
   "source": []
  },
  {
   "cell_type": "code",
   "execution_count": 22,
   "id": "1da01e2d",
   "metadata": {},
   "outputs": [],
   "source": [
    "import os\n",
    "\n",
    "# Directory containing the VCF files\n",
    "vcf_directory = 'VCF/'\n",
    "\n",
    "# Get a list of all files in the directory\n",
    "vcf_files = os.listdir(vcf_directory)"
   ]
  },
  {
   "cell_type": "code",
   "execution_count": 23,
   "id": "aad05f87",
   "metadata": {},
   "outputs": [],
   "source": [
    "vcf_files = [i for i in vcf_files if '.vcf' in i]\n",
    "vcf_files = [i for i in vcf_files if '.idx' not in i]"
   ]
  },
  {
   "cell_type": "code",
   "execution_count": 24,
   "id": "afe5564a",
   "metadata": {},
   "outputs": [],
   "source": [
    "hg19_bed.columns = ['#Chr', 'Start', 'End', 'Ref', 'Alt']"
   ]
  },
  {
   "cell_type": "code",
   "execution_count": 16,
   "id": "f8a30061",
   "metadata": {},
   "outputs": [],
   "source": []
  },
  {
   "cell_type": "code",
   "execution_count": 25,
   "id": "0ce6e124",
   "metadata": {},
   "outputs": [],
   "source": [
    "def process_single_vcf_and_generate_df(vcf_file, exome_df):\n",
    "    # Extract the sample name from the VCF filename (without extension)\n",
    "    sample_name = vcf_file.split('.')[0].split('/')[-1]\n",
    "    \n",
    "    \n",
    "    \n",
    "    # Initialize the DataFrame with the exome data and add a new column for the genotype\n",
    "    sample_df = pd.DataFrame(0, index=exome_df.index, columns=['#Chr', 'Start', 'End', sample_name])\n",
    "    sample_df[['#Chr', 'Start', 'End']] = exome_df[['#Chr', 'Start', 'End']]\n",
    "    \n",
    "    # Process the VCF file\n",
    "    #vcf_in = pysam.VariantFile(vcf_file)\n",
    "\n",
    "    \n",
    "    # Re-open the VCF file to start processing from the beginning\n",
    "    vcf_in = pysam.VariantFile(vcf_file)\n",
    "    \n",
    "    for record in vcf_in:\n",
    "        chrom = record.chrom\n",
    "        pos = record.pos\n",
    "        sample = list(record.samples.keys())[0]  # Assuming only one sample per VCF\n",
    "        genotype = record.samples[sample]['GT']\n",
    "        \n",
    "        # Convert genotype to 0, 1, or 2\n",
    "        if genotype == (0, 0):\n",
    "            genotype_value = 0\n",
    "        elif genotype in [(0, 1), (1, 0)]:\n",
    "            genotype_value = 1\n",
    "        elif genotype == (1, 1):\n",
    "            genotype_value = 2\n",
    "        else:\n",
    "            genotype_value = 0  # In case of missing data, assume 0\n",
    "\n",
    "        # Check if the current VCF position is in the exome data\n",
    "        #matching_rows = (exome_df['#Chr'] == chrom) & (exome_df['Start'] == pos)\n",
    "        matching_rows = (exome_df['#Chr'] == chrom) & (exome_df['End'] == pos) & (exome_df['Alt'] == record.alts[0]) \n",
    "        if matching_rows.any():\n",
    "            index = exome_df[matching_rows].index\n",
    "            sample_df.loc[index, sample_name] = genotype_value\n",
    "    \n",
    "    # Drop the position columns if you don't need them in the final DataFrame\n",
    "    sample_df = sample_df.drop(columns=['#Chr', 'Start', 'End'])\n",
    "    \n",
    "    return sample_df"
   ]
  },
  {
   "cell_type": "code",
   "execution_count": 8,
   "id": "44a1f776",
   "metadata": {},
   "outputs": [],
   "source": [
    "exome_file = 'SNP_AIMS.txt'  # Replace with your filtered exome data file path\n",
    "#exome_df = pd.read_csv(exome_file, sep='\\t')"
   ]
  },
  {
   "cell_type": "code",
   "execution_count": 9,
   "id": "3ce6bb37",
   "metadata": {},
   "outputs": [],
   "source": [
    "import pysam"
   ]
  },
  {
   "cell_type": "code",
   "execution_count": 33,
   "id": "2323472d",
   "metadata": {},
   "outputs": [
    {
     "ename": "SyntaxError",
     "evalue": "unterminated string literal (detected at line 1) (3439848979.py, line 1)",
     "output_type": "error",
     "traceback": [
      "\u001b[0;36m  Cell \u001b[0;32mIn[33], line 1\u001b[0;36m\u001b[0m\n\u001b[0;31m    Don't Run\u001b[0m\n\u001b[0m       ^\u001b[0m\n\u001b[0;31mSyntaxError\u001b[0m\u001b[0;31m:\u001b[0m unterminated string literal (detected at line 1)\n"
     ]
    }
   ],
   "source": [
    "Don't Run\n",
    "#exome_file = 'SNP_AIMS.txt'  # Replace with your filtered exome data file path\n",
    "#exome_df = pd.read_csv(exome_file, sep='\\t')\n",
    "exome_df = hg19_bed.copy()\n",
    "\n",
    "\n",
    "vcf_file = 'VCF/C7661059.sorted.bam.vcf'  # Replace with your VCF file path\n",
    "# Process the VCF and get the DataFrame\n",
    "sample_df = process_single_vcf_and_generate_df(vcf_file, exome_df)\n",
    "sample_df.to_csv('Sample_SNP/C7661059.txt', sep = '\\t')\n",
    "\n",
    "cnt = 0 \n",
    "master_df = sample_df.copy()\n",
    "for vcf in vcf_files[1:]:\n",
    "    a = time.time()\n",
    "    vcf_file = 'VCF/'+vcf\n",
    "    sample_df = process_single_vcf_and_generate_df(vcf_file, exome_df)\n",
    "    master_df = pd.concat([master_df,sample_df], axis=1) #I think this approach was taking too long \n",
    "    if sample_df is not None:\n",
    "        sample_df.to_csv(f'Sample_SNP/{vcf.split('.')[0]}.txt', sep = '\\t')\n",
    "        print(cnt, time.time()-a)\n",
    "        #print()\n",
    "        cnt+=1\n",
    "\n",
    "master_df = master_df.loc[:, ~master_df.columns.duplicated()]\n",
    "master_df.to_csv('Sample_SNP_array.csv') \n",
    "\n",
    "print('Done')"
   ]
  },
  {
   "cell_type": "code",
   "execution_count": 10,
   "id": "4cf5acbb",
   "metadata": {},
   "outputs": [],
   "source": [
    "#Here\n",
    "exome_df = hg19_bed.copy()"
   ]
  },
  {
   "cell_type": "code",
   "execution_count": 11,
   "id": "e74ae8af",
   "metadata": {},
   "outputs": [],
   "source": [
    "master_df = pd.read_csv('Sample_SNP_array.csv', index_col = 0)"
   ]
  },
  {
   "cell_type": "code",
   "execution_count": 12,
   "id": "7ebd4fc8",
   "metadata": {},
   "outputs": [
    {
     "data": {
      "text/plain": [
       "((4723, 790), (4723, 5))"
      ]
     },
     "execution_count": 12,
     "metadata": {},
     "output_type": "execute_result"
    }
   ],
   "source": [
    "master_df.shape, exome_df.shape"
   ]
  },
  {
   "cell_type": "code",
   "execution_count": 13,
   "id": "1c0006dc",
   "metadata": {},
   "outputs": [
    {
     "name": "stdout",
     "output_type": "stream",
     "text": [
      "SVM model loaded successfully\n",
      "Selected features loaded successfully\n"
     ]
    },
    {
     "name": "stderr",
     "output_type": "stream",
     "text": [
      "/opt/anaconda3/lib/python3.12/site-packages/sklearn/base.py:376: InconsistentVersionWarning: Trying to unpickle estimator SVC from version 1.3.0 when using version 1.4.2. This might lead to breaking code or invalid results. Use at your own risk. For more info please refer to:\n",
      "https://scikit-learn.org/stable/model_persistence.html#security-maintainability-limitations\n",
      "  warnings.warn(\n"
     ]
    }
   ],
   "source": [
    "loaded_svm_model = joblib.load('new_svm_model.pkl')\n",
    "print(\"SVM model loaded successfully\")\n",
    "\n",
    "# Load the saved selected features (if feature selection was applied)\n",
    "selected_features = joblib.load('new_selected_variants.pkl')\n",
    "print(\"Selected features loaded successfully\")\n",
    "\n"
   ]
  },
  {
   "cell_type": "code",
   "execution_count": 66,
   "id": "34dc554a",
   "metadata": {},
   "outputs": [
    {
     "name": "stdout",
     "output_type": "stream",
     "text": [
      "Feature importance is not available for non-linear kernels.\n"
     ]
    }
   ],
   "source": [
    "# Ensure you are using a linear kernel\n",
    "if hasattr(loaded_svm_model, 'coef_'):\n",
    "    # Get the absolute value of the coefficients to interpret as feature importance\n",
    "    feature_importances = abs(loaded_svm_model.coef_).flatten()\n",
    "\n",
    "    # Get the indices of the most important features\n",
    "    top_feature_indices = feature_importances.argsort()[::-1]  # Sort in descending order of importance\n",
    "\n",
    "    print(\"Top 10 important features (indices):\", top_feature_indices[:10])\n",
    "    print(\"Feature importances:\", feature_importances[top_feature_indices[:10]])\n",
    "else:\n",
    "    print(\"Feature importance is not available for non-linear kernels.\")\n"
   ]
  },
  {
   "cell_type": "code",
   "execution_count": 14,
   "id": "851bccc5",
   "metadata": {},
   "outputs": [],
   "source": [
    "X_test = array(master_df)"
   ]
  },
  {
   "cell_type": "code",
   "execution_count": 15,
   "id": "6d290755",
   "metadata": {},
   "outputs": [],
   "source": [
    "X_test = X_test.T"
   ]
  },
  {
   "cell_type": "code",
   "execution_count": 16,
   "id": "ca9ca4f7",
   "metadata": {},
   "outputs": [],
   "source": [
    "# Apply the feature selection when making predictions\n",
    "X_test_selected = X_test#[:, selected_features]  # Use the saved feature indices to filter the test data\n",
    "y_pred_svm = loaded_svm_model.predict(X_test_selected)"
   ]
  },
  {
   "cell_type": "code",
   "execution_count": 17,
   "id": "f88a455a",
   "metadata": {},
   "outputs": [
    {
     "data": {
      "text/plain": [
       "EUR    619\n",
       "EAS    139\n",
       "AFR     25\n",
       "AMR      5\n",
       "SAS      2\n",
       "Name: count, dtype: int64"
      ]
     },
     "execution_count": 17,
     "metadata": {},
     "output_type": "execute_result"
    }
   ],
   "source": [
    "pd.Series(y_pred_svm).value_counts()"
   ]
  },
  {
   "cell_type": "code",
   "execution_count": 76,
   "id": "9d6a7628",
   "metadata": {},
   "outputs": [
    {
     "name": "stdout",
     "output_type": "stream",
     "text": [
      "Top 10 most important features (indices): [4722 1585 1569 1570 1571 1572 1573 1574 1575 1576]\n",
      "Permutation importances: [0. 0. 0. 0. 0. 0. 0. 0. 0. 0.]\n"
     ]
    }
   ],
   "source": [
    "from sklearn.inspection import permutation_importance\n",
    "\n",
    "# Calculate permutation feature importance on the test set\n",
    "result = permutation_importance(loaded_svm_model, X_test_selected, y_pred_svm, n_repeats=3, random_state=42)\n",
    "\n",
    "# Get the most important features\n",
    "sorted_idx = result.importances_mean.argsort()[::-1]  # Sort in descending order\n",
    "\n",
    "# Print top 10 most important features\n",
    "print(\"Top 10 most important features (indices):\", sorted_idx[:10])\n",
    "print(\"Permutation importances:\", result.importances_mean[sorted_idx[:10]])\n"
   ]
  },
  {
   "cell_type": "code",
   "execution_count": null,
   "id": "484dec02",
   "metadata": {},
   "outputs": [],
   "source": []
  },
  {
   "cell_type": "code",
   "execution_count": null,
   "id": "ebf3e82e",
   "metadata": {},
   "outputs": [],
   "source": []
  },
  {
   "cell_type": "code",
   "execution_count": 18,
   "id": "ee4ff805",
   "metadata": {},
   "outputs": [],
   "source": [
    "X_test_selected = X_test#[:, selected_features]  # Use the saved feature indices to filter the test data\n",
    "y_pred_proba = loaded_svm_model.predict_proba(X_test_selected)"
   ]
  },
  {
   "cell_type": "code",
   "execution_count": 19,
   "id": "1590aca5",
   "metadata": {},
   "outputs": [],
   "source": [
    "preds_df = pd.read_csv('Broader_AIMS_predtictions.txt', sep ='\\t', index_col = 0)\n"
   ]
  },
  {
   "cell_type": "code",
   "execution_count": 20,
   "id": "aa9061f3",
   "metadata": {},
   "outputs": [
    {
     "data": {
      "text/plain": [
       "predictions\n",
       "NFE    598\n",
       "EAS    140\n",
       "AFR     52\n",
       "Name: count, dtype: int64"
      ]
     },
     "execution_count": 20,
     "metadata": {},
     "output_type": "execute_result"
    }
   ],
   "source": [
    "preds_df['predictions'].value_counts()"
   ]
  },
  {
   "cell_type": "code",
   "execution_count": 21,
   "id": "9b6d76ee",
   "metadata": {},
   "outputs": [],
   "source": [
    "clf.classes_ = array(['AFR', 'AMR', 'EAS', 'EUR', 'SAS'], dtype='<U3')"
   ]
  },
  {
   "cell_type": "code",
   "execution_count": 22,
   "id": "6aff0d32",
   "metadata": {},
   "outputs": [
    {
     "name": "stdout",
     "output_type": "stream",
     "text": [
      "Primary Predicted Ethnicity: EAS with probability 0.9784\n",
      "Possible Admixture: AMR with probability 0.0116\n",
      "------------------------------\n",
      "Primary Predicted Ethnicity: EUR with probability 0.9476\n",
      "Possible Admixture: AMR with probability 0.0229\n",
      "------------------------------\n",
      "Primary Predicted Ethnicity: EUR with probability 0.9812\n",
      "Possible Admixture: SAS with probability 0.0079\n",
      "------------------------------\n",
      "Primary Predicted Ethnicity: EUR with probability 0.9450\n",
      "Possible Admixture: SAS with probability 0.0222\n",
      "------------------------------\n",
      "Primary Predicted Ethnicity: EUR with probability 0.9631\n",
      "Possible Admixture: AMR with probability 0.0179\n",
      "------------------------------\n",
      "Primary Predicted Ethnicity: EUR with probability 0.7751\n",
      "Possible Admixture: SAS with probability 0.1582\n",
      "------------------------------\n",
      "Primary Predicted Ethnicity: EAS with probability 0.9611\n",
      "Possible Admixture: SAS with probability 0.0128\n",
      "------------------------------\n",
      "Primary Predicted Ethnicity: EUR with probability 0.9645\n",
      "Possible Admixture: SAS with probability 0.0159\n",
      "------------------------------\n",
      "Primary Predicted Ethnicity: EAS with probability 0.9780\n",
      "Possible Admixture: AMR with probability 0.0092\n",
      "------------------------------\n",
      "Primary Predicted Ethnicity: EAS with probability 0.9715\n",
      "Possible Admixture: AMR with probability 0.0118\n",
      "------------------------------\n",
      "Primary Predicted Ethnicity: EUR with probability 0.9472\n",
      "Possible Admixture: SAS with probability 0.0223\n",
      "------------------------------\n",
      "Primary Predicted Ethnicity: EAS with probability 0.9784\n",
      "Possible Admixture: AMR with probability 0.0096\n",
      "------------------------------\n",
      "Primary Predicted Ethnicity: EAS with probability 0.9791\n",
      "Possible Admixture: AMR with probability 0.0089\n",
      "------------------------------\n",
      "Primary Predicted Ethnicity: EUR with probability 0.9539\n",
      "Possible Admixture: AMR with probability 0.0196\n",
      "------------------------------\n",
      "Primary Predicted Ethnicity: EUR with probability 0.9369\n",
      "Possible Admixture: AMR with probability 0.0328\n",
      "------------------------------\n",
      "Primary Predicted Ethnicity: EUR with probability 0.9531\n",
      "Possible Admixture: AMR with probability 0.0199\n",
      "------------------------------\n",
      "Primary Predicted Ethnicity: EAS with probability 0.9641\n",
      "Possible Admixture: AMR with probability 0.0153\n",
      "------------------------------\n",
      "Primary Predicted Ethnicity: EUR with probability 0.9670\n",
      "Possible Admixture: SAS with probability 0.0170\n",
      "------------------------------\n",
      "Primary Predicted Ethnicity: EUR with probability 0.9583\n",
      "Possible Admixture: SAS with probability 0.0210\n",
      "------------------------------\n",
      "Primary Predicted Ethnicity: EUR with probability 0.9783\n",
      "Possible Admixture: SAS with probability 0.0079\n",
      "------------------------------\n",
      "Primary Predicted Ethnicity: EUR with probability 0.9431\n",
      "Possible Admixture: SAS with probability 0.0317\n",
      "------------------------------\n",
      "Primary Predicted Ethnicity: EUR with probability 0.9597\n",
      "Possible Admixture: SAS with probability 0.0299\n",
      "------------------------------\n",
      "Primary Predicted Ethnicity: EUR with probability 0.9407\n",
      "Possible Admixture: SAS with probability 0.0292\n",
      "------------------------------\n",
      "Primary Predicted Ethnicity: EUR with probability 0.9592\n",
      "Possible Admixture: AMR with probability 0.0190\n",
      "------------------------------\n",
      "Primary Predicted Ethnicity: EUR with probability 0.9233\n",
      "Possible Admixture: AMR with probability 0.0404\n",
      "------------------------------\n",
      "Primary Predicted Ethnicity: EUR with probability 0.9806\n",
      "Possible Admixture: AMR with probability 0.0077\n",
      "------------------------------\n",
      "Primary Predicted Ethnicity: EAS with probability 0.9729\n",
      "Possible Admixture: AMR with probability 0.0145\n",
      "------------------------------\n",
      "Primary Predicted Ethnicity: EUR with probability 0.9384\n",
      "Possible Admixture: SAS with probability 0.0265\n",
      "------------------------------\n",
      "Primary Predicted Ethnicity: EAS with probability 0.9831\n",
      "Possible Admixture: AMR with probability 0.0078\n",
      "------------------------------\n",
      "Primary Predicted Ethnicity: EUR with probability 0.9574\n",
      "Possible Admixture: SAS with probability 0.0234\n",
      "------------------------------\n",
      "Primary Predicted Ethnicity: EUR with probability 0.8802\n",
      "Possible Admixture: SAS with probability 0.0573\n",
      "------------------------------\n",
      "Primary Predicted Ethnicity: EUR with probability 0.9659\n",
      "Possible Admixture: SAS with probability 0.0144\n",
      "------------------------------\n",
      "Primary Predicted Ethnicity: EUR with probability 0.7764\n",
      "Possible Admixture: SAS with probability 0.1479\n",
      "------------------------------\n",
      "Primary Predicted Ethnicity: EUR with probability 0.9714\n",
      "Possible Admixture: AMR with probability 0.0108\n",
      "------------------------------\n",
      "Primary Predicted Ethnicity: EUR with probability 0.8938\n",
      "Possible Admixture: SAS with probability 0.0472\n",
      "------------------------------\n",
      "Primary Predicted Ethnicity: EUR with probability 0.8855\n",
      "Possible Admixture: SAS with probability 0.0754\n",
      "------------------------------\n",
      "Primary Predicted Ethnicity: EUR with probability 0.9656\n",
      "Possible Admixture: SAS with probability 0.0145\n",
      "------------------------------\n",
      "Primary Predicted Ethnicity: EAS with probability 0.9759\n",
      "Possible Admixture: AMR with probability 0.0134\n",
      "------------------------------\n",
      "Primary Predicted Ethnicity: EUR with probability 0.9677\n",
      "Possible Admixture: SAS with probability 0.0125\n",
      "------------------------------\n",
      "Primary Predicted Ethnicity: EAS with probability 0.9545\n",
      "Possible Admixture: AMR with probability 0.0209\n",
      "------------------------------\n",
      "Primary Predicted Ethnicity: EUR with probability 0.9606\n",
      "Possible Admixture: SAS with probability 0.0220\n",
      "------------------------------\n",
      "Primary Predicted Ethnicity: EUR with probability 0.9250\n",
      "Possible Admixture: SAS with probability 0.0514\n",
      "------------------------------\n",
      "Primary Predicted Ethnicity: EUR with probability 0.9013\n",
      "Possible Admixture: SAS with probability 0.0757\n",
      "------------------------------\n",
      "Primary Predicted Ethnicity: EUR with probability 0.9435\n",
      "Possible Admixture: SAS with probability 0.0298\n",
      "------------------------------\n",
      "Primary Predicted Ethnicity: EAS with probability 0.9590\n",
      "Possible Admixture: AMR with probability 0.0218\n",
      "------------------------------\n",
      "Primary Predicted Ethnicity: EUR with probability 0.8820\n",
      "Possible Admixture: SAS with probability 0.0946\n",
      "------------------------------\n",
      "Primary Predicted Ethnicity: EUR with probability 0.9024\n",
      "Possible Admixture: AMR with probability 0.0418\n",
      "------------------------------\n",
      "Primary Predicted Ethnicity: EAS with probability 0.9556\n",
      "Possible Admixture: AMR with probability 0.0172\n",
      "------------------------------\n",
      "Primary Predicted Ethnicity: EUR with probability 0.9620\n",
      "Possible Admixture: SAS with probability 0.0183\n",
      "------------------------------\n",
      "Primary Predicted Ethnicity: EUR with probability 0.9385\n",
      "Possible Admixture: SAS with probability 0.0374\n",
      "------------------------------\n",
      "Primary Predicted Ethnicity: EUR with probability 0.9037\n",
      "Possible Admixture: SAS with probability 0.0700\n",
      "------------------------------\n",
      "Primary Predicted Ethnicity: EUR with probability 0.9558\n",
      "Possible Admixture: SAS with probability 0.0186\n",
      "------------------------------\n",
      "Primary Predicted Ethnicity: EUR with probability 0.8449\n",
      "Possible Admixture: SAS with probability 0.0818\n",
      "------------------------------\n",
      "Primary Predicted Ethnicity: EUR with probability 0.9503\n",
      "Possible Admixture: AMR with probability 0.0201\n",
      "------------------------------\n",
      "Primary Predicted Ethnicity: EUR with probability 0.9759\n",
      "Possible Admixture: SAS with probability 0.0114\n",
      "------------------------------\n",
      "Primary Predicted Ethnicity: EUR with probability 0.8169\n",
      "Possible Admixture: SAS with probability 0.1226\n",
      "------------------------------\n",
      "Primary Predicted Ethnicity: EAS with probability 0.9159\n",
      "Possible Admixture: AMR with probability 0.0346\n",
      "------------------------------\n",
      "Primary Predicted Ethnicity: EUR with probability 0.9019\n",
      "Possible Admixture: SAS with probability 0.0684\n",
      "------------------------------\n",
      "Primary Predicted Ethnicity: EUR with probability 0.6420\n",
      "Possible Admixture: SAS with probability 0.2701\n",
      "------------------------------\n",
      "Primary Predicted Ethnicity: EUR with probability 0.8985\n",
      "Possible Admixture: SAS with probability 0.0623\n",
      "------------------------------\n",
      "Primary Predicted Ethnicity: EUR with probability 0.9007\n",
      "Possible Admixture: SAS with probability 0.0538\n",
      "------------------------------\n",
      "Primary Predicted Ethnicity: EUR with probability 0.9720\n",
      "Possible Admixture: SAS with probability 0.0143\n",
      "------------------------------\n",
      "Primary Predicted Ethnicity: EUR with probability 0.9287\n",
      "Possible Admixture: AMR with probability 0.0310\n",
      "------------------------------\n",
      "Primary Predicted Ethnicity: EUR with probability 0.9710\n",
      "Possible Admixture: SAS with probability 0.0149\n",
      "------------------------------\n",
      "Primary Predicted Ethnicity: EAS with probability 0.9718\n",
      "Possible Admixture: AMR with probability 0.0152\n",
      "------------------------------\n",
      "Primary Predicted Ethnicity: EUR with probability 0.9745\n",
      "Possible Admixture: SAS with probability 0.0094\n",
      "------------------------------\n",
      "Primary Predicted Ethnicity: EUR with probability 0.9055\n",
      "Possible Admixture: SAS with probability 0.0640\n",
      "------------------------------\n",
      "Primary Predicted Ethnicity: AFR with probability 0.9870\n",
      "Possible Admixture: SAS with probability 0.0050\n",
      "------------------------------\n",
      "Primary Predicted Ethnicity: EAS with probability 0.9643\n",
      "Possible Admixture: AMR with probability 0.0190\n",
      "------------------------------\n",
      "Primary Predicted Ethnicity: EUR with probability 0.9790\n",
      "Possible Admixture: AMR with probability 0.0086\n",
      "------------------------------\n",
      "Primary Predicted Ethnicity: EUR with probability 0.8839\n",
      "Possible Admixture: SAS with probability 0.0656\n",
      "------------------------------\n",
      "Primary Predicted Ethnicity: EUR with probability 0.8728\n",
      "Possible Admixture: SAS with probability 0.0897\n",
      "------------------------------\n",
      "Primary Predicted Ethnicity: EUR with probability 0.9452\n",
      "Possible Admixture: SAS with probability 0.0270\n",
      "------------------------------\n",
      "Primary Predicted Ethnicity: EUR with probability 0.9651\n",
      "Possible Admixture: SAS with probability 0.0134\n",
      "------------------------------\n",
      "Primary Predicted Ethnicity: EUR with probability 0.9573\n",
      "Possible Admixture: AMR with probability 0.0188\n",
      "------------------------------\n",
      "Primary Predicted Ethnicity: EUR with probability 0.9524\n",
      "Possible Admixture: AMR with probability 0.0195\n",
      "------------------------------\n",
      "Primary Predicted Ethnicity: EUR with probability 0.6343\n",
      "Possible Admixture: SAS with probability 0.2569\n",
      "------------------------------\n",
      "Primary Predicted Ethnicity: AFR with probability 0.9716\n",
      "Possible Admixture: SAS with probability 0.0132\n",
      "------------------------------\n",
      "Primary Predicted Ethnicity: EUR with probability 0.7994\n",
      "Possible Admixture: SAS with probability 0.0915\n",
      "------------------------------\n",
      "Primary Predicted Ethnicity: SAS with probability 0.6390\n",
      "Possible Admixture: EUR with probability 0.2025\n",
      "------------------------------\n",
      "Primary Predicted Ethnicity: EUR with probability 0.9177\n",
      "Possible Admixture: SAS with probability 0.0461\n",
      "------------------------------\n",
      "Primary Predicted Ethnicity: EUR with probability 0.9260\n",
      "Possible Admixture: AMR with probability 0.0325\n",
      "------------------------------\n",
      "Primary Predicted Ethnicity: EUR with probability 0.9311\n",
      "Possible Admixture: SAS with probability 0.0320\n",
      "------------------------------\n",
      "Primary Predicted Ethnicity: AMR with probability 0.7133\n",
      "Possible Admixture: EUR with probability 0.1655\n",
      "------------------------------\n",
      "Primary Predicted Ethnicity: EUR with probability 0.9620\n",
      "Possible Admixture: SAS with probability 0.0191\n",
      "------------------------------\n",
      "Primary Predicted Ethnicity: EUR with probability 0.9794\n",
      "Possible Admixture: AMR with probability 0.0102\n",
      "------------------------------\n",
      "Primary Predicted Ethnicity: EUR with probability 0.9039\n",
      "Possible Admixture: SAS with probability 0.0648\n",
      "------------------------------\n",
      "Primary Predicted Ethnicity: EUR with probability 0.8270\n",
      "Possible Admixture: SAS with probability 0.1295\n",
      "------------------------------\n",
      "Primary Predicted Ethnicity: EUR with probability 0.9484\n",
      "Possible Admixture: AMR with probability 0.0296\n",
      "------------------------------\n",
      "Primary Predicted Ethnicity: EAS with probability 0.9692\n",
      "Possible Admixture: AMR with probability 0.0143\n",
      "------------------------------\n",
      "Primary Predicted Ethnicity: EUR with probability 0.9807\n",
      "Possible Admixture: SAS with probability 0.0071\n",
      "------------------------------\n",
      "Primary Predicted Ethnicity: EUR with probability 0.9149\n",
      "Possible Admixture: AMR with probability 0.0412\n",
      "------------------------------\n",
      "Primary Predicted Ethnicity: EUR with probability 0.9404\n",
      "Possible Admixture: AMR with probability 0.0288\n",
      "------------------------------\n",
      "Primary Predicted Ethnicity: EUR with probability 0.9405\n",
      "Possible Admixture: AMR with probability 0.0267\n",
      "------------------------------\n",
      "Primary Predicted Ethnicity: EUR with probability 0.8810\n",
      "Possible Admixture: SAS with probability 0.0523\n",
      "------------------------------\n",
      "Primary Predicted Ethnicity: EUR with probability 0.9730\n",
      "Possible Admixture: SAS with probability 0.0120\n",
      "------------------------------\n",
      "Primary Predicted Ethnicity: EUR with probability 0.9229\n",
      "Possible Admixture: SAS with probability 0.0495\n",
      "------------------------------\n",
      "Primary Predicted Ethnicity: EUR with probability 0.9517\n",
      "Possible Admixture: SAS with probability 0.0237\n",
      "------------------------------\n",
      "Primary Predicted Ethnicity: EUR with probability 0.8299\n",
      "Possible Admixture: SAS with probability 0.1261\n",
      "------------------------------\n",
      "Primary Predicted Ethnicity: EAS with probability 0.9677\n",
      "Possible Admixture: AMR with probability 0.0122\n",
      "------------------------------\n",
      "Primary Predicted Ethnicity: EUR with probability 0.8861\n",
      "Possible Admixture: SAS with probability 0.0633\n",
      "------------------------------\n",
      "Primary Predicted Ethnicity: EAS with probability 0.9607\n",
      "Possible Admixture: AMR with probability 0.0187\n",
      "------------------------------\n",
      "Primary Predicted Ethnicity: EUR with probability 0.8570\n",
      "Possible Admixture: SAS with probability 0.0972\n",
      "------------------------------\n",
      "Primary Predicted Ethnicity: EAS with probability 0.9652\n",
      "Possible Admixture: AMR with probability 0.0164\n",
      "------------------------------\n",
      "Primary Predicted Ethnicity: AFR with probability 0.5138\n",
      "Possible Admixture: SAS with probability 0.1816\n",
      "------------------------------\n",
      "Primary Predicted Ethnicity: EUR with probability 0.9478\n",
      "Possible Admixture: AMR with probability 0.0225\n",
      "------------------------------\n",
      "Primary Predicted Ethnicity: EUR with probability 0.6034\n",
      "Possible Admixture: SAS with probability 0.2783\n",
      "------------------------------\n",
      "Primary Predicted Ethnicity: EUR with probability 0.9792\n",
      "Possible Admixture: AMR with probability 0.0077\n",
      "------------------------------\n",
      "Primary Predicted Ethnicity: EUR with probability 0.9511\n",
      "Possible Admixture: AMR with probability 0.0215\n",
      "------------------------------\n",
      "Primary Predicted Ethnicity: EUR with probability 0.9701\n",
      "Possible Admixture: SAS with probability 0.0155\n",
      "------------------------------\n",
      "Primary Predicted Ethnicity: EUR with probability 0.9560\n",
      "Possible Admixture: SAS with probability 0.0196\n",
      "------------------------------\n",
      "Primary Predicted Ethnicity: EUR with probability 0.9486\n",
      "Possible Admixture: AMR with probability 0.0228\n",
      "------------------------------\n",
      "Primary Predicted Ethnicity: EUR with probability 0.9794\n",
      "Possible Admixture: AMR with probability 0.0081\n",
      "------------------------------\n",
      "Primary Predicted Ethnicity: EUR with probability 0.9146\n",
      "Possible Admixture: SAS with probability 0.0498\n",
      "------------------------------\n",
      "Primary Predicted Ethnicity: EUR with probability 0.8510\n",
      "Possible Admixture: SAS with probability 0.0942\n",
      "------------------------------\n",
      "Primary Predicted Ethnicity: EAS with probability 0.9668\n",
      "Possible Admixture: AMR with probability 0.0146\n",
      "------------------------------\n",
      "Primary Predicted Ethnicity: EUR with probability 0.9405\n",
      "Possible Admixture: AMR with probability 0.0334\n",
      "------------------------------\n",
      "Primary Predicted Ethnicity: EUR with probability 0.9619\n",
      "Possible Admixture: AMR with probability 0.0157\n",
      "------------------------------\n",
      "Primary Predicted Ethnicity: EUR with probability 0.9103\n",
      "Possible Admixture: SAS with probability 0.0414\n",
      "------------------------------\n",
      "Primary Predicted Ethnicity: EUR with probability 0.8845\n",
      "Possible Admixture: SAS with probability 0.0570\n",
      "------------------------------\n",
      "Primary Predicted Ethnicity: EUR with probability 0.8430\n",
      "Possible Admixture: SAS with probability 0.1242\n",
      "------------------------------\n",
      "Primary Predicted Ethnicity: EAS with probability 0.9690\n",
      "Possible Admixture: AMR with probability 0.0134\n",
      "------------------------------\n",
      "Primary Predicted Ethnicity: EUR with probability 0.9372\n",
      "Possible Admixture: SAS with probability 0.0328\n",
      "------------------------------\n",
      "Primary Predicted Ethnicity: EUR with probability 0.9280\n",
      "Possible Admixture: AMR with probability 0.0324\n",
      "------------------------------\n",
      "Primary Predicted Ethnicity: EUR with probability 0.9739\n",
      "Possible Admixture: SAS with probability 0.0141\n",
      "------------------------------\n",
      "Primary Predicted Ethnicity: EUR with probability 0.9607\n",
      "Possible Admixture: AMR with probability 0.0257\n",
      "------------------------------\n",
      "Primary Predicted Ethnicity: EUR with probability 0.8440\n",
      "Possible Admixture: SAS with probability 0.1226\n",
      "------------------------------\n",
      "Primary Predicted Ethnicity: EUR with probability 0.9602\n",
      "Possible Admixture: SAS with probability 0.0193\n",
      "------------------------------\n",
      "Primary Predicted Ethnicity: EUR with probability 0.8493\n",
      "Possible Admixture: SAS with probability 0.0954\n",
      "------------------------------\n",
      "Primary Predicted Ethnicity: EUR with probability 0.8704\n",
      "Possible Admixture: AMR with probability 0.0545\n",
      "------------------------------\n",
      "Primary Predicted Ethnicity: EUR with probability 0.5988\n",
      "Possible Admixture: SAS with probability 0.3318\n",
      "------------------------------\n",
      "Primary Predicted Ethnicity: SAS with probability 0.4394\n",
      "Possible Admixture: EUR with probability 0.4113\n",
      "------------------------------\n",
      "Primary Predicted Ethnicity: EUR with probability 0.9040\n",
      "Possible Admixture: SAS with probability 0.0557\n",
      "------------------------------\n",
      "Primary Predicted Ethnicity: EUR with probability 0.8489\n",
      "Possible Admixture: SAS with probability 0.1119\n",
      "------------------------------\n",
      "Primary Predicted Ethnicity: EUR with probability 0.9281\n",
      "Possible Admixture: AMR with probability 0.0308\n",
      "------------------------------\n",
      "Primary Predicted Ethnicity: EUR with probability 0.9652\n",
      "Possible Admixture: AMR with probability 0.0134\n",
      "------------------------------\n",
      "Primary Predicted Ethnicity: EAS with probability 0.9250\n",
      "Possible Admixture: AMR with probability 0.0372\n",
      "------------------------------\n",
      "Primary Predicted Ethnicity: EUR with probability 0.9520\n",
      "Possible Admixture: SAS with probability 0.0270\n",
      "------------------------------\n",
      "Primary Predicted Ethnicity: EUR with probability 0.9311\n",
      "Possible Admixture: AMR with probability 0.0282\n",
      "------------------------------\n",
      "Primary Predicted Ethnicity: EUR with probability 0.9759\n",
      "Possible Admixture: SAS with probability 0.0101\n",
      "------------------------------\n",
      "Primary Predicted Ethnicity: EAS with probability 0.9800\n",
      "Possible Admixture: AMR with probability 0.0074\n",
      "------------------------------\n",
      "Primary Predicted Ethnicity: EUR with probability 0.9139\n",
      "Possible Admixture: SAS with probability 0.0515\n",
      "------------------------------\n",
      "Primary Predicted Ethnicity: EUR with probability 0.9633\n",
      "Possible Admixture: AMR with probability 0.0167\n",
      "------------------------------\n",
      "Primary Predicted Ethnicity: AFR with probability 0.9761\n",
      "Possible Admixture: SAS with probability 0.0095\n",
      "------------------------------\n",
      "Primary Predicted Ethnicity: EAS with probability 0.9845\n",
      "Possible Admixture: AMR with probability 0.0069\n",
      "------------------------------\n",
      "Primary Predicted Ethnicity: EUR with probability 0.9484\n",
      "Possible Admixture: SAS with probability 0.0234\n",
      "------------------------------\n",
      "Primary Predicted Ethnicity: EUR with probability 0.9477\n",
      "Possible Admixture: AMR with probability 0.0264\n",
      "------------------------------\n",
      "Primary Predicted Ethnicity: EUR with probability 0.8830\n",
      "Possible Admixture: SAS with probability 0.0830\n",
      "------------------------------\n",
      "Primary Predicted Ethnicity: EUR with probability 0.9005\n",
      "Possible Admixture: SAS with probability 0.0650\n",
      "------------------------------\n",
      "Primary Predicted Ethnicity: EUR with probability 0.9305\n",
      "Possible Admixture: AMR with probability 0.0437\n",
      "------------------------------\n",
      "Primary Predicted Ethnicity: EAS with probability 0.9787\n",
      "Possible Admixture: AMR with probability 0.0117\n",
      "------------------------------\n",
      "Primary Predicted Ethnicity: EUR with probability 0.9342\n",
      "Possible Admixture: SAS with probability 0.0342\n",
      "------------------------------\n",
      "Primary Predicted Ethnicity: EUR with probability 0.9687\n",
      "Possible Admixture: AMR with probability 0.0120\n",
      "------------------------------\n",
      "Primary Predicted Ethnicity: EUR with probability 0.9726\n",
      "Possible Admixture: SAS with probability 0.0121\n",
      "------------------------------\n",
      "Primary Predicted Ethnicity: EUR with probability 0.9472\n",
      "Possible Admixture: SAS with probability 0.0261\n",
      "------------------------------\n",
      "Primary Predicted Ethnicity: EUR with probability 0.9436\n",
      "Possible Admixture: SAS with probability 0.0351\n",
      "------------------------------\n",
      "Primary Predicted Ethnicity: EUR with probability 0.9579\n",
      "Possible Admixture: SAS with probability 0.0181\n",
      "------------------------------\n",
      "Primary Predicted Ethnicity: SAS with probability 0.6611\n",
      "Possible Admixture: EUR with probability 0.1886\n",
      "------------------------------\n",
      "Primary Predicted Ethnicity: EUR with probability 0.9330\n",
      "Possible Admixture: SAS with probability 0.0340\n",
      "------------------------------\n",
      "Primary Predicted Ethnicity: EAS with probability 0.9413\n",
      "Possible Admixture: AMR with probability 0.0333\n",
      "------------------------------\n",
      "Primary Predicted Ethnicity: EUR with probability 0.9223\n",
      "Possible Admixture: SAS with probability 0.0441\n",
      "------------------------------\n",
      "Primary Predicted Ethnicity: EUR with probability 0.9399\n",
      "Possible Admixture: SAS with probability 0.0285\n",
      "------------------------------\n",
      "Primary Predicted Ethnicity: EUR with probability 0.9506\n",
      "Possible Admixture: AMR with probability 0.0205\n",
      "------------------------------\n",
      "Primary Predicted Ethnicity: EUR with probability 0.9506\n",
      "Possible Admixture: SAS with probability 0.0250\n",
      "------------------------------\n",
      "Primary Predicted Ethnicity: EAS with probability 0.9842\n",
      "Possible Admixture: AMR with probability 0.0052\n",
      "------------------------------\n",
      "Primary Predicted Ethnicity: EUR with probability 0.9803\n",
      "Possible Admixture: SAS with probability 0.0079\n",
      "------------------------------\n",
      "Primary Predicted Ethnicity: EUR with probability 0.9462\n",
      "Possible Admixture: AMR with probability 0.0282\n",
      "------------------------------\n",
      "Primary Predicted Ethnicity: EUR with probability 0.9449\n",
      "Possible Admixture: SAS with probability 0.0311\n",
      "------------------------------\n",
      "Primary Predicted Ethnicity: AFR with probability 0.9028\n",
      "Possible Admixture: SAS with probability 0.0446\n",
      "------------------------------\n",
      "Primary Predicted Ethnicity: EUR with probability 0.9398\n",
      "Possible Admixture: SAS with probability 0.0334\n",
      "------------------------------\n",
      "Primary Predicted Ethnicity: EUR with probability 0.9621\n",
      "Possible Admixture: SAS with probability 0.0178\n",
      "------------------------------\n",
      "Primary Predicted Ethnicity: EUR with probability 0.4805\n",
      "Possible Admixture: SAS with probability 0.2546\n",
      "------------------------------\n",
      "Primary Predicted Ethnicity: EUR with probability 0.9191\n",
      "Possible Admixture: SAS with probability 0.0530\n",
      "------------------------------\n",
      "Primary Predicted Ethnicity: EUR with probability 0.9454\n",
      "Possible Admixture: AMR with probability 0.0279\n",
      "------------------------------\n",
      "Primary Predicted Ethnicity: EAS with probability 0.9753\n",
      "Possible Admixture: AMR with probability 0.0103\n",
      "------------------------------\n",
      "Primary Predicted Ethnicity: SAS with probability 0.8147\n",
      "Possible Admixture: AMR with probability 0.0898\n",
      "------------------------------\n",
      "Primary Predicted Ethnicity: EUR with probability 0.9846\n",
      "Possible Admixture: AMR with probability 0.0083\n",
      "------------------------------\n",
      "Primary Predicted Ethnicity: EAS with probability 0.9798\n",
      "Possible Admixture: AMR with probability 0.0111\n",
      "------------------------------\n",
      "Primary Predicted Ethnicity: EUR with probability 0.9578\n",
      "Possible Admixture: AMR with probability 0.0209\n",
      "------------------------------\n",
      "Primary Predicted Ethnicity: EUR with probability 0.9790\n",
      "Possible Admixture: AMR with probability 0.0077\n",
      "------------------------------\n",
      "Primary Predicted Ethnicity: EUR with probability 0.9246\n",
      "Possible Admixture: AMR with probability 0.0333\n",
      "------------------------------\n",
      "Primary Predicted Ethnicity: EUR with probability 0.9638\n",
      "Possible Admixture: SAS with probability 0.0144\n",
      "------------------------------\n",
      "Primary Predicted Ethnicity: EAS with probability 0.9550\n",
      "Possible Admixture: AMR with probability 0.0235\n",
      "------------------------------\n",
      "Primary Predicted Ethnicity: EAS with probability 0.9528\n",
      "Possible Admixture: AMR with probability 0.0211\n",
      "------------------------------\n",
      "Primary Predicted Ethnicity: EUR with probability 0.9278\n",
      "Possible Admixture: SAS with probability 0.0402\n",
      "------------------------------\n",
      "Primary Predicted Ethnicity: AFR with probability 0.9597\n",
      "Possible Admixture: SAS with probability 0.0159\n",
      "------------------------------\n",
      "Primary Predicted Ethnicity: EUR with probability 0.9440\n",
      "Possible Admixture: SAS with probability 0.0243\n",
      "------------------------------\n",
      "Primary Predicted Ethnicity: EUR with probability 0.9786\n",
      "Possible Admixture: AMR with probability 0.0101\n",
      "------------------------------\n",
      "Primary Predicted Ethnicity: EUR with probability 0.9085\n",
      "Possible Admixture: SAS with probability 0.0482\n",
      "------------------------------\n",
      "Primary Predicted Ethnicity: EUR with probability 0.9442\n",
      "Possible Admixture: SAS with probability 0.0226\n",
      "------------------------------\n",
      "Primary Predicted Ethnicity: EUR with probability 0.9631\n",
      "Possible Admixture: SAS with probability 0.0164\n",
      "------------------------------\n",
      "Primary Predicted Ethnicity: AFR with probability 0.9948\n",
      "Possible Admixture: SAS with probability 0.0019\n",
      "------------------------------\n",
      "Primary Predicted Ethnicity: EUR with probability 0.9099\n",
      "Possible Admixture: SAS with probability 0.0439\n",
      "------------------------------\n",
      "Primary Predicted Ethnicity: EUR with probability 0.8853\n",
      "Possible Admixture: SAS with probability 0.0749\n",
      "------------------------------\n",
      "Primary Predicted Ethnicity: EUR with probability 0.9700\n",
      "Possible Admixture: AMR with probability 0.0127\n",
      "------------------------------\n",
      "Primary Predicted Ethnicity: EUR with probability 0.9604\n",
      "Possible Admixture: SAS with probability 0.0190\n",
      "------------------------------\n",
      "Primary Predicted Ethnicity: EUR with probability 0.9310\n",
      "Possible Admixture: SAS with probability 0.0292\n",
      "------------------------------\n",
      "Primary Predicted Ethnicity: EUR with probability 0.9679\n",
      "Possible Admixture: SAS with probability 0.0143\n",
      "------------------------------\n",
      "Primary Predicted Ethnicity: EUR with probability 0.9651\n",
      "Possible Admixture: SAS with probability 0.0144\n",
      "------------------------------\n",
      "Primary Predicted Ethnicity: EAS with probability 0.9745\n",
      "Possible Admixture: AMR with probability 0.0155\n",
      "------------------------------\n",
      "Primary Predicted Ethnicity: EUR with probability 0.9551\n",
      "Possible Admixture: SAS with probability 0.0184\n",
      "------------------------------\n",
      "Primary Predicted Ethnicity: EUR with probability 0.7775\n",
      "Possible Admixture: SAS with probability 0.1480\n",
      "------------------------------\n",
      "Primary Predicted Ethnicity: EUR with probability 0.6957\n",
      "Possible Admixture: SAS with probability 0.1942\n",
      "------------------------------\n",
      "Primary Predicted Ethnicity: EUR with probability 0.9204\n",
      "Possible Admixture: SAS with probability 0.0464\n",
      "------------------------------\n",
      "Primary Predicted Ethnicity: EUR with probability 0.8207\n",
      "Possible Admixture: SAS with probability 0.1416\n",
      "------------------------------\n",
      "Primary Predicted Ethnicity: EUR with probability 0.8855\n",
      "Possible Admixture: AMR with probability 0.0603\n",
      "------------------------------\n",
      "Primary Predicted Ethnicity: EAS with probability 0.9700\n",
      "Possible Admixture: AMR with probability 0.0147\n",
      "------------------------------\n",
      "Primary Predicted Ethnicity: EUR with probability 0.9658\n",
      "Possible Admixture: AMR with probability 0.0172\n",
      "------------------------------\n",
      "Primary Predicted Ethnicity: EUR with probability 0.9565\n",
      "Possible Admixture: AMR with probability 0.0166\n",
      "------------------------------\n",
      "Primary Predicted Ethnicity: EUR with probability 0.9466\n",
      "Possible Admixture: SAS with probability 0.0337\n",
      "------------------------------\n",
      "Primary Predicted Ethnicity: EUR with probability 0.9641\n",
      "Possible Admixture: SAS with probability 0.0125\n",
      "------------------------------\n",
      "Primary Predicted Ethnicity: EUR with probability 0.9504\n",
      "Possible Admixture: SAS with probability 0.0203\n",
      "------------------------------\n",
      "Primary Predicted Ethnicity: EUR with probability 0.8640\n",
      "Possible Admixture: SAS with probability 0.0881\n",
      "------------------------------\n",
      "Primary Predicted Ethnicity: EUR with probability 0.9518\n",
      "Possible Admixture: AMR with probability 0.0198\n",
      "------------------------------\n",
      "Primary Predicted Ethnicity: EUR with probability 0.9605\n",
      "Possible Admixture: AMR with probability 0.0179\n",
      "------------------------------\n",
      "Primary Predicted Ethnicity: SAS with probability 0.8705\n",
      "Possible Admixture: AMR with probability 0.0764\n",
      "------------------------------\n",
      "Primary Predicted Ethnicity: EUR with probability 0.9522\n",
      "Possible Admixture: AMR with probability 0.0249\n",
      "------------------------------\n",
      "Primary Predicted Ethnicity: EAS with probability 0.9740\n",
      "Possible Admixture: SAS with probability 0.0102\n",
      "------------------------------\n",
      "Primary Predicted Ethnicity: EUR with probability 0.9306\n",
      "Possible Admixture: SAS with probability 0.0538\n",
      "------------------------------\n",
      "Primary Predicted Ethnicity: EUR with probability 0.9290\n",
      "Possible Admixture: SAS with probability 0.0476\n",
      "------------------------------\n",
      "Primary Predicted Ethnicity: EUR with probability 0.9496\n",
      "Possible Admixture: AMR with probability 0.0216\n",
      "------------------------------\n",
      "Primary Predicted Ethnicity: EUR with probability 0.9574\n",
      "Possible Admixture: AMR with probability 0.0165\n",
      "------------------------------\n",
      "Primary Predicted Ethnicity: EUR with probability 0.9119\n",
      "Possible Admixture: SAS with probability 0.0580\n",
      "------------------------------\n",
      "Primary Predicted Ethnicity: EUR with probability 0.9140\n",
      "Possible Admixture: SAS with probability 0.0567\n",
      "------------------------------\n",
      "Primary Predicted Ethnicity: EUR with probability 0.9599\n",
      "Possible Admixture: AMR with probability 0.0160\n",
      "------------------------------\n",
      "Primary Predicted Ethnicity: EUR with probability 0.9475\n",
      "Possible Admixture: SAS with probability 0.0260\n",
      "------------------------------\n",
      "Primary Predicted Ethnicity: EUR with probability 0.9535\n",
      "Possible Admixture: AMR with probability 0.0194\n",
      "------------------------------\n",
      "Primary Predicted Ethnicity: SAS with probability 0.6166\n",
      "Possible Admixture: EUR with probability 0.2142\n",
      "------------------------------\n",
      "Primary Predicted Ethnicity: EUR with probability 0.7928\n",
      "Possible Admixture: SAS with probability 0.0838\n",
      "------------------------------\n",
      "Primary Predicted Ethnicity: EUR with probability 0.9398\n",
      "Possible Admixture: SAS with probability 0.0280\n",
      "------------------------------\n",
      "Primary Predicted Ethnicity: EAS with probability 0.9635\n",
      "Possible Admixture: AMR with probability 0.0214\n",
      "------------------------------\n",
      "Primary Predicted Ethnicity: EUR with probability 0.7490\n",
      "Possible Admixture: SAS with probability 0.2052\n",
      "------------------------------\n",
      "Primary Predicted Ethnicity: EUR with probability 0.9166\n",
      "Possible Admixture: AMR with probability 0.0472\n",
      "------------------------------\n",
      "Primary Predicted Ethnicity: EUR with probability 0.8743\n",
      "Possible Admixture: SAS with probability 0.0774\n",
      "------------------------------\n",
      "Primary Predicted Ethnicity: EUR with probability 0.9326\n",
      "Possible Admixture: AMR with probability 0.0360\n",
      "------------------------------\n",
      "Primary Predicted Ethnicity: EAS with probability 0.9715\n",
      "Possible Admixture: AMR with probability 0.0093\n",
      "------------------------------\n",
      "Primary Predicted Ethnicity: EUR with probability 0.9091\n",
      "Possible Admixture: AMR with probability 0.0440\n",
      "------------------------------\n",
      "Primary Predicted Ethnicity: EUR with probability 0.8717\n",
      "Possible Admixture: SAS with probability 0.1013\n",
      "------------------------------\n",
      "Primary Predicted Ethnicity: EUR with probability 0.8432\n",
      "Possible Admixture: SAS with probability 0.0950\n",
      "------------------------------\n",
      "Primary Predicted Ethnicity: EUR with probability 0.9790\n",
      "Possible Admixture: AMR with probability 0.0096\n",
      "------------------------------\n",
      "Primary Predicted Ethnicity: EAS with probability 0.9745\n",
      "Possible Admixture: AMR with probability 0.0095\n",
      "------------------------------\n",
      "Primary Predicted Ethnicity: EUR with probability 0.9679\n",
      "Possible Admixture: SAS with probability 0.0127\n",
      "------------------------------\n",
      "Primary Predicted Ethnicity: EUR with probability 0.9040\n",
      "Possible Admixture: SAS with probability 0.0646\n",
      "------------------------------\n",
      "Primary Predicted Ethnicity: EUR with probability 0.9660\n",
      "Possible Admixture: SAS with probability 0.0206\n",
      "------------------------------\n",
      "Primary Predicted Ethnicity: EUR with probability 0.9763\n",
      "Possible Admixture: AMR with probability 0.0112\n",
      "------------------------------\n",
      "Primary Predicted Ethnicity: EUR with probability 0.9538\n",
      "Possible Admixture: SAS with probability 0.0203\n",
      "------------------------------\n",
      "Primary Predicted Ethnicity: EAS with probability 0.9588\n",
      "Possible Admixture: AMR with probability 0.0209\n",
      "------------------------------\n",
      "Primary Predicted Ethnicity: EAS with probability 0.9812\n",
      "Possible Admixture: AMR with probability 0.0070\n",
      "------------------------------\n",
      "Primary Predicted Ethnicity: EUR with probability 0.5111\n",
      "Possible Admixture: SAS with probability 0.4099\n",
      "------------------------------\n",
      "Primary Predicted Ethnicity: EAS with probability 0.9682\n",
      "Possible Admixture: AMR with probability 0.0141\n",
      "------------------------------\n",
      "Primary Predicted Ethnicity: EUR with probability 0.9415\n",
      "Possible Admixture: SAS with probability 0.0293\n",
      "------------------------------\n",
      "Primary Predicted Ethnicity: EUR with probability 0.9609\n",
      "Possible Admixture: SAS with probability 0.0232\n",
      "------------------------------\n",
      "Primary Predicted Ethnicity: AFR with probability 0.7856\n",
      "Possible Admixture: SAS with probability 0.1110\n",
      "------------------------------\n",
      "Primary Predicted Ethnicity: EUR with probability 0.9585\n",
      "Possible Admixture: SAS with probability 0.0187\n",
      "------------------------------\n",
      "Primary Predicted Ethnicity: EAS with probability 0.9610\n",
      "Possible Admixture: AMR with probability 0.0147\n",
      "------------------------------\n",
      "Primary Predicted Ethnicity: AFR with probability 0.9582\n",
      "Possible Admixture: SAS with probability 0.0166\n",
      "------------------------------\n",
      "Primary Predicted Ethnicity: EUR with probability 0.9677\n",
      "Possible Admixture: SAS with probability 0.0123\n",
      "------------------------------\n",
      "Primary Predicted Ethnicity: EUR with probability 0.9518\n",
      "Possible Admixture: SAS with probability 0.0337\n",
      "------------------------------\n",
      "Primary Predicted Ethnicity: EAS with probability 0.9717\n",
      "Possible Admixture: AMR with probability 0.0152\n",
      "------------------------------\n",
      "Primary Predicted Ethnicity: AFR with probability 0.8592\n",
      "Possible Admixture: SAS with probability 0.0708\n",
      "------------------------------\n",
      "Primary Predicted Ethnicity: EAS with probability 0.9745\n",
      "Possible Admixture: SAS with probability 0.0095\n",
      "------------------------------\n",
      "Primary Predicted Ethnicity: EUR with probability 0.9433\n",
      "Possible Admixture: SAS with probability 0.0290\n",
      "------------------------------\n",
      "Primary Predicted Ethnicity: EUR with probability 0.9478\n",
      "Possible Admixture: AMR with probability 0.0212\n",
      "------------------------------\n",
      "Primary Predicted Ethnicity: EUR with probability 0.9753\n",
      "Possible Admixture: AMR with probability 0.0110\n",
      "------------------------------\n",
      "Primary Predicted Ethnicity: EUR with probability 0.8712\n",
      "Possible Admixture: SAS with probability 0.0894\n",
      "------------------------------\n",
      "Primary Predicted Ethnicity: EUR with probability 0.9647\n",
      "Possible Admixture: SAS with probability 0.0166\n",
      "------------------------------\n",
      "Primary Predicted Ethnicity: EUR with probability 0.9043\n",
      "Possible Admixture: SAS with probability 0.0563\n",
      "------------------------------\n",
      "Primary Predicted Ethnicity: AFR with probability 0.5743\n",
      "Possible Admixture: AMR with probability 0.1673\n",
      "------------------------------\n",
      "Primary Predicted Ethnicity: EUR with probability 0.8720\n",
      "Possible Admixture: SAS with probability 0.0912\n",
      "------------------------------\n",
      "Primary Predicted Ethnicity: EUR with probability 0.9137\n",
      "Possible Admixture: SAS with probability 0.0533\n",
      "------------------------------\n",
      "Primary Predicted Ethnicity: EUR with probability 0.9724\n",
      "Possible Admixture: AMR with probability 0.0147\n",
      "------------------------------\n",
      "Primary Predicted Ethnicity: EUR with probability 0.9206\n",
      "Possible Admixture: SAS with probability 0.0487\n",
      "------------------------------\n",
      "Primary Predicted Ethnicity: EUR with probability 0.9594\n",
      "Possible Admixture: SAS with probability 0.0191\n",
      "------------------------------\n",
      "Primary Predicted Ethnicity: EUR with probability 0.9572\n",
      "Possible Admixture: SAS with probability 0.0194\n",
      "------------------------------\n",
      "Primary Predicted Ethnicity: EUR with probability 0.9466\n",
      "Possible Admixture: AMR with probability 0.0249\n",
      "------------------------------\n",
      "Primary Predicted Ethnicity: EAS with probability 0.8852\n",
      "Possible Admixture: AMR with probability 0.0607\n",
      "------------------------------\n",
      "Primary Predicted Ethnicity: EUR with probability 0.9587\n",
      "Possible Admixture: SAS with probability 0.0195\n",
      "------------------------------\n",
      "Primary Predicted Ethnicity: EAS with probability 0.9764\n",
      "Possible Admixture: AMR with probability 0.0122\n",
      "------------------------------\n",
      "Primary Predicted Ethnicity: EUR with probability 0.8738\n",
      "Possible Admixture: SAS with probability 0.0798\n",
      "------------------------------\n",
      "Primary Predicted Ethnicity: EUR with probability 0.9372\n",
      "Possible Admixture: AMR with probability 0.0351\n",
      "------------------------------\n",
      "Primary Predicted Ethnicity: EUR with probability 0.9396\n",
      "Possible Admixture: SAS with probability 0.0386\n",
      "------------------------------\n",
      "Primary Predicted Ethnicity: EUR with probability 0.5932\n",
      "Possible Admixture: SAS with probability 0.2193\n",
      "------------------------------\n",
      "Primary Predicted Ethnicity: EUR with probability 0.9756\n",
      "Possible Admixture: SAS with probability 0.0133\n",
      "------------------------------\n",
      "Primary Predicted Ethnicity: EUR with probability 0.7317\n",
      "Possible Admixture: SAS with probability 0.1063\n",
      "------------------------------\n",
      "Primary Predicted Ethnicity: EUR with probability 0.9550\n",
      "Possible Admixture: SAS with probability 0.0194\n",
      "------------------------------\n",
      "Primary Predicted Ethnicity: EUR with probability 0.9584\n",
      "Possible Admixture: SAS with probability 0.0232\n",
      "------------------------------\n",
      "Primary Predicted Ethnicity: AFR with probability 0.9823\n",
      "Possible Admixture: SAS with probability 0.0063\n",
      "------------------------------\n",
      "Primary Predicted Ethnicity: EUR with probability 0.8997\n",
      "Possible Admixture: SAS with probability 0.0677\n",
      "------------------------------\n",
      "Primary Predicted Ethnicity: EUR with probability 0.7548\n",
      "Possible Admixture: SAS with probability 0.1618\n",
      "------------------------------\n",
      "Primary Predicted Ethnicity: AFR with probability 0.9880\n",
      "Possible Admixture: SAS with probability 0.0047\n",
      "------------------------------\n",
      "Primary Predicted Ethnicity: EUR with probability 0.9023\n",
      "Possible Admixture: AMR with probability 0.0465\n",
      "------------------------------\n",
      "Primary Predicted Ethnicity: EAS with probability 0.9636\n",
      "Possible Admixture: AMR with probability 0.0191\n",
      "------------------------------\n",
      "Primary Predicted Ethnicity: EUR with probability 0.9275\n",
      "Possible Admixture: SAS with probability 0.0452\n",
      "------------------------------\n",
      "Primary Predicted Ethnicity: EAS with probability 0.9518\n",
      "Possible Admixture: AMR with probability 0.0232\n",
      "------------------------------\n",
      "Primary Predicted Ethnicity: EAS with probability 0.9681\n",
      "Possible Admixture: AMR with probability 0.0158\n",
      "------------------------------\n",
      "Primary Predicted Ethnicity: EUR with probability 0.9750\n",
      "Possible Admixture: SAS with probability 0.0098\n",
      "------------------------------\n",
      "Primary Predicted Ethnicity: EUR with probability 0.9432\n",
      "Possible Admixture: SAS with probability 0.0311\n",
      "------------------------------\n",
      "Primary Predicted Ethnicity: EAS with probability 0.9709\n",
      "Possible Admixture: AMR with probability 0.0138\n",
      "------------------------------\n",
      "Primary Predicted Ethnicity: EUR with probability 0.9436\n",
      "Possible Admixture: AMR with probability 0.0336\n",
      "------------------------------\n",
      "Primary Predicted Ethnicity: EUR with probability 0.8888\n",
      "Possible Admixture: SAS with probability 0.0690\n",
      "------------------------------\n",
      "Primary Predicted Ethnicity: EUR with probability 0.4754\n",
      "Possible Admixture: SAS with probability 0.3770\n",
      "------------------------------\n",
      "Primary Predicted Ethnicity: EAS with probability 0.9656\n",
      "Possible Admixture: AMR with probability 0.0137\n",
      "------------------------------\n",
      "Primary Predicted Ethnicity: EUR with probability 0.9137\n",
      "Possible Admixture: SAS with probability 0.0430\n",
      "------------------------------\n",
      "Primary Predicted Ethnicity: EUR with probability 0.9689\n",
      "Possible Admixture: SAS with probability 0.0134\n",
      "------------------------------\n",
      "Primary Predicted Ethnicity: EAS with probability 0.9685\n",
      "Possible Admixture: AMR with probability 0.0161\n",
      "------------------------------\n",
      "Primary Predicted Ethnicity: EUR with probability 0.9648\n",
      "Possible Admixture: SAS with probability 0.0142\n",
      "------------------------------\n",
      "Primary Predicted Ethnicity: EUR with probability 0.8919\n",
      "Possible Admixture: SAS with probability 0.0687\n",
      "------------------------------\n",
      "Primary Predicted Ethnicity: EUR with probability 0.9120\n",
      "Possible Admixture: AMR with probability 0.0405\n",
      "------------------------------\n",
      "Primary Predicted Ethnicity: EUR with probability 0.9517\n",
      "Possible Admixture: SAS with probability 0.0240\n",
      "------------------------------\n",
      "Primary Predicted Ethnicity: EUR with probability 0.9630\n",
      "Possible Admixture: SAS with probability 0.0203\n",
      "------------------------------\n",
      "Primary Predicted Ethnicity: EUR with probability 0.9546\n",
      "Possible Admixture: AMR with probability 0.0204\n",
      "------------------------------\n",
      "Primary Predicted Ethnicity: EUR with probability 0.9632\n",
      "Possible Admixture: AMR with probability 0.0142\n",
      "------------------------------\n",
      "Primary Predicted Ethnicity: EAS with probability 0.9612\n",
      "Possible Admixture: AMR with probability 0.0219\n",
      "------------------------------\n",
      "Primary Predicted Ethnicity: EAS with probability 0.9773\n",
      "Possible Admixture: AMR with probability 0.0104\n",
      "------------------------------\n",
      "Primary Predicted Ethnicity: EUR with probability 0.9741\n",
      "Possible Admixture: SAS with probability 0.0103\n",
      "------------------------------\n",
      "Primary Predicted Ethnicity: EUR with probability 0.9446\n",
      "Possible Admixture: SAS with probability 0.0337\n",
      "------------------------------\n",
      "Primary Predicted Ethnicity: EUR with probability 0.6257\n",
      "Possible Admixture: SAS with probability 0.2218\n",
      "------------------------------\n",
      "Primary Predicted Ethnicity: EAS with probability 0.9788\n",
      "Possible Admixture: AMR with probability 0.0083\n",
      "------------------------------\n",
      "Primary Predicted Ethnicity: EUR with probability 0.9848\n",
      "Possible Admixture: AMR with probability 0.0046\n",
      "------------------------------\n",
      "Primary Predicted Ethnicity: EUR with probability 0.9353\n",
      "Possible Admixture: SAS with probability 0.0357\n",
      "------------------------------\n",
      "Primary Predicted Ethnicity: SAS with probability 0.7521\n",
      "Possible Admixture: AMR with probability 0.1606\n",
      "------------------------------\n",
      "Primary Predicted Ethnicity: EUR with probability 0.9684\n",
      "Possible Admixture: SAS with probability 0.0132\n",
      "------------------------------\n",
      "Primary Predicted Ethnicity: EUR with probability 0.9557\n",
      "Possible Admixture: SAS with probability 0.0244\n",
      "------------------------------\n",
      "Primary Predicted Ethnicity: EUR with probability 0.9274\n",
      "Possible Admixture: SAS with probability 0.0356\n",
      "------------------------------\n",
      "Primary Predicted Ethnicity: EUR with probability 0.8557\n",
      "Possible Admixture: SAS with probability 0.0958\n",
      "------------------------------\n",
      "Primary Predicted Ethnicity: EUR with probability 0.9726\n",
      "Possible Admixture: AMR with probability 0.0104\n",
      "------------------------------\n",
      "Primary Predicted Ethnicity: EUR with probability 0.9414\n",
      "Possible Admixture: SAS with probability 0.0347\n",
      "------------------------------\n",
      "Primary Predicted Ethnicity: EAS with probability 0.9779\n",
      "Possible Admixture: AMR with probability 0.0104\n",
      "------------------------------\n",
      "Primary Predicted Ethnicity: EUR with probability 0.4774\n",
      "Possible Admixture: SAS with probability 0.3848\n",
      "------------------------------\n",
      "Primary Predicted Ethnicity: EUR with probability 0.9228\n",
      "Possible Admixture: AMR with probability 0.0329\n",
      "------------------------------\n",
      "Primary Predicted Ethnicity: EAS with probability 0.9776\n",
      "Possible Admixture: AMR with probability 0.0108\n",
      "------------------------------\n",
      "Primary Predicted Ethnicity: EUR with probability 0.9715\n",
      "Possible Admixture: SAS with probability 0.0147\n",
      "------------------------------\n",
      "Primary Predicted Ethnicity: EAS with probability 0.9623\n",
      "Possible Admixture: AMR with probability 0.0184\n",
      "------------------------------\n",
      "Primary Predicted Ethnicity: EUR with probability 0.9637\n",
      "Possible Admixture: AMR with probability 0.0182\n",
      "------------------------------\n",
      "Primary Predicted Ethnicity: EUR with probability 0.9826\n",
      "Possible Admixture: SAS with probability 0.0072\n",
      "------------------------------\n",
      "Primary Predicted Ethnicity: EUR with probability 0.9396\n",
      "Possible Admixture: SAS with probability 0.0355\n",
      "------------------------------\n",
      "Primary Predicted Ethnicity: EUR with probability 0.9637\n",
      "Possible Admixture: SAS with probability 0.0251\n",
      "------------------------------\n",
      "Primary Predicted Ethnicity: EUR with probability 0.9191\n",
      "Possible Admixture: SAS with probability 0.0558\n",
      "------------------------------\n",
      "Primary Predicted Ethnicity: EAS with probability 0.9749\n",
      "Possible Admixture: AMR with probability 0.0112\n",
      "------------------------------\n",
      "Primary Predicted Ethnicity: EUR with probability 0.8902\n",
      "Possible Admixture: SAS with probability 0.0584\n",
      "------------------------------\n",
      "Primary Predicted Ethnicity: EUR with probability 0.9210\n",
      "Possible Admixture: SAS with probability 0.0382\n",
      "------------------------------\n",
      "Primary Predicted Ethnicity: EUR with probability 0.9269\n",
      "Possible Admixture: AMR with probability 0.0330\n",
      "------------------------------\n",
      "Primary Predicted Ethnicity: EUR with probability 0.9370\n",
      "Possible Admixture: SAS with probability 0.0312\n",
      "------------------------------\n",
      "Primary Predicted Ethnicity: EUR with probability 0.7905\n",
      "Possible Admixture: SAS with probability 0.1348\n",
      "------------------------------\n",
      "Primary Predicted Ethnicity: EUR with probability 0.9677\n",
      "Possible Admixture: SAS with probability 0.0129\n",
      "------------------------------\n",
      "Primary Predicted Ethnicity: EUR with probability 0.9697\n",
      "Possible Admixture: SAS with probability 0.0137\n",
      "------------------------------\n",
      "Primary Predicted Ethnicity: EUR with probability 0.9671\n",
      "Possible Admixture: AMR with probability 0.0122\n",
      "------------------------------\n",
      "Primary Predicted Ethnicity: EUR with probability 0.9201\n",
      "Possible Admixture: SAS with probability 0.0513\n",
      "------------------------------\n",
      "Primary Predicted Ethnicity: EAS with probability 0.9689\n",
      "Possible Admixture: AMR with probability 0.0168\n",
      "------------------------------\n",
      "Primary Predicted Ethnicity: EUR with probability 0.9317\n",
      "Possible Admixture: SAS with probability 0.0307\n",
      "------------------------------\n",
      "Primary Predicted Ethnicity: EUR with probability 0.9583\n",
      "Possible Admixture: SAS with probability 0.0155\n",
      "------------------------------\n",
      "Primary Predicted Ethnicity: EUR with probability 0.9652\n",
      "Possible Admixture: AMR with probability 0.0154\n",
      "------------------------------\n",
      "Primary Predicted Ethnicity: EAS with probability 0.9773\n",
      "Possible Admixture: AMR with probability 0.0111\n",
      "------------------------------\n",
      "Primary Predicted Ethnicity: EAS with probability 0.9669\n",
      "Possible Admixture: AMR with probability 0.0173\n",
      "------------------------------\n",
      "Primary Predicted Ethnicity: EAS with probability 0.9802\n",
      "Possible Admixture: AMR with probability 0.0078\n",
      "------------------------------\n",
      "Primary Predicted Ethnicity: EUR with probability 0.9795\n",
      "Possible Admixture: AMR with probability 0.0078\n",
      "------------------------------\n",
      "Primary Predicted Ethnicity: EUR with probability 0.9446\n",
      "Possible Admixture: SAS with probability 0.0380\n",
      "------------------------------\n",
      "Primary Predicted Ethnicity: EUR with probability 0.9406\n",
      "Possible Admixture: AMR with probability 0.0298\n",
      "------------------------------\n",
      "Primary Predicted Ethnicity: EUR with probability 0.9259\n",
      "Possible Admixture: SAS with probability 0.0296\n",
      "------------------------------\n",
      "Primary Predicted Ethnicity: SAS with probability 0.7636\n",
      "Possible Admixture: AMR with probability 0.1034\n",
      "------------------------------\n",
      "Primary Predicted Ethnicity: EUR with probability 0.8735\n",
      "Possible Admixture: SAS with probability 0.0939\n",
      "------------------------------\n",
      "Primary Predicted Ethnicity: EUR with probability 0.8685\n",
      "Possible Admixture: SAS with probability 0.0898\n",
      "------------------------------\n",
      "Primary Predicted Ethnicity: EUR with probability 0.9307\n",
      "Possible Admixture: AMR with probability 0.0460\n",
      "------------------------------\n",
      "Primary Predicted Ethnicity: EUR with probability 0.8910\n",
      "Possible Admixture: AMR with probability 0.0685\n",
      "------------------------------\n",
      "Primary Predicted Ethnicity: EUR with probability 0.9433\n",
      "Possible Admixture: AMR with probability 0.0274\n",
      "------------------------------\n",
      "Primary Predicted Ethnicity: AFR with probability 0.9560\n",
      "Possible Admixture: SAS with probability 0.0162\n",
      "------------------------------\n",
      "Primary Predicted Ethnicity: EUR with probability 0.9497\n",
      "Possible Admixture: AMR with probability 0.0205\n",
      "------------------------------\n",
      "Primary Predicted Ethnicity: EAS with probability 0.9815\n",
      "Possible Admixture: AMR with probability 0.0066\n",
      "------------------------------\n",
      "Primary Predicted Ethnicity: EUR with probability 0.8352\n",
      "Possible Admixture: SAS with probability 0.1219\n",
      "------------------------------\n",
      "Primary Predicted Ethnicity: EUR with probability 0.9668\n",
      "Possible Admixture: AMR with probability 0.0136\n",
      "------------------------------\n",
      "Primary Predicted Ethnicity: EUR with probability 0.9324\n",
      "Possible Admixture: AMR with probability 0.0337\n",
      "------------------------------\n",
      "Primary Predicted Ethnicity: EUR with probability 0.9464\n",
      "Possible Admixture: SAS with probability 0.0262\n",
      "------------------------------\n",
      "Primary Predicted Ethnicity: EUR with probability 0.8227\n",
      "Possible Admixture: SAS with probability 0.1283\n",
      "------------------------------\n",
      "Primary Predicted Ethnicity: EUR with probability 0.9522\n",
      "Possible Admixture: SAS with probability 0.0313\n",
      "------------------------------\n",
      "Primary Predicted Ethnicity: EUR with probability 0.4599\n",
      "Possible Admixture: SAS with probability 0.4526\n",
      "------------------------------\n",
      "Primary Predicted Ethnicity: EUR with probability 0.8595\n",
      "Possible Admixture: SAS with probability 0.0987\n",
      "------------------------------\n",
      "Primary Predicted Ethnicity: EUR with probability 0.8945\n",
      "Possible Admixture: SAS with probability 0.0644\n",
      "------------------------------\n",
      "Primary Predicted Ethnicity: EUR with probability 0.9504\n",
      "Possible Admixture: SAS with probability 0.0267\n",
      "------------------------------\n",
      "Primary Predicted Ethnicity: EUR with probability 0.9779\n",
      "Possible Admixture: AMR with probability 0.0084\n",
      "------------------------------\n",
      "Primary Predicted Ethnicity: EUR with probability 0.9131\n",
      "Possible Admixture: SAS with probability 0.0395\n",
      "------------------------------\n",
      "Primary Predicted Ethnicity: EUR with probability 0.9154\n",
      "Possible Admixture: SAS with probability 0.0474\n",
      "------------------------------\n",
      "Primary Predicted Ethnicity: EAS with probability 0.9486\n",
      "Possible Admixture: AMR with probability 0.0246\n",
      "------------------------------\n",
      "Primary Predicted Ethnicity: EUR with probability 0.9673\n",
      "Possible Admixture: AMR with probability 0.0135\n",
      "------------------------------\n",
      "Primary Predicted Ethnicity: EUR with probability 0.9512\n",
      "Possible Admixture: SAS with probability 0.0289\n",
      "------------------------------\n",
      "Primary Predicted Ethnicity: EUR with probability 0.9729\n",
      "Possible Admixture: AMR with probability 0.0137\n",
      "------------------------------\n",
      "Primary Predicted Ethnicity: EUR with probability 0.9596\n",
      "Possible Admixture: SAS with probability 0.0155\n",
      "------------------------------\n",
      "Primary Predicted Ethnicity: EAS with probability 0.9475\n",
      "Possible Admixture: AMR with probability 0.0287\n",
      "------------------------------\n",
      "Primary Predicted Ethnicity: EUR with probability 0.9658\n",
      "Possible Admixture: SAS with probability 0.0143\n",
      "------------------------------\n",
      "Primary Predicted Ethnicity: EUR with probability 0.8395\n",
      "Possible Admixture: SAS with probability 0.1108\n",
      "------------------------------\n",
      "Primary Predicted Ethnicity: EAS with probability 0.9740\n",
      "Possible Admixture: AMR with probability 0.0111\n",
      "------------------------------\n",
      "Primary Predicted Ethnicity: EAS with probability 0.7595\n",
      "Possible Admixture: SAS with probability 0.1062\n",
      "------------------------------\n",
      "Primary Predicted Ethnicity: EUR with probability 0.9534\n",
      "Possible Admixture: AMR with probability 0.0195\n",
      "------------------------------\n",
      "Primary Predicted Ethnicity: EUR with probability 0.9413\n",
      "Possible Admixture: SAS with probability 0.0254\n",
      "------------------------------\n",
      "Primary Predicted Ethnicity: EAS with probability 0.9781\n",
      "Possible Admixture: AMR with probability 0.0099\n",
      "------------------------------\n",
      "Primary Predicted Ethnicity: EUR with probability 0.8225\n",
      "Possible Admixture: SAS with probability 0.1339\n",
      "------------------------------\n",
      "Primary Predicted Ethnicity: EUR with probability 0.9692\n",
      "Possible Admixture: AMR with probability 0.0154\n",
      "------------------------------\n",
      "Primary Predicted Ethnicity: EUR with probability 0.9505\n",
      "Possible Admixture: AMR with probability 0.0231\n",
      "------------------------------\n",
      "Primary Predicted Ethnicity: EUR with probability 0.9609\n",
      "Possible Admixture: AMR with probability 0.0161\n",
      "------------------------------\n",
      "Primary Predicted Ethnicity: EAS with probability 0.9686\n",
      "Possible Admixture: AMR with probability 0.0164\n",
      "------------------------------\n",
      "Primary Predicted Ethnicity: EUR with probability 0.9038\n",
      "Possible Admixture: AMR with probability 0.0624\n",
      "------------------------------\n",
      "Primary Predicted Ethnicity: EUR with probability 0.9600\n",
      "Possible Admixture: AMR with probability 0.0173\n",
      "------------------------------\n",
      "Primary Predicted Ethnicity: EAS with probability 0.9743\n",
      "Possible Admixture: AMR with probability 0.0123\n",
      "------------------------------\n",
      "Primary Predicted Ethnicity: EUR with probability 0.9636\n",
      "Possible Admixture: AMR with probability 0.0158\n",
      "------------------------------\n",
      "Primary Predicted Ethnicity: EUR with probability 0.9285\n",
      "Possible Admixture: SAS with probability 0.0462\n",
      "------------------------------\n",
      "Primary Predicted Ethnicity: EUR with probability 0.8624\n",
      "Possible Admixture: SAS with probability 0.0913\n",
      "------------------------------\n",
      "Primary Predicted Ethnicity: EUR with probability 0.9514\n",
      "Possible Admixture: SAS with probability 0.0294\n",
      "------------------------------\n",
      "Primary Predicted Ethnicity: EUR with probability 0.9387\n",
      "Possible Admixture: SAS with probability 0.0322\n",
      "------------------------------\n",
      "Primary Predicted Ethnicity: EUR with probability 0.9450\n",
      "Possible Admixture: SAS with probability 0.0293\n",
      "------------------------------\n",
      "Primary Predicted Ethnicity: EAS with probability 0.9764\n",
      "Possible Admixture: AMR with probability 0.0123\n",
      "------------------------------\n",
      "Primary Predicted Ethnicity: EUR with probability 0.4934\n",
      "Possible Admixture: SAS with probability 0.3532\n",
      "------------------------------\n",
      "Primary Predicted Ethnicity: EUR with probability 0.8859\n",
      "Possible Admixture: SAS with probability 0.0803\n",
      "------------------------------\n",
      "Primary Predicted Ethnicity: EAS with probability 0.9627\n",
      "Possible Admixture: AMR with probability 0.0149\n",
      "------------------------------\n",
      "Primary Predicted Ethnicity: EUR with probability 0.9786\n",
      "Possible Admixture: SAS with probability 0.0081\n",
      "------------------------------\n",
      "Primary Predicted Ethnicity: EUR with probability 0.8516\n",
      "Possible Admixture: SAS with probability 0.0904\n",
      "------------------------------\n",
      "Primary Predicted Ethnicity: EUR with probability 0.9405\n",
      "Possible Admixture: SAS with probability 0.0369\n",
      "------------------------------\n",
      "Primary Predicted Ethnicity: EUR with probability 0.9674\n",
      "Possible Admixture: AMR with probability 0.0142\n",
      "------------------------------\n",
      "Primary Predicted Ethnicity: EUR with probability 0.8553\n",
      "Possible Admixture: SAS with probability 0.0966\n",
      "------------------------------\n",
      "Primary Predicted Ethnicity: EUR with probability 0.9639\n",
      "Possible Admixture: SAS with probability 0.0191\n",
      "------------------------------\n",
      "Primary Predicted Ethnicity: EAS with probability 0.9637\n",
      "Possible Admixture: AMR with probability 0.0143\n",
      "------------------------------\n",
      "Primary Predicted Ethnicity: EUR with probability 0.9333\n",
      "Possible Admixture: SAS with probability 0.0311\n",
      "------------------------------\n",
      "Primary Predicted Ethnicity: EUR with probability 0.9585\n",
      "Possible Admixture: AMR with probability 0.0168\n",
      "------------------------------\n",
      "Primary Predicted Ethnicity: EUR with probability 0.9809\n",
      "Possible Admixture: AMR with probability 0.0105\n",
      "------------------------------\n",
      "Primary Predicted Ethnicity: EUR with probability 0.6457\n",
      "Possible Admixture: SAS with probability 0.2485\n",
      "------------------------------\n",
      "Primary Predicted Ethnicity: EUR with probability 0.9605\n",
      "Possible Admixture: SAS with probability 0.0188\n",
      "------------------------------\n",
      "Primary Predicted Ethnicity: EAS with probability 0.9450\n",
      "Possible Admixture: AMR with probability 0.0300\n",
      "------------------------------\n",
      "Primary Predicted Ethnicity: EAS with probability 0.9718\n",
      "Possible Admixture: AMR with probability 0.0123\n",
      "------------------------------\n",
      "Primary Predicted Ethnicity: EUR with probability 0.9537\n",
      "Possible Admixture: SAS with probability 0.0261\n",
      "------------------------------\n",
      "Primary Predicted Ethnicity: EUR with probability 0.9312\n",
      "Possible Admixture: SAS with probability 0.0401\n",
      "------------------------------\n",
      "Primary Predicted Ethnicity: EUR with probability 0.9635\n",
      "Possible Admixture: AMR with probability 0.0163\n",
      "------------------------------\n",
      "Primary Predicted Ethnicity: EUR with probability 0.9710\n",
      "Possible Admixture: AMR with probability 0.0134\n",
      "------------------------------\n",
      "Primary Predicted Ethnicity: EUR with probability 0.9597\n",
      "Possible Admixture: AMR with probability 0.0184\n",
      "------------------------------\n",
      "Primary Predicted Ethnicity: EUR with probability 0.9543\n",
      "Possible Admixture: SAS with probability 0.0286\n",
      "------------------------------\n",
      "Primary Predicted Ethnicity: EUR with probability 0.9737\n",
      "Possible Admixture: SAS with probability 0.0114\n",
      "------------------------------\n",
      "Primary Predicted Ethnicity: EUR with probability 0.9500\n",
      "Possible Admixture: AMR with probability 0.0211\n",
      "------------------------------\n",
      "Primary Predicted Ethnicity: EUR with probability 0.9650\n",
      "Possible Admixture: AMR with probability 0.0149\n",
      "------------------------------\n",
      "Primary Predicted Ethnicity: EAS with probability 0.9617\n",
      "Possible Admixture: AMR with probability 0.0198\n",
      "------------------------------\n",
      "Primary Predicted Ethnicity: EUR with probability 0.9153\n",
      "Possible Admixture: SAS with probability 0.0456\n",
      "------------------------------\n",
      "Primary Predicted Ethnicity: EUR with probability 0.9734\n",
      "Possible Admixture: SAS with probability 0.0112\n",
      "------------------------------\n",
      "Primary Predicted Ethnicity: EUR with probability 0.8906\n",
      "Possible Admixture: SAS with probability 0.0822\n",
      "------------------------------\n",
      "Primary Predicted Ethnicity: EUR with probability 0.9553\n",
      "Possible Admixture: AMR with probability 0.0181\n",
      "------------------------------\n",
      "Primary Predicted Ethnicity: EUR with probability 0.8456\n",
      "Possible Admixture: SAS with probability 0.0845\n",
      "------------------------------\n",
      "Primary Predicted Ethnicity: EUR with probability 0.9705\n",
      "Possible Admixture: SAS with probability 0.0135\n",
      "------------------------------\n",
      "Primary Predicted Ethnicity: EUR with probability 0.9491\n",
      "Possible Admixture: AMR with probability 0.0227\n",
      "------------------------------\n",
      "Primary Predicted Ethnicity: EAS with probability 0.9763\n",
      "Possible Admixture: AMR with probability 0.0099\n",
      "------------------------------\n",
      "Primary Predicted Ethnicity: EUR with probability 0.9296\n",
      "Possible Admixture: SAS with probability 0.0436\n",
      "------------------------------\n",
      "Primary Predicted Ethnicity: SAS with probability 0.8579\n",
      "Possible Admixture: AMR with probability 0.0729\n",
      "------------------------------\n",
      "Primary Predicted Ethnicity: EUR with probability 0.8336\n",
      "Possible Admixture: SAS with probability 0.1129\n",
      "------------------------------\n",
      "Primary Predicted Ethnicity: SAS with probability 0.7874\n",
      "Possible Admixture: EUR with probability 0.1276\n",
      "------------------------------\n",
      "Primary Predicted Ethnicity: EUR with probability 0.8889\n",
      "Possible Admixture: SAS with probability 0.0638\n",
      "------------------------------\n",
      "Primary Predicted Ethnicity: EUR with probability 0.9369\n",
      "Possible Admixture: SAS with probability 0.0370\n",
      "------------------------------\n",
      "Primary Predicted Ethnicity: EUR with probability 0.9465\n",
      "Possible Admixture: SAS with probability 0.0231\n",
      "------------------------------\n",
      "Primary Predicted Ethnicity: EUR with probability 0.9811\n",
      "Possible Admixture: SAS with probability 0.0095\n",
      "------------------------------\n",
      "Primary Predicted Ethnicity: EUR with probability 0.9141\n",
      "Possible Admixture: SAS with probability 0.0389\n",
      "------------------------------\n",
      "Primary Predicted Ethnicity: EUR with probability 0.9762\n",
      "Possible Admixture: AMR with probability 0.0101\n",
      "------------------------------\n",
      "Primary Predicted Ethnicity: EUR with probability 0.9712\n",
      "Possible Admixture: SAS with probability 0.0117\n",
      "------------------------------\n",
      "Primary Predicted Ethnicity: EUR with probability 0.8617\n",
      "Possible Admixture: SAS with probability 0.1000\n",
      "------------------------------\n",
      "Primary Predicted Ethnicity: EUR with probability 0.7179\n",
      "Possible Admixture: AMR with probability 0.1372\n",
      "------------------------------\n",
      "Primary Predicted Ethnicity: EUR with probability 0.9285\n",
      "Possible Admixture: SAS with probability 0.0363\n",
      "------------------------------\n",
      "Primary Predicted Ethnicity: EUR with probability 0.7688\n",
      "Possible Admixture: SAS with probability 0.1885\n",
      "------------------------------\n",
      "Primary Predicted Ethnicity: EUR with probability 0.9706\n",
      "Possible Admixture: SAS with probability 0.0147\n",
      "------------------------------\n",
      "Primary Predicted Ethnicity: EUR with probability 0.8789\n",
      "Possible Admixture: SAS with probability 0.0586\n",
      "------------------------------\n",
      "Primary Predicted Ethnicity: EUR with probability 0.9508\n",
      "Possible Admixture: SAS with probability 0.0255\n",
      "------------------------------\n",
      "Primary Predicted Ethnicity: EAS with probability 0.9688\n",
      "Possible Admixture: AMR with probability 0.0110\n",
      "------------------------------\n",
      "Primary Predicted Ethnicity: EAS with probability 0.4010\n",
      "Possible Admixture: SAS with probability 0.2475\n",
      "------------------------------\n",
      "Primary Predicted Ethnicity: EUR with probability 0.9255\n",
      "Possible Admixture: SAS with probability 0.0375\n",
      "------------------------------\n",
      "Primary Predicted Ethnicity: EAS with probability 0.9729\n",
      "Possible Admixture: AMR with probability 0.0138\n",
      "------------------------------\n",
      "Primary Predicted Ethnicity: EUR with probability 0.9559\n",
      "Possible Admixture: SAS with probability 0.0240\n",
      "------------------------------\n",
      "Primary Predicted Ethnicity: EAS with probability 0.9808\n",
      "Possible Admixture: AMR with probability 0.0072\n",
      "------------------------------\n",
      "Primary Predicted Ethnicity: EAS with probability 0.9379\n",
      "Possible Admixture: AMR with probability 0.0320\n",
      "------------------------------\n",
      "Primary Predicted Ethnicity: EUR with probability 0.9377\n",
      "Possible Admixture: SAS with probability 0.0281\n",
      "------------------------------\n",
      "Primary Predicted Ethnicity: EUR with probability 0.9577\n",
      "Possible Admixture: AMR with probability 0.0215\n",
      "------------------------------\n",
      "Primary Predicted Ethnicity: EUR with probability 0.9024\n",
      "Possible Admixture: SAS with probability 0.0505\n",
      "------------------------------\n",
      "Primary Predicted Ethnicity: EUR with probability 0.9212\n",
      "Possible Admixture: SAS with probability 0.0373\n",
      "------------------------------\n",
      "Primary Predicted Ethnicity: EUR with probability 0.9387\n",
      "Possible Admixture: AMR with probability 0.0289\n",
      "------------------------------\n",
      "Primary Predicted Ethnicity: EUR with probability 0.9570\n",
      "Possible Admixture: SAS with probability 0.0190\n",
      "------------------------------\n",
      "Primary Predicted Ethnicity: SAS with probability 0.4773\n",
      "Possible Admixture: EUR with probability 0.3795\n",
      "------------------------------\n",
      "Primary Predicted Ethnicity: EUR with probability 0.9359\n",
      "Possible Admixture: SAS with probability 0.0325\n",
      "------------------------------\n",
      "Primary Predicted Ethnicity: EUR with probability 0.9649\n",
      "Possible Admixture: SAS with probability 0.0151\n",
      "------------------------------\n",
      "Primary Predicted Ethnicity: SAS with probability 0.5951\n",
      "Possible Admixture: EUR with probability 0.3171\n",
      "------------------------------\n",
      "Primary Predicted Ethnicity: EUR with probability 0.9823\n",
      "Possible Admixture: AMR with probability 0.0069\n",
      "------------------------------\n",
      "Primary Predicted Ethnicity: EUR with probability 0.9808\n",
      "Possible Admixture: SAS with probability 0.0078\n",
      "------------------------------\n",
      "Primary Predicted Ethnicity: EUR with probability 0.9400\n",
      "Possible Admixture: SAS with probability 0.0269\n",
      "------------------------------\n",
      "Primary Predicted Ethnicity: EUR with probability 0.8677\n",
      "Possible Admixture: SAS with probability 0.0975\n",
      "------------------------------\n",
      "Primary Predicted Ethnicity: EUR with probability 0.7738\n",
      "Possible Admixture: SAS with probability 0.1604\n",
      "------------------------------\n",
      "Primary Predicted Ethnicity: EUR with probability 0.9444\n",
      "Possible Admixture: SAS with probability 0.0250\n",
      "------------------------------\n",
      "Primary Predicted Ethnicity: EAS with probability 0.9627\n",
      "Possible Admixture: AMR with probability 0.0189\n",
      "------------------------------\n",
      "Primary Predicted Ethnicity: EUR with probability 0.9576\n",
      "Possible Admixture: SAS with probability 0.0213\n",
      "------------------------------\n",
      "Primary Predicted Ethnicity: EUR with probability 0.9288\n",
      "Possible Admixture: SAS with probability 0.0432\n",
      "------------------------------\n",
      "Primary Predicted Ethnicity: EUR with probability 0.9475\n",
      "Possible Admixture: SAS with probability 0.0326\n",
      "------------------------------\n",
      "Primary Predicted Ethnicity: EUR with probability 0.9372\n",
      "Possible Admixture: AMR with probability 0.0280\n",
      "------------------------------\n",
      "Primary Predicted Ethnicity: EUR with probability 0.8904\n",
      "Possible Admixture: SAS with probability 0.0641\n",
      "------------------------------\n",
      "Primary Predicted Ethnicity: EUR with probability 0.9703\n",
      "Possible Admixture: SAS with probability 0.0135\n",
      "------------------------------\n",
      "Primary Predicted Ethnicity: EUR with probability 0.6218\n",
      "Possible Admixture: SAS with probability 0.2696\n",
      "------------------------------\n",
      "Primary Predicted Ethnicity: EUR with probability 0.9236\n",
      "Possible Admixture: SAS with probability 0.0399\n",
      "------------------------------\n",
      "Primary Predicted Ethnicity: EAS with probability 0.9684\n",
      "Possible Admixture: AMR with probability 0.0146\n",
      "------------------------------\n",
      "Primary Predicted Ethnicity: EUR with probability 0.9045\n",
      "Possible Admixture: SAS with probability 0.0525\n",
      "------------------------------\n",
      "Primary Predicted Ethnicity: EAS with probability 0.9831\n",
      "Possible Admixture: AMR with probability 0.0069\n",
      "------------------------------\n",
      "Primary Predicted Ethnicity: EUR with probability 0.9237\n",
      "Possible Admixture: SAS with probability 0.0352\n",
      "------------------------------\n",
      "Primary Predicted Ethnicity: EAS with probability 0.9621\n",
      "Possible Admixture: AMR with probability 0.0203\n",
      "------------------------------\n",
      "Primary Predicted Ethnicity: EUR with probability 0.9036\n",
      "Possible Admixture: SAS with probability 0.0456\n",
      "------------------------------\n",
      "Primary Predicted Ethnicity: EAS with probability 0.9557\n",
      "Possible Admixture: SAS with probability 0.0177\n",
      "------------------------------\n",
      "Primary Predicted Ethnicity: EUR with probability 0.9400\n",
      "Possible Admixture: SAS with probability 0.0286\n",
      "------------------------------\n",
      "Primary Predicted Ethnicity: EUR with probability 0.9551\n",
      "Possible Admixture: SAS with probability 0.0262\n",
      "------------------------------\n",
      "Primary Predicted Ethnicity: EAS with probability 0.9715\n",
      "Possible Admixture: AMR with probability 0.0149\n",
      "------------------------------\n",
      "Primary Predicted Ethnicity: EUR with probability 0.9746\n",
      "Possible Admixture: SAS with probability 0.0092\n",
      "------------------------------\n",
      "Primary Predicted Ethnicity: EUR with probability 0.9396\n",
      "Possible Admixture: SAS with probability 0.0414\n",
      "------------------------------\n",
      "Primary Predicted Ethnicity: EAS with probability 0.9705\n",
      "Possible Admixture: AMR with probability 0.0125\n",
      "------------------------------\n",
      "Primary Predicted Ethnicity: EUR with probability 0.9588\n",
      "Possible Admixture: AMR with probability 0.0200\n",
      "------------------------------\n",
      "Primary Predicted Ethnicity: EUR with probability 0.9741\n",
      "Possible Admixture: SAS with probability 0.0119\n",
      "------------------------------\n",
      "Primary Predicted Ethnicity: AFR with probability 0.9842\n",
      "Possible Admixture: SAS with probability 0.0065\n",
      "------------------------------\n",
      "Primary Predicted Ethnicity: EUR with probability 0.9580\n",
      "Possible Admixture: SAS with probability 0.0187\n",
      "------------------------------\n",
      "Primary Predicted Ethnicity: EUR with probability 0.9796\n",
      "Possible Admixture: AMR with probability 0.0099\n",
      "------------------------------\n",
      "Primary Predicted Ethnicity: EUR with probability 0.9446\n",
      "Possible Admixture: SAS with probability 0.0275\n",
      "------------------------------\n",
      "Primary Predicted Ethnicity: EUR with probability 0.9350\n",
      "Possible Admixture: SAS with probability 0.0456\n",
      "------------------------------\n",
      "Primary Predicted Ethnicity: AFR with probability 0.9721\n",
      "Possible Admixture: SAS with probability 0.0112\n",
      "------------------------------\n",
      "Primary Predicted Ethnicity: EAS with probability 0.9851\n",
      "Possible Admixture: AMR with probability 0.0060\n",
      "------------------------------\n",
      "Primary Predicted Ethnicity: EUR with probability 0.9609\n",
      "Possible Admixture: AMR with probability 0.0192\n",
      "------------------------------\n",
      "Primary Predicted Ethnicity: EUR with probability 0.9705\n",
      "Possible Admixture: SAS with probability 0.0133\n",
      "------------------------------\n",
      "Primary Predicted Ethnicity: EUR with probability 0.9459\n",
      "Possible Admixture: AMR with probability 0.0258\n",
      "------------------------------\n",
      "Primary Predicted Ethnicity: EUR with probability 0.9212\n",
      "Possible Admixture: AMR with probability 0.0350\n",
      "------------------------------\n",
      "Primary Predicted Ethnicity: SAS with probability 0.7213\n",
      "Possible Admixture: EUR with probability 0.1783\n",
      "------------------------------\n",
      "Primary Predicted Ethnicity: EUR with probability 0.8830\n",
      "Possible Admixture: SAS with probability 0.0817\n",
      "------------------------------\n",
      "Primary Predicted Ethnicity: EUR with probability 0.9536\n",
      "Possible Admixture: SAS with probability 0.0231\n",
      "------------------------------\n",
      "Primary Predicted Ethnicity: EUR with probability 0.8075\n",
      "Possible Admixture: SAS with probability 0.1216\n",
      "------------------------------\n",
      "Primary Predicted Ethnicity: EUR with probability 0.9457\n",
      "Possible Admixture: SAS with probability 0.0396\n",
      "------------------------------\n",
      "Primary Predicted Ethnicity: EUR with probability 0.9344\n",
      "Possible Admixture: AMR with probability 0.0286\n",
      "------------------------------\n",
      "Primary Predicted Ethnicity: EUR with probability 0.9276\n",
      "Possible Admixture: SAS with probability 0.0409\n",
      "------------------------------\n",
      "Primary Predicted Ethnicity: EUR with probability 0.5704\n",
      "Possible Admixture: SAS with probability 0.3443\n",
      "------------------------------\n",
      "Primary Predicted Ethnicity: EUR with probability 0.8463\n",
      "Possible Admixture: SAS with probability 0.0892\n",
      "------------------------------\n",
      "Primary Predicted Ethnicity: EUR with probability 0.9774\n",
      "Possible Admixture: AMR with probability 0.0084\n",
      "------------------------------\n",
      "Primary Predicted Ethnicity: EUR with probability 0.9310\n",
      "Possible Admixture: SAS with probability 0.0345\n",
      "------------------------------\n",
      "Primary Predicted Ethnicity: EUR with probability 0.9771\n",
      "Possible Admixture: AMR with probability 0.0095\n",
      "------------------------------\n",
      "Primary Predicted Ethnicity: EUR with probability 0.9792\n",
      "Possible Admixture: AMR with probability 0.0090\n",
      "------------------------------\n",
      "Primary Predicted Ethnicity: EUR with probability 0.9775\n",
      "Possible Admixture: AMR with probability 0.0090\n",
      "------------------------------\n",
      "Primary Predicted Ethnicity: EUR with probability 0.9521\n",
      "Possible Admixture: SAS with probability 0.0244\n",
      "------------------------------\n",
      "Primary Predicted Ethnicity: EAS with probability 0.9736\n",
      "Possible Admixture: AMR with probability 0.0139\n",
      "------------------------------\n",
      "Primary Predicted Ethnicity: EUR with probability 0.9533\n",
      "Possible Admixture: SAS with probability 0.0290\n",
      "------------------------------\n",
      "Primary Predicted Ethnicity: EUR with probability 0.9549\n",
      "Possible Admixture: AMR with probability 0.0241\n",
      "------------------------------\n",
      "Primary Predicted Ethnicity: EUR with probability 0.9513\n",
      "Possible Admixture: AMR with probability 0.0223\n",
      "------------------------------\n",
      "Primary Predicted Ethnicity: EUR with probability 0.9415\n",
      "Possible Admixture: SAS with probability 0.0292\n",
      "------------------------------\n",
      "Primary Predicted Ethnicity: EUR with probability 0.9429\n",
      "Possible Admixture: SAS with probability 0.0354\n",
      "------------------------------\n",
      "Primary Predicted Ethnicity: EAS with probability 0.4027\n",
      "Possible Admixture: AMR with probability 0.3335\n",
      "------------------------------\n",
      "Primary Predicted Ethnicity: EUR with probability 0.9487\n",
      "Possible Admixture: SAS with probability 0.0284\n",
      "------------------------------\n",
      "Primary Predicted Ethnicity: EUR with probability 0.9286\n",
      "Possible Admixture: SAS with probability 0.0475\n",
      "------------------------------\n",
      "Primary Predicted Ethnicity: EUR with probability 0.8519\n",
      "Possible Admixture: SAS with probability 0.1147\n",
      "------------------------------\n",
      "Primary Predicted Ethnicity: EUR with probability 0.9441\n",
      "Possible Admixture: SAS with probability 0.0246\n",
      "------------------------------\n",
      "Primary Predicted Ethnicity: EUR with probability 0.9458\n",
      "Possible Admixture: SAS with probability 0.0294\n",
      "------------------------------\n",
      "Primary Predicted Ethnicity: SAS with probability 0.5813\n",
      "Possible Admixture: EUR with probability 0.3483\n",
      "------------------------------\n",
      "Primary Predicted Ethnicity: EUR with probability 0.8720\n",
      "Possible Admixture: AMR with probability 0.0615\n",
      "------------------------------\n",
      "Primary Predicted Ethnicity: EUR with probability 0.9449\n",
      "Possible Admixture: SAS with probability 0.0249\n",
      "------------------------------\n",
      "Primary Predicted Ethnicity: EAS with probability 0.9601\n",
      "Possible Admixture: AMR with probability 0.0227\n",
      "------------------------------\n",
      "Primary Predicted Ethnicity: EUR with probability 0.8865\n",
      "Possible Admixture: SAS with probability 0.0628\n",
      "------------------------------\n",
      "Primary Predicted Ethnicity: EUR with probability 0.8881\n",
      "Possible Admixture: SAS with probability 0.0515\n",
      "------------------------------\n",
      "Primary Predicted Ethnicity: EAS with probability 0.9614\n",
      "Possible Admixture: AMR with probability 0.0191\n",
      "------------------------------\n",
      "Primary Predicted Ethnicity: EUR with probability 0.9337\n",
      "Possible Admixture: SAS with probability 0.0395\n",
      "------------------------------\n",
      "Primary Predicted Ethnicity: EUR with probability 0.8049\n",
      "Possible Admixture: SAS with probability 0.1301\n",
      "------------------------------\n",
      "Primary Predicted Ethnicity: AFR with probability 0.9728\n",
      "Possible Admixture: SAS with probability 0.0101\n",
      "------------------------------\n",
      "Primary Predicted Ethnicity: EAS with probability 0.9611\n",
      "Possible Admixture: AMR with probability 0.0175\n",
      "------------------------------\n",
      "Primary Predicted Ethnicity: EAS with probability 0.9440\n",
      "Possible Admixture: AMR with probability 0.0301\n",
      "------------------------------\n",
      "Primary Predicted Ethnicity: EUR with probability 0.9478\n",
      "Possible Admixture: SAS with probability 0.0224\n",
      "------------------------------\n",
      "Primary Predicted Ethnicity: EAS with probability 0.9848\n",
      "Possible Admixture: AMR with probability 0.0055\n",
      "------------------------------\n",
      "Primary Predicted Ethnicity: EAS with probability 0.9633\n",
      "Possible Admixture: AMR with probability 0.0185\n",
      "------------------------------\n",
      "Primary Predicted Ethnicity: EUR with probability 0.9612\n",
      "Possible Admixture: SAS with probability 0.0182\n",
      "------------------------------\n",
      "Primary Predicted Ethnicity: EUR with probability 0.9579\n",
      "Possible Admixture: SAS with probability 0.0233\n",
      "------------------------------\n",
      "Primary Predicted Ethnicity: EUR with probability 0.9228\n",
      "Possible Admixture: SAS with probability 0.0489\n",
      "------------------------------\n",
      "Primary Predicted Ethnicity: EUR with probability 0.8810\n",
      "Possible Admixture: SAS with probability 0.0771\n",
      "------------------------------\n",
      "Primary Predicted Ethnicity: EUR with probability 0.8538\n",
      "Possible Admixture: SAS with probability 0.0738\n",
      "------------------------------\n",
      "Primary Predicted Ethnicity: EUR with probability 0.8861\n",
      "Possible Admixture: SAS with probability 0.0628\n",
      "------------------------------\n",
      "Primary Predicted Ethnicity: EUR with probability 0.9546\n",
      "Possible Admixture: AMR with probability 0.0166\n",
      "------------------------------\n",
      "Primary Predicted Ethnicity: EUR with probability 0.8782\n",
      "Possible Admixture: SAS with probability 0.0894\n",
      "------------------------------\n",
      "Primary Predicted Ethnicity: EAS with probability 0.9759\n",
      "Possible Admixture: AMR with probability 0.0129\n",
      "------------------------------\n",
      "Primary Predicted Ethnicity: EUR with probability 0.8341\n",
      "Possible Admixture: SAS with probability 0.1141\n",
      "------------------------------\n",
      "Primary Predicted Ethnicity: AFR with probability 0.9505\n",
      "Possible Admixture: SAS with probability 0.0225\n",
      "------------------------------\n",
      "Primary Predicted Ethnicity: EUR with probability 0.6557\n",
      "Possible Admixture: SAS with probability 0.3028\n",
      "------------------------------\n",
      "Primary Predicted Ethnicity: EUR with probability 0.8919\n",
      "Possible Admixture: SAS with probability 0.0889\n",
      "------------------------------\n",
      "Primary Predicted Ethnicity: EUR with probability 0.8906\n",
      "Possible Admixture: SAS with probability 0.0687\n",
      "------------------------------\n",
      "Primary Predicted Ethnicity: EUR with probability 0.9389\n",
      "Possible Admixture: SAS with probability 0.0394\n",
      "------------------------------\n",
      "Primary Predicted Ethnicity: AFR with probability 0.9690\n",
      "Possible Admixture: SAS with probability 0.0132\n",
      "------------------------------\n",
      "Primary Predicted Ethnicity: EUR with probability 0.9691\n",
      "Possible Admixture: AMR with probability 0.0132\n",
      "------------------------------\n",
      "Primary Predicted Ethnicity: EUR with probability 0.8571\n",
      "Possible Admixture: SAS with probability 0.1070\n",
      "------------------------------\n",
      "Primary Predicted Ethnicity: EUR with probability 0.9417\n",
      "Possible Admixture: SAS with probability 0.0425\n",
      "------------------------------\n",
      "Primary Predicted Ethnicity: EAS with probability 0.9677\n",
      "Possible Admixture: AMR with probability 0.0168\n",
      "------------------------------\n",
      "Primary Predicted Ethnicity: EUR with probability 0.9642\n",
      "Possible Admixture: SAS with probability 0.0172\n",
      "------------------------------\n",
      "Primary Predicted Ethnicity: AFR with probability 0.9653\n",
      "Possible Admixture: SAS with probability 0.0159\n",
      "------------------------------\n",
      "Primary Predicted Ethnicity: EUR with probability 0.9521\n",
      "Possible Admixture: AMR with probability 0.0239\n",
      "------------------------------\n",
      "Primary Predicted Ethnicity: EUR with probability 0.8403\n",
      "Possible Admixture: SAS with probability 0.0964\n",
      "------------------------------\n",
      "Primary Predicted Ethnicity: EUR with probability 0.8520\n",
      "Possible Admixture: SAS with probability 0.1091\n",
      "------------------------------\n",
      "Primary Predicted Ethnicity: AFR with probability 0.9578\n",
      "Possible Admixture: SAS with probability 0.0184\n",
      "------------------------------\n",
      "Primary Predicted Ethnicity: EUR with probability 0.9284\n",
      "Possible Admixture: SAS with probability 0.0446\n",
      "------------------------------\n",
      "Primary Predicted Ethnicity: EUR with probability 0.8791\n",
      "Possible Admixture: SAS with probability 0.0640\n",
      "------------------------------\n",
      "Primary Predicted Ethnicity: EAS with probability 0.9726\n",
      "Possible Admixture: AMR with probability 0.0137\n",
      "------------------------------\n",
      "Primary Predicted Ethnicity: EUR with probability 0.9492\n",
      "Possible Admixture: SAS with probability 0.0341\n",
      "------------------------------\n",
      "Primary Predicted Ethnicity: EAS with probability 0.9515\n",
      "Possible Admixture: AMR with probability 0.0278\n",
      "------------------------------\n",
      "Primary Predicted Ethnicity: EAS with probability 0.9601\n",
      "Possible Admixture: AMR with probability 0.0152\n",
      "------------------------------\n",
      "Primary Predicted Ethnicity: EUR with probability 0.9800\n",
      "Possible Admixture: AMR with probability 0.0074\n",
      "------------------------------\n",
      "Primary Predicted Ethnicity: EAS with probability 0.7667\n",
      "Possible Admixture: AMR with probability 0.1032\n",
      "------------------------------\n",
      "Primary Predicted Ethnicity: EUR with probability 0.8934\n",
      "Possible Admixture: SAS with probability 0.0603\n",
      "------------------------------\n",
      "Primary Predicted Ethnicity: SAS with probability 0.7529\n",
      "Possible Admixture: AMR with probability 0.1398\n",
      "------------------------------\n",
      "Primary Predicted Ethnicity: EUR with probability 0.9788\n",
      "Possible Admixture: AMR with probability 0.0092\n",
      "------------------------------\n",
      "Primary Predicted Ethnicity: EUR with probability 0.9598\n",
      "Possible Admixture: SAS with probability 0.0219\n",
      "------------------------------\n",
      "Primary Predicted Ethnicity: EAS with probability 0.9636\n",
      "Possible Admixture: AMR with probability 0.0211\n",
      "------------------------------\n",
      "Primary Predicted Ethnicity: EUR with probability 0.9366\n",
      "Possible Admixture: SAS with probability 0.0404\n",
      "------------------------------\n",
      "Primary Predicted Ethnicity: EAS with probability 0.9729\n",
      "Possible Admixture: AMR with probability 0.0127\n",
      "------------------------------\n",
      "Primary Predicted Ethnicity: EUR with probability 0.8575\n",
      "Possible Admixture: SAS with probability 0.0661\n",
      "------------------------------\n",
      "Primary Predicted Ethnicity: EUR with probability 0.9448\n",
      "Possible Admixture: SAS with probability 0.0237\n",
      "------------------------------\n",
      "Primary Predicted Ethnicity: EUR with probability 0.9231\n",
      "Possible Admixture: SAS with probability 0.0512\n",
      "------------------------------\n",
      "Primary Predicted Ethnicity: EUR with probability 0.9234\n",
      "Possible Admixture: SAS with probability 0.0537\n",
      "------------------------------\n",
      "Primary Predicted Ethnicity: EUR with probability 0.9740\n",
      "Possible Admixture: AMR with probability 0.0110\n",
      "------------------------------\n",
      "Primary Predicted Ethnicity: EAS with probability 0.9567\n",
      "Possible Admixture: AMR with probability 0.0205\n",
      "------------------------------\n",
      "Primary Predicted Ethnicity: EUR with probability 0.9425\n",
      "Possible Admixture: SAS with probability 0.0255\n",
      "------------------------------\n",
      "Primary Predicted Ethnicity: EAS with probability 0.9684\n",
      "Possible Admixture: AMR with probability 0.0175\n",
      "------------------------------\n",
      "Primary Predicted Ethnicity: EAS with probability 0.9527\n",
      "Possible Admixture: AMR with probability 0.0185\n",
      "------------------------------\n",
      "Primary Predicted Ethnicity: SAS with probability 0.5292\n",
      "Possible Admixture: EUR with probability 0.2421\n",
      "------------------------------\n",
      "Primary Predicted Ethnicity: EUR with probability 0.8945\n",
      "Possible Admixture: SAS with probability 0.0614\n",
      "------------------------------\n",
      "Primary Predicted Ethnicity: EUR with probability 0.9680\n",
      "Possible Admixture: SAS with probability 0.0124\n",
      "------------------------------\n",
      "Primary Predicted Ethnicity: EAS with probability 0.9787\n",
      "Possible Admixture: AMR with probability 0.0082\n",
      "------------------------------\n",
      "Primary Predicted Ethnicity: EUR with probability 0.8759\n",
      "Possible Admixture: SAS with probability 0.0936\n",
      "------------------------------\n",
      "Primary Predicted Ethnicity: EUR with probability 0.8565\n",
      "Possible Admixture: SAS with probability 0.1114\n",
      "------------------------------\n",
      "Primary Predicted Ethnicity: AFR with probability 0.9789\n",
      "Possible Admixture: SAS with probability 0.0096\n",
      "------------------------------\n",
      "Primary Predicted Ethnicity: EUR with probability 0.9659\n",
      "Possible Admixture: SAS with probability 0.0123\n",
      "------------------------------\n",
      "Primary Predicted Ethnicity: EUR with probability 0.9670\n",
      "Possible Admixture: AMR with probability 0.0158\n",
      "------------------------------\n",
      "Primary Predicted Ethnicity: EUR with probability 0.9050\n",
      "Possible Admixture: SAS with probability 0.0654\n",
      "------------------------------\n",
      "Primary Predicted Ethnicity: EUR with probability 0.9669\n",
      "Possible Admixture: AMR with probability 0.0141\n",
      "------------------------------\n",
      "Primary Predicted Ethnicity: EUR with probability 0.9298\n",
      "Possible Admixture: SAS with probability 0.0486\n",
      "------------------------------\n",
      "Primary Predicted Ethnicity: EUR with probability 0.9013\n",
      "Possible Admixture: SAS with probability 0.0776\n",
      "------------------------------\n",
      "Primary Predicted Ethnicity: EUR with probability 0.9394\n",
      "Possible Admixture: SAS with probability 0.0315\n",
      "------------------------------\n",
      "Primary Predicted Ethnicity: EUR with probability 0.9024\n",
      "Possible Admixture: SAS with probability 0.0454\n",
      "------------------------------\n",
      "Primary Predicted Ethnicity: EUR with probability 0.9303\n",
      "Possible Admixture: SAS with probability 0.0412\n",
      "------------------------------\n",
      "Primary Predicted Ethnicity: EUR with probability 0.9661\n",
      "Possible Admixture: SAS with probability 0.0140\n",
      "------------------------------\n",
      "Primary Predicted Ethnicity: EUR with probability 0.9070\n",
      "Possible Admixture: SAS with probability 0.0578\n",
      "------------------------------\n",
      "Primary Predicted Ethnicity: EUR with probability 0.9216\n",
      "Possible Admixture: SAS with probability 0.0497\n",
      "------------------------------\n",
      "Primary Predicted Ethnicity: EUR with probability 0.7399\n",
      "Possible Admixture: SAS with probability 0.1472\n",
      "------------------------------\n",
      "Primary Predicted Ethnicity: EAS with probability 0.9665\n",
      "Possible Admixture: AMR with probability 0.0157\n",
      "------------------------------\n",
      "Primary Predicted Ethnicity: EUR with probability 0.9600\n",
      "Possible Admixture: AMR with probability 0.0147\n",
      "------------------------------\n",
      "Primary Predicted Ethnicity: EUR with probability 0.9757\n",
      "Possible Admixture: SAS with probability 0.0112\n",
      "------------------------------\n",
      "Primary Predicted Ethnicity: EAS with probability 0.9683\n",
      "Possible Admixture: AMR with probability 0.0162\n",
      "------------------------------\n",
      "Primary Predicted Ethnicity: SAS with probability 0.9457\n",
      "Possible Admixture: AMR with probability 0.0238\n",
      "------------------------------\n",
      "Primary Predicted Ethnicity: EAS with probability 0.9721\n",
      "Possible Admixture: AMR with probability 0.0145\n",
      "------------------------------\n",
      "Primary Predicted Ethnicity: EUR with probability 0.9415\n",
      "Possible Admixture: AMR with probability 0.0262\n",
      "------------------------------\n",
      "Primary Predicted Ethnicity: EUR with probability 0.9560\n",
      "Possible Admixture: SAS with probability 0.0211\n",
      "------------------------------\n",
      "Primary Predicted Ethnicity: EAS with probability 0.9652\n",
      "Possible Admixture: AMR with probability 0.0160\n",
      "------------------------------\n",
      "Primary Predicted Ethnicity: EAS with probability 0.9763\n",
      "Possible Admixture: AMR with probability 0.0100\n",
      "------------------------------\n",
      "Primary Predicted Ethnicity: EUR with probability 0.7445\n",
      "Possible Admixture: SAS with probability 0.1892\n",
      "------------------------------\n",
      "Primary Predicted Ethnicity: EUR with probability 0.9864\n",
      "Possible Admixture: SAS with probability 0.0053\n",
      "------------------------------\n",
      "Primary Predicted Ethnicity: EUR with probability 0.9880\n",
      "Possible Admixture: AMR with probability 0.0046\n",
      "------------------------------\n",
      "Primary Predicted Ethnicity: EAS with probability 0.9359\n",
      "Possible Admixture: AMR with probability 0.0266\n",
      "------------------------------\n",
      "Primary Predicted Ethnicity: EUR with probability 0.9281\n",
      "Possible Admixture: SAS with probability 0.0483\n",
      "------------------------------\n",
      "Primary Predicted Ethnicity: EUR with probability 0.9549\n",
      "Possible Admixture: SAS with probability 0.0265\n",
      "------------------------------\n",
      "Primary Predicted Ethnicity: EAS with probability 0.9762\n",
      "Possible Admixture: AMR with probability 0.0110\n",
      "------------------------------\n",
      "Primary Predicted Ethnicity: EUR with probability 0.9456\n",
      "Possible Admixture: SAS with probability 0.0268\n",
      "------------------------------\n",
      "Primary Predicted Ethnicity: EUR with probability 0.9604\n",
      "Possible Admixture: SAS with probability 0.0157\n",
      "------------------------------\n",
      "Primary Predicted Ethnicity: AFR with probability 0.9876\n",
      "Possible Admixture: SAS with probability 0.0049\n",
      "------------------------------\n",
      "Primary Predicted Ethnicity: EUR with probability 0.7550\n",
      "Possible Admixture: SAS with probability 0.1377\n",
      "------------------------------\n",
      "Primary Predicted Ethnicity: EUR with probability 0.9353\n",
      "Possible Admixture: SAS with probability 0.0273\n",
      "------------------------------\n",
      "Primary Predicted Ethnicity: EUR with probability 0.9666\n",
      "Possible Admixture: AMR with probability 0.0178\n",
      "------------------------------\n",
      "Primary Predicted Ethnicity: EUR with probability 0.9198\n",
      "Possible Admixture: SAS with probability 0.0518\n",
      "------------------------------\n",
      "Primary Predicted Ethnicity: EAS with probability 0.9688\n",
      "Possible Admixture: AMR with probability 0.0160\n",
      "------------------------------\n",
      "Primary Predicted Ethnicity: EUR with probability 0.9383\n",
      "Possible Admixture: AMR with probability 0.0323\n",
      "------------------------------\n",
      "Primary Predicted Ethnicity: EAS with probability 0.3906\n",
      "Possible Admixture: AMR with probability 0.3215\n",
      "------------------------------\n",
      "Primary Predicted Ethnicity: EUR with probability 0.9733\n",
      "Possible Admixture: AMR with probability 0.0116\n",
      "------------------------------\n",
      "Primary Predicted Ethnicity: EUR with probability 0.9053\n",
      "Possible Admixture: SAS with probability 0.0509\n",
      "------------------------------\n",
      "Primary Predicted Ethnicity: EUR with probability 0.9200\n",
      "Possible Admixture: AMR with probability 0.0369\n",
      "------------------------------\n",
      "Primary Predicted Ethnicity: EUR with probability 0.9089\n",
      "Possible Admixture: SAS with probability 0.0499\n",
      "------------------------------\n",
      "Primary Predicted Ethnicity: EUR with probability 0.5507\n",
      "Possible Admixture: SAS with probability 0.3175\n",
      "------------------------------\n",
      "Primary Predicted Ethnicity: EUR with probability 0.9337\n",
      "Possible Admixture: AMR with probability 0.0283\n",
      "------------------------------\n",
      "Primary Predicted Ethnicity: EUR with probability 0.8628\n",
      "Possible Admixture: SAS with probability 0.0896\n",
      "------------------------------\n",
      "Primary Predicted Ethnicity: EUR with probability 0.9658\n",
      "Possible Admixture: SAS with probability 0.0155\n",
      "------------------------------\n",
      "Primary Predicted Ethnicity: EAS with probability 0.9715\n",
      "Possible Admixture: AMR with probability 0.0131\n",
      "------------------------------\n",
      "Primary Predicted Ethnicity: EUR with probability 0.9530\n",
      "Possible Admixture: SAS with probability 0.0243\n",
      "------------------------------\n",
      "Primary Predicted Ethnicity: EUR with probability 0.9816\n",
      "Possible Admixture: AMR with probability 0.0073\n",
      "------------------------------\n",
      "Primary Predicted Ethnicity: EUR with probability 0.9713\n",
      "Possible Admixture: AMR with probability 0.0111\n",
      "------------------------------\n",
      "Primary Predicted Ethnicity: EUR with probability 0.8988\n",
      "Possible Admixture: SAS with probability 0.0549\n",
      "------------------------------\n",
      "Primary Predicted Ethnicity: EUR with probability 0.9770\n",
      "Possible Admixture: AMR with probability 0.0106\n",
      "------------------------------\n",
      "Primary Predicted Ethnicity: EUR with probability 0.9313\n",
      "Possible Admixture: SAS with probability 0.0376\n",
      "------------------------------\n",
      "Primary Predicted Ethnicity: EUR with probability 0.9582\n",
      "Possible Admixture: SAS with probability 0.0267\n",
      "------------------------------\n",
      "Primary Predicted Ethnicity: EAS with probability 0.9771\n",
      "Possible Admixture: AMR with probability 0.0115\n",
      "------------------------------\n",
      "Primary Predicted Ethnicity: EUR with probability 0.9474\n",
      "Possible Admixture: SAS with probability 0.0306\n",
      "------------------------------\n",
      "Primary Predicted Ethnicity: SAS with probability 0.8579\n",
      "Possible Admixture: AMR with probability 0.0727\n",
      "------------------------------\n",
      "Primary Predicted Ethnicity: EUR with probability 0.9679\n",
      "Possible Admixture: SAS with probability 0.0174\n",
      "------------------------------\n",
      "Primary Predicted Ethnicity: EUR with probability 0.9598\n",
      "Possible Admixture: SAS with probability 0.0186\n",
      "------------------------------\n",
      "Primary Predicted Ethnicity: EUR with probability 0.8889\n",
      "Possible Admixture: SAS with probability 0.0471\n",
      "------------------------------\n",
      "Primary Predicted Ethnicity: EUR with probability 0.8173\n",
      "Possible Admixture: SAS with probability 0.1004\n",
      "------------------------------\n",
      "Primary Predicted Ethnicity: EUR with probability 0.4479\n",
      "Possible Admixture: SAS with probability 0.3655\n",
      "------------------------------\n",
      "Primary Predicted Ethnicity: EUR with probability 0.9626\n",
      "Possible Admixture: SAS with probability 0.0210\n",
      "------------------------------\n",
      "Primary Predicted Ethnicity: EUR with probability 0.9781\n",
      "Possible Admixture: SAS with probability 0.0112\n",
      "------------------------------\n",
      "Primary Predicted Ethnicity: EUR with probability 0.9651\n",
      "Possible Admixture: SAS with probability 0.0219\n",
      "------------------------------\n",
      "Primary Predicted Ethnicity: EUR with probability 0.9228\n",
      "Possible Admixture: SAS with probability 0.0434\n",
      "------------------------------\n",
      "Primary Predicted Ethnicity: EUR with probability 0.9539\n",
      "Possible Admixture: SAS with probability 0.0281\n",
      "------------------------------\n",
      "Primary Predicted Ethnicity: EUR with probability 0.9437\n",
      "Possible Admixture: AMR with probability 0.0299\n",
      "------------------------------\n",
      "Primary Predicted Ethnicity: EAS with probability 0.9740\n",
      "Possible Admixture: AMR with probability 0.0121\n",
      "------------------------------\n",
      "Primary Predicted Ethnicity: EUR with probability 0.9666\n",
      "Possible Admixture: AMR with probability 0.0150\n",
      "------------------------------\n",
      "Primary Predicted Ethnicity: EUR with probability 0.9246\n",
      "Possible Admixture: SAS with probability 0.0501\n",
      "------------------------------\n",
      "Primary Predicted Ethnicity: AMR with probability 0.7776\n",
      "Possible Admixture: SAS with probability 0.0985\n",
      "------------------------------\n",
      "Primary Predicted Ethnicity: EUR with probability 0.9813\n",
      "Possible Admixture: AMR with probability 0.0061\n",
      "------------------------------\n",
      "Primary Predicted Ethnicity: EUR with probability 0.9170\n",
      "Possible Admixture: SAS with probability 0.0424\n",
      "------------------------------\n",
      "Primary Predicted Ethnicity: EUR with probability 0.9553\n",
      "Possible Admixture: SAS with probability 0.0273\n",
      "------------------------------\n",
      "Primary Predicted Ethnicity: EUR with probability 0.9485\n",
      "Possible Admixture: AMR with probability 0.0255\n",
      "------------------------------\n",
      "Primary Predicted Ethnicity: EUR with probability 0.7968\n",
      "Possible Admixture: SAS with probability 0.1459\n",
      "------------------------------\n",
      "Primary Predicted Ethnicity: EUR with probability 0.9554\n",
      "Possible Admixture: SAS with probability 0.0204\n",
      "------------------------------\n",
      "Primary Predicted Ethnicity: EUR with probability 0.9489\n",
      "Possible Admixture: AMR with probability 0.0249\n",
      "------------------------------\n",
      "Primary Predicted Ethnicity: EUR with probability 0.8956\n",
      "Possible Admixture: SAS with probability 0.0661\n",
      "------------------------------\n",
      "Primary Predicted Ethnicity: EUR with probability 0.8529\n",
      "Possible Admixture: SAS with probability 0.1161\n",
      "------------------------------\n",
      "Primary Predicted Ethnicity: AMR with probability 0.8871\n",
      "Possible Admixture: SAS with probability 0.0612\n",
      "------------------------------\n",
      "Primary Predicted Ethnicity: EUR with probability 0.9495\n",
      "Possible Admixture: SAS with probability 0.0318\n",
      "------------------------------\n",
      "Primary Predicted Ethnicity: EUR with probability 0.9248\n",
      "Possible Admixture: AMR with probability 0.0318\n",
      "------------------------------\n",
      "Primary Predicted Ethnicity: EUR with probability 0.9216\n",
      "Possible Admixture: SAS with probability 0.0341\n",
      "------------------------------\n",
      "Primary Predicted Ethnicity: EUR with probability 0.9368\n",
      "Possible Admixture: SAS with probability 0.0312\n",
      "------------------------------\n",
      "Primary Predicted Ethnicity: EUR with probability 0.9559\n",
      "Possible Admixture: SAS with probability 0.0194\n",
      "------------------------------\n",
      "Primary Predicted Ethnicity: EUR with probability 0.9575\n",
      "Possible Admixture: SAS with probability 0.0180\n",
      "------------------------------\n",
      "Primary Predicted Ethnicity: EAS with probability 0.9481\n",
      "Possible Admixture: AMR with probability 0.0310\n",
      "------------------------------\n",
      "Primary Predicted Ethnicity: EUR with probability 0.9605\n",
      "Possible Admixture: AMR with probability 0.0200\n",
      "------------------------------\n",
      "Primary Predicted Ethnicity: EUR with probability 0.9578\n",
      "Possible Admixture: AMR with probability 0.0216\n",
      "------------------------------\n",
      "Primary Predicted Ethnicity: EUR with probability 0.9751\n",
      "Possible Admixture: SAS with probability 0.0105\n",
      "------------------------------\n",
      "Primary Predicted Ethnicity: EUR with probability 0.9297\n",
      "Possible Admixture: SAS with probability 0.0479\n",
      "------------------------------\n",
      "Primary Predicted Ethnicity: AFR with probability 0.8358\n",
      "Possible Admixture: SAS with probability 0.0795\n",
      "------------------------------\n",
      "Primary Predicted Ethnicity: EUR with probability 0.8437\n",
      "Possible Admixture: SAS with probability 0.1291\n",
      "------------------------------\n",
      "Primary Predicted Ethnicity: SAS with probability 0.6792\n",
      "Possible Admixture: EUR with probability 0.2577\n",
      "------------------------------\n",
      "Primary Predicted Ethnicity: EAS with probability 0.9417\n",
      "Possible Admixture: SAS with probability 0.0256\n",
      "------------------------------\n",
      "Primary Predicted Ethnicity: EUR with probability 0.9418\n",
      "Possible Admixture: SAS with probability 0.0418\n",
      "------------------------------\n",
      "Primary Predicted Ethnicity: EUR with probability 0.9225\n",
      "Possible Admixture: SAS with probability 0.0397\n",
      "------------------------------\n",
      "Primary Predicted Ethnicity: EUR with probability 0.9002\n",
      "Possible Admixture: SAS with probability 0.0725\n",
      "------------------------------\n",
      "Primary Predicted Ethnicity: EUR with probability 0.8928\n",
      "Possible Admixture: SAS with probability 0.0657\n",
      "------------------------------\n",
      "Primary Predicted Ethnicity: EUR with probability 0.7381\n",
      "Possible Admixture: AMR with probability 0.1796\n",
      "------------------------------\n",
      "Primary Predicted Ethnicity: EAS with probability 0.9631\n",
      "Possible Admixture: AMR with probability 0.0206\n",
      "------------------------------\n",
      "Primary Predicted Ethnicity: EUR with probability 0.9546\n",
      "Possible Admixture: SAS with probability 0.0219\n",
      "------------------------------\n",
      "Primary Predicted Ethnicity: EAS with probability 0.9805\n",
      "Possible Admixture: AMR with probability 0.0080\n",
      "------------------------------\n",
      "Primary Predicted Ethnicity: EUR with probability 0.9679\n",
      "Possible Admixture: AMR with probability 0.0155\n",
      "------------------------------\n",
      "Primary Predicted Ethnicity: EUR with probability 0.9276\n",
      "Possible Admixture: SAS with probability 0.0317\n",
      "------------------------------\n",
      "Primary Predicted Ethnicity: EUR with probability 0.9629\n",
      "Possible Admixture: SAS with probability 0.0204\n",
      "------------------------------\n",
      "Primary Predicted Ethnicity: EUR with probability 0.9542\n",
      "Possible Admixture: SAS with probability 0.0201\n",
      "------------------------------\n",
      "Primary Predicted Ethnicity: EUR with probability 0.9626\n",
      "Possible Admixture: AMR with probability 0.0161\n",
      "------------------------------\n",
      "Primary Predicted Ethnicity: EUR with probability 0.7623\n",
      "Possible Admixture: SAS with probability 0.1502\n",
      "------------------------------\n",
      "Primary Predicted Ethnicity: EAS with probability 0.9801\n",
      "Possible Admixture: AMR with probability 0.0071\n",
      "------------------------------\n",
      "Primary Predicted Ethnicity: EUR with probability 0.9487\n",
      "Possible Admixture: SAS with probability 0.0271\n",
      "------------------------------\n",
      "Primary Predicted Ethnicity: EUR with probability 0.9247\n",
      "Possible Admixture: SAS with probability 0.0330\n",
      "------------------------------\n",
      "Primary Predicted Ethnicity: EUR with probability 0.8891\n",
      "Possible Admixture: SAS with probability 0.0780\n",
      "------------------------------\n",
      "Primary Predicted Ethnicity: EUR with probability 0.9496\n",
      "Possible Admixture: SAS with probability 0.0292\n",
      "------------------------------\n",
      "Primary Predicted Ethnicity: EUR with probability 0.9047\n",
      "Possible Admixture: SAS with probability 0.0516\n",
      "------------------------------\n",
      "Primary Predicted Ethnicity: EUR with probability 0.9584\n",
      "Possible Admixture: SAS with probability 0.0183\n",
      "------------------------------\n",
      "Primary Predicted Ethnicity: EUR with probability 0.9410\n",
      "Possible Admixture: AMR with probability 0.0228\n",
      "------------------------------\n",
      "Primary Predicted Ethnicity: EUR with probability 0.9714\n",
      "Possible Admixture: SAS with probability 0.0110\n",
      "------------------------------\n",
      "Primary Predicted Ethnicity: SAS with probability 0.5711\n",
      "Possible Admixture: EUR with probability 0.3691\n",
      "------------------------------\n",
      "Primary Predicted Ethnicity: SAS with probability 0.4575\n",
      "Possible Admixture: AMR with probability 0.1866\n",
      "------------------------------\n",
      "Primary Predicted Ethnicity: EUR with probability 0.9601\n",
      "Possible Admixture: AMR with probability 0.0166\n",
      "------------------------------\n",
      "Primary Predicted Ethnicity: EUR with probability 0.9635\n",
      "Possible Admixture: SAS with probability 0.0187\n",
      "------------------------------\n",
      "Primary Predicted Ethnicity: EUR with probability 0.6943\n",
      "Possible Admixture: SAS with probability 0.2579\n",
      "------------------------------\n",
      "Primary Predicted Ethnicity: EUR with probability 0.9348\n",
      "Possible Admixture: SAS with probability 0.0347\n",
      "------------------------------\n",
      "Primary Predicted Ethnicity: EUR with probability 0.9561\n",
      "Possible Admixture: SAS with probability 0.0190\n",
      "------------------------------\n",
      "Primary Predicted Ethnicity: EUR with probability 0.8945\n",
      "Possible Admixture: SAS with probability 0.0619\n",
      "------------------------------\n",
      "Primary Predicted Ethnicity: EAS with probability 0.9593\n",
      "Possible Admixture: AMR with probability 0.0162\n",
      "------------------------------\n",
      "Primary Predicted Ethnicity: EAS with probability 0.9726\n",
      "Possible Admixture: AMR with probability 0.0106\n",
      "------------------------------\n",
      "Primary Predicted Ethnicity: EUR with probability 0.9828\n",
      "Possible Admixture: AMR with probability 0.0080\n",
      "------------------------------\n",
      "Primary Predicted Ethnicity: EUR with probability 0.9239\n",
      "Possible Admixture: SAS with probability 0.0382\n",
      "------------------------------\n",
      "Primary Predicted Ethnicity: EUR with probability 0.9777\n",
      "Possible Admixture: SAS with probability 0.0104\n",
      "------------------------------\n",
      "Primary Predicted Ethnicity: EUR with probability 0.9392\n",
      "Possible Admixture: SAS with probability 0.0262\n",
      "------------------------------\n",
      "Primary Predicted Ethnicity: EUR with probability 0.8841\n",
      "Possible Admixture: SAS with probability 0.0742\n",
      "------------------------------\n",
      "Primary Predicted Ethnicity: EUR with probability 0.8023\n",
      "Possible Admixture: SAS with probability 0.1630\n",
      "------------------------------\n",
      "Primary Predicted Ethnicity: AFR with probability 0.9876\n",
      "Possible Admixture: SAS with probability 0.0046\n",
      "------------------------------\n",
      "Primary Predicted Ethnicity: EUR with probability 0.8659\n",
      "Possible Admixture: SAS with probability 0.1044\n",
      "------------------------------\n",
      "Primary Predicted Ethnicity: EUR with probability 0.9469\n",
      "Possible Admixture: AMR with probability 0.0301\n",
      "------------------------------\n",
      "Primary Predicted Ethnicity: EAS with probability 0.9713\n",
      "Possible Admixture: AMR with probability 0.0136\n",
      "------------------------------\n",
      "Primary Predicted Ethnicity: EAS with probability 0.9726\n",
      "Possible Admixture: AMR with probability 0.0137\n",
      "------------------------------\n",
      "Primary Predicted Ethnicity: EAS with probability 0.9759\n",
      "Possible Admixture: AMR with probability 0.0111\n",
      "------------------------------\n",
      "Primary Predicted Ethnicity: EUR with probability 0.8864\n",
      "Possible Admixture: SAS with probability 0.0692\n",
      "------------------------------\n",
      "Primary Predicted Ethnicity: EUR with probability 0.5597\n",
      "Possible Admixture: AMR with probability 0.2555\n",
      "------------------------------\n",
      "Primary Predicted Ethnicity: EUR with probability 0.9527\n",
      "Possible Admixture: SAS with probability 0.0220\n",
      "------------------------------\n",
      "Primary Predicted Ethnicity: EUR with probability 0.9566\n",
      "Possible Admixture: SAS with probability 0.0222\n",
      "------------------------------\n",
      "Primary Predicted Ethnicity: EUR with probability 0.9678\n",
      "Possible Admixture: SAS with probability 0.0198\n",
      "------------------------------\n",
      "Primary Predicted Ethnicity: EUR with probability 0.9678\n",
      "Possible Admixture: AMR with probability 0.0133\n",
      "------------------------------\n",
      "Primary Predicted Ethnicity: EAS with probability 0.9786\n",
      "Possible Admixture: AMR with probability 0.0083\n",
      "------------------------------\n",
      "Primary Predicted Ethnicity: EAS with probability 0.9664\n",
      "Possible Admixture: AMR with probability 0.0142\n",
      "------------------------------\n",
      "Primary Predicted Ethnicity: EUR with probability 0.9624\n",
      "Possible Admixture: SAS with probability 0.0179\n",
      "------------------------------\n",
      "Primary Predicted Ethnicity: EUR with probability 0.9798\n",
      "Possible Admixture: AMR with probability 0.0071\n",
      "------------------------------\n",
      "Primary Predicted Ethnicity: EUR with probability 0.9356\n",
      "Possible Admixture: SAS with probability 0.0262\n",
      "------------------------------\n",
      "Primary Predicted Ethnicity: EUR with probability 0.6393\n",
      "Possible Admixture: SAS with probability 0.2747\n",
      "------------------------------\n",
      "Primary Predicted Ethnicity: EUR with probability 0.9236\n",
      "Possible Admixture: SAS with probability 0.0520\n",
      "------------------------------\n",
      "Primary Predicted Ethnicity: EUR with probability 0.4895\n",
      "Possible Admixture: SAS with probability 0.4028\n",
      "------------------------------\n",
      "Primary Predicted Ethnicity: EUR with probability 0.9437\n",
      "Possible Admixture: SAS with probability 0.0370\n",
      "------------------------------\n",
      "Primary Predicted Ethnicity: EUR with probability 0.9460\n",
      "Possible Admixture: SAS with probability 0.0319\n",
      "------------------------------\n",
      "Primary Predicted Ethnicity: EUR with probability 0.7981\n",
      "Possible Admixture: SAS with probability 0.1255\n",
      "------------------------------\n",
      "Primary Predicted Ethnicity: EAS with probability 0.9667\n",
      "Possible Admixture: AMR with probability 0.0133\n",
      "------------------------------\n",
      "Primary Predicted Ethnicity: EAS with probability 0.9710\n",
      "Possible Admixture: AMR with probability 0.0118\n",
      "------------------------------\n",
      "Primary Predicted Ethnicity: EAS with probability 0.9552\n",
      "Possible Admixture: AMR with probability 0.0204\n",
      "------------------------------\n",
      "Primary Predicted Ethnicity: EUR with probability 0.9743\n",
      "Possible Admixture: SAS with probability 0.0112\n",
      "------------------------------\n",
      "Primary Predicted Ethnicity: EUR with probability 0.9535\n",
      "Possible Admixture: SAS with probability 0.0225\n",
      "------------------------------\n",
      "Primary Predicted Ethnicity: EAS with probability 0.9654\n",
      "Possible Admixture: SAS with probability 0.0129\n",
      "------------------------------\n",
      "Primary Predicted Ethnicity: EAS with probability 0.9685\n",
      "Possible Admixture: AMR with probability 0.0153\n",
      "------------------------------\n",
      "Primary Predicted Ethnicity: EUR with probability 0.9663\n",
      "Possible Admixture: SAS with probability 0.0173\n",
      "------------------------------\n",
      "Primary Predicted Ethnicity: EUR with probability 0.8932\n",
      "Possible Admixture: SAS with probability 0.0675\n",
      "------------------------------\n",
      "Primary Predicted Ethnicity: EAS with probability 0.9672\n",
      "Possible Admixture: AMR with probability 0.0157\n",
      "------------------------------\n"
     ]
    }
   ],
   "source": [
    "y_predictions = []\n",
    "y1 = []\n",
    "y2 = []\n",
    "second_pred = []\n",
    "# Assuming y_test contains the true ethnicity labels for the test samples\n",
    "# y_test should be aligned with the indices of X_test\n",
    "\n",
    "# Train an SVM model with probability=True to enable probability predictions\n",
    "#svc = SVC(kernel='rbf', probability=True, random_state=42)\n",
    "#svc.fit(X_train, y_train)\n",
    "\n",
    "# Predict probabilities\n",
    "y_proba = loaded_svm_model.predict_proba(X_test_selected)\n",
    "\n",
    "\n",
    "# Predict probabilities using Random Forest\n",
    "\n",
    "\n",
    "# Iterate through each sample's probabilities and show the true ethnicity label\n",
    "for i, probs in enumerate(y_proba):\n",
    "    sorted_indices = probs.argsort()[::-1]  # Sort in descending order\n",
    "    top_1 = sorted_indices[0]  # Index of the primary ethnicity\n",
    "    top_2 = sorted_indices[1]  # Index of the second highest ethnicity (admixture likelihood)\n",
    "    \n",
    "    # Get the true ethnicity from y_test\n",
    "    #true_ethnicity = y_test[i]\n",
    "    \n",
    "    # Apply the rule: If primary ethnicity is EUR and prob < 0.60, and second highest is ASJ with prob > 0.30\n",
    "    if (clf.classes_[top_1] == 'EUR' and probs[top_1] < 0.50) and (clf.classes_[top_2] == 'ASJ' and probs[top_2] > 0.30):\n",
    "        predicted_ethnicity = 'ASJ'\n",
    "        #print('FREEZE')\n",
    "        #print(f\"Sample {i+1}: True Ethnicity: {true_ethnicity}\")\n",
    "        print(f\"Rule applied: Changed predicted ethnicity from EUR to ASJ\")\n",
    "    else:\n",
    "        predicted_ethnicity = clf.classes_[top_1]\n",
    "        #print(f\"Sample {i+1}: True Ethnicity: {true_ethnicity}\")\n",
    "        print(f\"Primary Predicted Ethnicity: {predicted_ethnicity} with probability {probs[top_1]:.4f}\")\n",
    "\n",
    "    print(f\"Possible Admixture: {clf.classes_[top_2]} with probability {probs[top_2]:.4f}\")\n",
    "    print(\"-\" * 30)\n",
    "    y_predictions.append(predicted_ethnicity)\n",
    "    y1.append(probs[top_1])\n",
    "    y2.append(probs[top_2])\n",
    "    second_pred.append(clf.classes_[top_2])"
   ]
  },
  {
   "cell_type": "code",
   "execution_count": 23,
   "id": "9772cedb",
   "metadata": {},
   "outputs": [
    {
     "data": {
      "text/plain": [
       "EUR    600\n",
       "EAS    141\n",
       "AFR     25\n",
       "SAS     21\n",
       "AMR      3\n",
       "Name: count, dtype: int64"
      ]
     },
     "execution_count": 23,
     "metadata": {},
     "output_type": "execute_result"
    }
   ],
   "source": [
    "pd.Series(y_predictions).value_counts()\n"
   ]
  },
  {
   "cell_type": "code",
   "execution_count": 24,
   "id": "e0aa99eb",
   "metadata": {},
   "outputs": [],
   "source": [
    "svm_preds = pd.DataFrame()\n",
    "svm_preds['Sample'] = master_df.columns\n",
    "svm_preds['Pred'] = y_predictions\n",
    "svm_preds['Primary_Perc'] = y1\n",
    "svm_preds['Second'] = second_pred\n",
    "svm_preds['Second_Perc'] = y2"
   ]
  },
  {
   "cell_type": "code",
   "execution_count": 25,
   "id": "333bbe82",
   "metadata": {},
   "outputs": [
    {
     "data": {
      "text/html": [
       "<div>\n",
       "<style scoped>\n",
       "    .dataframe tbody tr th:only-of-type {\n",
       "        vertical-align: middle;\n",
       "    }\n",
       "\n",
       "    .dataframe tbody tr th {\n",
       "        vertical-align: top;\n",
       "    }\n",
       "\n",
       "    .dataframe thead th {\n",
       "        text-align: right;\n",
       "    }\n",
       "</style>\n",
       "<table border=\"1\" class=\"dataframe\">\n",
       "  <thead>\n",
       "    <tr style=\"text-align: right;\">\n",
       "      <th></th>\n",
       "      <th>Sample</th>\n",
       "      <th>Pred</th>\n",
       "      <th>Primary_Perc</th>\n",
       "      <th>Second</th>\n",
       "      <th>Second_Perc</th>\n",
       "    </tr>\n",
       "  </thead>\n",
       "  <tbody>\n",
       "    <tr>\n",
       "      <th>359</th>\n",
       "      <td>C7256776</td>\n",
       "      <td>SAS</td>\n",
       "      <td>0.763564</td>\n",
       "      <td>AMR</td>\n",
       "      <td>0.103364</td>\n",
       "    </tr>\n",
       "  </tbody>\n",
       "</table>\n",
       "</div>"
      ],
      "text/plain": [
       "       Sample Pred  Primary_Perc Second  Second_Perc\n",
       "359  C7256776  SAS      0.763564    AMR     0.103364"
      ]
     },
     "execution_count": 25,
     "metadata": {},
     "output_type": "execute_result"
    }
   ],
   "source": [
    "svm_preds[svm_preds['Sample']=='C7256776']"
   ]
  },
  {
   "cell_type": "code",
   "execution_count": 29,
   "id": "99043cbb",
   "metadata": {},
   "outputs": [],
   "source": [
    "from sklearn.decomposition import PCA\n",
    "import matplotlib.pyplot as plt\n",
    "import seaborn as sns"
   ]
  },
  {
   "cell_type": "code",
   "execution_count": 60,
   "id": "a249e3ed",
   "metadata": {},
   "outputs": [],
   "source": [
    "#RERun with original PCA values - from all SNPS\n",
    "master_df = pd.read_csv('SNP_AIMS_Sample_SNP_array.csv',  index_col=0) "
   ]
  },
  {
   "cell_type": "code",
   "execution_count": 61,
   "id": "5e0f7d66",
   "metadata": {},
   "outputs": [],
   "source": [
    "\n",
    "# You can choose to use the original or binarized data\n",
    "# For example, if you want to use the binarized data:\n",
    "# master_df = master_df.applymap(lambda x: 1 if x == 2 else x)\n",
    "\n",
    "# Standardize the data (important for PCA)\n",
    "# If you have not already standardized it, you can do it as follows\n",
    "from sklearn.preprocessing import StandardScaler\n",
    "standardized_data = StandardScaler().fit_transform(master_df.T)\n",
    "\n",
    "# Perform PCA\n",
    "pca = PCA(n_components=2)  # Reduce to 2 dimensions for plotting\n",
    "principal_components = pca.fit_transform(standardized_data)\n",
    "\n",
    "# Create a DataFrame with the PCA results\n",
    "pca_df = pd.DataFrame(data=principal_components, columns=['PC1', 'PC2'], index=master_df.columns)\n"
   ]
  },
  {
   "cell_type": "code",
   "execution_count": 62,
   "id": "dcccdc2f",
   "metadata": {},
   "outputs": [],
   "source": [
    "\n",
    "preds_df = pd.read_csv('Broader_AIMS_predtictions.txt', sep ='\\t', index_col = 0)\n",
    "\n",
    "# Assuming preds_df and pca_df are already defined\n",
    "\n",
    "# Extract sample names by removing the \".sorted.bam.vcf\" or similar extensions\n",
    "preds_df['Sample'] = preds_df['VCF'].str.replace('.sorted.bam.vcf', '').str.replace('.vcf', '')\n"
   ]
  },
  {
   "cell_type": "code",
   "execution_count": 63,
   "id": "b95a439d",
   "metadata": {},
   "outputs": [
    {
     "data": {
      "text/plain": [
       "Index(['Sample', 'Pred', 'Primary_Perc', 'Second', 'Second_Perc'], dtype='object')"
      ]
     },
     "execution_count": 63,
     "metadata": {},
     "output_type": "execute_result"
    }
   ],
   "source": [
    "svm_preds.columns"
   ]
  },
  {
   "cell_type": "code",
   "execution_count": 64,
   "id": "d2d98c96",
   "metadata": {},
   "outputs": [],
   "source": [
    "#Import predictions\n",
    "#preds_df = pd.read_csv('Broader_AIMS_predtictions.txt', sep ='\\t', index_col = 0)\n",
    "\n",
    "# Assuming preds_df and pca_df are already defined\n",
    "\n",
    "# Extract sample names by removing the \".sorted.bam.vcf\" or similar extensions\n",
    "#preds_df['Sample'] = preds_df['VCF'].str.replace('.sorted.bam.vcf', '').str.replace('.vcf', '')\n",
    "\n",
    "\n",
    "# Set the index of pca_df to the sample names (if not already done)\n",
    "pca_df.index.name = 'Sample'\n",
    "pca_df.reset_index(inplace=True)\n",
    "\n",
    "# Merge the two DataFrames on the 'Sample' column\n",
    "merged_df = pd.merge(pca_df, svm_preds, on='Sample', how='left')\n",
    "\n",
    "\n",
    "\n"
   ]
  },
  {
   "cell_type": "code",
   "execution_count": 65,
   "id": "4c41c8fb",
   "metadata": {},
   "outputs": [],
   "source": [
    "#merged_df['PC1'] = merged_df['PC1'].map('{:.2g}'.format)\n",
    "#merged_df['PC2'] = merged_df['PC2'].map('{:.2g}'.format)"
   ]
  },
  {
   "cell_type": "code",
   "execution_count": 66,
   "id": "224a63b0",
   "metadata": {},
   "outputs": [],
   "source": [
    "merged_df['Primary_Perc'] = merged_df['Primary_Perc'].map('{:.2g}'.format)\n",
    "merged_df['Second_Perc'] = merged_df['Second_Perc'].map('{:.2g}'.format)"
   ]
  },
  {
   "cell_type": "code",
   "execution_count": 67,
   "id": "cabc06cb",
   "metadata": {},
   "outputs": [
    {
     "data": {
      "application/vnd.plotly.v1+json": {
       "config": {
        "plotlyServerURL": "https://plot.ly"
       },
       "data": [
        {
         "customdata": [
          [
           "C0000613",
           "EUR",
           "0.98",
           "SAS",
           "0.0081"
          ],
          [
           "C9392081",
           "EUR",
           "0.95",
           "AMR",
           "0.023"
          ],
          [
           "C3029371",
           "EUR",
           "0.98",
           "SAS",
           "0.0079"
          ],
          [
           "C9112331",
           "EUR",
           "0.95",
           "SAS",
           "0.022"
          ],
          [
           "C0102193",
           "EUR",
           "0.96",
           "AMR",
           "0.018"
          ],
          [
           "C9773006",
           "EUR",
           "0.78",
           "SAS",
           "0.16"
          ],
          [
           "C8439824",
           "EUR",
           "0.96",
           "SAS",
           "0.016"
          ],
          [
           "C8440070",
           "EUR",
           "0.95",
           "SAS",
           "0.022"
          ],
          [
           "C9544194",
           "EUR",
           "0.95",
           "AMR",
           "0.02"
          ],
          [
           "C0171053",
           "EUR",
           "0.94",
           "AMR",
           "0.033"
          ],
          [
           "C9373517",
           "EUR",
           "0.95",
           "AMR",
           "0.02"
          ],
          [
           "C0205079",
           "EUR",
           "0.97",
           "SAS",
           "0.017"
          ],
          [
           "C0716317",
           "EUR",
           "0.96",
           "SAS",
           "0.021"
          ],
          [
           "C9948864",
           "EUR",
           "0.98",
           "SAS",
           "0.0079"
          ],
          [
           "C7488119",
           "EUR",
           "0.94",
           "SAS",
           "0.032"
          ],
          [
           "C0697204",
           "EUR",
           "0.96",
           "SAS",
           "0.03"
          ],
          [
           "C9421850",
           "EUR",
           "0.94",
           "SAS",
           "0.029"
          ],
          [
           "C8992487",
           "EUR",
           "0.96",
           "AMR",
           "0.019"
          ],
          [
           "C0323527",
           "EUR",
           "0.92",
           "AMR",
           "0.04"
          ],
          [
           "C9404984",
           "EUR",
           "0.98",
           "AMR",
           "0.0077"
          ],
          [
           "C9143246",
           "EUR",
           "0.94",
           "SAS",
           "0.027"
          ],
          [
           "C0229254",
           "EUR",
           "0.96",
           "SAS",
           "0.023"
          ],
          [
           "C0814135",
           "EUR",
           "0.88",
           "SAS",
           "0.057"
          ],
          [
           "C8046245",
           "EUR",
           "0.97",
           "SAS",
           "0.014"
          ],
          [
           "C7719688_B",
           "EUR",
           "0.78",
           "SAS",
           "0.15"
          ],
          [
           "C7272482",
           "EUR",
           "0.97",
           "AMR",
           "0.011"
          ],
          [
           "C8719784",
           "EUR",
           "0.89",
           "SAS",
           "0.047"
          ],
          [
           "C7419040",
           "EUR",
           "0.89",
           "SAS",
           "0.075"
          ],
          [
           "C8028049",
           "EUR",
           "0.97",
           "SAS",
           "0.014"
          ],
          [
           "C9070830",
           "EUR",
           "0.97",
           "SAS",
           "0.013"
          ],
          [
           "C7515229",
           "EUR",
           "0.96",
           "SAS",
           "0.022"
          ],
          [
           "C8320957",
           "EUR",
           "0.92",
           "SAS",
           "0.051"
          ],
          [
           "C9504996",
           "EUR",
           "0.9",
           "SAS",
           "0.076"
          ],
          [
           "C7774321",
           "EUR",
           "0.94",
           "SAS",
           "0.03"
          ],
          [
           "C8973185",
           "EUR",
           "0.88",
           "SAS",
           "0.095"
          ],
          [
           "C9202805",
           "EUR",
           "0.9",
           "AMR",
           "0.042"
          ],
          [
           "C7922853",
           "EUR",
           "0.96",
           "SAS",
           "0.018"
          ],
          [
           "C1419921",
           "EUR",
           "0.94",
           "SAS",
           "0.037"
          ],
          [
           "C0080595",
           "EUR",
           "0.9",
           "SAS",
           "0.07"
          ],
          [
           "C7873931",
           "EUR",
           "0.96",
           "SAS",
           "0.019"
          ],
          [
           "C0305012",
           "EUR",
           "0.84",
           "SAS",
           "0.082"
          ],
          [
           "C9362525",
           "EUR",
           "0.95",
           "AMR",
           "0.02"
          ],
          [
           "C0968806",
           "EUR",
           "0.98",
           "SAS",
           "0.011"
          ],
          [
           "C9092574",
           "EUR",
           "0.82",
           "SAS",
           "0.12"
          ],
          [
           "C9783888",
           "EUR",
           "0.9",
           "SAS",
           "0.068"
          ],
          [
           "C5901838",
           "EUR",
           "0.64",
           "SAS",
           "0.27"
          ],
          [
           "C7037290",
           "EUR",
           "0.9",
           "SAS",
           "0.062"
          ],
          [
           "C8896744",
           "EUR",
           "0.9",
           "SAS",
           "0.054"
          ],
          [
           "C8566915",
           "EUR",
           "0.97",
           "SAS",
           "0.014"
          ],
          [
           "C9867144",
           "EUR",
           "0.93",
           "AMR",
           "0.031"
          ],
          [
           "C0506852",
           "EUR",
           "0.97",
           "SAS",
           "0.015"
          ],
          [
           "C9019427",
           "EUR",
           "0.97",
           "SAS",
           "0.0094"
          ],
          [
           "C0648474",
           "EUR",
           "0.91",
           "SAS",
           "0.064"
          ],
          [
           "C9551607",
           "EUR",
           "0.98",
           "AMR",
           "0.0086"
          ],
          [
           "C0915694",
           "EUR",
           "0.88",
           "SAS",
           "0.066"
          ],
          [
           "C7564617",
           "EUR",
           "0.87",
           "SAS",
           "0.09"
          ],
          [
           "C0869297",
           "EUR",
           "0.95",
           "SAS",
           "0.027"
          ],
          [
           "C8916507",
           "EUR",
           "0.97",
           "SAS",
           "0.013"
          ],
          [
           "C7899782",
           "EUR",
           "0.96",
           "AMR",
           "0.019"
          ],
          [
           "C5041438",
           "EUR",
           "0.95",
           "AMR",
           "0.019"
          ],
          [
           "C0971388",
           "EUR",
           "0.63",
           "SAS",
           "0.26"
          ],
          [
           "C7900996",
           "EUR",
           "0.8",
           "SAS",
           "0.092"
          ],
          [
           "C9950284",
           "EUR",
           "0.92",
           "SAS",
           "0.046"
          ],
          [
           "C8207616",
           "EUR",
           "0.93",
           "AMR",
           "0.032"
          ],
          [
           "C7775742",
           "EUR",
           "0.93",
           "SAS",
           "0.032"
          ],
          [
           "C8949385",
           "EUR",
           "0.96",
           "SAS",
           "0.019"
          ],
          [
           "C9830861",
           "EUR",
           "0.98",
           "AMR",
           "0.01"
          ],
          [
           "C7489236",
           "EUR",
           "0.9",
           "SAS",
           "0.065"
          ],
          [
           "C0745818",
           "EUR",
           "0.83",
           "SAS",
           "0.13"
          ],
          [
           "C0384466",
           "EUR",
           "0.95",
           "AMR",
           "0.03"
          ],
          [
           "C7854608",
           "EUR",
           "0.98",
           "SAS",
           "0.0071"
          ],
          [
           "C9271854",
           "EUR",
           "0.91",
           "AMR",
           "0.041"
          ],
          [
           "C9429553",
           "EUR",
           "0.94",
           "AMR",
           "0.029"
          ],
          [
           "C7812934",
           "EUR",
           "0.94",
           "AMR",
           "0.027"
          ],
          [
           "C8036290",
           "EUR",
           "0.88",
           "SAS",
           "0.052"
          ],
          [
           "C9963120",
           "EUR",
           "0.97",
           "SAS",
           "0.012"
          ],
          [
           "C9500443",
           "EUR",
           "0.92",
           "SAS",
           "0.049"
          ],
          [
           "C6657611",
           "EUR",
           "0.95",
           "SAS",
           "0.024"
          ],
          [
           "C8451371",
           "EUR",
           "0.83",
           "SAS",
           "0.13"
          ],
          [
           "C7214227",
           "EUR",
           "0.89",
           "SAS",
           "0.063"
          ],
          [
           "C7829444",
           "EUR",
           "0.86",
           "SAS",
           "0.097"
          ],
          [
           "C9181785",
           "EUR",
           "0.95",
           "AMR",
           "0.023"
          ],
          [
           "C9454614",
           "EUR",
           "0.6",
           "SAS",
           "0.28"
          ],
          [
           "C4013619",
           "EUR",
           "0.98",
           "AMR",
           "0.0077"
          ],
          [
           "C9173829",
           "EUR",
           "0.95",
           "AMR",
           "0.021"
          ],
          [
           "C0186076",
           "EUR",
           "0.97",
           "SAS",
           "0.016"
          ],
          [
           "C8360547",
           "EUR",
           "0.96",
           "SAS",
           "0.02"
          ],
          [
           "C9236526",
           "EUR",
           "0.95",
           "AMR",
           "0.023"
          ],
          [
           "C7343848",
           "EUR",
           "0.98",
           "AMR",
           "0.0081"
          ],
          [
           "C8900381",
           "EUR",
           "0.91",
           "SAS",
           "0.05"
          ],
          [
           "C9337436",
           "EUR",
           "0.85",
           "SAS",
           "0.094"
          ],
          [
           "C9281676",
           "EUR",
           "0.94",
           "AMR",
           "0.033"
          ],
          [
           "C8643849",
           "EUR",
           "0.96",
           "AMR",
           "0.016"
          ],
          [
           "C7724650",
           "EUR",
           "0.91",
           "SAS",
           "0.041"
          ],
          [
           "C0790760",
           "EUR",
           "0.88",
           "SAS",
           "0.057"
          ],
          [
           "C7555611",
           "EUR",
           "0.84",
           "SAS",
           "0.12"
          ],
          [
           "C8876110",
           "EUR",
           "0.94",
           "SAS",
           "0.033"
          ],
          [
           "C8716254",
           "EUR",
           "0.93",
           "AMR",
           "0.032"
          ],
          [
           "C7873494",
           "EUR",
           "0.97",
           "SAS",
           "0.014"
          ],
          [
           "C0982934",
           "EUR",
           "0.96",
           "AMR",
           "0.026"
          ],
          [
           "C5191909",
           "EUR",
           "0.84",
           "SAS",
           "0.12"
          ],
          [
           "C7355308",
           "EUR",
           "0.96",
           "SAS",
           "0.019"
          ],
          [
           "C5792284",
           "EUR",
           "0.85",
           "SAS",
           "0.095"
          ],
          [
           "C9834437",
           "EUR",
           "0.87",
           "AMR",
           "0.055"
          ],
          [
           "C5095437",
           "EUR",
           "0.6",
           "SAS",
           "0.33"
          ],
          [
           "C8124245",
           "EUR",
           "0.9",
           "SAS",
           "0.056"
          ],
          [
           "C7249530",
           "EUR",
           "0.85",
           "SAS",
           "0.11"
          ],
          [
           "C8297061",
           "EUR",
           "0.93",
           "AMR",
           "0.031"
          ],
          [
           "C9256776",
           "EUR",
           "0.97",
           "AMR",
           "0.013"
          ],
          [
           "C8170175",
           "EUR",
           "0.95",
           "SAS",
           "0.027"
          ],
          [
           "C0457844",
           "EUR",
           "0.93",
           "AMR",
           "0.028"
          ],
          [
           "C9395325",
           "EUR",
           "0.98",
           "SAS",
           "0.01"
          ],
          [
           "C9738079",
           "EUR",
           "0.91",
           "SAS",
           "0.052"
          ],
          [
           "C9343835",
           "EUR",
           "0.96",
           "AMR",
           "0.017"
          ],
          [
           "C0881093",
           "EUR",
           "0.95",
           "SAS",
           "0.023"
          ],
          [
           "C9348452",
           "EUR",
           "0.95",
           "AMR",
           "0.026"
          ],
          [
           "C0613900",
           "EUR",
           "0.88",
           "SAS",
           "0.083"
          ],
          [
           "C7466760",
           "EUR",
           "0.9",
           "SAS",
           "0.065"
          ],
          [
           "C0250005",
           "EUR",
           "0.93",
           "AMR",
           "0.044"
          ],
          [
           "C7563157",
           "EUR",
           "0.93",
           "SAS",
           "0.034"
          ],
          [
           "C7812195",
           "EUR",
           "0.97",
           "AMR",
           "0.012"
          ],
          [
           "C9137802",
           "EUR",
           "0.97",
           "SAS",
           "0.012"
          ],
          [
           "C9841936",
           "EUR",
           "0.95",
           "SAS",
           "0.026"
          ],
          [
           "C7626599",
           "EUR",
           "0.94",
           "SAS",
           "0.035"
          ],
          [
           "C8689064",
           "EUR",
           "0.96",
           "SAS",
           "0.018"
          ],
          [
           "C0801578",
           "EUR",
           "0.93",
           "SAS",
           "0.034"
          ],
          [
           "C8574255",
           "EUR",
           "0.92",
           "SAS",
           "0.044"
          ],
          [
           "C9899426",
           "EUR",
           "0.94",
           "SAS",
           "0.028"
          ],
          [
           "C0953478_B",
           "EUR",
           "0.95",
           "AMR",
           "0.02"
          ],
          [
           "C7753437",
           "EUR",
           "0.95",
           "SAS",
           "0.025"
          ],
          [
           "C7442839",
           "EUR",
           "0.98",
           "SAS",
           "0.0079"
          ],
          [
           "C9769468",
           "EUR",
           "0.95",
           "AMR",
           "0.028"
          ],
          [
           "C9149135",
           "EUR",
           "0.94",
           "SAS",
           "0.031"
          ],
          [
           "C8808071",
           "EUR",
           "0.94",
           "SAS",
           "0.033"
          ],
          [
           "C8584714",
           "EUR",
           "0.96",
           "SAS",
           "0.018"
          ],
          [
           "C9414358",
           "EUR",
           "0.48",
           "SAS",
           "0.25"
          ],
          [
           "C9015006_A",
           "EUR",
           "0.92",
           "SAS",
           "0.053"
          ],
          [
           "C0475692",
           "EUR",
           "0.95",
           "AMR",
           "0.028"
          ],
          [
           "C0810521",
           "EUR",
           "0.98",
           "AMR",
           "0.0083"
          ],
          [
           "C9333875",
           "EUR",
           "0.96",
           "AMR",
           "0.021"
          ],
          [
           "C0940211",
           "EUR",
           "0.98",
           "AMR",
           "0.0077"
          ],
          [
           "C9987132",
           "EUR",
           "0.92",
           "AMR",
           "0.033"
          ],
          [
           "C8021853",
           "EUR",
           "0.96",
           "SAS",
           "0.014"
          ],
          [
           "C8643073",
           "EUR",
           "0.93",
           "SAS",
           "0.04"
          ],
          [
           "C9332037",
           "EUR",
           "0.94",
           "SAS",
           "0.024"
          ],
          [
           "C0323438",
           "EUR",
           "0.98",
           "AMR",
           "0.01"
          ],
          [
           "C8790955",
           "EUR",
           "0.91",
           "SAS",
           "0.048"
          ],
          [
           "C9107796",
           "EUR",
           "0.94",
           "SAS",
           "0.023"
          ],
          [
           "C9146837",
           "EUR",
           "0.96",
           "SAS",
           "0.016"
          ],
          [
           "C5845278",
           "EUR",
           "0.91",
           "SAS",
           "0.044"
          ],
          [
           "C1268869",
           "EUR",
           "0.89",
           "SAS",
           "0.075"
          ],
          [
           "C9335055",
           "EUR",
           "0.97",
           "AMR",
           "0.013"
          ],
          [
           "C5095146",
           "EUR",
           "0.96",
           "SAS",
           "0.019"
          ],
          [
           "C0774765",
           "EUR",
           "0.93",
           "SAS",
           "0.029"
          ],
          [
           "C9353533",
           "EUR",
           "0.97",
           "SAS",
           "0.014"
          ],
          [
           "C5667839",
           "EUR",
           "0.97",
           "SAS",
           "0.014"
          ],
          [
           "C0220606",
           "EUR",
           "0.96",
           "SAS",
           "0.018"
          ],
          [
           "C7719688_A",
           "EUR",
           "0.78",
           "SAS",
           "0.15"
          ],
          [
           "C9065204",
           "EUR",
           "0.7",
           "SAS",
           "0.19"
          ],
          [
           "C9630977",
           "EUR",
           "0.92",
           "SAS",
           "0.046"
          ],
          [
           "C5975717",
           "EUR",
           "0.82",
           "SAS",
           "0.14"
          ],
          [
           "C8219205",
           "EUR",
           "0.89",
           "AMR",
           "0.06"
          ],
          [
           "C0815217",
           "EUR",
           "0.97",
           "AMR",
           "0.017"
          ],
          [
           "C8681671",
           "EUR",
           "0.96",
           "AMR",
           "0.017"
          ],
          [
           "C8478557",
           "EUR",
           "0.95",
           "SAS",
           "0.034"
          ],
          [
           "C7664882",
           "EUR",
           "0.96",
           "SAS",
           "0.013"
          ],
          [
           "C7731610",
           "EUR",
           "0.95",
           "SAS",
           "0.02"
          ],
          [
           "C9910955",
           "EUR",
           "0.86",
           "SAS",
           "0.088"
          ],
          [
           "C8770577",
           "EUR",
           "0.95",
           "AMR",
           "0.02"
          ],
          [
           "C9593509",
           "EUR",
           "0.96",
           "AMR",
           "0.018"
          ],
          [
           "C7575592",
           "EUR",
           "0.95",
           "AMR",
           "0.025"
          ],
          [
           "C9203538",
           "EUR",
           "0.93",
           "SAS",
           "0.054"
          ],
          [
           "C0175376",
           "EUR",
           "0.93",
           "SAS",
           "0.048"
          ],
          [
           "C9895193",
           "EUR",
           "0.95",
           "AMR",
           "0.022"
          ],
          [
           "C9287399",
           "EUR",
           "0.96",
           "AMR",
           "0.017"
          ],
          [
           "C9425592",
           "EUR",
           "0.91",
           "SAS",
           "0.058"
          ],
          [
           "C8048662",
           "EUR",
           "0.91",
           "SAS",
           "0.057"
          ],
          [
           "C7048024",
           "EUR",
           "0.96",
           "AMR",
           "0.016"
          ],
          [
           "C7244188",
           "EUR",
           "0.95",
           "SAS",
           "0.026"
          ],
          [
           "C9787294",
           "EUR",
           "0.95",
           "AMR",
           "0.019"
          ],
          [
           "C1099243",
           "EUR",
           "0.79",
           "SAS",
           "0.084"
          ],
          [
           "C7931543",
           "EUR",
           "0.94",
           "SAS",
           "0.028"
          ],
          [
           "C5211557",
           "EUR",
           "0.75",
           "SAS",
           "0.21"
          ],
          [
           "C9960311",
           "EUR",
           "0.92",
           "AMR",
           "0.047"
          ],
          [
           "C8897927",
           "EUR",
           "0.87",
           "SAS",
           "0.077"
          ],
          [
           "C7989630",
           "EUR",
           "0.93",
           "AMR",
           "0.036"
          ],
          [
           "C0047775",
           "EUR",
           "0.91",
           "AMR",
           "0.044"
          ],
          [
           "C9237364",
           "EUR",
           "0.87",
           "SAS",
           "0.1"
          ],
          [
           "C8615941",
           "EUR",
           "0.84",
           "SAS",
           "0.095"
          ],
          [
           "C7392071",
           "EUR",
           "0.98",
           "AMR",
           "0.0096"
          ],
          [
           "C7560532",
           "EUR",
           "0.97",
           "SAS",
           "0.013"
          ],
          [
           "C8461665",
           "EUR",
           "0.9",
           "SAS",
           "0.065"
          ],
          [
           "C0776135",
           "EUR",
           "0.97",
           "SAS",
           "0.021"
          ],
          [
           "C0125692",
           "EUR",
           "0.98",
           "AMR",
           "0.011"
          ],
          [
           "C9100987",
           "EUR",
           "0.95",
           "SAS",
           "0.02"
          ],
          [
           "C5256485",
           "EUR",
           "0.51",
           "SAS",
           "0.41"
          ],
          [
           "C6281807",
           "EUR",
           "0.94",
           "SAS",
           "0.029"
          ],
          [
           "C0551561",
           "EUR",
           "0.96",
           "SAS",
           "0.023"
          ],
          [
           "C9172258",
           "EUR",
           "0.96",
           "SAS",
           "0.019"
          ],
          [
           "C7900292",
           "EUR",
           "0.97",
           "SAS",
           "0.012"
          ],
          [
           "C7580286",
           "EUR",
           "0.95",
           "SAS",
           "0.034"
          ],
          [
           "C7128050",
           "EUR",
           "0.94",
           "SAS",
           "0.029"
          ],
          [
           "C0973809",
           "EUR",
           "0.95",
           "AMR",
           "0.021"
          ],
          [
           "C7425462",
           "EUR",
           "0.98",
           "AMR",
           "0.011"
          ],
          [
           "C9761272",
           "EUR",
           "0.87",
           "SAS",
           "0.089"
          ],
          [
           "C9738061",
           "EUR",
           "0.96",
           "SAS",
           "0.017"
          ],
          [
           "C9697066",
           "EUR",
           "0.9",
           "SAS",
           "0.056"
          ],
          [
           "C5599062",
           "EUR",
           "0.87",
           "SAS",
           "0.091"
          ],
          [
           "C0478009",
           "EUR",
           "0.91",
           "SAS",
           "0.053"
          ],
          [
           "C9835618",
           "EUR",
           "0.97",
           "AMR",
           "0.015"
          ],
          [
           "C9518874",
           "EUR",
           "0.92",
           "SAS",
           "0.049"
          ],
          [
           "C7405020",
           "EUR",
           "0.96",
           "SAS",
           "0.019"
          ],
          [
           "C8761613",
           "EUR",
           "0.96",
           "SAS",
           "0.019"
          ],
          [
           "C8985793",
           "EUR",
           "0.95",
           "AMR",
           "0.025"
          ],
          [
           "C0737742",
           "EUR",
           "0.96",
           "SAS",
           "0.019"
          ],
          [
           "C5942862",
           "EUR",
           "0.87",
           "SAS",
           "0.08"
          ],
          [
           "C8319806",
           "EUR",
           "0.94",
           "AMR",
           "0.035"
          ],
          [
           "C8896162",
           "EUR",
           "0.94",
           "SAS",
           "0.039"
          ],
          [
           "C8363284",
           "EUR",
           "0.59",
           "SAS",
           "0.22"
          ],
          [
           "C0301621",
           "EUR",
           "0.98",
           "SAS",
           "0.013"
          ],
          [
           "C8246413",
           "EUR",
           "0.73",
           "SAS",
           "0.11"
          ],
          [
           "C0747818",
           "EUR",
           "0.95",
           "SAS",
           "0.019"
          ],
          [
           "C8193518",
           "EUR",
           "0.96",
           "SAS",
           "0.023"
          ],
          [
           "C8704315",
           "EUR",
           "0.9",
           "SAS",
           "0.068"
          ],
          [
           "C9749291",
           "EUR",
           "0.75",
           "SAS",
           "0.16"
          ],
          [
           "C7893181",
           "EUR",
           "0.9",
           "AMR",
           "0.047"
          ],
          [
           "C9588598",
           "EUR",
           "0.93",
           "SAS",
           "0.045"
          ],
          [
           "C9767055",
           "EUR",
           "0.97",
           "SAS",
           "0.0098"
          ],
          [
           "C9696497",
           "EUR",
           "0.94",
           "SAS",
           "0.031"
          ],
          [
           "C6061051",
           "EUR",
           "0.94",
           "AMR",
           "0.034"
          ],
          [
           "C9249260",
           "EUR",
           "0.89",
           "SAS",
           "0.069"
          ],
          [
           "C8801527",
           "EUR",
           "0.48",
           "SAS",
           "0.38"
          ],
          [
           "C7952024",
           "EUR",
           "0.91",
           "SAS",
           "0.043"
          ],
          [
           "C0310438",
           "EUR",
           "0.97",
           "SAS",
           "0.013"
          ],
          [
           "C9145166",
           "EUR",
           "0.96",
           "SAS",
           "0.014"
          ],
          [
           "C8596930",
           "EUR",
           "0.89",
           "SAS",
           "0.069"
          ],
          [
           "C0898730",
           "EUR",
           "0.91",
           "AMR",
           "0.04"
          ],
          [
           "C9806608",
           "EUR",
           "0.95",
           "SAS",
           "0.024"
          ],
          [
           "C8810404",
           "EUR",
           "0.96",
           "SAS",
           "0.02"
          ],
          [
           "C8219541",
           "EUR",
           "0.95",
           "AMR",
           "0.02"
          ],
          [
           "C7952533",
           "EUR",
           "0.96",
           "AMR",
           "0.014"
          ],
          [
           "C7964148",
           "EUR",
           "0.97",
           "SAS",
           "0.01"
          ],
          [
           "C8651159",
           "EUR",
           "0.94",
           "SAS",
           "0.034"
          ],
          [
           "C7486770",
           "EUR",
           "0.63",
           "SAS",
           "0.22"
          ],
          [
           "C8495592",
           "EUR",
           "0.98",
           "AMR",
           "0.0046"
          ],
          [
           "C0813775",
           "EUR",
           "0.94",
           "SAS",
           "0.036"
          ],
          [
           "C9608162",
           "EUR",
           "0.97",
           "SAS",
           "0.013"
          ],
          [
           "C8865309",
           "EUR",
           "0.96",
           "SAS",
           "0.024"
          ],
          [
           "C8358629",
           "EUR",
           "0.93",
           "SAS",
           "0.036"
          ],
          [
           "C9829444",
           "EUR",
           "0.86",
           "SAS",
           "0.096"
          ],
          [
           "C9155285",
           "EUR",
           "0.97",
           "AMR",
           "0.01"
          ],
          [
           "C0996531",
           "EUR",
           "0.94",
           "SAS",
           "0.035"
          ],
          [
           "C0282724",
           "EUR",
           "0.48",
           "SAS",
           "0.38"
          ],
          [
           "C0921762",
           "EUR",
           "0.92",
           "AMR",
           "0.033"
          ],
          [
           "C8659108",
           "EUR",
           "0.97",
           "SAS",
           "0.015"
          ],
          [
           "C7259165",
           "EUR",
           "0.96",
           "AMR",
           "0.018"
          ],
          [
           "C9830781",
           "EUR",
           "0.98",
           "SAS",
           "0.0072"
          ],
          [
           "C0536477",
           "EUR",
           "0.94",
           "SAS",
           "0.035"
          ],
          [
           "C8192476",
           "EUR",
           "0.96",
           "SAS",
           "0.025"
          ],
          [
           "C7769468",
           "EUR",
           "0.92",
           "SAS",
           "0.056"
          ],
          [
           "C3802976",
           "EUR",
           "0.89",
           "SAS",
           "0.058"
          ],
          [
           "C9634772",
           "EUR",
           "0.92",
           "SAS",
           "0.038"
          ],
          [
           "C8335523",
           "EUR",
           "0.93",
           "AMR",
           "0.033"
          ],
          [
           "C7991356",
           "EUR",
           "0.79",
           "SAS",
           "0.13"
          ],
          [
           "C9796515",
           "EUR",
           "0.97",
           "SAS",
           "0.013"
          ],
          [
           "C7777597",
           "EUR",
           "0.97",
           "SAS",
           "0.014"
          ],
          [
           "C9473340",
           "EUR",
           "0.97",
           "AMR",
           "0.012"
          ],
          [
           "C9015006_B",
           "EUR",
           "0.92",
           "SAS",
           "0.051"
          ],
          [
           "C8506441",
           "EUR",
           "0.93",
           "SAS",
           "0.031"
          ],
          [
           "C7557432",
           "EUR",
           "0.96",
           "SAS",
           "0.015"
          ],
          [
           "C0954932",
           "EUR",
           "0.97",
           "AMR",
           "0.015"
          ],
          [
           "C8736037",
           "EUR",
           "0.98",
           "AMR",
           "0.0078"
          ],
          [
           "C8040854",
           "EUR",
           "0.94",
           "SAS",
           "0.038"
          ],
          [
           "C7860973",
           "EUR",
           "0.94",
           "AMR",
           "0.03"
          ],
          [
           "C8278819",
           "EUR",
           "0.93",
           "SAS",
           "0.03"
          ],
          [
           "C8644106",
           "EUR",
           "0.87",
           "SAS",
           "0.094"
          ],
          [
           "C8681860",
           "EUR",
           "0.87",
           "SAS",
           "0.09"
          ],
          [
           "C8519536",
           "EUR",
           "0.93",
           "AMR",
           "0.046"
          ],
          [
           "C8938114",
           "EUR",
           "0.89",
           "AMR",
           "0.069"
          ],
          [
           "C7163669",
           "EUR",
           "0.94",
           "AMR",
           "0.027"
          ],
          [
           "C0953478_A",
           "EUR",
           "0.95",
           "AMR",
           "0.02"
          ],
          [
           "C8319450",
           "EUR",
           "0.84",
           "SAS",
           "0.12"
          ],
          [
           "C7375657",
           "EUR",
           "0.97",
           "AMR",
           "0.014"
          ],
          [
           "C7161606",
           "EUR",
           "0.93",
           "AMR",
           "0.034"
          ],
          [
           "C8397582",
           "EUR",
           "0.95",
           "SAS",
           "0.026"
          ],
          [
           "C0084844",
           "EUR",
           "0.82",
           "SAS",
           "0.13"
          ],
          [
           "C0755223",
           "EUR",
           "0.95",
           "SAS",
           "0.031"
          ],
          [
           "C7759848",
           "EUR",
           "0.46",
           "SAS",
           "0.45"
          ],
          [
           "C8713498",
           "EUR",
           "0.86",
           "SAS",
           "0.099"
          ],
          [
           "C7899426",
           "EUR",
           "0.89",
           "SAS",
           "0.064"
          ],
          [
           "C8876593",
           "EUR",
           "0.95",
           "SAS",
           "0.027"
          ],
          [
           "C7564817",
           "EUR",
           "0.98",
           "AMR",
           "0.0084"
          ],
          [
           "C9664685",
           "EUR",
           "0.91",
           "SAS",
           "0.04"
          ],
          [
           "C7069181",
           "EUR",
           "0.92",
           "SAS",
           "0.047"
          ],
          [
           "C8257777",
           "EUR",
           "0.97",
           "AMR",
           "0.014"
          ],
          [
           "C0773447",
           "EUR",
           "0.95",
           "SAS",
           "0.029"
          ],
          [
           "C8451688",
           "EUR",
           "0.97",
           "AMR",
           "0.014"
          ],
          [
           "C9186995",
           "EUR",
           "0.96",
           "SAS",
           "0.015"
          ],
          [
           "C9931298",
           "EUR",
           "0.97",
           "SAS",
           "0.014"
          ],
          [
           "C8488109",
           "EUR",
           "0.84",
           "SAS",
           "0.11"
          ],
          [
           "C8450746",
           "EUR",
           "0.95",
           "AMR",
           "0.02"
          ],
          [
           "C7770397",
           "EUR",
           "0.94",
           "SAS",
           "0.025"
          ],
          [
           "C5343848",
           "EUR",
           "0.82",
           "SAS",
           "0.13"
          ],
          [
           "C9766496",
           "EUR",
           "0.97",
           "AMR",
           "0.015"
          ],
          [
           "C0770246",
           "EUR",
           "0.95",
           "AMR",
           "0.023"
          ],
          [
           "C0462055",
           "EUR",
           "0.96",
           "AMR",
           "0.016"
          ],
          [
           "C8614148",
           "EUR",
           "0.9",
           "AMR",
           "0.062"
          ],
          [
           "C7861169",
           "EUR",
           "0.96",
           "AMR",
           "0.017"
          ],
          [
           "C8194455",
           "EUR",
           "0.96",
           "AMR",
           "0.016"
          ],
          [
           "C6514151",
           "EUR",
           "0.93",
           "SAS",
           "0.046"
          ],
          [
           "C9594960",
           "EUR",
           "0.86",
           "SAS",
           "0.091"
          ],
          [
           "C8240437",
           "EUR",
           "0.95",
           "SAS",
           "0.029"
          ],
          [
           "C0291197",
           "EUR",
           "0.94",
           "SAS",
           "0.032"
          ],
          [
           "C7051331",
           "EUR",
           "0.95",
           "SAS",
           "0.029"
          ],
          [
           "C0365146",
           "EUR",
           "0.49",
           "SAS",
           "0.35"
          ],
          [
           "C0047921",
           "EUR",
           "0.89",
           "SAS",
           "0.08"
          ],
          [
           "C7728583",
           "EUR",
           "0.85",
           "SAS",
           "0.09"
          ],
          [
           "C9264845",
           "EUR",
           "0.94",
           "SAS",
           "0.037"
          ],
          [
           "C0606661",
           "EUR",
           "0.97",
           "AMR",
           "0.014"
          ],
          [
           "C5526923",
           "EUR",
           "0.86",
           "SAS",
           "0.097"
          ],
          [
           "C9693293",
           "EUR",
           "0.96",
           "SAS",
           "0.019"
          ],
          [
           "C0589344",
           "EUR",
           "0.93",
           "SAS",
           "0.031"
          ],
          [
           "C8587599",
           "EUR",
           "0.96",
           "AMR",
           "0.017"
          ],
          [
           "C3302744",
           "EUR",
           "0.98",
           "AMR",
           "0.011"
          ],
          [
           "C9366500",
           "EUR",
           "0.65",
           "SAS",
           "0.25"
          ],
          [
           "C7606723",
           "EUR",
           "0.96",
           "SAS",
           "0.019"
          ],
          [
           "C7670382",
           "EUR",
           "0.95",
           "SAS",
           "0.026"
          ],
          [
           "C9840031",
           "EUR",
           "0.93",
           "SAS",
           "0.04"
          ],
          [
           "C9352656",
           "EUR",
           "0.96",
           "AMR",
           "0.016"
          ],
          [
           "C8489869",
           "EUR",
           "0.97",
           "AMR",
           "0.013"
          ],
          [
           "C9926912",
           "EUR",
           "0.96",
           "AMR",
           "0.018"
          ],
          [
           "C7574693",
           "EUR",
           "0.95",
           "SAS",
           "0.029"
          ],
          [
           "C8081097",
           "EUR",
           "0.97",
           "SAS",
           "0.011"
          ],
          [
           "C0549991",
           "EUR",
           "0.95",
           "AMR",
           "0.021"
          ],
          [
           "C8740455",
           "EUR",
           "0.96",
           "AMR",
           "0.015"
          ],
          [
           "C8219585",
           "EUR",
           "0.92",
           "SAS",
           "0.046"
          ],
          [
           "C0661301",
           "EUR",
           "0.97",
           "SAS",
           "0.011"
          ],
          [
           "C0539635",
           "EUR",
           "0.89",
           "SAS",
           "0.082"
          ],
          [
           "C0430692",
           "EUR",
           "0.96",
           "AMR",
           "0.018"
          ],
          [
           "C7075995",
           "EUR",
           "0.85",
           "SAS",
           "0.085"
          ],
          [
           "C9539446",
           "EUR",
           "0.97",
           "SAS",
           "0.013"
          ],
          [
           "C7558702",
           "EUR",
           "0.95",
           "AMR",
           "0.023"
          ],
          [
           "C8205925",
           "EUR",
           "0.93",
           "SAS",
           "0.044"
          ],
          [
           "C7337466",
           "EUR",
           "0.83",
           "SAS",
           "0.11"
          ],
          [
           "C7725618",
           "EUR",
           "0.89",
           "SAS",
           "0.064"
          ],
          [
           "C9328025_A",
           "EUR",
           "0.94",
           "SAS",
           "0.037"
          ],
          [
           "C9845989",
           "EUR",
           "0.95",
           "SAS",
           "0.023"
          ],
          [
           "C0490359",
           "EUR",
           "0.98",
           "SAS",
           "0.0095"
          ],
          [
           "C7934589",
           "EUR",
           "0.91",
           "SAS",
           "0.039"
          ],
          [
           "C8284466",
           "EUR",
           "0.98",
           "AMR",
           "0.01"
          ],
          [
           "C0323408",
           "EUR",
           "0.97",
           "SAS",
           "0.012"
          ],
          [
           "C9046772",
           "EUR",
           "0.86",
           "SAS",
           "0.1"
          ],
          [
           "C9164503",
           "EUR",
           "0.72",
           "AMR",
           "0.14"
          ],
          [
           "C8237107",
           "EUR",
           "0.93",
           "SAS",
           "0.036"
          ],
          [
           "C5044638",
           "EUR",
           "0.77",
           "SAS",
           "0.19"
          ],
          [
           "C0796853",
           "EUR",
           "0.97",
           "SAS",
           "0.015"
          ],
          [
           "C9289426",
           "EUR",
           "0.88",
           "SAS",
           "0.059"
          ],
          [
           "C5156906",
           "EUR",
           "0.95",
           "SAS",
           "0.026"
          ],
          [
           "C9880838",
           "EUR",
           "0.93",
           "SAS",
           "0.038"
          ],
          [
           "C9422879",
           "EUR",
           "0.96",
           "SAS",
           "0.024"
          ],
          [
           "C7551958",
           "EUR",
           "0.94",
           "SAS",
           "0.028"
          ],
          [
           "C8798010",
           "EUR",
           "0.96",
           "AMR",
           "0.021"
          ],
          [
           "C0407432",
           "EUR",
           "0.9",
           "SAS",
           "0.05"
          ],
          [
           "C9694140",
           "EUR",
           "0.92",
           "SAS",
           "0.037"
          ],
          [
           "C7531167",
           "EUR",
           "0.94",
           "AMR",
           "0.029"
          ],
          [
           "C0681808",
           "EUR",
           "0.96",
           "SAS",
           "0.019"
          ],
          [
           "C8584739",
           "EUR",
           "0.94",
           "SAS",
           "0.033"
          ],
          [
           "C9465585",
           "EUR",
           "0.96",
           "SAS",
           "0.015"
          ],
          [
           "C8191615",
           "EUR",
           "0.98",
           "AMR",
           "0.0069"
          ],
          [
           "C0241248",
           "EUR",
           "0.98",
           "SAS",
           "0.0078"
          ],
          [
           "C9906189",
           "EUR",
           "0.94",
           "SAS",
           "0.027"
          ],
          [
           "C9723763",
           "EUR",
           "0.87",
           "SAS",
           "0.098"
          ],
          [
           "C5466760",
           "EUR",
           "0.77",
           "SAS",
           "0.16"
          ],
          [
           "C7138975",
           "EUR",
           "0.94",
           "SAS",
           "0.025"
          ],
          [
           "C7307187",
           "EUR",
           "0.96",
           "SAS",
           "0.021"
          ],
          [
           "C9549733",
           "EUR",
           "0.93",
           "SAS",
           "0.043"
          ],
          [
           "C8173027",
           "EUR",
           "0.95",
           "SAS",
           "0.033"
          ],
          [
           "C8431940",
           "EUR",
           "0.94",
           "AMR",
           "0.028"
          ],
          [
           "C9622975",
           "EUR",
           "0.89",
           "SAS",
           "0.064"
          ],
          [
           "C1536424",
           "EUR",
           "0.97",
           "SAS",
           "0.014"
          ],
          [
           "C9023035",
           "EUR",
           "0.62",
           "SAS",
           "0.27"
          ],
          [
           "C7112454",
           "EUR",
           "0.92",
           "SAS",
           "0.04"
          ],
          [
           "C7191909",
           "EUR",
           "0.9",
           "SAS",
           "0.052"
          ],
          [
           "C7095437",
           "EUR",
           "0.92",
           "SAS",
           "0.035"
          ],
          [
           "C7792284",
           "EUR",
           "0.9",
           "SAS",
           "0.046"
          ],
          [
           "C7873287",
           "EUR",
           "0.94",
           "SAS",
           "0.029"
          ],
          [
           "C9214677",
           "EUR",
           "0.96",
           "SAS",
           "0.026"
          ],
          [
           "C9728571",
           "EUR",
           "0.97",
           "SAS",
           "0.0092"
          ],
          [
           "C8885328",
           "EUR",
           "0.94",
           "SAS",
           "0.041"
          ],
          [
           "C7851117",
           "EUR",
           "0.96",
           "AMR",
           "0.02"
          ],
          [
           "C8981077",
           "EUR",
           "0.97",
           "SAS",
           "0.012"
          ],
          [
           "C8614179_A",
           "EUR",
           "0.96",
           "SAS",
           "0.019"
          ],
          [
           "C0286319",
           "EUR",
           "0.98",
           "AMR",
           "0.0099"
          ],
          [
           "C7900189",
           "EUR",
           "0.94",
           "SAS",
           "0.028"
          ],
          [
           "C0388329",
           "EUR",
           "0.93",
           "SAS",
           "0.046"
          ],
          [
           "C7596902",
           "EUR",
           "0.96",
           "AMR",
           "0.019"
          ],
          [
           "C7860321",
           "EUR",
           "0.97",
           "SAS",
           "0.013"
          ],
          [
           "C8016613",
           "EUR",
           "0.95",
           "AMR",
           "0.026"
          ],
          [
           "C8921704",
           "EUR",
           "0.92",
           "AMR",
           "0.035"
          ],
          [
           "C0987880",
           "EUR",
           "0.88",
           "SAS",
           "0.082"
          ],
          [
           "C9985402",
           "EUR",
           "0.95",
           "SAS",
           "0.023"
          ],
          [
           "C9494205",
           "EUR",
           "0.81",
           "SAS",
           "0.12"
          ],
          [
           "C7800831",
           "EUR",
           "0.95",
           "SAS",
           "0.04"
          ],
          [
           "C8298170",
           "EUR",
           "0.93",
           "AMR",
           "0.029"
          ],
          [
           "C9525049",
           "EUR",
           "0.93",
           "SAS",
           "0.041"
          ],
          [
           "C9446681",
           "EUR",
           "0.57",
           "SAS",
           "0.34"
          ],
          [
           "C7774127",
           "EUR",
           "0.85",
           "SAS",
           "0.089"
          ],
          [
           "C0450044",
           "EUR",
           "0.98",
           "AMR",
           "0.0084"
          ],
          [
           "C8868365",
           "EUR",
           "0.93",
           "SAS",
           "0.034"
          ],
          [
           "C8395884",
           "EUR",
           "0.98",
           "AMR",
           "0.0095"
          ],
          [
           "C8574156",
           "EUR",
           "0.98",
           "AMR",
           "0.009"
          ],
          [
           "C8120972",
           "EUR",
           "0.98",
           "AMR",
           "0.009"
          ],
          [
           "C7556646",
           "EUR",
           "0.95",
           "SAS",
           "0.024"
          ],
          [
           "C9675388",
           "EUR",
           "0.95",
           "SAS",
           "0.029"
          ],
          [
           "C9882335",
           "EUR",
           "0.95",
           "AMR",
           "0.024"
          ],
          [
           "C8108376",
           "EUR",
           "0.95",
           "AMR",
           "0.022"
          ],
          [
           "C9211784",
           "EUR",
           "0.94",
           "SAS",
           "0.029"
          ],
          [
           "C0090573",
           "EUR",
           "0.94",
           "SAS",
           "0.035"
          ],
          [
           "C0905309",
           "EUR",
           "0.95",
           "SAS",
           "0.028"
          ],
          [
           "C1721225",
           "EUR",
           "0.93",
           "SAS",
           "0.047"
          ],
          [
           "C5222088",
           "EUR",
           "0.85",
           "SAS",
           "0.11"
          ],
          [
           "C9322275",
           "EUR",
           "0.94",
           "SAS",
           "0.025"
          ],
          [
           "C9939770",
           "EUR",
           "0.95",
           "SAS",
           "0.029"
          ],
          [
           "C9174984",
           "EUR",
           "0.87",
           "AMR",
           "0.062"
          ],
          [
           "C7696137",
           "EUR",
           "0.94",
           "SAS",
           "0.025"
          ],
          [
           "C5775742",
           "EUR",
           "0.89",
           "SAS",
           "0.063"
          ],
          [
           "C9210292",
           "EUR",
           "0.89",
           "SAS",
           "0.052"
          ],
          [
           "C7674803",
           "EUR",
           "0.93",
           "SAS",
           "0.039"
          ],
          [
           "C9563106",
           "EUR",
           "0.8",
           "SAS",
           "0.13"
          ],
          [
           "C8328750",
           "EUR",
           "0.95",
           "SAS",
           "0.022"
          ],
          [
           "C9842667",
           "EUR",
           "0.96",
           "SAS",
           "0.018"
          ],
          [
           "C8334012",
           "EUR",
           "0.96",
           "SAS",
           "0.023"
          ],
          [
           "C7364484",
           "EUR",
           "0.92",
           "SAS",
           "0.049"
          ],
          [
           "C8190455",
           "EUR",
           "0.88",
           "SAS",
           "0.077"
          ],
          [
           "C5037290",
           "EUR",
           "0.85",
           "SAS",
           "0.074"
          ],
          [
           "C0789756",
           "EUR",
           "0.89",
           "SAS",
           "0.063"
          ],
          [
           "C0808631",
           "EUR",
           "0.95",
           "AMR",
           "0.017"
          ],
          [
           "C4566059",
           "EUR",
           "0.88",
           "SAS",
           "0.089"
          ],
          [
           "C0403428",
           "EUR",
           "0.83",
           "SAS",
           "0.11"
          ],
          [
           "C7241422",
           "EUR",
           "0.66",
           "SAS",
           "0.3"
          ],
          [
           "C7352172",
           "EUR",
           "0.89",
           "SAS",
           "0.089"
          ],
          [
           "C7862755",
           "EUR",
           "0.89",
           "SAS",
           "0.069"
          ],
          [
           "C7796034",
           "EUR",
           "0.94",
           "SAS",
           "0.039"
          ],
          [
           "C8059802",
           "EUR",
           "0.97",
           "AMR",
           "0.013"
          ],
          [
           "C9853013",
           "EUR",
           "0.86",
           "SAS",
           "0.11"
          ],
          [
           "C7978591",
           "EUR",
           "0.94",
           "SAS",
           "0.043"
          ],
          [
           "C9609040",
           "EUR",
           "0.96",
           "SAS",
           "0.017"
          ],
          [
           "C0403611",
           "EUR",
           "0.95",
           "AMR",
           "0.024"
          ],
          [
           "C5922853",
           "EUR",
           "0.84",
           "SAS",
           "0.096"
          ],
          [
           "C0608848",
           "EUR",
           "0.85",
           "SAS",
           "0.11"
          ],
          [
           "C8417670",
           "EUR",
           "0.93",
           "SAS",
           "0.045"
          ],
          [
           "C4261455",
           "EUR",
           "0.88",
           "SAS",
           "0.064"
          ],
          [
           "C8359371",
           "EUR",
           "0.95",
           "SAS",
           "0.034"
          ],
          [
           "C0445352",
           "EUR",
           "0.98",
           "AMR",
           "0.0074"
          ],
          [
           "C9498593",
           "EUR",
           "0.89",
           "SAS",
           "0.06"
          ],
          [
           "C8164464",
           "EUR",
           "0.98",
           "AMR",
           "0.0092"
          ],
          [
           "C8246802",
           "EUR",
           "0.96",
           "SAS",
           "0.022"
          ],
          [
           "C7755859",
           "EUR",
           "0.94",
           "SAS",
           "0.04"
          ],
          [
           "C0257429",
           "EUR",
           "0.86",
           "SAS",
           "0.066"
          ],
          [
           "C9901595",
           "EUR",
           "0.94",
           "SAS",
           "0.024"
          ],
          [
           "C8387101",
           "EUR",
           "0.92",
           "SAS",
           "0.051"
          ],
          [
           "C9708363",
           "EUR",
           "0.92",
           "SAS",
           "0.054"
          ],
          [
           "C8240661",
           "EUR",
           "0.97",
           "AMR",
           "0.011"
          ],
          [
           "C7975607",
           "EUR",
           "0.94",
           "SAS",
           "0.026"
          ],
          [
           "C9861169",
           "EUR",
           "0.89",
           "SAS",
           "0.061"
          ],
          [
           "C8070392",
           "EUR",
           "0.97",
           "SAS",
           "0.012"
          ],
          [
           "C0252881",
           "EUR",
           "0.88",
           "SAS",
           "0.094"
          ],
          [
           "C0987688",
           "EUR",
           "0.86",
           "SAS",
           "0.11"
          ],
          [
           "C7242024",
           "EUR",
           "0.97",
           "SAS",
           "0.012"
          ],
          [
           "C7292533",
           "EUR",
           "0.97",
           "AMR",
           "0.016"
          ],
          [
           "C7400164",
           "EUR",
           "0.91",
           "SAS",
           "0.065"
          ],
          [
           "C9692034",
           "EUR",
           "0.97",
           "AMR",
           "0.014"
          ],
          [
           "C9891547",
           "EUR",
           "0.93",
           "SAS",
           "0.049"
          ],
          [
           "C0094496",
           "EUR",
           "0.9",
           "SAS",
           "0.078"
          ],
          [
           "C8365573",
           "EUR",
           "0.94",
           "SAS",
           "0.031"
          ],
          [
           "C7201722",
           "EUR",
           "0.9",
           "SAS",
           "0.045"
          ],
          [
           "C9043888",
           "EUR",
           "0.93",
           "SAS",
           "0.041"
          ],
          [
           "C0768621",
           "EUR",
           "0.97",
           "SAS",
           "0.014"
          ],
          [
           "C8681088",
           "EUR",
           "0.91",
           "SAS",
           "0.058"
          ],
          [
           "C9435463",
           "EUR",
           "0.92",
           "SAS",
           "0.05"
          ],
          [
           "C7624145",
           "EUR",
           "0.74",
           "SAS",
           "0.15"
          ],
          [
           "C7254952",
           "EUR",
           "0.96",
           "AMR",
           "0.015"
          ],
          [
           "C8803331",
           "EUR",
           "0.98",
           "SAS",
           "0.011"
          ],
          [
           "C0111335",
           "EUR",
           "0.94",
           "AMR",
           "0.026"
          ],
          [
           "C7663753",
           "EUR",
           "0.96",
           "SAS",
           "0.021"
          ],
          [
           "C9352597",
           "EUR",
           "0.74",
           "SAS",
           "0.19"
          ],
          [
           "C3995916",
           "EUR",
           "0.99",
           "SAS",
           "0.0053"
          ],
          [
           "C7720398",
           "EUR",
           "0.99",
           "AMR",
           "0.0046"
          ],
          [
           "C7797150",
           "EUR",
           "0.93",
           "SAS",
           "0.048"
          ],
          [
           "C8546542",
           "EUR",
           "0.95",
           "SAS",
           "0.026"
          ],
          [
           "C7446783",
           "EUR",
           "0.95",
           "SAS",
           "0.027"
          ],
          [
           "C9499501",
           "EUR",
           "0.96",
           "SAS",
           "0.016"
          ],
          [
           "C9623681",
           "EUR",
           "0.76",
           "SAS",
           "0.14"
          ],
          [
           "C2656017",
           "EUR",
           "0.94",
           "SAS",
           "0.027"
          ],
          [
           "C9566094",
           "EUR",
           "0.97",
           "AMR",
           "0.018"
          ],
          [
           "C8285568",
           "EUR",
           "0.92",
           "SAS",
           "0.052"
          ],
          [
           "C9106847",
           "EUR",
           "0.94",
           "AMR",
           "0.032"
          ],
          [
           "C8704644",
           "EUR",
           "0.97",
           "AMR",
           "0.012"
          ],
          [
           "C7744203",
           "EUR",
           "0.91",
           "SAS",
           "0.051"
          ],
          [
           "C9670670",
           "EUR",
           "0.92",
           "AMR",
           "0.037"
          ],
          [
           "C8659700",
           "EUR",
           "0.91",
           "SAS",
           "0.05"
          ],
          [
           "C8445892",
           "EUR",
           "0.55",
           "SAS",
           "0.32"
          ],
          [
           "C8114694",
           "EUR",
           "0.93",
           "AMR",
           "0.028"
          ],
          [
           "C0973724",
           "EUR",
           "0.86",
           "SAS",
           "0.09"
          ],
          [
           "C8243782",
           "EUR",
           "0.97",
           "SAS",
           "0.015"
          ],
          [
           "C8941520",
           "EUR",
           "0.95",
           "SAS",
           "0.024"
          ],
          [
           "C8047717",
           "EUR",
           "0.98",
           "AMR",
           "0.0073"
          ],
          [
           "C7420529",
           "EUR",
           "0.97",
           "AMR",
           "0.011"
          ],
          [
           "C8347151",
           "EUR",
           "0.9",
           "SAS",
           "0.055"
          ],
          [
           "C7615711",
           "EUR",
           "0.98",
           "AMR",
           "0.011"
          ],
          [
           "C9337466",
           "EUR",
           "0.93",
           "SAS",
           "0.038"
          ],
          [
           "C8388266",
           "EUR",
           "0.96",
           "SAS",
           "0.027"
          ],
          [
           "C9328025_B",
           "EUR",
           "0.95",
           "SAS",
           "0.031"
          ],
          [
           "C8069365",
           "EUR",
           "0.97",
           "SAS",
           "0.017"
          ],
          [
           "C8958600",
           "EUR",
           "0.96",
           "SAS",
           "0.019"
          ],
          [
           "C9352013",
           "EUR",
           "0.89",
           "SAS",
           "0.047"
          ],
          [
           "C9531167",
           "EUR",
           "0.82",
           "SAS",
           "0.1"
          ],
          [
           "C8293022",
           "EUR",
           "0.45",
           "SAS",
           "0.37"
          ],
          [
           "C9032340",
           "EUR",
           "0.96",
           "SAS",
           "0.021"
          ],
          [
           "C0658349",
           "EUR",
           "0.98",
           "SAS",
           "0.011"
          ],
          [
           "C7262251",
           "EUR",
           "0.97",
           "SAS",
           "0.022"
          ],
          [
           "C9183745",
           "EUR",
           "0.92",
           "SAS",
           "0.043"
          ],
          [
           "C8564190",
           "EUR",
           "0.95",
           "SAS",
           "0.028"
          ],
          [
           "C9891309",
           "EUR",
           "0.94",
           "AMR",
           "0.03"
          ],
          [
           "C7880838",
           "EUR",
           "0.97",
           "AMR",
           "0.015"
          ],
          [
           "C7123283",
           "EUR",
           "0.92",
           "SAS",
           "0.05"
          ],
          [
           "C7273861",
           "EUR",
           "0.98",
           "AMR",
           "0.0061"
          ],
          [
           "C7211784",
           "EUR",
           "0.92",
           "SAS",
           "0.042"
          ],
          [
           "C8403653",
           "EUR",
           "0.96",
           "SAS",
           "0.027"
          ],
          [
           "C8225534",
           "EUR",
           "0.95",
           "AMR",
           "0.026"
          ],
          [
           "C5989630",
           "EUR",
           "0.8",
           "SAS",
           "0.15"
          ],
          [
           "C0252536",
           "EUR",
           "0.96",
           "SAS",
           "0.02"
          ],
          [
           "C0175736",
           "EUR",
           "0.95",
           "AMR",
           "0.025"
          ],
          [
           "C8035341",
           "EUR",
           "0.9",
           "SAS",
           "0.066"
          ],
          [
           "C0686667",
           "EUR",
           "0.85",
           "SAS",
           "0.12"
          ],
          [
           "C8333328",
           "EUR",
           "0.95",
           "SAS",
           "0.032"
          ],
          [
           "C8494715",
           "EUR",
           "0.92",
           "AMR",
           "0.032"
          ],
          [
           "C8098744",
           "EUR",
           "0.92",
           "SAS",
           "0.034"
          ],
          [
           "C9674024",
           "EUR",
           "0.94",
           "SAS",
           "0.031"
          ],
          [
           "C5244188",
           "EUR",
           "0.96",
           "SAS",
           "0.019"
          ],
          [
           "C7355851",
           "EUR",
           "0.96",
           "SAS",
           "0.018"
          ],
          [
           "C8655078",
           "EUR",
           "0.96",
           "AMR",
           "0.02"
          ],
          [
           "C0057435",
           "EUR",
           "0.96",
           "AMR",
           "0.022"
          ],
          [
           "C9759662",
           "EUR",
           "0.98",
           "SAS",
           "0.011"
          ],
          [
           "C9503626",
           "EUR",
           "0.93",
           "SAS",
           "0.048"
          ],
          [
           "C5048024",
           "EUR",
           "0.84",
           "SAS",
           "0.13"
          ],
          [
           "C8946541",
           "EUR",
           "0.94",
           "SAS",
           "0.042"
          ],
          [
           "C0949895",
           "EUR",
           "0.92",
           "SAS",
           "0.04"
          ],
          [
           "C0871465",
           "EUR",
           "0.9",
           "SAS",
           "0.072"
          ],
          [
           "C9557092",
           "EUR",
           "0.89",
           "SAS",
           "0.066"
          ],
          [
           "C0425008",
           "EUR",
           "0.74",
           "AMR",
           "0.18"
          ],
          [
           "C7728571",
           "EUR",
           "0.95",
           "SAS",
           "0.022"
          ],
          [
           "C8852726",
           "EUR",
           "0.97",
           "AMR",
           "0.016"
          ],
          [
           "C9068543",
           "EUR",
           "0.93",
           "SAS",
           "0.032"
          ],
          [
           "C7975717",
           "EUR",
           "0.96",
           "SAS",
           "0.02"
          ],
          [
           "C9970429",
           "EUR",
           "0.95",
           "SAS",
           "0.02"
          ],
          [
           "C0040823",
           "EUR",
           "0.96",
           "AMR",
           "0.016"
          ],
          [
           "C5795180",
           "EUR",
           "0.76",
           "SAS",
           "0.15"
          ],
          [
           "C0791932",
           "EUR",
           "0.95",
           "SAS",
           "0.027"
          ],
          [
           "C7075879",
           "EUR",
           "0.92",
           "SAS",
           "0.033"
          ],
          [
           "C7337756",
           "EUR",
           "0.89",
           "SAS",
           "0.078"
          ],
          [
           "C9077429",
           "EUR",
           "0.95",
           "SAS",
           "0.029"
          ],
          [
           "C7256096",
           "EUR",
           "0.9",
           "SAS",
           "0.052"
          ],
          [
           "C8614179_B",
           "EUR",
           "0.96",
           "SAS",
           "0.018"
          ],
          [
           "C8667657",
           "EUR",
           "0.94",
           "AMR",
           "0.023"
          ],
          [
           "C8186594",
           "EUR",
           "0.97",
           "SAS",
           "0.011"
          ],
          [
           "C8685400",
           "EUR",
           "0.96",
           "AMR",
           "0.017"
          ],
          [
           "C8314908",
           "EUR",
           "0.96",
           "SAS",
           "0.019"
          ],
          [
           "C9254632",
           "EUR",
           "0.69",
           "SAS",
           "0.26"
          ],
          [
           "C7942862",
           "EUR",
           "0.93",
           "SAS",
           "0.035"
          ],
          [
           "C8917292",
           "EUR",
           "0.96",
           "SAS",
           "0.019"
          ],
          [
           "C7561329",
           "EUR",
           "0.89",
           "SAS",
           "0.062"
          ],
          [
           "C7631226",
           "EUR",
           "0.98",
           "AMR",
           "0.008"
          ],
          [
           "C9867644",
           "EUR",
           "0.92",
           "SAS",
           "0.038"
          ],
          [
           "C8404107",
           "EUR",
           "0.98",
           "SAS",
           "0.01"
          ],
          [
           "C9072808",
           "EUR",
           "0.94",
           "SAS",
           "0.026"
          ],
          [
           "C0657308",
           "EUR",
           "0.88",
           "SAS",
           "0.074"
          ],
          [
           "C9796034",
           "EUR",
           "0.8",
           "SAS",
           "0.16"
          ],
          [
           "C7874287",
           "EUR",
           "0.87",
           "SAS",
           "0.1"
          ],
          [
           "C8268283",
           "EUR",
           "0.95",
           "AMR",
           "0.03"
          ],
          [
           "C4723222",
           "EUR",
           "0.89",
           "SAS",
           "0.069"
          ],
          [
           "C7171813",
           "EUR",
           "0.56",
           "AMR",
           "0.26"
          ],
          [
           "C9105851",
           "EUR",
           "0.95",
           "SAS",
           "0.022"
          ],
          [
           "C0355369",
           "EUR",
           "0.96",
           "SAS",
           "0.022"
          ],
          [
           "C8991687",
           "EUR",
           "0.97",
           "SAS",
           "0.02"
          ],
          [
           "C8187483",
           "EUR",
           "0.97",
           "AMR",
           "0.013"
          ],
          [
           "C7599062",
           "EUR",
           "0.96",
           "SAS",
           "0.018"
          ],
          [
           "C8500841",
           "EUR",
           "0.98",
           "AMR",
           "0.0071"
          ],
          [
           "C9418584",
           "EUR",
           "0.94",
           "SAS",
           "0.026"
          ],
          [
           "C5191349",
           "EUR",
           "0.64",
           "SAS",
           "0.27"
          ],
          [
           "C9414698",
           "EUR",
           "0.92",
           "SAS",
           "0.052"
          ],
          [
           "C5425462",
           "EUR",
           "0.49",
           "SAS",
           "0.4"
          ],
          [
           "C0267788",
           "EUR",
           "0.94",
           "SAS",
           "0.037"
          ],
          [
           "C8372662",
           "EUR",
           "0.95",
           "SAS",
           "0.032"
          ],
          [
           "C8363243",
           "EUR",
           "0.8",
           "SAS",
           "0.13"
          ],
          [
           "C0129778",
           "EUR",
           "0.97",
           "SAS",
           "0.011"
          ],
          [
           "C8628170",
           "EUR",
           "0.95",
           "SAS",
           "0.022"
          ],
          [
           "C7256485",
           "EUR",
           "0.97",
           "SAS",
           "0.017"
          ],
          [
           "C0912641",
           "EUR",
           "0.89",
           "SAS",
           "0.068"
          ]
         ],
         "hovertemplate": "<b>%{hovertext}</b><br><br>Pred=%{customdata[1]}<br>PC1=%{x}<br>PC2=%{y}<br>Sample=%{customdata[0]}<br>Primary_Perc=%{customdata[2]}<br>Second=%{customdata[3]}<br>Second_Perc=%{customdata[4]}<extra></extra>",
         "hovertext": [
          "C0000613",
          "C9392081",
          "C3029371",
          "C9112331",
          "C0102193",
          "C9773006",
          "C8439824",
          "C8440070",
          "C9544194",
          "C0171053",
          "C9373517",
          "C0205079",
          "C0716317",
          "C9948864",
          "C7488119",
          "C0697204",
          "C9421850",
          "C8992487",
          "C0323527",
          "C9404984",
          "C9143246",
          "C0229254",
          "C0814135",
          "C8046245",
          "C7719688_B",
          "C7272482",
          "C8719784",
          "C7419040",
          "C8028049",
          "C9070830",
          "C7515229",
          "C8320957",
          "C9504996",
          "C7774321",
          "C8973185",
          "C9202805",
          "C7922853",
          "C1419921",
          "C0080595",
          "C7873931",
          "C0305012",
          "C9362525",
          "C0968806",
          "C9092574",
          "C9783888",
          "C5901838",
          "C7037290",
          "C8896744",
          "C8566915",
          "C9867144",
          "C0506852",
          "C9019427",
          "C0648474",
          "C9551607",
          "C0915694",
          "C7564617",
          "C0869297",
          "C8916507",
          "C7899782",
          "C5041438",
          "C0971388",
          "C7900996",
          "C9950284",
          "C8207616",
          "C7775742",
          "C8949385",
          "C9830861",
          "C7489236",
          "C0745818",
          "C0384466",
          "C7854608",
          "C9271854",
          "C9429553",
          "C7812934",
          "C8036290",
          "C9963120",
          "C9500443",
          "C6657611",
          "C8451371",
          "C7214227",
          "C7829444",
          "C9181785",
          "C9454614",
          "C4013619",
          "C9173829",
          "C0186076",
          "C8360547",
          "C9236526",
          "C7343848",
          "C8900381",
          "C9337436",
          "C9281676",
          "C8643849",
          "C7724650",
          "C0790760",
          "C7555611",
          "C8876110",
          "C8716254",
          "C7873494",
          "C0982934",
          "C5191909",
          "C7355308",
          "C5792284",
          "C9834437",
          "C5095437",
          "C8124245",
          "C7249530",
          "C8297061",
          "C9256776",
          "C8170175",
          "C0457844",
          "C9395325",
          "C9738079",
          "C9343835",
          "C0881093",
          "C9348452",
          "C0613900",
          "C7466760",
          "C0250005",
          "C7563157",
          "C7812195",
          "C9137802",
          "C9841936",
          "C7626599",
          "C8689064",
          "C0801578",
          "C8574255",
          "C9899426",
          "C0953478_B",
          "C7753437",
          "C7442839",
          "C9769468",
          "C9149135",
          "C8808071",
          "C8584714",
          "C9414358",
          "C9015006_A",
          "C0475692",
          "C0810521",
          "C9333875",
          "C0940211",
          "C9987132",
          "C8021853",
          "C8643073",
          "C9332037",
          "C0323438",
          "C8790955",
          "C9107796",
          "C9146837",
          "C5845278",
          "C1268869",
          "C9335055",
          "C5095146",
          "C0774765",
          "C9353533",
          "C5667839",
          "C0220606",
          "C7719688_A",
          "C9065204",
          "C9630977",
          "C5975717",
          "C8219205",
          "C0815217",
          "C8681671",
          "C8478557",
          "C7664882",
          "C7731610",
          "C9910955",
          "C8770577",
          "C9593509",
          "C7575592",
          "C9203538",
          "C0175376",
          "C9895193",
          "C9287399",
          "C9425592",
          "C8048662",
          "C7048024",
          "C7244188",
          "C9787294",
          "C1099243",
          "C7931543",
          "C5211557",
          "C9960311",
          "C8897927",
          "C7989630",
          "C0047775",
          "C9237364",
          "C8615941",
          "C7392071",
          "C7560532",
          "C8461665",
          "C0776135",
          "C0125692",
          "C9100987",
          "C5256485",
          "C6281807",
          "C0551561",
          "C9172258",
          "C7900292",
          "C7580286",
          "C7128050",
          "C0973809",
          "C7425462",
          "C9761272",
          "C9738061",
          "C9697066",
          "C5599062",
          "C0478009",
          "C9835618",
          "C9518874",
          "C7405020",
          "C8761613",
          "C8985793",
          "C0737742",
          "C5942862",
          "C8319806",
          "C8896162",
          "C8363284",
          "C0301621",
          "C8246413",
          "C0747818",
          "C8193518",
          "C8704315",
          "C9749291",
          "C7893181",
          "C9588598",
          "C9767055",
          "C9696497",
          "C6061051",
          "C9249260",
          "C8801527",
          "C7952024",
          "C0310438",
          "C9145166",
          "C8596930",
          "C0898730",
          "C9806608",
          "C8810404",
          "C8219541",
          "C7952533",
          "C7964148",
          "C8651159",
          "C7486770",
          "C8495592",
          "C0813775",
          "C9608162",
          "C8865309",
          "C8358629",
          "C9829444",
          "C9155285",
          "C0996531",
          "C0282724",
          "C0921762",
          "C8659108",
          "C7259165",
          "C9830781",
          "C0536477",
          "C8192476",
          "C7769468",
          "C3802976",
          "C9634772",
          "C8335523",
          "C7991356",
          "C9796515",
          "C7777597",
          "C9473340",
          "C9015006_B",
          "C8506441",
          "C7557432",
          "C0954932",
          "C8736037",
          "C8040854",
          "C7860973",
          "C8278819",
          "C8644106",
          "C8681860",
          "C8519536",
          "C8938114",
          "C7163669",
          "C0953478_A",
          "C8319450",
          "C7375657",
          "C7161606",
          "C8397582",
          "C0084844",
          "C0755223",
          "C7759848",
          "C8713498",
          "C7899426",
          "C8876593",
          "C7564817",
          "C9664685",
          "C7069181",
          "C8257777",
          "C0773447",
          "C8451688",
          "C9186995",
          "C9931298",
          "C8488109",
          "C8450746",
          "C7770397",
          "C5343848",
          "C9766496",
          "C0770246",
          "C0462055",
          "C8614148",
          "C7861169",
          "C8194455",
          "C6514151",
          "C9594960",
          "C8240437",
          "C0291197",
          "C7051331",
          "C0365146",
          "C0047921",
          "C7728583",
          "C9264845",
          "C0606661",
          "C5526923",
          "C9693293",
          "C0589344",
          "C8587599",
          "C3302744",
          "C9366500",
          "C7606723",
          "C7670382",
          "C9840031",
          "C9352656",
          "C8489869",
          "C9926912",
          "C7574693",
          "C8081097",
          "C0549991",
          "C8740455",
          "C8219585",
          "C0661301",
          "C0539635",
          "C0430692",
          "C7075995",
          "C9539446",
          "C7558702",
          "C8205925",
          "C7337466",
          "C7725618",
          "C9328025_A",
          "C9845989",
          "C0490359",
          "C7934589",
          "C8284466",
          "C0323408",
          "C9046772",
          "C9164503",
          "C8237107",
          "C5044638",
          "C0796853",
          "C9289426",
          "C5156906",
          "C9880838",
          "C9422879",
          "C7551958",
          "C8798010",
          "C0407432",
          "C9694140",
          "C7531167",
          "C0681808",
          "C8584739",
          "C9465585",
          "C8191615",
          "C0241248",
          "C9906189",
          "C9723763",
          "C5466760",
          "C7138975",
          "C7307187",
          "C9549733",
          "C8173027",
          "C8431940",
          "C9622975",
          "C1536424",
          "C9023035",
          "C7112454",
          "C7191909",
          "C7095437",
          "C7792284",
          "C7873287",
          "C9214677",
          "C9728571",
          "C8885328",
          "C7851117",
          "C8981077",
          "C8614179_A",
          "C0286319",
          "C7900189",
          "C0388329",
          "C7596902",
          "C7860321",
          "C8016613",
          "C8921704",
          "C0987880",
          "C9985402",
          "C9494205",
          "C7800831",
          "C8298170",
          "C9525049",
          "C9446681",
          "C7774127",
          "C0450044",
          "C8868365",
          "C8395884",
          "C8574156",
          "C8120972",
          "C7556646",
          "C9675388",
          "C9882335",
          "C8108376",
          "C9211784",
          "C0090573",
          "C0905309",
          "C1721225",
          "C5222088",
          "C9322275",
          "C9939770",
          "C9174984",
          "C7696137",
          "C5775742",
          "C9210292",
          "C7674803",
          "C9563106",
          "C8328750",
          "C9842667",
          "C8334012",
          "C7364484",
          "C8190455",
          "C5037290",
          "C0789756",
          "C0808631",
          "C4566059",
          "C0403428",
          "C7241422",
          "C7352172",
          "C7862755",
          "C7796034",
          "C8059802",
          "C9853013",
          "C7978591",
          "C9609040",
          "C0403611",
          "C5922853",
          "C0608848",
          "C8417670",
          "C4261455",
          "C8359371",
          "C0445352",
          "C9498593",
          "C8164464",
          "C8246802",
          "C7755859",
          "C0257429",
          "C9901595",
          "C8387101",
          "C9708363",
          "C8240661",
          "C7975607",
          "C9861169",
          "C8070392",
          "C0252881",
          "C0987688",
          "C7242024",
          "C7292533",
          "C7400164",
          "C9692034",
          "C9891547",
          "C0094496",
          "C8365573",
          "C7201722",
          "C9043888",
          "C0768621",
          "C8681088",
          "C9435463",
          "C7624145",
          "C7254952",
          "C8803331",
          "C0111335",
          "C7663753",
          "C9352597",
          "C3995916",
          "C7720398",
          "C7797150",
          "C8546542",
          "C7446783",
          "C9499501",
          "C9623681",
          "C2656017",
          "C9566094",
          "C8285568",
          "C9106847",
          "C8704644",
          "C7744203",
          "C9670670",
          "C8659700",
          "C8445892",
          "C8114694",
          "C0973724",
          "C8243782",
          "C8941520",
          "C8047717",
          "C7420529",
          "C8347151",
          "C7615711",
          "C9337466",
          "C8388266",
          "C9328025_B",
          "C8069365",
          "C8958600",
          "C9352013",
          "C9531167",
          "C8293022",
          "C9032340",
          "C0658349",
          "C7262251",
          "C9183745",
          "C8564190",
          "C9891309",
          "C7880838",
          "C7123283",
          "C7273861",
          "C7211784",
          "C8403653",
          "C8225534",
          "C5989630",
          "C0252536",
          "C0175736",
          "C8035341",
          "C0686667",
          "C8333328",
          "C8494715",
          "C8098744",
          "C9674024",
          "C5244188",
          "C7355851",
          "C8655078",
          "C0057435",
          "C9759662",
          "C9503626",
          "C5048024",
          "C8946541",
          "C0949895",
          "C0871465",
          "C9557092",
          "C0425008",
          "C7728571",
          "C8852726",
          "C9068543",
          "C7975717",
          "C9970429",
          "C0040823",
          "C5795180",
          "C0791932",
          "C7075879",
          "C7337756",
          "C9077429",
          "C7256096",
          "C8614179_B",
          "C8667657",
          "C8186594",
          "C8685400",
          "C8314908",
          "C9254632",
          "C7942862",
          "C8917292",
          "C7561329",
          "C7631226",
          "C9867644",
          "C8404107",
          "C9072808",
          "C0657308",
          "C9796034",
          "C7874287",
          "C8268283",
          "C4723222",
          "C7171813",
          "C9105851",
          "C0355369",
          "C8991687",
          "C8187483",
          "C7599062",
          "C8500841",
          "C9418584",
          "C5191349",
          "C9414698",
          "C5425462",
          "C0267788",
          "C8372662",
          "C8363243",
          "C0129778",
          "C8628170",
          "C7256485",
          "C0912641"
         ],
         "legendgroup": "EUR",
         "marker": {
          "color": "#636efa",
          "symbol": "circle"
         },
         "mode": "markers",
         "name": "EUR",
         "orientation": "v",
         "showlegend": true,
         "type": "scatter",
         "x": [
          -10.999114118417651,
          -9.911215709730488,
          -13.579621572484491,
          -9.851568872791225,
          -11.564812828335537,
          -8.40139756034949,
          -9.806754236186503,
          -9.428386651978455,
          -14.639523316130159,
          -10.940747050572767,
          -9.56617348537945,
          -12.067427727415241,
          -12.29128582792721,
          -10.97354356714136,
          -14.186115010021611,
          -10.855703632888536,
          -10.147726807636698,
          -12.394261261301805,
          -10.520527839685299,
          -13.981429651568044,
          -11.217110606759213,
          -11.974642132413578,
          -10.175505841034424,
          -11.107351444042774,
          -9.528108071437382,
          -11.675460664576411,
          -10.374974063831823,
          -10.39528363102015,
          -14.371610258342333,
          -11.462455804244978,
          -11.221084965687,
          -11.999702191339052,
          -7.279817317316845,
          -12.885212321329142,
          -12.270586080911645,
          -12.225934590935758,
          -12.049474002335906,
          -13.871174501445841,
          -9.337275776360363,
          -13.310715713495485,
          -8.916121299132119,
          -7.0726048866764035,
          -11.68543038189844,
          -11.481551945899586,
          -9.095214772230797,
          -10.24280254069566,
          -12.281833735760463,
          -9.4160333514222,
          -11.14346777979674,
          -10.435204923878239,
          -11.574726361463155,
          -12.511620671303522,
          -16.09175216985148,
          -12.81132198072772,
          -8.240151385275691,
          -9.848650835070009,
          -13.573080994627247,
          -13.260967674629484,
          -10.931705669076123,
          -12.887291895642269,
          -4.237380590868229,
          -9.661036508102365,
          -12.122007938404394,
          -11.61235565971598,
          -12.248043519219449,
          -12.763860528736519,
          -11.388122055489745,
          -12.023364235209687,
          -11.175802049672612,
          -11.725516238690114,
          -11.834115776501811,
          -10.126317460142044,
          -9.160885581636979,
          -11.788054906475214,
          -12.631701032141626,
          -10.35410425131029,
          -11.269040348415103,
          -12.947477681366433,
          -10.1925461730294,
          -11.625043799185006,
          -8.264010201531217,
          -11.043733089111036,
          -4.931988669719622,
          -8.659026409733585,
          -10.80998200556581,
          -14.363520594068685,
          -12.594614870915814,
          -10.251850769597883,
          -12.267663119989532,
          -9.947517547730975,
          -12.805830396248192,
          -12.678026236011435,
          -10.048859574181686,
          -7.9947681287914545,
          -10.86596722057433,
          -10.668249054328191,
          -11.335425010448986,
          -12.00871484408241,
          -10.36033337462668,
          -11.577106374992296,
          -11.344011471500345,
          -12.048808860917134,
          -10.465268906099006,
          -10.479046769661336,
          -13.234452956393994,
          -11.881862169295907,
          -8.20053862922836,
          -9.242242992224035,
          -13.092630346888754,
          -12.795984821441925,
          -10.003495388687961,
          -13.573117761709916,
          -8.11817178602512,
          -12.612523086143645,
          -10.539543572618742,
          -8.056038219380715,
          -10.023754729754973,
          -9.385007478659839,
          -9.987775680702049,
          -11.85838849909121,
          -11.31951036727215,
          -11.175985927808073,
          -8.909843626867438,
          -8.81815775062409,
          -11.921216388354463,
          -10.003745046652192,
          -13.760287176508342,
          -11.238755177361243,
          -12.482533831842485,
          -8.86013682799973,
          -10.615037098815405,
          -11.701551530329578,
          -9.606796762257932,
          -12.238678663608392,
          -12.100052753851086,
          -5.875093269508739,
          -10.05291631700393,
          -12.563213093897554,
          -13.209344060458731,
          -11.720165224832472,
          -12.542314503048372,
          -9.689870517443639,
          -13.517839939594287,
          -11.2466239880597,
          -10.655886569676685,
          -13.742313026159882,
          -10.455806006266416,
          -11.128699386804671,
          -11.174553180489847,
          -10.431027785874402,
          -11.90322598617439,
          -10.48749997532991,
          -13.059275399481255,
          -9.286870126508445,
          -14.503726999185979,
          -12.135063709857056,
          -11.033741840146973,
          -9.837680661492287,
          -8.973735185480065,
          -10.673860741826877,
          -11.504171324069066,
          -10.035001675204825,
          -11.597000237354116,
          -10.311519976543233,
          -12.89846528487132,
          -10.552444064365766,
          -12.697455133051738,
          -9.513080420515939,
          -10.181396050725581,
          -13.559698114315644,
          -11.486135649791253,
          -14.285805579373378,
          -10.652799139669725,
          -12.149577361107125,
          -12.548334052612688,
          -9.465268921992033,
          -15.924142444025398,
          -10.738886843989654,
          -10.924164100216352,
          -15.035964137609614,
          -9.965653071674444,
          -11.542055199996065,
          -11.991874856866064,
          -11.14735129874857,
          -10.504269092211883,
          -10.808892310396573,
          -7.455693741982765,
          -11.541845348029158,
          -7.32370293594852,
          -13.278448472905144,
          -13.314004801261884,
          -11.882771030452492,
          -11.696646345278978,
          -10.777700862206784,
          -8.670226389127926,
          -8.121806146529275,
          -9.220932579991285,
          -11.94341041696362,
          -12.344473086890716,
          -10.799522607545443,
          -11.04433326622268,
          -11.59889482223159,
          -8.793894061325636,
          -15.764885373083024,
          -13.52915139313642,
          -11.728853641284244,
          -9.997063394483883,
          -10.619507827360584,
          -8.191564456920979,
          -13.243749567932964,
          -11.432501908148161,
          -11.437918895559237,
          -13.928470623476493,
          -10.086188047037691,
          -10.771327769927765,
          -12.384795649870439,
          -12.643502726246084,
          -14.15290789456045,
          -5.68971627733769,
          -12.425000424450095,
          -8.52795549292965,
          -11.137054866079382,
          -15.830137639579071,
          -11.178624469732966,
          -10.81847896464054,
          -9.237291234685456,
          -9.929404558269532,
          -11.62052660520943,
          -14.489652582124252,
          -10.38070514494221,
          -10.338383347771378,
          -9.719517684563348,
          -8.763143464574878,
          -16.164729826400173,
          -11.534545377957496,
          -11.560852884221188,
          -6.985829394800281,
          -10.355039485147309,
          -12.937418769761495,
          -14.065661164423041,
          -11.321176015176876,
          -10.312960508225688,
          -12.546361626416934,
          -14.745465367371645,
          -13.95652365618255,
          -11.334691652115678,
          -13.360605730634125,
          -15.037837397497366,
          -10.9458735327311,
          -15.147384857739663,
          -10.527312545783051,
          -11.953372927297014,
          -7.683967182098022,
          -10.650751090223,
          -14.306784863805108,
          -11.344328916670321,
          -15.871249753188069,
          -12.134139649230589,
          -12.772463158388847,
          -13.063722186838373,
          -8.465300185369061,
          -10.081695638398255,
          -9.883934920978449,
          -9.38663303071128,
          -11.674169404119091,
          -10.715053842151166,
          -12.22455279823417,
          -9.73929292021223,
          -8.32108599077307,
          -10.676737157080622,
          -12.588885086128451,
          -15.686731631649344,
          -12.858060438445838,
          -10.951725698435979,
          -9.954296032504939,
          -10.540781808592696,
          -11.899967170506242,
          -11.978423277340921,
          -9.724027424234418,
          -11.849246693462089,
          -12.446891515299235,
          -10.360421191317092,
          -9.225683151090582,
          -10.414466835957198,
          -14.998765415830482,
          -9.394121717987499,
          -13.68157787363227,
          -8.551354025152053,
          -10.029680446795371,
          -10.057110788332439,
          -11.294827538596797,
          -11.877687020279753,
          -12.834948219101205,
          -12.495144827173913,
          -11.80599648621416,
          -12.115447691880556,
          -11.663099731543781,
          -11.168096510040154,
          -12.160381850790348,
          -7.733924557928109,
          -10.721487472169285,
          -11.577917712691946,
          -12.04587382959874,
          -12.513923100960666,
          -10.716323031147912,
          -9.13103090246781,
          -9.421042314375274,
          -13.198075669801588,
          -12.927798236194759,
          -12.29066030206702,
          -10.106166231520477,
          -13.12778841833953,
          -10.557310224424164,
          -10.975695131234957,
          -4.4452590041947415,
          -11.736615870829867,
          -8.782361645878327,
          -14.030259916949698,
          -12.223369829338875,
          -9.268227804584397,
          -12.703965254324688,
          -10.530040640329489,
          -14.012263537080855,
          -12.711100088921723,
          -9.532305679010376,
          -12.425810502613079,
          -11.448992958536026,
          -12.749410768202559,
          -12.678571125199612,
          -12.48638297929303,
          -13.833175815149753,
          -11.489636586610539,
          -9.750429223119797,
          -10.057013958805397,
          -11.311927421277549,
          -13.739874312309828,
          -11.421628770179936,
          -11.630314133348746,
          -10.805451416693021,
          -9.054386400833367,
          -12.570750118020708,
          -9.76061311182649,
          -9.975624707163181,
          -10.756774917304584,
          -6.8476321598457,
          -11.004492329012933,
          -12.104299316932712,
          -12.77075785237144,
          -11.980281568577608,
          -11.551592169137102,
          -12.737739606507567,
          -9.652813396212322,
          -6.573232317445879,
          -11.670699275416732,
          -11.627039091105038,
          -11.176668714976898,
          -8.903206063001377,
          -12.604330397762316,
          -11.014907116302775,
          -12.037551444203876,
          -11.179346297361036,
          -10.487863077433547,
          -11.961474739325892,
          -12.652407380571349,
          -12.616110311738504,
          -12.97438652892235,
          -9.44571007578406,
          -12.005972351637386,
          -11.068435609640009,
          -15.053804416021825,
          -12.78628097217536,
          -9.345625209243888,
          -7.714890862278746,
          -13.863552247815742,
          -12.993070887891026,
          -10.433827093482547,
          -11.866535511944047,
          -10.258646054313324,
          -12.112628627272509,
          -7.73055839603192,
          -7.961073537963687,
          -12.013907470768636,
          -9.582402526578726,
          -12.308030143518408,
          -10.714175124459508,
          -9.476516917769041,
          -14.534220456850576,
          -13.052273041354294,
          -13.146724475673448,
          -9.62364706086204,
          -11.680407880023298,
          -10.18645043615649,
          -14.60187066163592,
          -10.90757161213988,
          -15.177153748560901,
          -11.185029277301934,
          -10.228676257384171,
          -10.331951080740158,
          -10.060261223781998,
          -10.801282431854823,
          -13.875577805828183,
          -13.9743918092253,
          -12.132375929663397,
          -10.505084929095569,
          -11.233397468026034,
          -6.694655297862329,
          -8.988195032339261,
          -12.921920935660635,
          -9.570593045303875,
          -13.84318188143565,
          -11.209225282183704,
          -13.398901307584978,
          -14.395719732409496,
          -12.452545843926277,
          -10.400861438600277,
          -12.146433011463067,
          -14.882405551903894,
          -11.894376450524389,
          -12.159126400456147,
          -12.14579859677666,
          -14.143432756155294,
          -10.453738522674339,
          -12.763201570507906,
          -9.569124490797686,
          -9.31209798398513,
          -8.212268114742407,
          -10.889083157489392,
          -12.067589106842089,
          -9.84212176958242,
          -14.092722751493465,
          -12.281529234373162,
          -13.258914970708254,
          -11.869617026227788,
          -10.853732574130216,
          -11.743699786275982,
          -11.484658398900992,
          -11.680066304610254,
          -12.306309332421476,
          -10.553370371386746,
          -11.727498147887026,
          -12.178512484088778,
          -9.995197507889909,
          -13.852075907787347,
          -10.613177315061682,
          -11.861315510168938,
          -9.70339548654888,
          -10.327666963850106,
          -12.768417387081964,
          -8.780205151886062,
          -10.0678550023502,
          -13.450767939113947,
          -10.531233498392211,
          -12.536294835665796,
          -13.907247661881573,
          -10.469553785699112,
          -13.750763146557412,
          -14.052309014951541,
          -14.119793615557073,
          -6.9458301543919125,
          -10.144080897786246,
          -12.504903591387285,
          -12.579961616865011,
          -8.86725346200709,
          -12.082531682285513,
          -10.969489969316081,
          -12.143673819510541,
          -11.044332729419084,
          -11.627481656259015,
          -10.8288683614304,
          -12.047534218150847,
          -11.820155501447976,
          -10.984520647167221,
          -13.623838320439027,
          -11.554323333337898,
          -9.15243244511034,
          -8.80485753893826,
          -12.17755819216896,
          -9.607467749812693,
          -9.608981264296588,
          -8.87728237618816,
          -5.65489472337974,
          -9.780181859746705,
          -11.101871591408651,
          -13.379136277479182,
          -13.703892614236615,
          -8.40010476949414,
          -15.759567760551205,
          -14.126365053523458,
          -10.633707491816486,
          -13.964370315799718,
          -11.296662949589114,
          -10.655333062866283,
          -7.4102334520240225,
          -10.296316195283445,
          -9.934764376832009,
          -12.753041936934187,
          -14.553207279530092,
          -11.225237402677404,
          -11.714717134888904,
          -10.359892597177627,
          -9.82311783534839,
          -8.938469386113487,
          -12.149214859521502,
          -7.727561997055869,
          -14.082614565258273,
          -10.25897276798912,
          -14.142592554249001,
          -15.875943207909053,
          -12.374631578038105,
          -12.272890392451956,
          -12.962185731342604,
          -11.559395575834595,
          -10.810955967700007,
          -9.61884125715214,
          -14.749335572345222,
          -11.599995087863944,
          -10.607152162165177,
          -7.2047299468379,
          -12.238591478522348,
          -13.928740455476184,
          -13.190092005581473,
          -12.715403203750974,
          -11.636751418356708,
          -11.754874861776281,
          -10.384996090587329,
          -10.521012855571103,
          -9.31867966375286,
          -10.820992208231328,
          -11.75253745425073,
          -12.27757434342585,
          -10.44025763393372,
          -8.984390425312908,
          -9.295237150470781,
          -11.826304634330345,
          -10.109862120594578,
          -10.921369611691429,
          -10.469595942586569,
          -7.730637446447129,
          -10.024651621319098,
          -9.434183693303861,
          -12.840094163466446,
          -14.92731667190059,
          -13.09062248822962,
          -13.63978218615655,
          -12.163020402620806,
          -11.154484328190913,
          -12.021859177150898,
          -12.125674689765788,
          -9.486940809916975,
          -9.002513524823874,
          -8.217737131417586,
          -14.101315188428433,
          -11.610355467693626,
          -9.811543123749816,
          -14.719555403942003,
          -12.20213164780811,
          -13.754081760577304,
          -12.055921325286777,
          -12.696605480248442,
          -9.596054030039882,
          -10.923628704166218,
          -13.95015155133947,
          -9.964674964274618,
          -10.795810023110729,
          -10.110307966599446,
          -14.640717550407285,
          -11.412559222765445,
          -12.890102082007417,
          -10.593817994190209,
          -12.719403144748243,
          -14.010201839253908,
          -7.908077522877977,
          -13.538240999612931,
          -10.855221485762065,
          -14.611304344344136,
          -8.941029299160594,
          -9.827509496066314,
          -11.077655804127826,
          -9.982583433677183,
          -9.697607207668966,
          -10.328470400131547,
          -5.741062426896166,
          -11.02225191844638,
          -12.776535550530403,
          -14.723703150868479,
          -13.319194296313789,
          -14.371359699290126,
          -12.436856154999411,
          -6.0142134620168415,
          -7.548482210931884,
          -10.64554114870426,
          -9.755680963798275,
          -11.762910485367899,
          -13.856475224267138,
          -8.751962848243027,
          -11.574944220219999,
          -10.37014164890287,
          -11.197423731534865,
          -11.65023771563973
         ],
         "xaxis": "x",
         "y": [
          -3.011193470053414,
          -3.0670184532655127,
          -5.348168569362151,
          -3.609995335703689,
          -4.910069512134248,
          -2.147810386455011,
          -2.763718401072164,
          -3.0185589027455357,
          -3.244056585652307,
          -2.922817470637642,
          -1.6839556298015974,
          -3.0033426114819335,
          -3.417139640509752,
          -4.291475103616816,
          -0.6634020607824768,
          -4.810841783334903,
          -4.252754616367691,
          -3.1739584711779085,
          -3.8039384402689653,
          -1.9023334669814338,
          -3.315038625474268,
          -4.2760298068585145,
          -2.45487718367104,
          -3.894097009751883,
          -3.877761350271216,
          -4.267640110344833,
          -0.758300451999363,
          -2.236483714735434,
          -4.065773870549507,
          -4.398692649227299,
          -3.101068190505443,
          -2.247972080869567,
          -4.3294136854528436,
          -4.7372393588706085,
          -3.0027066858648848,
          -0.49711148012587286,
          -6.410312547264222,
          -3.718480373773436,
          -3.5442595442329545,
          -3.0989300982761456,
          -3.927771711415913,
          -2.9779856566245075,
          -3.329415064933793,
          1.743584524650155,
          -4.923214294826268,
          2.752961447353491,
          -0.9233239644869087,
          -5.597502281266471,
          -3.3291740770940086,
          -1.1145119208690613,
          -4.855522677247226,
          -2.9022377151332104,
          -2.9086436949758547,
          -5.059454973067825,
          -4.6189646822419,
          -4.817939819834113,
          -5.467125502784103,
          -3.6879157227773764,
          -4.1900453328331215,
          -1.1027905618788498,
          -2.04170623053448,
          4.790246665656246,
          -1.814754133884069,
          -2.140498239641702,
          -2.8189129718597195,
          -2.862251080616015,
          -2.864577096688232,
          -4.71825259016354,
          -4.198518725793714,
          -3.3870217319994564,
          -3.2840475051530222,
          1.1016674827299175,
          -1.3642178225974944,
          -4.4849872525898435,
          -4.0275305851551195,
          -2.7937603267316224,
          -5.019790761053267,
          -3.573505725328391,
          -2.426720407357892,
          -2.8798353419224134,
          0.424547435186663,
          -2.9787390332426855,
          -4.672472202012341,
          -6.09537314111657,
          -4.104276145083111,
          -2.6731652894799747,
          -4.556795989529012,
          -2.5545766479129925,
          -4.06725013672441,
          -1.4896172526113765,
          -4.121964435513028,
          -2.118136800201517,
          -2.703814050293089,
          -3.112902420238349,
          -3.706810497476065,
          -4.562262517745908,
          -4.365875011648533,
          -3.3505331429290472,
          -3.9274874388606933,
          -4.0148893049458945,
          0.40206067056166156,
          -3.248456032993701,
          -1.2618183835327146,
          -4.536138122963235,
          0.41076799820851184,
          0.04081760234247354,
          -3.787859553218517,
          -3.249011329347029,
          -1.7203446156338076,
          -4.107665241207691,
          -3.6655374479677905,
          -3.2472082655231658,
          -1.1634739210049825,
          -6.168569664183106,
          -2.345314213046776,
          -5.170207720228912,
          -3.487371742921069,
          -3.9609634643443594,
          -5.384165384732747,
          -5.009861491332584,
          -4.360892050818339,
          -4.527975112789966,
          -4.994802451616318,
          -4.868609457877444,
          -4.3644306068890675,
          -2.281128393308284,
          -3.346390162037325,
          -2.6710738357784476,
          -1.9768784529675265,
          -3.413438396478165,
          -4.211092864083197,
          -3.4676900267210415,
          -5.34818330545381,
          -3.6150822006765555,
          -2.14347767123458,
          27.199319055457373,
          -5.239644730968285,
          -3.7428165139261935,
          -4.902553695294636,
          -4.6166236508033744,
          -4.587111503858498,
          -4.410313430918962,
          -4.128170010444522,
          -3.0338343621937347,
          -1.150904106660556,
          -4.865213740147953,
          -5.127476426244498,
          -2.3561867809367465,
          -4.941100796336498,
          4.125838037725982,
          -0.387102416886432,
          -4.08033468892677,
          -4.132358943473346,
          -4.457076243335971,
          -3.8669841485921372,
          -4.315638387430133,
          -3.7111828209529434,
          -3.3705697410605877,
          -0.9243979728592977,
          -2.543230370439321,
          1.1887045302286248,
          -4.198081986368303,
          -5.422581346268569,
          -2.4209432377753024,
          -3.9047016364947504,
          -4.353533064435243,
          -4.393166322001943,
          -3.033677403570632,
          -3.6249955349758234,
          -0.26996498974804156,
          -2.1781902936775692,
          -3.7363360549947378,
          -4.733834407304954,
          4.052945466984006,
          -3.3778909080857007,
          -2.0145611612317373,
          -3.235989102859931,
          -4.344515627192343,
          -3.08485936624974,
          -1.5512968371008216,
          14.613424682039861,
          -1.9573136454887237,
          -1.1642883708548286,
          -2.819651366632539,
          -2.875889602491119,
          -4.553987549352052,
          -4.908785960657235,
          -4.178344588860181,
          -3.050109070941677,
          -4.70218120501751,
          -2.7210359645769073,
          -3.8253453923057767,
          -3.7869089284234794,
          -2.8275530164784195,
          -4.191131984549945,
          0.4699158626542694,
          -3.483637523941354,
          -5.315423440125848,
          -3.14817444502242,
          -4.690616122742366,
          -4.949367447076588,
          -4.185495694662393,
          -4.22885322846536,
          -3.626029093113488,
          -2.025130905507312,
          -3.694951565378944,
          -4.6037389068798955,
          -0.8252748490247968,
          -4.864461761719128,
          -4.0837041456737015,
          -0.5393363114996022,
          -4.669545462878475,
          -2.9803188532977356,
          -4.031363796555785,
          -2.8412789143462205,
          -3.9458792563304,
          -4.066239963378381,
          -4.919751398300762,
          16.170414685286833,
          -1.809501957591296,
          19.844867268029997,
          -3.2838056961197784,
          -3.348721036567134,
          -1.8476912321147676,
          -2.215448009667158,
          -5.344261627565802,
          -4.961172812602599,
          -2.450651407594989,
          -5.1540107962728126,
          -3.9504109772418405,
          -2.2581282920754595,
          19.931766920143822,
          -3.9759722458163034,
          -3.892532253579216,
          -2.820552217162269,
          -3.145960740031814,
          -4.504055360379439,
          -3.5107044047500127,
          -4.213098527237118,
          -2.118685897664887,
          -3.4348260396435486,
          -4.95316911337605,
          -2.49456471174794,
          -1.6021209146617144,
          -4.341785318679923,
          -2.6298900429849685,
          -2.5782722216706335,
          -4.7095164934552685,
          -2.027979029820446,
          -3.0119702954632346,
          -4.940562998609044,
          -3.2379154809761777,
          9.795458874665139,
          -0.9511175465842039,
          -4.02134543888106,
          -3.228332549402709,
          -2.1710295471554626,
          -4.3554067916238814,
          -4.253080798205388,
          -3.100917092414436,
          -2.292171018244214,
          0.3324843651884062,
          -3.542283547859322,
          -3.307731363121707,
          -5.611955317398041,
          -1.3945602391841132,
          -3.515403547205727,
          -5.306564364718722,
          -3.699084286829527,
          -3.234200916838838,
          -4.372404933790519,
          -2.677866252112039,
          -4.133802003037465,
          -2.4731537807309727,
          -2.027171258861201,
          -1.6302371728554583,
          0.3674067114656907,
          -2.9180775096083496,
          -4.062313041787022,
          -4.488336739874487,
          -1.5942327893361845,
          -4.111803196938285,
          -3.316477594751046,
          -4.757687333286626,
          -2.5936023000928823,
          -6.181360769689336,
          -6.0848872553451905,
          1.208152528361546,
          -2.837828699747732,
          -3.4448285046799456,
          -6.193644757230674,
          -4.668016264723787,
          -1.4913206863474089,
          -3.28105103155314,
          -4.13975221712177,
          -4.205686924311934,
          -2.8174754840833858,
          -2.281613742296633,
          -1.8795458593300356,
          -2.024349472609158,
          -5.070364491549376,
          -2.8212023484530393,
          -1.2831009212390816,
          -5.102127670298336,
          -2.7285753450438284,
          -4.008272147840265,
          -3.5071968842548493,
          -4.861655388195265,
          -4.813587042914383,
          0.5792747676699316,
          -3.0535371005586414,
          -3.618084289699001,
          -3.67855206870727,
          -0.3302820434709467,
          4.120499691597211,
          -4.133844445308835,
          -2.266471888666986,
          0.8650439247862258,
          -2.522126256674585,
          -3.551090830229272,
          -3.348075762340065,
          -3.809063736344863,
          -2.8964715519244764,
          -4.6924439974907735,
          8.520265181859024,
          -2.6019595555421855,
          -6.1419987010416,
          -4.0269062290916935,
          -2.6485700121727396,
          -5.486264409607888,
          -4.6637432160306425,
          -1.1382065614484502,
          -5.073463153055988,
          -4.394053728375792,
          -4.437807613455085,
          -2.5780227314271906,
          -4.799780955756472,
          -5.855870129045468,
          -4.014896414785735,
          -4.954754112642907,
          -3.574213122043843,
          -2.7425576706069856,
          -4.828803826039138,
          -2.023791755113521,
          -3.46648253758537,
          -2.5252806560763417,
          -1.2030683388617636,
          -4.941633365704525,
          -5.023583375030726,
          -5.130330873402912,
          -3.1140253032583147,
          -4.602132366532321,
          10.159322918079896,
          -3.2246045543664823,
          1.0808660884558492,
          -4.331553099579419,
          -2.4280409999089096,
          -3.8453504814816686,
          -1.4673853962010093,
          -4.112314501302571,
          -2.0339412456097694,
          -3.324826554246557,
          -3.980617934494227,
          -2.980056622469447,
          -4.309688282885378,
          -3.1565786150722515,
          -3.061626361315921,
          -4.260052299153628,
          -4.239989613834338,
          -6.252164095148977,
          -3.935171129020737,
          -2.2573407011762785,
          -3.537008032077203,
          -3.1400943266847414,
          -5.446298308313817,
          -1.8644756317882036,
          -0.2802146424011283,
          -3.1077659000296034,
          -3.776200574674586,
          -0.4450987385130846,
          -0.46914640539512914,
          -1.337273398001259,
          -4.925033427772245,
          -4.374754614811127,
          -4.4401255129207495,
          -2.4343743166369483,
          -2.961619903804104,
          -0.8293185630996232,
          -2.7818493084904614,
          -5.008328274921493,
          -4.879707434073585,
          -3.291301932601111,
          -4.359548464041307,
          -4.244353171457968,
          -4.235165568715219,
          -4.5463921305226895,
          -4.358544488679174,
          -3.443474013082223,
          -3.6689200832214404,
          -2.8997199951432457,
          -3.208723281835551,
          -3.097294962395525,
          -3.6883056969016996,
          -2.847853984617631,
          0.1709007493173786,
          -2.9042628798731482,
          -3.841250819550187,
          -4.4762994138812635,
          -2.547310310986427,
          -2.59102309727681,
          -4.117841704437027,
          -4.192093255655066,
          -3.7254256845389113,
          -4.5840890824325395,
          -4.668928093545883,
          -3.9531776188103027,
          -2.7056836406510727,
          -4.34493458190069,
          -2.644381545642626,
          -4.462198508629611,
          0.8594417305976506,
          -4.003020037710747,
          -3.714544412534351,
          -1.6740722579132254,
          -3.8319731858221684,
          -5.087229284303089,
          -4.069103095035057,
          -5.107170163473975,
          -2.393631509140709,
          0.36415893562031626,
          -3.890734360727778,
          -3.6578550848113367,
          -2.9963528111540865,
          -3.8338932095102884,
          0.9921166017957137,
          -2.6787494922720314,
          -3.219093709727721,
          -3.550581269385214,
          -3.2852236148600324,
          -0.9913172937410332,
          -3.7601849981807343,
          3.008740774467672,
          -3.202895705215615,
          -4.893395552303453,
          -1.6874247785301584,
          -4.2314584840047385,
          -4.483377835228022,
          -3.2102514363474888,
          -3.2606059792982074,
          -1.8821175137340378,
          -3.778696371697432,
          -1.9259190114701497,
          -3.764753766946123,
          -3.895159700069821,
          -3.092056254363437,
          -4.49032935384021,
          -3.7301934593701978,
          -3.3586380156828692,
          -3.235335246501294,
          -4.494537252768158,
          -4.315803286492983,
          -5.355460656263334,
          -4.51156722789975,
          -2.252331600188452,
          -3.632138535185942,
          -4.0190061696421,
          -3.5204724638257288,
          -4.839842891785936,
          -2.287999878350883,
          -3.162590072118081,
          -4.09379452205969,
          -5.968060147430401,
          -4.019107525120916,
          -5.0627535552485226,
          -3.2657302773501673,
          -2.5134099679683994,
          -6.074106118048286,
          -3.051269330356541,
          -3.7313052695416253,
          -3.873757885454125,
          20.257549056619066,
          -3.47234983827593,
          -4.026818842671719,
          -4.687823574851945,
          -2.4459389856817535,
          -1.2685528997814302,
          -3.911942983795064,
          -5.851723844779099,
          -1.6702144988184053,
          -3.514673386696629,
          -3.9145268870372747,
          -3.4029653962871738,
          1.2538032771328882,
          -1.434974536371545,
          -2.5408976248689252,
          -5.100594313456634,
          -3.950274734982555,
          -3.992837614339853,
          -3.9206539545030736,
          -3.5846826394994413,
          -3.1123276857476436,
          14.88475103622938,
          -3.9255132179141254,
          -3.5477584894713483,
          -4.136879364372078,
          -5.728696054400635,
          -3.878455897551896,
          -3.3371320891118903,
          -2.9827315470922064,
          -2.0698233151289256,
          -1.4014876825877052,
          -5.265758595253513,
          -3.191864918782377,
          -4.741213342032702,
          -3.8471852126998947,
          -4.0032639123322475,
          -2.119400826937879,
          27.719486523802697,
          -3.0938873113873795,
          -3.9144880423443538,
          -4.499319202502576,
          -3.6763986921722562,
          -4.236046525577439,
          0.8853492680744215,
          -4.196350121994363,
          -3.9533489557007293,
          -4.939202871185329,
          -2.9588861813245493,
          -4.50933127779235,
          -3.638327578323565,
          0.35104265247480043,
          -3.699110258999253,
          -3.9565140896658093,
          0.19369687164245203,
          -2.8200257602634395,
          -4.283863413530795,
          -3.094869781939023,
          -4.102156738473819,
          -5.300069723123302,
          -1.266181226564859,
          -4.630352713276841,
          -3.987068988861193,
          -2.9869963985287495,
          -4.945704497596348,
          -3.2593446740004817,
          -2.707351402399986,
          -4.11602837809453,
          -4.209920908446603,
          -2.2433669858590783,
          -3.8346580732208624,
          -0.718452890413633,
          -1.447361254903191,
          -5.445900948808356,
          -2.966836722420891,
          -4.839915543738202,
          -3.2536500160406656,
          -2.4445442327290228,
          -0.3030597878249005,
          -4.051148360057149,
          -1.1305767250391934,
          -4.617815675346566,
          -4.495655743461863,
          -3.5561502248351546,
          -4.073366702415428,
          -4.759925544558313,
          -2.6181162389112407,
          -3.05903656186108,
          -2.9277279306925337,
          -0.9199820036176887,
          -5.022304706087523,
          -3.639871870937815,
          -4.48536670706985,
          -4.540477913017039,
          -4.736064868153435,
          -1.8433997391033556,
          -4.4433863133949005,
          -3.270468716250146,
          -1.8974063337141076,
          -3.696203938218327,
          -0.814980576687302,
          0.49069225405270334,
          -4.622374829010698,
          -3.803301100933758,
          -3.278942216200562,
          -3.176892964591645,
          -1.862449348796887,
          -3.2676488535523567,
          -4.895854036238657,
          1.0340572783049817,
          2.9556333498224805,
          -1.1801651114341942,
          5.40059504003883,
          -4.8729906920029356,
          -4.063113378218358,
          -4.302189435360606,
          -1.7872431532739181,
          -1.959027383046573,
          -5.327671495829552,
          -3.4640337005015938
         ],
         "yaxis": "y"
        },
        {
         "customdata": [
          [
           "C7661059",
           "EAS",
           "0.98",
           "AMR",
           "0.012"
          ],
          [
           "C7722923",
           "EAS",
           "0.96",
           "SAS",
           "0.013"
          ],
          [
           "C2743496",
           "EAS",
           "0.98",
           "AMR",
           "0.0092"
          ],
          [
           "C2213572",
           "EAS",
           "0.97",
           "AMR",
           "0.012"
          ],
          [
           "C2185794",
           "EAS",
           "0.98",
           "AMR",
           "0.0096"
          ],
          [
           "C2893567",
           "EAS",
           "0.98",
           "AMR",
           "0.0089"
          ],
          [
           "C2719688",
           "EAS",
           "0.96",
           "AMR",
           "0.015"
          ],
          [
           "C2967032",
           "EAS",
           "0.97",
           "AMR",
           "0.014"
          ],
          [
           "C2488119",
           "EAS",
           "0.98",
           "AMR",
           "0.0078"
          ],
          [
           "C2764972",
           "EAS",
           "0.98",
           "AMR",
           "0.013"
          ],
          [
           "C2269941",
           "EAS",
           "0.95",
           "AMR",
           "0.021"
          ],
          [
           "C2756719",
           "EAS",
           "0.96",
           "AMR",
           "0.022"
          ],
          [
           "C7721233",
           "EAS",
           "0.96",
           "AMR",
           "0.017"
          ],
          [
           "C2501965",
           "EAS",
           "0.92",
           "AMR",
           "0.035"
          ],
          [
           "C2695683_B",
           "EAS",
           "0.97",
           "AMR",
           "0.015"
          ],
          [
           "C2435694",
           "EAS",
           "0.96",
           "AMR",
           "0.019"
          ],
          [
           "C2726948",
           "EAS",
           "0.97",
           "AMR",
           "0.014"
          ],
          [
           "C7526923",
           "EAS",
           "0.97",
           "AMR",
           "0.012"
          ],
          [
           "C2343848",
           "EAS",
           "0.96",
           "AMR",
           "0.019"
          ],
          [
           "C2854608",
           "EAS",
           "0.97",
           "AMR",
           "0.016"
          ],
          [
           "C2308186",
           "EAS",
           "0.97",
           "AMR",
           "0.015"
          ],
          [
           "C2676513",
           "EAS",
           "0.97",
           "AMR",
           "0.013"
          ],
          [
           "C9896176",
           "EAS",
           "0.92",
           "AMR",
           "0.037"
          ],
          [
           "C9439087",
           "EAS",
           "0.98",
           "AMR",
           "0.0074"
          ],
          [
           "C2442839",
           "EAS",
           "0.98",
           "AMR",
           "0.0069"
          ],
          [
           "C2946462",
           "EAS",
           "0.98",
           "AMR",
           "0.012"
          ],
          [
           "C2044638",
           "EAS",
           "0.94",
           "AMR",
           "0.033"
          ],
          [
           "C7321354",
           "EAS",
           "0.98",
           "AMR",
           "0.0052"
          ],
          [
           "C2753437",
           "EAS",
           "0.98",
           "AMR",
           "0.01"
          ],
          [
           "C2297508",
           "EAS",
           "0.98",
           "AMR",
           "0.011"
          ],
          [
           "C2563157",
           "EAS",
           "0.95",
           "AMR",
           "0.024"
          ],
          [
           "C2657436",
           "EAS",
           "0.95",
           "AMR",
           "0.021"
          ],
          [
           "C2547590",
           "EAS",
           "0.97",
           "AMR",
           "0.016"
          ],
          [
           "C2347086",
           "EAS",
           "0.97",
           "AMR",
           "0.015"
          ],
          [
           "C2806985",
           "EAS",
           "0.97",
           "SAS",
           "0.01"
          ],
          [
           "C2575592",
           "EAS",
           "0.96",
           "AMR",
           "0.021"
          ],
          [
           "C7797481",
           "EAS",
           "0.97",
           "AMR",
           "0.0093"
          ],
          [
           "C2091073",
           "EAS",
           "0.97",
           "AMR",
           "0.0095"
          ],
          [
           "C2082459",
           "EAS",
           "0.96",
           "AMR",
           "0.021"
          ],
          [
           "C3585027",
           "EAS",
           "0.98",
           "AMR",
           "0.007"
          ],
          [
           "C4934163",
           "EAS",
           "0.97",
           "AMR",
           "0.014"
          ],
          [
           "C9833901",
           "EAS",
           "0.96",
           "AMR",
           "0.015"
          ],
          [
           "C2695683_A",
           "EAS",
           "0.97",
           "AMR",
           "0.015"
          ],
          [
           "C1371790",
           "EAS",
           "0.97",
           "SAS",
           "0.0095"
          ],
          [
           "C2392071",
           "EAS",
           "0.89",
           "AMR",
           "0.061"
          ],
          [
           "C2900292",
           "EAS",
           "0.98",
           "AMR",
           "0.012"
          ],
          [
           "C2120252",
           "EAS",
           "0.96",
           "AMR",
           "0.019"
          ],
          [
           "C2271854",
           "EAS",
           "0.95",
           "AMR",
           "0.023"
          ],
          [
           "C2429553",
           "EAS",
           "0.97",
           "AMR",
           "0.016"
          ],
          [
           "C2964148",
           "EAS",
           "0.97",
           "AMR",
           "0.014"
          ],
          [
           "C2963120",
           "EAS",
           "0.97",
           "AMR",
           "0.014"
          ],
          [
           "C2958726",
           "EAS",
           "0.97",
           "AMR",
           "0.016"
          ],
          [
           "C2960443",
           "EAS",
           "0.96",
           "AMR",
           "0.022"
          ],
          [
           "C2728218",
           "EAS",
           "0.98",
           "AMR",
           "0.01"
          ],
          [
           "C2794096",
           "EAS",
           "0.98",
           "AMR",
           "0.0083"
          ],
          [
           "C2646930",
           "EAS",
           "0.98",
           "AMR",
           "0.01"
          ],
          [
           "C2952024",
           "EAS",
           "0.98",
           "AMR",
           "0.011"
          ],
          [
           "C2753421",
           "EAS",
           "0.96",
           "AMR",
           "0.018"
          ],
          [
           "C7231807",
           "EAS",
           "0.97",
           "AMR",
           "0.011"
          ],
          [
           "C2899426",
           "EAS",
           "0.97",
           "AMR",
           "0.017"
          ],
          [
           "C2905055",
           "EAS",
           "0.98",
           "AMR",
           "0.011"
          ],
          [
           "C2375657",
           "EAS",
           "0.97",
           "AMR",
           "0.017"
          ],
          [
           "C2472941",
           "EAS",
           "0.98",
           "AMR",
           "0.0078"
          ],
          [
           "C7787459",
           "EAS",
           "0.98",
           "AMR",
           "0.0066"
          ],
          [
           "C2777597",
           "EAS",
           "0.95",
           "AMR",
           "0.025"
          ],
          [
           "C2711568",
           "EAS",
           "0.95",
           "AMR",
           "0.029"
          ],
          [
           "C2278135",
           "EAS",
           "0.97",
           "AMR",
           "0.011"
          ],
          [
           "C9546882",
           "EAS",
           "0.76",
           "SAS",
           "0.11"
          ],
          [
           "C2066334",
           "EAS",
           "0.98",
           "AMR",
           "0.0099"
          ],
          [
           "C2131184",
           "EAS",
           "0.97",
           "AMR",
           "0.016"
          ],
          [
           "C2558702",
           "EAS",
           "0.97",
           "AMR",
           "0.012"
          ],
          [
           "C2460187",
           "EAS",
           "0.98",
           "AMR",
           "0.012"
          ],
          [
           "C2693056",
           "EAS",
           "0.96",
           "AMR",
           "0.015"
          ],
          [
           "C7543363",
           "EAS",
           "0.96",
           "AMR",
           "0.014"
          ],
          [
           "C2735834",
           "EAS",
           "0.94",
           "AMR",
           "0.03"
          ],
          [
           "C2371710",
           "EAS",
           "0.97",
           "AMR",
           "0.012"
          ],
          [
           "C2535183",
           "EAS",
           "0.96",
           "AMR",
           "0.02"
          ],
          [
           "C8271677",
           "EAS",
           "0.98",
           "AMR",
           "0.0099"
          ],
          [
           "C2792284",
           "EAS",
           "0.97",
           "AMR",
           "0.011"
          ],
          [
           "C9833467",
           "EAS",
           "0.4",
           "SAS",
           "0.25"
          ],
          [
           "C2095437",
           "EAS",
           "0.97",
           "AMR",
           "0.014"
          ],
          [
           "C2191909",
           "EAS",
           "0.98",
           "AMR",
           "0.0072"
          ],
          [
           "C2594695",
           "EAS",
           "0.94",
           "AMR",
           "0.032"
          ],
          [
           "C2337466",
           "EAS",
           "0.96",
           "AMR",
           "0.019"
          ],
          [
           "C9281603_B",
           "EAS",
           "0.97",
           "AMR",
           "0.015"
          ],
          [
           "C2284019",
           "EAS",
           "0.98",
           "AMR",
           "0.0069"
          ],
          [
           "C2712373",
           "EAS",
           "0.96",
           "AMR",
           "0.02"
          ],
          [
           "C0994645",
           "EAS",
           "0.96",
           "SAS",
           "0.018"
          ],
          [
           "C8870889",
           "EAS",
           "0.97",
           "AMR",
           "0.015"
          ],
          [
           "C2495200",
           "EAS",
           "0.97",
           "AMR",
           "0.013"
          ],
          [
           "C2842150",
           "EAS",
           "0.99",
           "AMR",
           "0.006"
          ],
          [
           "C2851117",
           "EAS",
           "0.97",
           "AMR",
           "0.014"
          ],
          [
           "C9885098",
           "EAS",
           "0.4",
           "AMR",
           "0.33"
          ],
          [
           "C2978591",
           "EAS",
           "0.96",
           "AMR",
           "0.023"
          ],
          [
           "C2901838",
           "EAS",
           "0.96",
           "AMR",
           "0.019"
          ],
          [
           "C2884087",
           "EAS",
           "0.96",
           "AMR",
           "0.018"
          ],
          [
           "C2814454",
           "EAS",
           "0.94",
           "AMR",
           "0.03"
          ],
          [
           "C2918178",
           "EAS",
           "0.98",
           "AMR",
           "0.0055"
          ],
          [
           "C2248002",
           "EAS",
           "0.96",
           "AMR",
           "0.018"
          ],
          [
           "C2414698",
           "EAS",
           "0.98",
           "AMR",
           "0.013"
          ],
          [
           "C2487949",
           "EAS",
           "0.97",
           "AMR",
           "0.017"
          ],
          [
           "C2196396_A",
           "EAS",
           "0.97",
           "AMR",
           "0.014"
          ],
          [
           "C2400164",
           "EAS",
           "0.95",
           "AMR",
           "0.028"
          ],
          [
           "C7750012",
           "EAS",
           "0.96",
           "AMR",
           "0.015"
          ],
          [
           "C9010879",
           "EAS",
           "0.77",
           "AMR",
           "0.1"
          ],
          [
           "C2575795",
           "EAS",
           "0.96",
           "AMR",
           "0.021"
          ],
          [
           "C2717299",
           "EAS",
           "0.97",
           "AMR",
           "0.013"
          ],
          [
           "C2077527",
           "EAS",
           "0.96",
           "AMR",
           "0.02"
          ],
          [
           "C2451842",
           "EAS",
           "0.97",
           "AMR",
           "0.018"
          ],
          [
           "C2013700",
           "EAS",
           "0.95",
           "AMR",
           "0.019"
          ],
          [
           "C7317458",
           "EAS",
           "0.98",
           "AMR",
           "0.0082"
          ],
          [
           "C2440130",
           "EAS",
           "0.97",
           "AMR",
           "0.016"
          ],
          [
           "C2615711",
           "EAS",
           "0.97",
           "AMR",
           "0.016"
          ],
          [
           "C2420529",
           "EAS",
           "0.97",
           "AMR",
           "0.015"
          ],
          [
           "C9281603_A",
           "EAS",
           "0.97",
           "AMR",
           "0.016"
          ],
          [
           "C2272037",
           "EAS",
           "0.98",
           "AMR",
           "0.01"
          ],
          [
           "C2974662",
           "EAS",
           "0.94",
           "AMR",
           "0.027"
          ],
          [
           "C2880838",
           "EAS",
           "0.98",
           "AMR",
           "0.011"
          ],
          [
           "C2720398",
           "EAS",
           "0.97",
           "AMR",
           "0.016"
          ],
          [
           "C0709561",
           "EAS",
           "0.39",
           "AMR",
           "0.32"
          ],
          [
           "C2869615",
           "EAS",
           "0.97",
           "AMR",
           "0.013"
          ],
          [
           "C2851928",
           "EAS",
           "0.98",
           "AMR",
           "0.012"
          ],
          [
           "C2284359",
           "EAS",
           "0.97",
           "AMR",
           "0.012"
          ],
          [
           "C2525049",
           "EAS",
           "0.95",
           "AMR",
           "0.031"
          ],
          [
           "C7546689",
           "EAS",
           "0.94",
           "SAS",
           "0.026"
          ],
          [
           "C2211784",
           "EAS",
           "0.96",
           "AMR",
           "0.021"
          ],
          [
           "C2273861",
           "EAS",
           "0.98",
           "AMR",
           "0.008"
          ],
          [
           "C7845278",
           "EAS",
           "0.98",
           "AMR",
           "0.0071"
          ],
          [
           "C7917704",
           "EAS",
           "0.96",
           "AMR",
           "0.016"
          ],
          [
           "C7575296",
           "EAS",
           "0.97",
           "AMR",
           "0.011"
          ],
          [
           "C2412216",
           "EAS",
           "0.97",
           "AMR",
           "0.014"
          ],
          [
           "C2196396_B",
           "EAS",
           "0.97",
           "AMR",
           "0.014"
          ],
          [
           "C7935652",
           "EAS",
           "0.98",
           "AMR",
           "0.011"
          ],
          [
           "C2256485",
           "EAS",
           "0.98",
           "AMR",
           "0.0083"
          ],
          [
           "C2965113",
           "EAS",
           "0.97",
           "AMR",
           "0.014"
          ],
          [
           "C2334072",
           "EAS",
           "0.97",
           "AMR",
           "0.013"
          ],
          [
           "C2743556",
           "EAS",
           "0.97",
           "AMR",
           "0.012"
          ],
          [
           "C2942862",
           "EAS",
           "0.96",
           "AMR",
           "0.02"
          ],
          [
           "C2599062",
           "EAS",
           "0.97",
           "SAS",
           "0.013"
          ],
          [
           "C2419250",
           "EAS",
           "0.97",
           "AMR",
           "0.015"
          ],
          [
           "C2583097",
           "EAS",
           "0.97",
           "AMR",
           "0.016"
          ]
         ],
         "hovertemplate": "<b>%{hovertext}</b><br><br>Pred=%{customdata[1]}<br>PC1=%{x}<br>PC2=%{y}<br>Sample=%{customdata[0]}<br>Primary_Perc=%{customdata[2]}<br>Second=%{customdata[3]}<br>Second_Perc=%{customdata[4]}<extra></extra>",
         "hovertext": [
          "C7661059",
          "C7722923",
          "C2743496",
          "C2213572",
          "C2185794",
          "C2893567",
          "C2719688",
          "C2967032",
          "C2488119",
          "C2764972",
          "C2269941",
          "C2756719",
          "C7721233",
          "C2501965",
          "C2695683_B",
          "C2435694",
          "C2726948",
          "C7526923",
          "C2343848",
          "C2854608",
          "C2308186",
          "C2676513",
          "C9896176",
          "C9439087",
          "C2442839",
          "C2946462",
          "C2044638",
          "C7321354",
          "C2753437",
          "C2297508",
          "C2563157",
          "C2657436",
          "C2547590",
          "C2347086",
          "C2806985",
          "C2575592",
          "C7797481",
          "C2091073",
          "C2082459",
          "C3585027",
          "C4934163",
          "C9833901",
          "C2695683_A",
          "C1371790",
          "C2392071",
          "C2900292",
          "C2120252",
          "C2271854",
          "C2429553",
          "C2964148",
          "C2963120",
          "C2958726",
          "C2960443",
          "C2728218",
          "C2794096",
          "C2646930",
          "C2952024",
          "C2753421",
          "C7231807",
          "C2899426",
          "C2905055",
          "C2375657",
          "C2472941",
          "C7787459",
          "C2777597",
          "C2711568",
          "C2278135",
          "C9546882",
          "C2066334",
          "C2131184",
          "C2558702",
          "C2460187",
          "C2693056",
          "C7543363",
          "C2735834",
          "C2371710",
          "C2535183",
          "C8271677",
          "C2792284",
          "C9833467",
          "C2095437",
          "C2191909",
          "C2594695",
          "C2337466",
          "C9281603_B",
          "C2284019",
          "C2712373",
          "C0994645",
          "C8870889",
          "C2495200",
          "C2842150",
          "C2851117",
          "C9885098",
          "C2978591",
          "C2901838",
          "C2884087",
          "C2814454",
          "C2918178",
          "C2248002",
          "C2414698",
          "C2487949",
          "C2196396_A",
          "C2400164",
          "C7750012",
          "C9010879",
          "C2575795",
          "C2717299",
          "C2077527",
          "C2451842",
          "C2013700",
          "C7317458",
          "C2440130",
          "C2615711",
          "C2420529",
          "C9281603_A",
          "C2272037",
          "C2974662",
          "C2880838",
          "C2720398",
          "C0709561",
          "C2869615",
          "C2851928",
          "C2284359",
          "C2525049",
          "C7546689",
          "C2211784",
          "C2273861",
          "C7845278",
          "C7917704",
          "C7575296",
          "C2412216",
          "C2196396_B",
          "C7935652",
          "C2256485",
          "C2965113",
          "C2334072",
          "C2743556",
          "C2942862",
          "C2599062",
          "C2419250",
          "C2583097"
         ],
         "legendgroup": "EAS",
         "marker": {
          "color": "#EF553B",
          "symbol": "circle"
         },
         "mode": "markers",
         "name": "EAS",
         "orientation": "v",
         "showlegend": true,
         "type": "scatter",
         "x": [
          46.71276731908107,
          49.7297322938994,
          51.05191645853108,
          48.891262499811546,
          50.075818765047764,
          47.47192223577169,
          49.05337334530493,
          49.14258946753861,
          51.60930013058498,
          47.94977566133575,
          43.29271788683686,
          47.367197752772086,
          43.600187934768805,
          45.379018265512855,
          51.394256433893155,
          44.81377789730106,
          46.915938308703794,
          48.869102931688516,
          48.468400950682465,
          45.141473661834496,
          47.61174154471114,
          47.77729034496793,
          42.84913284707667,
          44.47538414374296,
          48.89440442170433,
          49.92276423806767,
          48.40308302358977,
          45.16788248146439,
          47.33791056467411,
          48.17456340783839,
          47.157648934613775,
          46.90062570930832,
          44.20182052365923,
          47.38464577238312,
          45.30103404265658,
          45.89920315150872,
          43.977355631183094,
          48.700831535128366,
          49.15984593583943,
          50.697695024936756,
          52.2813338215372,
          42.80627983019095,
          51.38985925698081,
          43.949243662388014,
          45.75729419592737,
          48.18914660027483,
          45.339572634122185,
          43.69465989751266,
          47.684996236109775,
          48.58497413154195,
          47.14585258550196,
          51.229994576483755,
          46.90783439053773,
          49.36851913400386,
          50.69673118659418,
          49.755164908903645,
          47.65226525847432,
          46.764978022897665,
          49.67316465561685,
          48.842758447392654,
          48.16337581818785,
          52.973659143248604,
          53.595913486220816,
          46.24367616796036,
          47.12872625205263,
          47.43373681115124,
          49.665505763739404,
          34.568268699744316,
          45.73095864914113,
          49.742406251678716,
          46.16780341805598,
          52.51556973258682,
          47.91348716029481,
          44.804022923724666,
          45.8596059213469,
          45.44450396258064,
          48.27700560750795,
          45.91032177989032,
          50.70904129945863,
          19.268157360027423,
          50.130048308412604,
          48.245994342196944,
          51.00309713791324,
          46.59631259208463,
          48.65548822492131,
          52.00266348780905,
          46.78903159618314,
          42.55714495396771,
          47.96030152207309,
          48.701357814081234,
          52.640639775620635,
          49.70966001580964,
          20.18596397094278,
          47.04944888033579,
          47.93864843379574,
          49.58970613110271,
          44.7328504541344,
          51.64718273944224,
          47.43044504899598,
          47.000968638806,
          46.65460546883088,
          50.01406098635675,
          44.812470644142394,
          43.330738078559044,
          36.17249414897745,
          47.44104475675493,
          47.89072259074136,
          44.36720033632227,
          47.875446365247605,
          46.747465734178654,
          46.537655719602434,
          46.55213166135578,
          47.43959644799398,
          47.12188712339733,
          47.07021561830553,
          48.19064029358172,
          51.53391092869527,
          47.76756430942511,
          51.35057885907533,
          20.27134298915536,
          45.64424402844191,
          48.460577050121735,
          44.52665817750574,
          45.26717611127673,
          42.11668280391771,
          47.21630125855293,
          46.16242093022487,
          46.40428320010055,
          44.52152605554723,
          45.17550939993738,
          49.2540523800478,
          49.612156834760455,
          46.9212136090591,
          50.404505249878746,
          51.962798559539664,
          48.877631113721414,
          48.41708947269464,
          44.420839628878284,
          49.97129367026918,
          47.3068750451923,
          48.117110133311925
         ],
         "xaxis": "x",
         "y": [
          -8.182759682962573,
          -4.28839694567422,
          -5.439372612075555,
          -5.9852551677093295,
          -5.225781105633979,
          -4.7505598388061205,
          -4.781221974891773,
          -6.651984680308363,
          -5.8335915264676865,
          -6.079341626239765,
          -6.169489558741765,
          -4.864825259413229,
          -3.8497888108795557,
          -4.590327300717171,
          -5.738853186622238,
          -7.898865943994642,
          -5.200723821958813,
          -5.698268309537463,
          -6.151016354776872,
          -6.145940179148079,
          -6.033265113949026,
          -5.374527715540823,
          -3.879347724393448,
          -5.770688242535677,
          -5.268121830222272,
          -7.60960115943695,
          -6.952816127010592,
          -5.292041926729208,
          -6.931176804389577,
          -7.540179621661825,
          -6.248795767622553,
          -5.479955097300816,
          -6.668400953732733,
          -5.512635539055046,
          -6.2184383744342,
          -6.845690913068236,
          -3.731757293521065,
          -5.646773782392724,
          -3.0608327836046296,
          -6.247782704182209,
          -6.82184454561812,
          -4.133027023313332,
          -5.820277712936262,
          -7.044249160955288,
          -5.389522009968777,
          -5.58740430752379,
          -6.149557107117661,
          -6.344362153919086,
          -8.127769288351987,
          -5.627516972686266,
          -3.7014605119850352,
          -5.648491775805552,
          -4.537766662397026,
          -5.352457646559265,
          -6.268581468143327,
          -7.378751241481823,
          -6.8109805261313285,
          -5.564527299131116,
          -5.826879032433492,
          -5.54296131541688,
          -5.89767632613183,
          -6.367231392764646,
          -5.857680382584662,
          -4.44229287952127,
          -6.450360402419015,
          -5.84200279313947,
          -5.361027712193619,
          -1.8337410474714466,
          -6.018410087496258,
          -5.104751638856534,
          -7.345845655411361,
          -5.2365632790830805,
          -7.735908297997667,
          -3.8528957142449984,
          -5.128340955471187,
          -5.867117484322704,
          -6.549531238273311,
          -7.27807670825871,
          -4.898384093692754,
          -5.2964859838268055,
          -6.8945269581216895,
          -5.204962868888429,
          -6.523380631358727,
          -6.874566532484131,
          -6.302513887164288,
          -5.518948030723596,
          -6.641681606580697,
          -3.258154196457758,
          -7.13488888556749,
          -4.296973952055154,
          -5.4877242974834815,
          -5.6325757836949455,
          -4.227284087272924,
          -5.729577367037128,
          -3.449284689487699,
          -6.213352454405257,
          -6.284142543340503,
          -4.759486382524387,
          -4.6313114724184175,
          -4.900035615032799,
          -6.888202546033941,
          -7.104633801093466,
          -7.050852781812306,
          -3.1305531820365853,
          6.167004647272348,
          -5.474417476361694,
          -5.0947019973966805,
          -4.1718663598025385,
          -6.560338182398162,
          -6.222763550755734,
          -5.406906002789559,
          -5.186260043226578,
          -6.101764246524737,
          -4.038034638010736,
          -6.174219330088255,
          -7.594551636936303,
          -5.765038027797731,
          -5.3067841992497655,
          -5.600977217446552,
          -4.470635368758443,
          -5.505774698834281,
          -6.783253162563354,
          -6.009821193591222,
          -6.918387108216855,
          -3.2921596631415544,
          -5.620293942361969,
          -6.714848433377466,
          -5.800918299218447,
          -3.1133757785134337,
          -6.2021712785877385,
          -4.5077131858054456,
          -7.454723894856231,
          -6.080131604870314,
          -6.609769139111155,
          -4.83304342387166,
          -4.0343289582792154,
          -5.62842924035317,
          -5.999965785520339,
          -5.129041481837851,
          -7.878618949415587,
          -5.9290360360497205
         ],
         "yaxis": "y"
        },
        {
         "customdata": [
          [
           "C9824232",
           "AFR",
           "0.99",
           "SAS",
           "0.005"
          ],
          [
           "C9791100",
           "AFR",
           "0.97",
           "SAS",
           "0.013"
          ],
          [
           "C7749291",
           "AFR",
           "0.51",
           "SAS",
           "0.18"
          ],
          [
           "C9382916",
           "AFR",
           "0.98",
           "SAS",
           "0.0095"
          ],
          [
           "C8081793",
           "AFR",
           "0.9",
           "SAS",
           "0.045"
          ],
          [
           "C9019762",
           "AFR",
           "0.96",
           "SAS",
           "0.016"
          ],
          [
           "C8238726",
           "AFR",
           "0.99",
           "SAS",
           "0.0019"
          ],
          [
           "C2659472",
           "AFR",
           "0.79",
           "SAS",
           "0.11"
          ],
          [
           "C9444952",
           "AFR",
           "0.96",
           "SAS",
           "0.017"
          ],
          [
           "C9296958",
           "AFR",
           "0.86",
           "SAS",
           "0.071"
          ],
          [
           "C7202805",
           "AFR",
           "0.57",
           "AMR",
           "0.17"
          ],
          [
           "C9553207",
           "AFR",
           "0.98",
           "SAS",
           "0.0063"
          ],
          [
           "C9427412",
           "AFR",
           "0.99",
           "SAS",
           "0.0047"
          ],
          [
           "C9787361",
           "AFR",
           "0.96",
           "SAS",
           "0.016"
          ],
          [
           "C9692811",
           "AFR",
           "0.98",
           "SAS",
           "0.0065"
          ],
          [
           "C9276134",
           "AFR",
           "0.97",
           "SAS",
           "0.011"
          ],
          [
           "C9945711",
           "AFR",
           "0.97",
           "SAS",
           "0.01"
          ],
          [
           "C7133331",
           "AFR",
           "0.95",
           "SAS",
           "0.022"
          ],
          [
           "C9955418",
           "AFR",
           "0.97",
           "SAS",
           "0.013"
          ],
          [
           "C9131164",
           "AFR",
           "0.97",
           "SAS",
           "0.016"
          ],
          [
           "C9332639",
           "AFR",
           "0.96",
           "SAS",
           "0.018"
          ],
          [
           "C9409283",
           "AFR",
           "0.98",
           "SAS",
           "0.0096"
          ],
          [
           "C9533499",
           "AFR",
           "0.99",
           "SAS",
           "0.0049"
          ],
          [
           "C9877132",
           "AFR",
           "0.84",
           "SAS",
           "0.08"
          ],
          [
           "C9095270",
           "AFR",
           "0.99",
           "SAS",
           "0.0046"
          ]
         ],
         "hovertemplate": "<b>%{hovertext}</b><br><br>Pred=%{customdata[1]}<br>PC1=%{x}<br>PC2=%{y}<br>Sample=%{customdata[0]}<br>Primary_Perc=%{customdata[2]}<br>Second=%{customdata[3]}<br>Second_Perc=%{customdata[4]}<extra></extra>",
         "hovertext": [
          "C9824232",
          "C9791100",
          "C7749291",
          "C9382916",
          "C8081793",
          "C9019762",
          "C8238726",
          "C2659472",
          "C9444952",
          "C9296958",
          "C7202805",
          "C9553207",
          "C9427412",
          "C9787361",
          "C9692811",
          "C9276134",
          "C9945711",
          "C7133331",
          "C9955418",
          "C9131164",
          "C9332639",
          "C9409283",
          "C9533499",
          "C9877132",
          "C9095270"
         ],
         "legendgroup": "AFR",
         "marker": {
          "color": "#00cc96",
          "symbol": "circle"
         },
         "mode": "markers",
         "name": "AFR",
         "orientation": "v",
         "showlegend": true,
         "type": "scatter",
         "x": [
          7.414184911692671,
          3.8050939480422907,
          5.879932387892381,
          6.418192903002807,
          4.402480329724654,
          7.705651832694396,
          11.736260365157506,
          1.218094142525453,
          8.476520176725584,
          1.8384003383112337,
          0.04226654938129052,
          12.780759605184908,
          11.579570081781606,
          4.123373584647188,
          7.897641023906184,
          8.44064550813417,
          8.86656272361496,
          4.399854131633642,
          6.605559161035085,
          6.864575091935227,
          6.109051978125196,
          7.8628750970560715,
          8.304833231872808,
          -1.5526167460041103,
          10.296138384729511
         ],
         "xaxis": "x",
         "y": [
          120.37557812425588,
          108.1275072881069,
          51.2617504801551,
          102.98539862677758,
          76.19785328386727,
          99.7408853306899,
          137.8976740373954,
          51.32929664235439,
          106.8037178109377,
          76.53434551135243,
          58.11233857590065,
          130.60932384629018,
          127.29173906900475,
          95.25319810847292,
          110.88255319972166,
          96.72036149975938,
          99.937236621598,
          69.8737405819156,
          96.26385375501698,
          101.02951945850195,
          93.91162838728,
          124.91376988339886,
          113.86761690119289,
          83.3423465573181,
          118.03850141374446
         ],
         "yaxis": "y"
        },
        {
         "customdata": [
          [
           "C9269942",
           "SAS",
           "0.64",
           "EUR",
           "0.2"
          ],
          [
           "C8273825",
           "SAS",
           "0.44",
           "EUR",
           "0.41"
          ],
          [
           "C7044638",
           "SAS",
           "0.81",
           "AMR",
           "0.09"
          ],
          [
           "C7680316",
           "SAS",
           "0.87",
           "AMR",
           "0.076"
          ],
          [
           "C7166808",
           "SAS",
           "0.75",
           "AMR",
           "0.16"
          ],
          [
           "C7256776",
           "SAS",
           "0.76",
           "AMR",
           "0.1"
          ],
          [
           "C7671735_A",
           "SAS",
           "0.86",
           "AMR",
           "0.073"
          ],
          [
           "C4850216",
           "SAS",
           "0.79",
           "EUR",
           "0.13"
          ],
          [
           "C9720398",
           "SAS",
           "0.48",
           "EUR",
           "0.38"
          ],
          [
           "C5753437",
           "SAS",
           "0.6",
           "EUR",
           "0.32"
          ],
          [
           "C0957033",
           "SAS",
           "0.72",
           "EUR",
           "0.18"
          ],
          [
           "C9539913",
           "SAS",
           "0.58",
           "EUR",
           "0.35"
          ],
          [
           "C9345971",
           "SAS",
           "0.75",
           "AMR",
           "0.14"
          ],
          [
           "C8749940",
           "SAS",
           "0.53",
           "EUR",
           "0.24"
          ],
          [
           "C7549733",
           "SAS",
           "0.95",
           "AMR",
           "0.024"
          ],
          [
           "C7671735_B",
           "SAS",
           "0.86",
           "AMR",
           "0.073"
          ],
          [
           "C5575592",
           "SAS",
           "0.68",
           "EUR",
           "0.26"
          ],
          [
           "C7667839",
           "SAS",
           "0.57",
           "EUR",
           "0.37"
          ],
          [
           "C8933068",
           "SAS",
           "0.46",
           "AMR",
           "0.19"
          ]
         ],
         "hovertemplate": "<b>%{hovertext}</b><br><br>Pred=%{customdata[1]}<br>PC1=%{x}<br>PC2=%{y}<br>Sample=%{customdata[0]}<br>Primary_Perc=%{customdata[2]}<br>Second=%{customdata[3]}<br>Second_Perc=%{customdata[4]}<extra></extra>",
         "hovertext": [
          "C9269942",
          "C8273825",
          "C7044638",
          "C7680316",
          "C7166808",
          "C7256776",
          "C7671735_A",
          "C4850216",
          "C9720398",
          "C5753437",
          "C0957033",
          "C9539913",
          "C9345971",
          "C8749940",
          "C7549733",
          "C7671735_B",
          "C5575592",
          "C7667839",
          "C8933068"
         ],
         "legendgroup": "SAS",
         "marker": {
          "color": "#ab63fa",
          "symbol": "circle"
         },
         "mode": "markers",
         "name": "SAS",
         "orientation": "v",
         "showlegend": true,
         "type": "scatter",
         "x": [
          -8.237407673163208,
          -7.080655927824059,
          12.325414524326339,
          3.067855002033199,
          3.414497274173817,
          12.60170086077272,
          10.261061446021001,
          -5.444542293579824,
          -11.416793996210915,
          -9.990929935088396,
          -2.7208302298882976,
          -11.505019865514154,
          -1.4346264355215324,
          -7.53013644070123,
          6.471116560812885,
          10.742128418102846,
          -6.9568624778914305,
          -7.419230820860153,
          -6.577257265682992
         ],
         "xaxis": "x",
         "y": [
          11.411055358048669,
          13.496593638225418,
          0.7976562596669331,
          -0.8348469040112871,
          -0.09873302040336919,
          0.17854747601584944,
          0.19443756026938033,
          0.38279028699220485,
          1.0441537898332542,
          -2.1655332931831426,
          -0.8004589207303002,
          2.101555180702149,
          -0.007074320823235454,
          20.798123174583406,
          -0.6219591062768153,
          0.5468792024322109,
          -2.0389647700319298,
          -2.1603694586371183,
          13.921765546513479
         ],
         "yaxis": "y"
        },
        {
         "customdata": [
          [
           "C8607789",
           "AMR",
           "0.71",
           "EUR",
           "0.17"
          ],
          [
           "C9422544",
           "AMR",
           "0.78",
           "SAS",
           "0.098"
          ],
          [
           "C9012431",
           "AMR",
           "0.89",
           "SAS",
           "0.061"
          ]
         ],
         "hovertemplate": "<b>%{hovertext}</b><br><br>Pred=%{customdata[1]}<br>PC1=%{x}<br>PC2=%{y}<br>Sample=%{customdata[0]}<br>Primary_Perc=%{customdata[2]}<br>Second=%{customdata[3]}<br>Second_Perc=%{customdata[4]}<extra></extra>",
         "hovertext": [
          "C8607789",
          "C9422544",
          "C9012431"
         ],
         "legendgroup": "AMR",
         "marker": {
          "color": "#FFA15A",
          "symbol": "circle"
         },
         "mode": "markers",
         "name": "AMR",
         "orientation": "v",
         "showlegend": true,
         "type": "scatter",
         "x": [
          2.0982541523270593,
          6.172495429850183,
          7.941831851233738
         ],
         "xaxis": "x",
         "y": [
          0.2520753145371524,
          -0.40326448952335675,
          -0.03995250838705632
         ],
         "yaxis": "y"
        }
       ],
       "layout": {
        "autosize": true,
        "height": 800,
        "legend": {
         "title": {
          "text": "Pred"
         },
         "tracegroupgap": 0
        },
        "template": {
         "data": {
          "bar": [
           {
            "error_x": {
             "color": "#2a3f5f"
            },
            "error_y": {
             "color": "#2a3f5f"
            },
            "marker": {
             "line": {
              "color": "#E5ECF6",
              "width": 0.5
             },
             "pattern": {
              "fillmode": "overlay",
              "size": 10,
              "solidity": 0.2
             }
            },
            "type": "bar"
           }
          ],
          "barpolar": [
           {
            "marker": {
             "line": {
              "color": "#E5ECF6",
              "width": 0.5
             },
             "pattern": {
              "fillmode": "overlay",
              "size": 10,
              "solidity": 0.2
             }
            },
            "type": "barpolar"
           }
          ],
          "carpet": [
           {
            "aaxis": {
             "endlinecolor": "#2a3f5f",
             "gridcolor": "white",
             "linecolor": "white",
             "minorgridcolor": "white",
             "startlinecolor": "#2a3f5f"
            },
            "baxis": {
             "endlinecolor": "#2a3f5f",
             "gridcolor": "white",
             "linecolor": "white",
             "minorgridcolor": "white",
             "startlinecolor": "#2a3f5f"
            },
            "type": "carpet"
           }
          ],
          "choropleth": [
           {
            "colorbar": {
             "outlinewidth": 0,
             "ticks": ""
            },
            "type": "choropleth"
           }
          ],
          "contour": [
           {
            "colorbar": {
             "outlinewidth": 0,
             "ticks": ""
            },
            "colorscale": [
             [
              0,
              "#0d0887"
             ],
             [
              0.1111111111111111,
              "#46039f"
             ],
             [
              0.2222222222222222,
              "#7201a8"
             ],
             [
              0.3333333333333333,
              "#9c179e"
             ],
             [
              0.4444444444444444,
              "#bd3786"
             ],
             [
              0.5555555555555556,
              "#d8576b"
             ],
             [
              0.6666666666666666,
              "#ed7953"
             ],
             [
              0.7777777777777778,
              "#fb9f3a"
             ],
             [
              0.8888888888888888,
              "#fdca26"
             ],
             [
              1,
              "#f0f921"
             ]
            ],
            "type": "contour"
           }
          ],
          "contourcarpet": [
           {
            "colorbar": {
             "outlinewidth": 0,
             "ticks": ""
            },
            "type": "contourcarpet"
           }
          ],
          "heatmap": [
           {
            "colorbar": {
             "outlinewidth": 0,
             "ticks": ""
            },
            "colorscale": [
             [
              0,
              "#0d0887"
             ],
             [
              0.1111111111111111,
              "#46039f"
             ],
             [
              0.2222222222222222,
              "#7201a8"
             ],
             [
              0.3333333333333333,
              "#9c179e"
             ],
             [
              0.4444444444444444,
              "#bd3786"
             ],
             [
              0.5555555555555556,
              "#d8576b"
             ],
             [
              0.6666666666666666,
              "#ed7953"
             ],
             [
              0.7777777777777778,
              "#fb9f3a"
             ],
             [
              0.8888888888888888,
              "#fdca26"
             ],
             [
              1,
              "#f0f921"
             ]
            ],
            "type": "heatmap"
           }
          ],
          "heatmapgl": [
           {
            "colorbar": {
             "outlinewidth": 0,
             "ticks": ""
            },
            "colorscale": [
             [
              0,
              "#0d0887"
             ],
             [
              0.1111111111111111,
              "#46039f"
             ],
             [
              0.2222222222222222,
              "#7201a8"
             ],
             [
              0.3333333333333333,
              "#9c179e"
             ],
             [
              0.4444444444444444,
              "#bd3786"
             ],
             [
              0.5555555555555556,
              "#d8576b"
             ],
             [
              0.6666666666666666,
              "#ed7953"
             ],
             [
              0.7777777777777778,
              "#fb9f3a"
             ],
             [
              0.8888888888888888,
              "#fdca26"
             ],
             [
              1,
              "#f0f921"
             ]
            ],
            "type": "heatmapgl"
           }
          ],
          "histogram": [
           {
            "marker": {
             "pattern": {
              "fillmode": "overlay",
              "size": 10,
              "solidity": 0.2
             }
            },
            "type": "histogram"
           }
          ],
          "histogram2d": [
           {
            "colorbar": {
             "outlinewidth": 0,
             "ticks": ""
            },
            "colorscale": [
             [
              0,
              "#0d0887"
             ],
             [
              0.1111111111111111,
              "#46039f"
             ],
             [
              0.2222222222222222,
              "#7201a8"
             ],
             [
              0.3333333333333333,
              "#9c179e"
             ],
             [
              0.4444444444444444,
              "#bd3786"
             ],
             [
              0.5555555555555556,
              "#d8576b"
             ],
             [
              0.6666666666666666,
              "#ed7953"
             ],
             [
              0.7777777777777778,
              "#fb9f3a"
             ],
             [
              0.8888888888888888,
              "#fdca26"
             ],
             [
              1,
              "#f0f921"
             ]
            ],
            "type": "histogram2d"
           }
          ],
          "histogram2dcontour": [
           {
            "colorbar": {
             "outlinewidth": 0,
             "ticks": ""
            },
            "colorscale": [
             [
              0,
              "#0d0887"
             ],
             [
              0.1111111111111111,
              "#46039f"
             ],
             [
              0.2222222222222222,
              "#7201a8"
             ],
             [
              0.3333333333333333,
              "#9c179e"
             ],
             [
              0.4444444444444444,
              "#bd3786"
             ],
             [
              0.5555555555555556,
              "#d8576b"
             ],
             [
              0.6666666666666666,
              "#ed7953"
             ],
             [
              0.7777777777777778,
              "#fb9f3a"
             ],
             [
              0.8888888888888888,
              "#fdca26"
             ],
             [
              1,
              "#f0f921"
             ]
            ],
            "type": "histogram2dcontour"
           }
          ],
          "mesh3d": [
           {
            "colorbar": {
             "outlinewidth": 0,
             "ticks": ""
            },
            "type": "mesh3d"
           }
          ],
          "parcoords": [
           {
            "line": {
             "colorbar": {
              "outlinewidth": 0,
              "ticks": ""
             }
            },
            "type": "parcoords"
           }
          ],
          "pie": [
           {
            "automargin": true,
            "type": "pie"
           }
          ],
          "scatter": [
           {
            "fillpattern": {
             "fillmode": "overlay",
             "size": 10,
             "solidity": 0.2
            },
            "type": "scatter"
           }
          ],
          "scatter3d": [
           {
            "line": {
             "colorbar": {
              "outlinewidth": 0,
              "ticks": ""
             }
            },
            "marker": {
             "colorbar": {
              "outlinewidth": 0,
              "ticks": ""
             }
            },
            "type": "scatter3d"
           }
          ],
          "scattercarpet": [
           {
            "marker": {
             "colorbar": {
              "outlinewidth": 0,
              "ticks": ""
             }
            },
            "type": "scattercarpet"
           }
          ],
          "scattergeo": [
           {
            "marker": {
             "colorbar": {
              "outlinewidth": 0,
              "ticks": ""
             }
            },
            "type": "scattergeo"
           }
          ],
          "scattergl": [
           {
            "marker": {
             "colorbar": {
              "outlinewidth": 0,
              "ticks": ""
             }
            },
            "type": "scattergl"
           }
          ],
          "scattermapbox": [
           {
            "marker": {
             "colorbar": {
              "outlinewidth": 0,
              "ticks": ""
             }
            },
            "type": "scattermapbox"
           }
          ],
          "scatterpolar": [
           {
            "marker": {
             "colorbar": {
              "outlinewidth": 0,
              "ticks": ""
             }
            },
            "type": "scatterpolar"
           }
          ],
          "scatterpolargl": [
           {
            "marker": {
             "colorbar": {
              "outlinewidth": 0,
              "ticks": ""
             }
            },
            "type": "scatterpolargl"
           }
          ],
          "scatterternary": [
           {
            "marker": {
             "colorbar": {
              "outlinewidth": 0,
              "ticks": ""
             }
            },
            "type": "scatterternary"
           }
          ],
          "surface": [
           {
            "colorbar": {
             "outlinewidth": 0,
             "ticks": ""
            },
            "colorscale": [
             [
              0,
              "#0d0887"
             ],
             [
              0.1111111111111111,
              "#46039f"
             ],
             [
              0.2222222222222222,
              "#7201a8"
             ],
             [
              0.3333333333333333,
              "#9c179e"
             ],
             [
              0.4444444444444444,
              "#bd3786"
             ],
             [
              0.5555555555555556,
              "#d8576b"
             ],
             [
              0.6666666666666666,
              "#ed7953"
             ],
             [
              0.7777777777777778,
              "#fb9f3a"
             ],
             [
              0.8888888888888888,
              "#fdca26"
             ],
             [
              1,
              "#f0f921"
             ]
            ],
            "type": "surface"
           }
          ],
          "table": [
           {
            "cells": {
             "fill": {
              "color": "#EBF0F8"
             },
             "line": {
              "color": "white"
             }
            },
            "header": {
             "fill": {
              "color": "#C8D4E3"
             },
             "line": {
              "color": "white"
             }
            },
            "type": "table"
           }
          ]
         },
         "layout": {
          "annotationdefaults": {
           "arrowcolor": "#2a3f5f",
           "arrowhead": 0,
           "arrowwidth": 1
          },
          "autotypenumbers": "strict",
          "coloraxis": {
           "colorbar": {
            "outlinewidth": 0,
            "ticks": ""
           }
          },
          "colorscale": {
           "diverging": [
            [
             0,
             "#8e0152"
            ],
            [
             0.1,
             "#c51b7d"
            ],
            [
             0.2,
             "#de77ae"
            ],
            [
             0.3,
             "#f1b6da"
            ],
            [
             0.4,
             "#fde0ef"
            ],
            [
             0.5,
             "#f7f7f7"
            ],
            [
             0.6,
             "#e6f5d0"
            ],
            [
             0.7,
             "#b8e186"
            ],
            [
             0.8,
             "#7fbc41"
            ],
            [
             0.9,
             "#4d9221"
            ],
            [
             1,
             "#276419"
            ]
           ],
           "sequential": [
            [
             0,
             "#0d0887"
            ],
            [
             0.1111111111111111,
             "#46039f"
            ],
            [
             0.2222222222222222,
             "#7201a8"
            ],
            [
             0.3333333333333333,
             "#9c179e"
            ],
            [
             0.4444444444444444,
             "#bd3786"
            ],
            [
             0.5555555555555556,
             "#d8576b"
            ],
            [
             0.6666666666666666,
             "#ed7953"
            ],
            [
             0.7777777777777778,
             "#fb9f3a"
            ],
            [
             0.8888888888888888,
             "#fdca26"
            ],
            [
             1,
             "#f0f921"
            ]
           ],
           "sequentialminus": [
            [
             0,
             "#0d0887"
            ],
            [
             0.1111111111111111,
             "#46039f"
            ],
            [
             0.2222222222222222,
             "#7201a8"
            ],
            [
             0.3333333333333333,
             "#9c179e"
            ],
            [
             0.4444444444444444,
             "#bd3786"
            ],
            [
             0.5555555555555556,
             "#d8576b"
            ],
            [
             0.6666666666666666,
             "#ed7953"
            ],
            [
             0.7777777777777778,
             "#fb9f3a"
            ],
            [
             0.8888888888888888,
             "#fdca26"
            ],
            [
             1,
             "#f0f921"
            ]
           ]
          },
          "colorway": [
           "#636efa",
           "#EF553B",
           "#00cc96",
           "#ab63fa",
           "#FFA15A",
           "#19d3f3",
           "#FF6692",
           "#B6E880",
           "#FF97FF",
           "#FECB52"
          ],
          "font": {
           "color": "#2a3f5f"
          },
          "geo": {
           "bgcolor": "white",
           "lakecolor": "white",
           "landcolor": "#E5ECF6",
           "showlakes": true,
           "showland": true,
           "subunitcolor": "white"
          },
          "hoverlabel": {
           "align": "left"
          },
          "hovermode": "closest",
          "mapbox": {
           "style": "light"
          },
          "paper_bgcolor": "white",
          "plot_bgcolor": "#E5ECF6",
          "polar": {
           "angularaxis": {
            "gridcolor": "white",
            "linecolor": "white",
            "ticks": ""
           },
           "bgcolor": "#E5ECF6",
           "radialaxis": {
            "gridcolor": "white",
            "linecolor": "white",
            "ticks": ""
           }
          },
          "scene": {
           "xaxis": {
            "backgroundcolor": "#E5ECF6",
            "gridcolor": "white",
            "gridwidth": 2,
            "linecolor": "white",
            "showbackground": true,
            "ticks": "",
            "zerolinecolor": "white"
           },
           "yaxis": {
            "backgroundcolor": "#E5ECF6",
            "gridcolor": "white",
            "gridwidth": 2,
            "linecolor": "white",
            "showbackground": true,
            "ticks": "",
            "zerolinecolor": "white"
           },
           "zaxis": {
            "backgroundcolor": "#E5ECF6",
            "gridcolor": "white",
            "gridwidth": 2,
            "linecolor": "white",
            "showbackground": true,
            "ticks": "",
            "zerolinecolor": "white"
           }
          },
          "shapedefaults": {
           "line": {
            "color": "#2a3f5f"
           }
          },
          "ternary": {
           "aaxis": {
            "gridcolor": "white",
            "linecolor": "white",
            "ticks": ""
           },
           "baxis": {
            "gridcolor": "white",
            "linecolor": "white",
            "ticks": ""
           },
           "bgcolor": "#E5ECF6",
           "caxis": {
            "gridcolor": "white",
            "linecolor": "white",
            "ticks": ""
           }
          },
          "title": {
           "x": 0.05
          },
          "xaxis": {
           "automargin": true,
           "gridcolor": "white",
           "linecolor": "white",
           "ticks": "",
           "title": {
            "standoff": 15
           },
           "zerolinecolor": "white",
           "zerolinewidth": 2
          },
          "yaxis": {
           "automargin": true,
           "gridcolor": "white",
           "linecolor": "white",
           "ticks": "",
           "title": {
            "standoff": 15
           },
           "zerolinecolor": "white",
           "zerolinewidth": 2
          }
         }
        },
        "title": {
         "text": "PCA of Genotype Data with Interactive Labels"
        },
        "width": 800,
        "xaxis": {
         "anchor": "y",
         "domain": [
          0,
          1
         ],
         "title": {
          "text": "PC1"
         }
        },
        "yaxis": {
         "anchor": "x",
         "domain": [
          0,
          1
         ],
         "title": {
          "text": "PC2"
         }
        }
       }
      },
      "text/html": [
       "<div>                            <div id=\"32bc3fac-3e02-4af5-b4f5-83c56fb79d4a\" class=\"plotly-graph-div\" style=\"height:800px; width:800px;\"></div>            <script type=\"text/javascript\">                require([\"plotly\"], function(Plotly) {                    window.PLOTLYENV=window.PLOTLYENV || {};                                    if (document.getElementById(\"32bc3fac-3e02-4af5-b4f5-83c56fb79d4a\")) {                    Plotly.newPlot(                        \"32bc3fac-3e02-4af5-b4f5-83c56fb79d4a\",                        [{\"customdata\":[[\"C0000613\",\"EUR\",\"0.98\",\"SAS\",\"0.0081\"],[\"C9392081\",\"EUR\",\"0.95\",\"AMR\",\"0.023\"],[\"C3029371\",\"EUR\",\"0.98\",\"SAS\",\"0.0079\"],[\"C9112331\",\"EUR\",\"0.95\",\"SAS\",\"0.022\"],[\"C0102193\",\"EUR\",\"0.96\",\"AMR\",\"0.018\"],[\"C9773006\",\"EUR\",\"0.78\",\"SAS\",\"0.16\"],[\"C8439824\",\"EUR\",\"0.96\",\"SAS\",\"0.016\"],[\"C8440070\",\"EUR\",\"0.95\",\"SAS\",\"0.022\"],[\"C9544194\",\"EUR\",\"0.95\",\"AMR\",\"0.02\"],[\"C0171053\",\"EUR\",\"0.94\",\"AMR\",\"0.033\"],[\"C9373517\",\"EUR\",\"0.95\",\"AMR\",\"0.02\"],[\"C0205079\",\"EUR\",\"0.97\",\"SAS\",\"0.017\"],[\"C0716317\",\"EUR\",\"0.96\",\"SAS\",\"0.021\"],[\"C9948864\",\"EUR\",\"0.98\",\"SAS\",\"0.0079\"],[\"C7488119\",\"EUR\",\"0.94\",\"SAS\",\"0.032\"],[\"C0697204\",\"EUR\",\"0.96\",\"SAS\",\"0.03\"],[\"C9421850\",\"EUR\",\"0.94\",\"SAS\",\"0.029\"],[\"C8992487\",\"EUR\",\"0.96\",\"AMR\",\"0.019\"],[\"C0323527\",\"EUR\",\"0.92\",\"AMR\",\"0.04\"],[\"C9404984\",\"EUR\",\"0.98\",\"AMR\",\"0.0077\"],[\"C9143246\",\"EUR\",\"0.94\",\"SAS\",\"0.027\"],[\"C0229254\",\"EUR\",\"0.96\",\"SAS\",\"0.023\"],[\"C0814135\",\"EUR\",\"0.88\",\"SAS\",\"0.057\"],[\"C8046245\",\"EUR\",\"0.97\",\"SAS\",\"0.014\"],[\"C7719688_B\",\"EUR\",\"0.78\",\"SAS\",\"0.15\"],[\"C7272482\",\"EUR\",\"0.97\",\"AMR\",\"0.011\"],[\"C8719784\",\"EUR\",\"0.89\",\"SAS\",\"0.047\"],[\"C7419040\",\"EUR\",\"0.89\",\"SAS\",\"0.075\"],[\"C8028049\",\"EUR\",\"0.97\",\"SAS\",\"0.014\"],[\"C9070830\",\"EUR\",\"0.97\",\"SAS\",\"0.013\"],[\"C7515229\",\"EUR\",\"0.96\",\"SAS\",\"0.022\"],[\"C8320957\",\"EUR\",\"0.92\",\"SAS\",\"0.051\"],[\"C9504996\",\"EUR\",\"0.9\",\"SAS\",\"0.076\"],[\"C7774321\",\"EUR\",\"0.94\",\"SAS\",\"0.03\"],[\"C8973185\",\"EUR\",\"0.88\",\"SAS\",\"0.095\"],[\"C9202805\",\"EUR\",\"0.9\",\"AMR\",\"0.042\"],[\"C7922853\",\"EUR\",\"0.96\",\"SAS\",\"0.018\"],[\"C1419921\",\"EUR\",\"0.94\",\"SAS\",\"0.037\"],[\"C0080595\",\"EUR\",\"0.9\",\"SAS\",\"0.07\"],[\"C7873931\",\"EUR\",\"0.96\",\"SAS\",\"0.019\"],[\"C0305012\",\"EUR\",\"0.84\",\"SAS\",\"0.082\"],[\"C9362525\",\"EUR\",\"0.95\",\"AMR\",\"0.02\"],[\"C0968806\",\"EUR\",\"0.98\",\"SAS\",\"0.011\"],[\"C9092574\",\"EUR\",\"0.82\",\"SAS\",\"0.12\"],[\"C9783888\",\"EUR\",\"0.9\",\"SAS\",\"0.068\"],[\"C5901838\",\"EUR\",\"0.64\",\"SAS\",\"0.27\"],[\"C7037290\",\"EUR\",\"0.9\",\"SAS\",\"0.062\"],[\"C8896744\",\"EUR\",\"0.9\",\"SAS\",\"0.054\"],[\"C8566915\",\"EUR\",\"0.97\",\"SAS\",\"0.014\"],[\"C9867144\",\"EUR\",\"0.93\",\"AMR\",\"0.031\"],[\"C0506852\",\"EUR\",\"0.97\",\"SAS\",\"0.015\"],[\"C9019427\",\"EUR\",\"0.97\",\"SAS\",\"0.0094\"],[\"C0648474\",\"EUR\",\"0.91\",\"SAS\",\"0.064\"],[\"C9551607\",\"EUR\",\"0.98\",\"AMR\",\"0.0086\"],[\"C0915694\",\"EUR\",\"0.88\",\"SAS\",\"0.066\"],[\"C7564617\",\"EUR\",\"0.87\",\"SAS\",\"0.09\"],[\"C0869297\",\"EUR\",\"0.95\",\"SAS\",\"0.027\"],[\"C8916507\",\"EUR\",\"0.97\",\"SAS\",\"0.013\"],[\"C7899782\",\"EUR\",\"0.96\",\"AMR\",\"0.019\"],[\"C5041438\",\"EUR\",\"0.95\",\"AMR\",\"0.019\"],[\"C0971388\",\"EUR\",\"0.63\",\"SAS\",\"0.26\"],[\"C7900996\",\"EUR\",\"0.8\",\"SAS\",\"0.092\"],[\"C9950284\",\"EUR\",\"0.92\",\"SAS\",\"0.046\"],[\"C8207616\",\"EUR\",\"0.93\",\"AMR\",\"0.032\"],[\"C7775742\",\"EUR\",\"0.93\",\"SAS\",\"0.032\"],[\"C8949385\",\"EUR\",\"0.96\",\"SAS\",\"0.019\"],[\"C9830861\",\"EUR\",\"0.98\",\"AMR\",\"0.01\"],[\"C7489236\",\"EUR\",\"0.9\",\"SAS\",\"0.065\"],[\"C0745818\",\"EUR\",\"0.83\",\"SAS\",\"0.13\"],[\"C0384466\",\"EUR\",\"0.95\",\"AMR\",\"0.03\"],[\"C7854608\",\"EUR\",\"0.98\",\"SAS\",\"0.0071\"],[\"C9271854\",\"EUR\",\"0.91\",\"AMR\",\"0.041\"],[\"C9429553\",\"EUR\",\"0.94\",\"AMR\",\"0.029\"],[\"C7812934\",\"EUR\",\"0.94\",\"AMR\",\"0.027\"],[\"C8036290\",\"EUR\",\"0.88\",\"SAS\",\"0.052\"],[\"C9963120\",\"EUR\",\"0.97\",\"SAS\",\"0.012\"],[\"C9500443\",\"EUR\",\"0.92\",\"SAS\",\"0.049\"],[\"C6657611\",\"EUR\",\"0.95\",\"SAS\",\"0.024\"],[\"C8451371\",\"EUR\",\"0.83\",\"SAS\",\"0.13\"],[\"C7214227\",\"EUR\",\"0.89\",\"SAS\",\"0.063\"],[\"C7829444\",\"EUR\",\"0.86\",\"SAS\",\"0.097\"],[\"C9181785\",\"EUR\",\"0.95\",\"AMR\",\"0.023\"],[\"C9454614\",\"EUR\",\"0.6\",\"SAS\",\"0.28\"],[\"C4013619\",\"EUR\",\"0.98\",\"AMR\",\"0.0077\"],[\"C9173829\",\"EUR\",\"0.95\",\"AMR\",\"0.021\"],[\"C0186076\",\"EUR\",\"0.97\",\"SAS\",\"0.016\"],[\"C8360547\",\"EUR\",\"0.96\",\"SAS\",\"0.02\"],[\"C9236526\",\"EUR\",\"0.95\",\"AMR\",\"0.023\"],[\"C7343848\",\"EUR\",\"0.98\",\"AMR\",\"0.0081\"],[\"C8900381\",\"EUR\",\"0.91\",\"SAS\",\"0.05\"],[\"C9337436\",\"EUR\",\"0.85\",\"SAS\",\"0.094\"],[\"C9281676\",\"EUR\",\"0.94\",\"AMR\",\"0.033\"],[\"C8643849\",\"EUR\",\"0.96\",\"AMR\",\"0.016\"],[\"C7724650\",\"EUR\",\"0.91\",\"SAS\",\"0.041\"],[\"C0790760\",\"EUR\",\"0.88\",\"SAS\",\"0.057\"],[\"C7555611\",\"EUR\",\"0.84\",\"SAS\",\"0.12\"],[\"C8876110\",\"EUR\",\"0.94\",\"SAS\",\"0.033\"],[\"C8716254\",\"EUR\",\"0.93\",\"AMR\",\"0.032\"],[\"C7873494\",\"EUR\",\"0.97\",\"SAS\",\"0.014\"],[\"C0982934\",\"EUR\",\"0.96\",\"AMR\",\"0.026\"],[\"C5191909\",\"EUR\",\"0.84\",\"SAS\",\"0.12\"],[\"C7355308\",\"EUR\",\"0.96\",\"SAS\",\"0.019\"],[\"C5792284\",\"EUR\",\"0.85\",\"SAS\",\"0.095\"],[\"C9834437\",\"EUR\",\"0.87\",\"AMR\",\"0.055\"],[\"C5095437\",\"EUR\",\"0.6\",\"SAS\",\"0.33\"],[\"C8124245\",\"EUR\",\"0.9\",\"SAS\",\"0.056\"],[\"C7249530\",\"EUR\",\"0.85\",\"SAS\",\"0.11\"],[\"C8297061\",\"EUR\",\"0.93\",\"AMR\",\"0.031\"],[\"C9256776\",\"EUR\",\"0.97\",\"AMR\",\"0.013\"],[\"C8170175\",\"EUR\",\"0.95\",\"SAS\",\"0.027\"],[\"C0457844\",\"EUR\",\"0.93\",\"AMR\",\"0.028\"],[\"C9395325\",\"EUR\",\"0.98\",\"SAS\",\"0.01\"],[\"C9738079\",\"EUR\",\"0.91\",\"SAS\",\"0.052\"],[\"C9343835\",\"EUR\",\"0.96\",\"AMR\",\"0.017\"],[\"C0881093\",\"EUR\",\"0.95\",\"SAS\",\"0.023\"],[\"C9348452\",\"EUR\",\"0.95\",\"AMR\",\"0.026\"],[\"C0613900\",\"EUR\",\"0.88\",\"SAS\",\"0.083\"],[\"C7466760\",\"EUR\",\"0.9\",\"SAS\",\"0.065\"],[\"C0250005\",\"EUR\",\"0.93\",\"AMR\",\"0.044\"],[\"C7563157\",\"EUR\",\"0.93\",\"SAS\",\"0.034\"],[\"C7812195\",\"EUR\",\"0.97\",\"AMR\",\"0.012\"],[\"C9137802\",\"EUR\",\"0.97\",\"SAS\",\"0.012\"],[\"C9841936\",\"EUR\",\"0.95\",\"SAS\",\"0.026\"],[\"C7626599\",\"EUR\",\"0.94\",\"SAS\",\"0.035\"],[\"C8689064\",\"EUR\",\"0.96\",\"SAS\",\"0.018\"],[\"C0801578\",\"EUR\",\"0.93\",\"SAS\",\"0.034\"],[\"C8574255\",\"EUR\",\"0.92\",\"SAS\",\"0.044\"],[\"C9899426\",\"EUR\",\"0.94\",\"SAS\",\"0.028\"],[\"C0953478_B\",\"EUR\",\"0.95\",\"AMR\",\"0.02\"],[\"C7753437\",\"EUR\",\"0.95\",\"SAS\",\"0.025\"],[\"C7442839\",\"EUR\",\"0.98\",\"SAS\",\"0.0079\"],[\"C9769468\",\"EUR\",\"0.95\",\"AMR\",\"0.028\"],[\"C9149135\",\"EUR\",\"0.94\",\"SAS\",\"0.031\"],[\"C8808071\",\"EUR\",\"0.94\",\"SAS\",\"0.033\"],[\"C8584714\",\"EUR\",\"0.96\",\"SAS\",\"0.018\"],[\"C9414358\",\"EUR\",\"0.48\",\"SAS\",\"0.25\"],[\"C9015006_A\",\"EUR\",\"0.92\",\"SAS\",\"0.053\"],[\"C0475692\",\"EUR\",\"0.95\",\"AMR\",\"0.028\"],[\"C0810521\",\"EUR\",\"0.98\",\"AMR\",\"0.0083\"],[\"C9333875\",\"EUR\",\"0.96\",\"AMR\",\"0.021\"],[\"C0940211\",\"EUR\",\"0.98\",\"AMR\",\"0.0077\"],[\"C9987132\",\"EUR\",\"0.92\",\"AMR\",\"0.033\"],[\"C8021853\",\"EUR\",\"0.96\",\"SAS\",\"0.014\"],[\"C8643073\",\"EUR\",\"0.93\",\"SAS\",\"0.04\"],[\"C9332037\",\"EUR\",\"0.94\",\"SAS\",\"0.024\"],[\"C0323438\",\"EUR\",\"0.98\",\"AMR\",\"0.01\"],[\"C8790955\",\"EUR\",\"0.91\",\"SAS\",\"0.048\"],[\"C9107796\",\"EUR\",\"0.94\",\"SAS\",\"0.023\"],[\"C9146837\",\"EUR\",\"0.96\",\"SAS\",\"0.016\"],[\"C5845278\",\"EUR\",\"0.91\",\"SAS\",\"0.044\"],[\"C1268869\",\"EUR\",\"0.89\",\"SAS\",\"0.075\"],[\"C9335055\",\"EUR\",\"0.97\",\"AMR\",\"0.013\"],[\"C5095146\",\"EUR\",\"0.96\",\"SAS\",\"0.019\"],[\"C0774765\",\"EUR\",\"0.93\",\"SAS\",\"0.029\"],[\"C9353533\",\"EUR\",\"0.97\",\"SAS\",\"0.014\"],[\"C5667839\",\"EUR\",\"0.97\",\"SAS\",\"0.014\"],[\"C0220606\",\"EUR\",\"0.96\",\"SAS\",\"0.018\"],[\"C7719688_A\",\"EUR\",\"0.78\",\"SAS\",\"0.15\"],[\"C9065204\",\"EUR\",\"0.7\",\"SAS\",\"0.19\"],[\"C9630977\",\"EUR\",\"0.92\",\"SAS\",\"0.046\"],[\"C5975717\",\"EUR\",\"0.82\",\"SAS\",\"0.14\"],[\"C8219205\",\"EUR\",\"0.89\",\"AMR\",\"0.06\"],[\"C0815217\",\"EUR\",\"0.97\",\"AMR\",\"0.017\"],[\"C8681671\",\"EUR\",\"0.96\",\"AMR\",\"0.017\"],[\"C8478557\",\"EUR\",\"0.95\",\"SAS\",\"0.034\"],[\"C7664882\",\"EUR\",\"0.96\",\"SAS\",\"0.013\"],[\"C7731610\",\"EUR\",\"0.95\",\"SAS\",\"0.02\"],[\"C9910955\",\"EUR\",\"0.86\",\"SAS\",\"0.088\"],[\"C8770577\",\"EUR\",\"0.95\",\"AMR\",\"0.02\"],[\"C9593509\",\"EUR\",\"0.96\",\"AMR\",\"0.018\"],[\"C7575592\",\"EUR\",\"0.95\",\"AMR\",\"0.025\"],[\"C9203538\",\"EUR\",\"0.93\",\"SAS\",\"0.054\"],[\"C0175376\",\"EUR\",\"0.93\",\"SAS\",\"0.048\"],[\"C9895193\",\"EUR\",\"0.95\",\"AMR\",\"0.022\"],[\"C9287399\",\"EUR\",\"0.96\",\"AMR\",\"0.017\"],[\"C9425592\",\"EUR\",\"0.91\",\"SAS\",\"0.058\"],[\"C8048662\",\"EUR\",\"0.91\",\"SAS\",\"0.057\"],[\"C7048024\",\"EUR\",\"0.96\",\"AMR\",\"0.016\"],[\"C7244188\",\"EUR\",\"0.95\",\"SAS\",\"0.026\"],[\"C9787294\",\"EUR\",\"0.95\",\"AMR\",\"0.019\"],[\"C1099243\",\"EUR\",\"0.79\",\"SAS\",\"0.084\"],[\"C7931543\",\"EUR\",\"0.94\",\"SAS\",\"0.028\"],[\"C5211557\",\"EUR\",\"0.75\",\"SAS\",\"0.21\"],[\"C9960311\",\"EUR\",\"0.92\",\"AMR\",\"0.047\"],[\"C8897927\",\"EUR\",\"0.87\",\"SAS\",\"0.077\"],[\"C7989630\",\"EUR\",\"0.93\",\"AMR\",\"0.036\"],[\"C0047775\",\"EUR\",\"0.91\",\"AMR\",\"0.044\"],[\"C9237364\",\"EUR\",\"0.87\",\"SAS\",\"0.1\"],[\"C8615941\",\"EUR\",\"0.84\",\"SAS\",\"0.095\"],[\"C7392071\",\"EUR\",\"0.98\",\"AMR\",\"0.0096\"],[\"C7560532\",\"EUR\",\"0.97\",\"SAS\",\"0.013\"],[\"C8461665\",\"EUR\",\"0.9\",\"SAS\",\"0.065\"],[\"C0776135\",\"EUR\",\"0.97\",\"SAS\",\"0.021\"],[\"C0125692\",\"EUR\",\"0.98\",\"AMR\",\"0.011\"],[\"C9100987\",\"EUR\",\"0.95\",\"SAS\",\"0.02\"],[\"C5256485\",\"EUR\",\"0.51\",\"SAS\",\"0.41\"],[\"C6281807\",\"EUR\",\"0.94\",\"SAS\",\"0.029\"],[\"C0551561\",\"EUR\",\"0.96\",\"SAS\",\"0.023\"],[\"C9172258\",\"EUR\",\"0.96\",\"SAS\",\"0.019\"],[\"C7900292\",\"EUR\",\"0.97\",\"SAS\",\"0.012\"],[\"C7580286\",\"EUR\",\"0.95\",\"SAS\",\"0.034\"],[\"C7128050\",\"EUR\",\"0.94\",\"SAS\",\"0.029\"],[\"C0973809\",\"EUR\",\"0.95\",\"AMR\",\"0.021\"],[\"C7425462\",\"EUR\",\"0.98\",\"AMR\",\"0.011\"],[\"C9761272\",\"EUR\",\"0.87\",\"SAS\",\"0.089\"],[\"C9738061\",\"EUR\",\"0.96\",\"SAS\",\"0.017\"],[\"C9697066\",\"EUR\",\"0.9\",\"SAS\",\"0.056\"],[\"C5599062\",\"EUR\",\"0.87\",\"SAS\",\"0.091\"],[\"C0478009\",\"EUR\",\"0.91\",\"SAS\",\"0.053\"],[\"C9835618\",\"EUR\",\"0.97\",\"AMR\",\"0.015\"],[\"C9518874\",\"EUR\",\"0.92\",\"SAS\",\"0.049\"],[\"C7405020\",\"EUR\",\"0.96\",\"SAS\",\"0.019\"],[\"C8761613\",\"EUR\",\"0.96\",\"SAS\",\"0.019\"],[\"C8985793\",\"EUR\",\"0.95\",\"AMR\",\"0.025\"],[\"C0737742\",\"EUR\",\"0.96\",\"SAS\",\"0.019\"],[\"C5942862\",\"EUR\",\"0.87\",\"SAS\",\"0.08\"],[\"C8319806\",\"EUR\",\"0.94\",\"AMR\",\"0.035\"],[\"C8896162\",\"EUR\",\"0.94\",\"SAS\",\"0.039\"],[\"C8363284\",\"EUR\",\"0.59\",\"SAS\",\"0.22\"],[\"C0301621\",\"EUR\",\"0.98\",\"SAS\",\"0.013\"],[\"C8246413\",\"EUR\",\"0.73\",\"SAS\",\"0.11\"],[\"C0747818\",\"EUR\",\"0.95\",\"SAS\",\"0.019\"],[\"C8193518\",\"EUR\",\"0.96\",\"SAS\",\"0.023\"],[\"C8704315\",\"EUR\",\"0.9\",\"SAS\",\"0.068\"],[\"C9749291\",\"EUR\",\"0.75\",\"SAS\",\"0.16\"],[\"C7893181\",\"EUR\",\"0.9\",\"AMR\",\"0.047\"],[\"C9588598\",\"EUR\",\"0.93\",\"SAS\",\"0.045\"],[\"C9767055\",\"EUR\",\"0.97\",\"SAS\",\"0.0098\"],[\"C9696497\",\"EUR\",\"0.94\",\"SAS\",\"0.031\"],[\"C6061051\",\"EUR\",\"0.94\",\"AMR\",\"0.034\"],[\"C9249260\",\"EUR\",\"0.89\",\"SAS\",\"0.069\"],[\"C8801527\",\"EUR\",\"0.48\",\"SAS\",\"0.38\"],[\"C7952024\",\"EUR\",\"0.91\",\"SAS\",\"0.043\"],[\"C0310438\",\"EUR\",\"0.97\",\"SAS\",\"0.013\"],[\"C9145166\",\"EUR\",\"0.96\",\"SAS\",\"0.014\"],[\"C8596930\",\"EUR\",\"0.89\",\"SAS\",\"0.069\"],[\"C0898730\",\"EUR\",\"0.91\",\"AMR\",\"0.04\"],[\"C9806608\",\"EUR\",\"0.95\",\"SAS\",\"0.024\"],[\"C8810404\",\"EUR\",\"0.96\",\"SAS\",\"0.02\"],[\"C8219541\",\"EUR\",\"0.95\",\"AMR\",\"0.02\"],[\"C7952533\",\"EUR\",\"0.96\",\"AMR\",\"0.014\"],[\"C7964148\",\"EUR\",\"0.97\",\"SAS\",\"0.01\"],[\"C8651159\",\"EUR\",\"0.94\",\"SAS\",\"0.034\"],[\"C7486770\",\"EUR\",\"0.63\",\"SAS\",\"0.22\"],[\"C8495592\",\"EUR\",\"0.98\",\"AMR\",\"0.0046\"],[\"C0813775\",\"EUR\",\"0.94\",\"SAS\",\"0.036\"],[\"C9608162\",\"EUR\",\"0.97\",\"SAS\",\"0.013\"],[\"C8865309\",\"EUR\",\"0.96\",\"SAS\",\"0.024\"],[\"C8358629\",\"EUR\",\"0.93\",\"SAS\",\"0.036\"],[\"C9829444\",\"EUR\",\"0.86\",\"SAS\",\"0.096\"],[\"C9155285\",\"EUR\",\"0.97\",\"AMR\",\"0.01\"],[\"C0996531\",\"EUR\",\"0.94\",\"SAS\",\"0.035\"],[\"C0282724\",\"EUR\",\"0.48\",\"SAS\",\"0.38\"],[\"C0921762\",\"EUR\",\"0.92\",\"AMR\",\"0.033\"],[\"C8659108\",\"EUR\",\"0.97\",\"SAS\",\"0.015\"],[\"C7259165\",\"EUR\",\"0.96\",\"AMR\",\"0.018\"],[\"C9830781\",\"EUR\",\"0.98\",\"SAS\",\"0.0072\"],[\"C0536477\",\"EUR\",\"0.94\",\"SAS\",\"0.035\"],[\"C8192476\",\"EUR\",\"0.96\",\"SAS\",\"0.025\"],[\"C7769468\",\"EUR\",\"0.92\",\"SAS\",\"0.056\"],[\"C3802976\",\"EUR\",\"0.89\",\"SAS\",\"0.058\"],[\"C9634772\",\"EUR\",\"0.92\",\"SAS\",\"0.038\"],[\"C8335523\",\"EUR\",\"0.93\",\"AMR\",\"0.033\"],[\"C7991356\",\"EUR\",\"0.79\",\"SAS\",\"0.13\"],[\"C9796515\",\"EUR\",\"0.97\",\"SAS\",\"0.013\"],[\"C7777597\",\"EUR\",\"0.97\",\"SAS\",\"0.014\"],[\"C9473340\",\"EUR\",\"0.97\",\"AMR\",\"0.012\"],[\"C9015006_B\",\"EUR\",\"0.92\",\"SAS\",\"0.051\"],[\"C8506441\",\"EUR\",\"0.93\",\"SAS\",\"0.031\"],[\"C7557432\",\"EUR\",\"0.96\",\"SAS\",\"0.015\"],[\"C0954932\",\"EUR\",\"0.97\",\"AMR\",\"0.015\"],[\"C8736037\",\"EUR\",\"0.98\",\"AMR\",\"0.0078\"],[\"C8040854\",\"EUR\",\"0.94\",\"SAS\",\"0.038\"],[\"C7860973\",\"EUR\",\"0.94\",\"AMR\",\"0.03\"],[\"C8278819\",\"EUR\",\"0.93\",\"SAS\",\"0.03\"],[\"C8644106\",\"EUR\",\"0.87\",\"SAS\",\"0.094\"],[\"C8681860\",\"EUR\",\"0.87\",\"SAS\",\"0.09\"],[\"C8519536\",\"EUR\",\"0.93\",\"AMR\",\"0.046\"],[\"C8938114\",\"EUR\",\"0.89\",\"AMR\",\"0.069\"],[\"C7163669\",\"EUR\",\"0.94\",\"AMR\",\"0.027\"],[\"C0953478_A\",\"EUR\",\"0.95\",\"AMR\",\"0.02\"],[\"C8319450\",\"EUR\",\"0.84\",\"SAS\",\"0.12\"],[\"C7375657\",\"EUR\",\"0.97\",\"AMR\",\"0.014\"],[\"C7161606\",\"EUR\",\"0.93\",\"AMR\",\"0.034\"],[\"C8397582\",\"EUR\",\"0.95\",\"SAS\",\"0.026\"],[\"C0084844\",\"EUR\",\"0.82\",\"SAS\",\"0.13\"],[\"C0755223\",\"EUR\",\"0.95\",\"SAS\",\"0.031\"],[\"C7759848\",\"EUR\",\"0.46\",\"SAS\",\"0.45\"],[\"C8713498\",\"EUR\",\"0.86\",\"SAS\",\"0.099\"],[\"C7899426\",\"EUR\",\"0.89\",\"SAS\",\"0.064\"],[\"C8876593\",\"EUR\",\"0.95\",\"SAS\",\"0.027\"],[\"C7564817\",\"EUR\",\"0.98\",\"AMR\",\"0.0084\"],[\"C9664685\",\"EUR\",\"0.91\",\"SAS\",\"0.04\"],[\"C7069181\",\"EUR\",\"0.92\",\"SAS\",\"0.047\"],[\"C8257777\",\"EUR\",\"0.97\",\"AMR\",\"0.014\"],[\"C0773447\",\"EUR\",\"0.95\",\"SAS\",\"0.029\"],[\"C8451688\",\"EUR\",\"0.97\",\"AMR\",\"0.014\"],[\"C9186995\",\"EUR\",\"0.96\",\"SAS\",\"0.015\"],[\"C9931298\",\"EUR\",\"0.97\",\"SAS\",\"0.014\"],[\"C8488109\",\"EUR\",\"0.84\",\"SAS\",\"0.11\"],[\"C8450746\",\"EUR\",\"0.95\",\"AMR\",\"0.02\"],[\"C7770397\",\"EUR\",\"0.94\",\"SAS\",\"0.025\"],[\"C5343848\",\"EUR\",\"0.82\",\"SAS\",\"0.13\"],[\"C9766496\",\"EUR\",\"0.97\",\"AMR\",\"0.015\"],[\"C0770246\",\"EUR\",\"0.95\",\"AMR\",\"0.023\"],[\"C0462055\",\"EUR\",\"0.96\",\"AMR\",\"0.016\"],[\"C8614148\",\"EUR\",\"0.9\",\"AMR\",\"0.062\"],[\"C7861169\",\"EUR\",\"0.96\",\"AMR\",\"0.017\"],[\"C8194455\",\"EUR\",\"0.96\",\"AMR\",\"0.016\"],[\"C6514151\",\"EUR\",\"0.93\",\"SAS\",\"0.046\"],[\"C9594960\",\"EUR\",\"0.86\",\"SAS\",\"0.091\"],[\"C8240437\",\"EUR\",\"0.95\",\"SAS\",\"0.029\"],[\"C0291197\",\"EUR\",\"0.94\",\"SAS\",\"0.032\"],[\"C7051331\",\"EUR\",\"0.95\",\"SAS\",\"0.029\"],[\"C0365146\",\"EUR\",\"0.49\",\"SAS\",\"0.35\"],[\"C0047921\",\"EUR\",\"0.89\",\"SAS\",\"0.08\"],[\"C7728583\",\"EUR\",\"0.85\",\"SAS\",\"0.09\"],[\"C9264845\",\"EUR\",\"0.94\",\"SAS\",\"0.037\"],[\"C0606661\",\"EUR\",\"0.97\",\"AMR\",\"0.014\"],[\"C5526923\",\"EUR\",\"0.86\",\"SAS\",\"0.097\"],[\"C9693293\",\"EUR\",\"0.96\",\"SAS\",\"0.019\"],[\"C0589344\",\"EUR\",\"0.93\",\"SAS\",\"0.031\"],[\"C8587599\",\"EUR\",\"0.96\",\"AMR\",\"0.017\"],[\"C3302744\",\"EUR\",\"0.98\",\"AMR\",\"0.011\"],[\"C9366500\",\"EUR\",\"0.65\",\"SAS\",\"0.25\"],[\"C7606723\",\"EUR\",\"0.96\",\"SAS\",\"0.019\"],[\"C7670382\",\"EUR\",\"0.95\",\"SAS\",\"0.026\"],[\"C9840031\",\"EUR\",\"0.93\",\"SAS\",\"0.04\"],[\"C9352656\",\"EUR\",\"0.96\",\"AMR\",\"0.016\"],[\"C8489869\",\"EUR\",\"0.97\",\"AMR\",\"0.013\"],[\"C9926912\",\"EUR\",\"0.96\",\"AMR\",\"0.018\"],[\"C7574693\",\"EUR\",\"0.95\",\"SAS\",\"0.029\"],[\"C8081097\",\"EUR\",\"0.97\",\"SAS\",\"0.011\"],[\"C0549991\",\"EUR\",\"0.95\",\"AMR\",\"0.021\"],[\"C8740455\",\"EUR\",\"0.96\",\"AMR\",\"0.015\"],[\"C8219585\",\"EUR\",\"0.92\",\"SAS\",\"0.046\"],[\"C0661301\",\"EUR\",\"0.97\",\"SAS\",\"0.011\"],[\"C0539635\",\"EUR\",\"0.89\",\"SAS\",\"0.082\"],[\"C0430692\",\"EUR\",\"0.96\",\"AMR\",\"0.018\"],[\"C7075995\",\"EUR\",\"0.85\",\"SAS\",\"0.085\"],[\"C9539446\",\"EUR\",\"0.97\",\"SAS\",\"0.013\"],[\"C7558702\",\"EUR\",\"0.95\",\"AMR\",\"0.023\"],[\"C8205925\",\"EUR\",\"0.93\",\"SAS\",\"0.044\"],[\"C7337466\",\"EUR\",\"0.83\",\"SAS\",\"0.11\"],[\"C7725618\",\"EUR\",\"0.89\",\"SAS\",\"0.064\"],[\"C9328025_A\",\"EUR\",\"0.94\",\"SAS\",\"0.037\"],[\"C9845989\",\"EUR\",\"0.95\",\"SAS\",\"0.023\"],[\"C0490359\",\"EUR\",\"0.98\",\"SAS\",\"0.0095\"],[\"C7934589\",\"EUR\",\"0.91\",\"SAS\",\"0.039\"],[\"C8284466\",\"EUR\",\"0.98\",\"AMR\",\"0.01\"],[\"C0323408\",\"EUR\",\"0.97\",\"SAS\",\"0.012\"],[\"C9046772\",\"EUR\",\"0.86\",\"SAS\",\"0.1\"],[\"C9164503\",\"EUR\",\"0.72\",\"AMR\",\"0.14\"],[\"C8237107\",\"EUR\",\"0.93\",\"SAS\",\"0.036\"],[\"C5044638\",\"EUR\",\"0.77\",\"SAS\",\"0.19\"],[\"C0796853\",\"EUR\",\"0.97\",\"SAS\",\"0.015\"],[\"C9289426\",\"EUR\",\"0.88\",\"SAS\",\"0.059\"],[\"C5156906\",\"EUR\",\"0.95\",\"SAS\",\"0.026\"],[\"C9880838\",\"EUR\",\"0.93\",\"SAS\",\"0.038\"],[\"C9422879\",\"EUR\",\"0.96\",\"SAS\",\"0.024\"],[\"C7551958\",\"EUR\",\"0.94\",\"SAS\",\"0.028\"],[\"C8798010\",\"EUR\",\"0.96\",\"AMR\",\"0.021\"],[\"C0407432\",\"EUR\",\"0.9\",\"SAS\",\"0.05\"],[\"C9694140\",\"EUR\",\"0.92\",\"SAS\",\"0.037\"],[\"C7531167\",\"EUR\",\"0.94\",\"AMR\",\"0.029\"],[\"C0681808\",\"EUR\",\"0.96\",\"SAS\",\"0.019\"],[\"C8584739\",\"EUR\",\"0.94\",\"SAS\",\"0.033\"],[\"C9465585\",\"EUR\",\"0.96\",\"SAS\",\"0.015\"],[\"C8191615\",\"EUR\",\"0.98\",\"AMR\",\"0.0069\"],[\"C0241248\",\"EUR\",\"0.98\",\"SAS\",\"0.0078\"],[\"C9906189\",\"EUR\",\"0.94\",\"SAS\",\"0.027\"],[\"C9723763\",\"EUR\",\"0.87\",\"SAS\",\"0.098\"],[\"C5466760\",\"EUR\",\"0.77\",\"SAS\",\"0.16\"],[\"C7138975\",\"EUR\",\"0.94\",\"SAS\",\"0.025\"],[\"C7307187\",\"EUR\",\"0.96\",\"SAS\",\"0.021\"],[\"C9549733\",\"EUR\",\"0.93\",\"SAS\",\"0.043\"],[\"C8173027\",\"EUR\",\"0.95\",\"SAS\",\"0.033\"],[\"C8431940\",\"EUR\",\"0.94\",\"AMR\",\"0.028\"],[\"C9622975\",\"EUR\",\"0.89\",\"SAS\",\"0.064\"],[\"C1536424\",\"EUR\",\"0.97\",\"SAS\",\"0.014\"],[\"C9023035\",\"EUR\",\"0.62\",\"SAS\",\"0.27\"],[\"C7112454\",\"EUR\",\"0.92\",\"SAS\",\"0.04\"],[\"C7191909\",\"EUR\",\"0.9\",\"SAS\",\"0.052\"],[\"C7095437\",\"EUR\",\"0.92\",\"SAS\",\"0.035\"],[\"C7792284\",\"EUR\",\"0.9\",\"SAS\",\"0.046\"],[\"C7873287\",\"EUR\",\"0.94\",\"SAS\",\"0.029\"],[\"C9214677\",\"EUR\",\"0.96\",\"SAS\",\"0.026\"],[\"C9728571\",\"EUR\",\"0.97\",\"SAS\",\"0.0092\"],[\"C8885328\",\"EUR\",\"0.94\",\"SAS\",\"0.041\"],[\"C7851117\",\"EUR\",\"0.96\",\"AMR\",\"0.02\"],[\"C8981077\",\"EUR\",\"0.97\",\"SAS\",\"0.012\"],[\"C8614179_A\",\"EUR\",\"0.96\",\"SAS\",\"0.019\"],[\"C0286319\",\"EUR\",\"0.98\",\"AMR\",\"0.0099\"],[\"C7900189\",\"EUR\",\"0.94\",\"SAS\",\"0.028\"],[\"C0388329\",\"EUR\",\"0.93\",\"SAS\",\"0.046\"],[\"C7596902\",\"EUR\",\"0.96\",\"AMR\",\"0.019\"],[\"C7860321\",\"EUR\",\"0.97\",\"SAS\",\"0.013\"],[\"C8016613\",\"EUR\",\"0.95\",\"AMR\",\"0.026\"],[\"C8921704\",\"EUR\",\"0.92\",\"AMR\",\"0.035\"],[\"C0987880\",\"EUR\",\"0.88\",\"SAS\",\"0.082\"],[\"C9985402\",\"EUR\",\"0.95\",\"SAS\",\"0.023\"],[\"C9494205\",\"EUR\",\"0.81\",\"SAS\",\"0.12\"],[\"C7800831\",\"EUR\",\"0.95\",\"SAS\",\"0.04\"],[\"C8298170\",\"EUR\",\"0.93\",\"AMR\",\"0.029\"],[\"C9525049\",\"EUR\",\"0.93\",\"SAS\",\"0.041\"],[\"C9446681\",\"EUR\",\"0.57\",\"SAS\",\"0.34\"],[\"C7774127\",\"EUR\",\"0.85\",\"SAS\",\"0.089\"],[\"C0450044\",\"EUR\",\"0.98\",\"AMR\",\"0.0084\"],[\"C8868365\",\"EUR\",\"0.93\",\"SAS\",\"0.034\"],[\"C8395884\",\"EUR\",\"0.98\",\"AMR\",\"0.0095\"],[\"C8574156\",\"EUR\",\"0.98\",\"AMR\",\"0.009\"],[\"C8120972\",\"EUR\",\"0.98\",\"AMR\",\"0.009\"],[\"C7556646\",\"EUR\",\"0.95\",\"SAS\",\"0.024\"],[\"C9675388\",\"EUR\",\"0.95\",\"SAS\",\"0.029\"],[\"C9882335\",\"EUR\",\"0.95\",\"AMR\",\"0.024\"],[\"C8108376\",\"EUR\",\"0.95\",\"AMR\",\"0.022\"],[\"C9211784\",\"EUR\",\"0.94\",\"SAS\",\"0.029\"],[\"C0090573\",\"EUR\",\"0.94\",\"SAS\",\"0.035\"],[\"C0905309\",\"EUR\",\"0.95\",\"SAS\",\"0.028\"],[\"C1721225\",\"EUR\",\"0.93\",\"SAS\",\"0.047\"],[\"C5222088\",\"EUR\",\"0.85\",\"SAS\",\"0.11\"],[\"C9322275\",\"EUR\",\"0.94\",\"SAS\",\"0.025\"],[\"C9939770\",\"EUR\",\"0.95\",\"SAS\",\"0.029\"],[\"C9174984\",\"EUR\",\"0.87\",\"AMR\",\"0.062\"],[\"C7696137\",\"EUR\",\"0.94\",\"SAS\",\"0.025\"],[\"C5775742\",\"EUR\",\"0.89\",\"SAS\",\"0.063\"],[\"C9210292\",\"EUR\",\"0.89\",\"SAS\",\"0.052\"],[\"C7674803\",\"EUR\",\"0.93\",\"SAS\",\"0.039\"],[\"C9563106\",\"EUR\",\"0.8\",\"SAS\",\"0.13\"],[\"C8328750\",\"EUR\",\"0.95\",\"SAS\",\"0.022\"],[\"C9842667\",\"EUR\",\"0.96\",\"SAS\",\"0.018\"],[\"C8334012\",\"EUR\",\"0.96\",\"SAS\",\"0.023\"],[\"C7364484\",\"EUR\",\"0.92\",\"SAS\",\"0.049\"],[\"C8190455\",\"EUR\",\"0.88\",\"SAS\",\"0.077\"],[\"C5037290\",\"EUR\",\"0.85\",\"SAS\",\"0.074\"],[\"C0789756\",\"EUR\",\"0.89\",\"SAS\",\"0.063\"],[\"C0808631\",\"EUR\",\"0.95\",\"AMR\",\"0.017\"],[\"C4566059\",\"EUR\",\"0.88\",\"SAS\",\"0.089\"],[\"C0403428\",\"EUR\",\"0.83\",\"SAS\",\"0.11\"],[\"C7241422\",\"EUR\",\"0.66\",\"SAS\",\"0.3\"],[\"C7352172\",\"EUR\",\"0.89\",\"SAS\",\"0.089\"],[\"C7862755\",\"EUR\",\"0.89\",\"SAS\",\"0.069\"],[\"C7796034\",\"EUR\",\"0.94\",\"SAS\",\"0.039\"],[\"C8059802\",\"EUR\",\"0.97\",\"AMR\",\"0.013\"],[\"C9853013\",\"EUR\",\"0.86\",\"SAS\",\"0.11\"],[\"C7978591\",\"EUR\",\"0.94\",\"SAS\",\"0.043\"],[\"C9609040\",\"EUR\",\"0.96\",\"SAS\",\"0.017\"],[\"C0403611\",\"EUR\",\"0.95\",\"AMR\",\"0.024\"],[\"C5922853\",\"EUR\",\"0.84\",\"SAS\",\"0.096\"],[\"C0608848\",\"EUR\",\"0.85\",\"SAS\",\"0.11\"],[\"C8417670\",\"EUR\",\"0.93\",\"SAS\",\"0.045\"],[\"C4261455\",\"EUR\",\"0.88\",\"SAS\",\"0.064\"],[\"C8359371\",\"EUR\",\"0.95\",\"SAS\",\"0.034\"],[\"C0445352\",\"EUR\",\"0.98\",\"AMR\",\"0.0074\"],[\"C9498593\",\"EUR\",\"0.89\",\"SAS\",\"0.06\"],[\"C8164464\",\"EUR\",\"0.98\",\"AMR\",\"0.0092\"],[\"C8246802\",\"EUR\",\"0.96\",\"SAS\",\"0.022\"],[\"C7755859\",\"EUR\",\"0.94\",\"SAS\",\"0.04\"],[\"C0257429\",\"EUR\",\"0.86\",\"SAS\",\"0.066\"],[\"C9901595\",\"EUR\",\"0.94\",\"SAS\",\"0.024\"],[\"C8387101\",\"EUR\",\"0.92\",\"SAS\",\"0.051\"],[\"C9708363\",\"EUR\",\"0.92\",\"SAS\",\"0.054\"],[\"C8240661\",\"EUR\",\"0.97\",\"AMR\",\"0.011\"],[\"C7975607\",\"EUR\",\"0.94\",\"SAS\",\"0.026\"],[\"C9861169\",\"EUR\",\"0.89\",\"SAS\",\"0.061\"],[\"C8070392\",\"EUR\",\"0.97\",\"SAS\",\"0.012\"],[\"C0252881\",\"EUR\",\"0.88\",\"SAS\",\"0.094\"],[\"C0987688\",\"EUR\",\"0.86\",\"SAS\",\"0.11\"],[\"C7242024\",\"EUR\",\"0.97\",\"SAS\",\"0.012\"],[\"C7292533\",\"EUR\",\"0.97\",\"AMR\",\"0.016\"],[\"C7400164\",\"EUR\",\"0.91\",\"SAS\",\"0.065\"],[\"C9692034\",\"EUR\",\"0.97\",\"AMR\",\"0.014\"],[\"C9891547\",\"EUR\",\"0.93\",\"SAS\",\"0.049\"],[\"C0094496\",\"EUR\",\"0.9\",\"SAS\",\"0.078\"],[\"C8365573\",\"EUR\",\"0.94\",\"SAS\",\"0.031\"],[\"C7201722\",\"EUR\",\"0.9\",\"SAS\",\"0.045\"],[\"C9043888\",\"EUR\",\"0.93\",\"SAS\",\"0.041\"],[\"C0768621\",\"EUR\",\"0.97\",\"SAS\",\"0.014\"],[\"C8681088\",\"EUR\",\"0.91\",\"SAS\",\"0.058\"],[\"C9435463\",\"EUR\",\"0.92\",\"SAS\",\"0.05\"],[\"C7624145\",\"EUR\",\"0.74\",\"SAS\",\"0.15\"],[\"C7254952\",\"EUR\",\"0.96\",\"AMR\",\"0.015\"],[\"C8803331\",\"EUR\",\"0.98\",\"SAS\",\"0.011\"],[\"C0111335\",\"EUR\",\"0.94\",\"AMR\",\"0.026\"],[\"C7663753\",\"EUR\",\"0.96\",\"SAS\",\"0.021\"],[\"C9352597\",\"EUR\",\"0.74\",\"SAS\",\"0.19\"],[\"C3995916\",\"EUR\",\"0.99\",\"SAS\",\"0.0053\"],[\"C7720398\",\"EUR\",\"0.99\",\"AMR\",\"0.0046\"],[\"C7797150\",\"EUR\",\"0.93\",\"SAS\",\"0.048\"],[\"C8546542\",\"EUR\",\"0.95\",\"SAS\",\"0.026\"],[\"C7446783\",\"EUR\",\"0.95\",\"SAS\",\"0.027\"],[\"C9499501\",\"EUR\",\"0.96\",\"SAS\",\"0.016\"],[\"C9623681\",\"EUR\",\"0.76\",\"SAS\",\"0.14\"],[\"C2656017\",\"EUR\",\"0.94\",\"SAS\",\"0.027\"],[\"C9566094\",\"EUR\",\"0.97\",\"AMR\",\"0.018\"],[\"C8285568\",\"EUR\",\"0.92\",\"SAS\",\"0.052\"],[\"C9106847\",\"EUR\",\"0.94\",\"AMR\",\"0.032\"],[\"C8704644\",\"EUR\",\"0.97\",\"AMR\",\"0.012\"],[\"C7744203\",\"EUR\",\"0.91\",\"SAS\",\"0.051\"],[\"C9670670\",\"EUR\",\"0.92\",\"AMR\",\"0.037\"],[\"C8659700\",\"EUR\",\"0.91\",\"SAS\",\"0.05\"],[\"C8445892\",\"EUR\",\"0.55\",\"SAS\",\"0.32\"],[\"C8114694\",\"EUR\",\"0.93\",\"AMR\",\"0.028\"],[\"C0973724\",\"EUR\",\"0.86\",\"SAS\",\"0.09\"],[\"C8243782\",\"EUR\",\"0.97\",\"SAS\",\"0.015\"],[\"C8941520\",\"EUR\",\"0.95\",\"SAS\",\"0.024\"],[\"C8047717\",\"EUR\",\"0.98\",\"AMR\",\"0.0073\"],[\"C7420529\",\"EUR\",\"0.97\",\"AMR\",\"0.011\"],[\"C8347151\",\"EUR\",\"0.9\",\"SAS\",\"0.055\"],[\"C7615711\",\"EUR\",\"0.98\",\"AMR\",\"0.011\"],[\"C9337466\",\"EUR\",\"0.93\",\"SAS\",\"0.038\"],[\"C8388266\",\"EUR\",\"0.96\",\"SAS\",\"0.027\"],[\"C9328025_B\",\"EUR\",\"0.95\",\"SAS\",\"0.031\"],[\"C8069365\",\"EUR\",\"0.97\",\"SAS\",\"0.017\"],[\"C8958600\",\"EUR\",\"0.96\",\"SAS\",\"0.019\"],[\"C9352013\",\"EUR\",\"0.89\",\"SAS\",\"0.047\"],[\"C9531167\",\"EUR\",\"0.82\",\"SAS\",\"0.1\"],[\"C8293022\",\"EUR\",\"0.45\",\"SAS\",\"0.37\"],[\"C9032340\",\"EUR\",\"0.96\",\"SAS\",\"0.021\"],[\"C0658349\",\"EUR\",\"0.98\",\"SAS\",\"0.011\"],[\"C7262251\",\"EUR\",\"0.97\",\"SAS\",\"0.022\"],[\"C9183745\",\"EUR\",\"0.92\",\"SAS\",\"0.043\"],[\"C8564190\",\"EUR\",\"0.95\",\"SAS\",\"0.028\"],[\"C9891309\",\"EUR\",\"0.94\",\"AMR\",\"0.03\"],[\"C7880838\",\"EUR\",\"0.97\",\"AMR\",\"0.015\"],[\"C7123283\",\"EUR\",\"0.92\",\"SAS\",\"0.05\"],[\"C7273861\",\"EUR\",\"0.98\",\"AMR\",\"0.0061\"],[\"C7211784\",\"EUR\",\"0.92\",\"SAS\",\"0.042\"],[\"C8403653\",\"EUR\",\"0.96\",\"SAS\",\"0.027\"],[\"C8225534\",\"EUR\",\"0.95\",\"AMR\",\"0.026\"],[\"C5989630\",\"EUR\",\"0.8\",\"SAS\",\"0.15\"],[\"C0252536\",\"EUR\",\"0.96\",\"SAS\",\"0.02\"],[\"C0175736\",\"EUR\",\"0.95\",\"AMR\",\"0.025\"],[\"C8035341\",\"EUR\",\"0.9\",\"SAS\",\"0.066\"],[\"C0686667\",\"EUR\",\"0.85\",\"SAS\",\"0.12\"],[\"C8333328\",\"EUR\",\"0.95\",\"SAS\",\"0.032\"],[\"C8494715\",\"EUR\",\"0.92\",\"AMR\",\"0.032\"],[\"C8098744\",\"EUR\",\"0.92\",\"SAS\",\"0.034\"],[\"C9674024\",\"EUR\",\"0.94\",\"SAS\",\"0.031\"],[\"C5244188\",\"EUR\",\"0.96\",\"SAS\",\"0.019\"],[\"C7355851\",\"EUR\",\"0.96\",\"SAS\",\"0.018\"],[\"C8655078\",\"EUR\",\"0.96\",\"AMR\",\"0.02\"],[\"C0057435\",\"EUR\",\"0.96\",\"AMR\",\"0.022\"],[\"C9759662\",\"EUR\",\"0.98\",\"SAS\",\"0.011\"],[\"C9503626\",\"EUR\",\"0.93\",\"SAS\",\"0.048\"],[\"C5048024\",\"EUR\",\"0.84\",\"SAS\",\"0.13\"],[\"C8946541\",\"EUR\",\"0.94\",\"SAS\",\"0.042\"],[\"C0949895\",\"EUR\",\"0.92\",\"SAS\",\"0.04\"],[\"C0871465\",\"EUR\",\"0.9\",\"SAS\",\"0.072\"],[\"C9557092\",\"EUR\",\"0.89\",\"SAS\",\"0.066\"],[\"C0425008\",\"EUR\",\"0.74\",\"AMR\",\"0.18\"],[\"C7728571\",\"EUR\",\"0.95\",\"SAS\",\"0.022\"],[\"C8852726\",\"EUR\",\"0.97\",\"AMR\",\"0.016\"],[\"C9068543\",\"EUR\",\"0.93\",\"SAS\",\"0.032\"],[\"C7975717\",\"EUR\",\"0.96\",\"SAS\",\"0.02\"],[\"C9970429\",\"EUR\",\"0.95\",\"SAS\",\"0.02\"],[\"C0040823\",\"EUR\",\"0.96\",\"AMR\",\"0.016\"],[\"C5795180\",\"EUR\",\"0.76\",\"SAS\",\"0.15\"],[\"C0791932\",\"EUR\",\"0.95\",\"SAS\",\"0.027\"],[\"C7075879\",\"EUR\",\"0.92\",\"SAS\",\"0.033\"],[\"C7337756\",\"EUR\",\"0.89\",\"SAS\",\"0.078\"],[\"C9077429\",\"EUR\",\"0.95\",\"SAS\",\"0.029\"],[\"C7256096\",\"EUR\",\"0.9\",\"SAS\",\"0.052\"],[\"C8614179_B\",\"EUR\",\"0.96\",\"SAS\",\"0.018\"],[\"C8667657\",\"EUR\",\"0.94\",\"AMR\",\"0.023\"],[\"C8186594\",\"EUR\",\"0.97\",\"SAS\",\"0.011\"],[\"C8685400\",\"EUR\",\"0.96\",\"AMR\",\"0.017\"],[\"C8314908\",\"EUR\",\"0.96\",\"SAS\",\"0.019\"],[\"C9254632\",\"EUR\",\"0.69\",\"SAS\",\"0.26\"],[\"C7942862\",\"EUR\",\"0.93\",\"SAS\",\"0.035\"],[\"C8917292\",\"EUR\",\"0.96\",\"SAS\",\"0.019\"],[\"C7561329\",\"EUR\",\"0.89\",\"SAS\",\"0.062\"],[\"C7631226\",\"EUR\",\"0.98\",\"AMR\",\"0.008\"],[\"C9867644\",\"EUR\",\"0.92\",\"SAS\",\"0.038\"],[\"C8404107\",\"EUR\",\"0.98\",\"SAS\",\"0.01\"],[\"C9072808\",\"EUR\",\"0.94\",\"SAS\",\"0.026\"],[\"C0657308\",\"EUR\",\"0.88\",\"SAS\",\"0.074\"],[\"C9796034\",\"EUR\",\"0.8\",\"SAS\",\"0.16\"],[\"C7874287\",\"EUR\",\"0.87\",\"SAS\",\"0.1\"],[\"C8268283\",\"EUR\",\"0.95\",\"AMR\",\"0.03\"],[\"C4723222\",\"EUR\",\"0.89\",\"SAS\",\"0.069\"],[\"C7171813\",\"EUR\",\"0.56\",\"AMR\",\"0.26\"],[\"C9105851\",\"EUR\",\"0.95\",\"SAS\",\"0.022\"],[\"C0355369\",\"EUR\",\"0.96\",\"SAS\",\"0.022\"],[\"C8991687\",\"EUR\",\"0.97\",\"SAS\",\"0.02\"],[\"C8187483\",\"EUR\",\"0.97\",\"AMR\",\"0.013\"],[\"C7599062\",\"EUR\",\"0.96\",\"SAS\",\"0.018\"],[\"C8500841\",\"EUR\",\"0.98\",\"AMR\",\"0.0071\"],[\"C9418584\",\"EUR\",\"0.94\",\"SAS\",\"0.026\"],[\"C5191349\",\"EUR\",\"0.64\",\"SAS\",\"0.27\"],[\"C9414698\",\"EUR\",\"0.92\",\"SAS\",\"0.052\"],[\"C5425462\",\"EUR\",\"0.49\",\"SAS\",\"0.4\"],[\"C0267788\",\"EUR\",\"0.94\",\"SAS\",\"0.037\"],[\"C8372662\",\"EUR\",\"0.95\",\"SAS\",\"0.032\"],[\"C8363243\",\"EUR\",\"0.8\",\"SAS\",\"0.13\"],[\"C0129778\",\"EUR\",\"0.97\",\"SAS\",\"0.011\"],[\"C8628170\",\"EUR\",\"0.95\",\"SAS\",\"0.022\"],[\"C7256485\",\"EUR\",\"0.97\",\"SAS\",\"0.017\"],[\"C0912641\",\"EUR\",\"0.89\",\"SAS\",\"0.068\"]],\"hovertemplate\":\"\\u003cb\\u003e%{hovertext}\\u003c\\u002fb\\u003e\\u003cbr\\u003e\\u003cbr\\u003ePred=%{customdata[1]}\\u003cbr\\u003ePC1=%{x}\\u003cbr\\u003ePC2=%{y}\\u003cbr\\u003eSample=%{customdata[0]}\\u003cbr\\u003ePrimary_Perc=%{customdata[2]}\\u003cbr\\u003eSecond=%{customdata[3]}\\u003cbr\\u003eSecond_Perc=%{customdata[4]}\\u003cextra\\u003e\\u003c\\u002fextra\\u003e\",\"hovertext\":[\"C0000613\",\"C9392081\",\"C3029371\",\"C9112331\",\"C0102193\",\"C9773006\",\"C8439824\",\"C8440070\",\"C9544194\",\"C0171053\",\"C9373517\",\"C0205079\",\"C0716317\",\"C9948864\",\"C7488119\",\"C0697204\",\"C9421850\",\"C8992487\",\"C0323527\",\"C9404984\",\"C9143246\",\"C0229254\",\"C0814135\",\"C8046245\",\"C7719688_B\",\"C7272482\",\"C8719784\",\"C7419040\",\"C8028049\",\"C9070830\",\"C7515229\",\"C8320957\",\"C9504996\",\"C7774321\",\"C8973185\",\"C9202805\",\"C7922853\",\"C1419921\",\"C0080595\",\"C7873931\",\"C0305012\",\"C9362525\",\"C0968806\",\"C9092574\",\"C9783888\",\"C5901838\",\"C7037290\",\"C8896744\",\"C8566915\",\"C9867144\",\"C0506852\",\"C9019427\",\"C0648474\",\"C9551607\",\"C0915694\",\"C7564617\",\"C0869297\",\"C8916507\",\"C7899782\",\"C5041438\",\"C0971388\",\"C7900996\",\"C9950284\",\"C8207616\",\"C7775742\",\"C8949385\",\"C9830861\",\"C7489236\",\"C0745818\",\"C0384466\",\"C7854608\",\"C9271854\",\"C9429553\",\"C7812934\",\"C8036290\",\"C9963120\",\"C9500443\",\"C6657611\",\"C8451371\",\"C7214227\",\"C7829444\",\"C9181785\",\"C9454614\",\"C4013619\",\"C9173829\",\"C0186076\",\"C8360547\",\"C9236526\",\"C7343848\",\"C8900381\",\"C9337436\",\"C9281676\",\"C8643849\",\"C7724650\",\"C0790760\",\"C7555611\",\"C8876110\",\"C8716254\",\"C7873494\",\"C0982934\",\"C5191909\",\"C7355308\",\"C5792284\",\"C9834437\",\"C5095437\",\"C8124245\",\"C7249530\",\"C8297061\",\"C9256776\",\"C8170175\",\"C0457844\",\"C9395325\",\"C9738079\",\"C9343835\",\"C0881093\",\"C9348452\",\"C0613900\",\"C7466760\",\"C0250005\",\"C7563157\",\"C7812195\",\"C9137802\",\"C9841936\",\"C7626599\",\"C8689064\",\"C0801578\",\"C8574255\",\"C9899426\",\"C0953478_B\",\"C7753437\",\"C7442839\",\"C9769468\",\"C9149135\",\"C8808071\",\"C8584714\",\"C9414358\",\"C9015006_A\",\"C0475692\",\"C0810521\",\"C9333875\",\"C0940211\",\"C9987132\",\"C8021853\",\"C8643073\",\"C9332037\",\"C0323438\",\"C8790955\",\"C9107796\",\"C9146837\",\"C5845278\",\"C1268869\",\"C9335055\",\"C5095146\",\"C0774765\",\"C9353533\",\"C5667839\",\"C0220606\",\"C7719688_A\",\"C9065204\",\"C9630977\",\"C5975717\",\"C8219205\",\"C0815217\",\"C8681671\",\"C8478557\",\"C7664882\",\"C7731610\",\"C9910955\",\"C8770577\",\"C9593509\",\"C7575592\",\"C9203538\",\"C0175376\",\"C9895193\",\"C9287399\",\"C9425592\",\"C8048662\",\"C7048024\",\"C7244188\",\"C9787294\",\"C1099243\",\"C7931543\",\"C5211557\",\"C9960311\",\"C8897927\",\"C7989630\",\"C0047775\",\"C9237364\",\"C8615941\",\"C7392071\",\"C7560532\",\"C8461665\",\"C0776135\",\"C0125692\",\"C9100987\",\"C5256485\",\"C6281807\",\"C0551561\",\"C9172258\",\"C7900292\",\"C7580286\",\"C7128050\",\"C0973809\",\"C7425462\",\"C9761272\",\"C9738061\",\"C9697066\",\"C5599062\",\"C0478009\",\"C9835618\",\"C9518874\",\"C7405020\",\"C8761613\",\"C8985793\",\"C0737742\",\"C5942862\",\"C8319806\",\"C8896162\",\"C8363284\",\"C0301621\",\"C8246413\",\"C0747818\",\"C8193518\",\"C8704315\",\"C9749291\",\"C7893181\",\"C9588598\",\"C9767055\",\"C9696497\",\"C6061051\",\"C9249260\",\"C8801527\",\"C7952024\",\"C0310438\",\"C9145166\",\"C8596930\",\"C0898730\",\"C9806608\",\"C8810404\",\"C8219541\",\"C7952533\",\"C7964148\",\"C8651159\",\"C7486770\",\"C8495592\",\"C0813775\",\"C9608162\",\"C8865309\",\"C8358629\",\"C9829444\",\"C9155285\",\"C0996531\",\"C0282724\",\"C0921762\",\"C8659108\",\"C7259165\",\"C9830781\",\"C0536477\",\"C8192476\",\"C7769468\",\"C3802976\",\"C9634772\",\"C8335523\",\"C7991356\",\"C9796515\",\"C7777597\",\"C9473340\",\"C9015006_B\",\"C8506441\",\"C7557432\",\"C0954932\",\"C8736037\",\"C8040854\",\"C7860973\",\"C8278819\",\"C8644106\",\"C8681860\",\"C8519536\",\"C8938114\",\"C7163669\",\"C0953478_A\",\"C8319450\",\"C7375657\",\"C7161606\",\"C8397582\",\"C0084844\",\"C0755223\",\"C7759848\",\"C8713498\",\"C7899426\",\"C8876593\",\"C7564817\",\"C9664685\",\"C7069181\",\"C8257777\",\"C0773447\",\"C8451688\",\"C9186995\",\"C9931298\",\"C8488109\",\"C8450746\",\"C7770397\",\"C5343848\",\"C9766496\",\"C0770246\",\"C0462055\",\"C8614148\",\"C7861169\",\"C8194455\",\"C6514151\",\"C9594960\",\"C8240437\",\"C0291197\",\"C7051331\",\"C0365146\",\"C0047921\",\"C7728583\",\"C9264845\",\"C0606661\",\"C5526923\",\"C9693293\",\"C0589344\",\"C8587599\",\"C3302744\",\"C9366500\",\"C7606723\",\"C7670382\",\"C9840031\",\"C9352656\",\"C8489869\",\"C9926912\",\"C7574693\",\"C8081097\",\"C0549991\",\"C8740455\",\"C8219585\",\"C0661301\",\"C0539635\",\"C0430692\",\"C7075995\",\"C9539446\",\"C7558702\",\"C8205925\",\"C7337466\",\"C7725618\",\"C9328025_A\",\"C9845989\",\"C0490359\",\"C7934589\",\"C8284466\",\"C0323408\",\"C9046772\",\"C9164503\",\"C8237107\",\"C5044638\",\"C0796853\",\"C9289426\",\"C5156906\",\"C9880838\",\"C9422879\",\"C7551958\",\"C8798010\",\"C0407432\",\"C9694140\",\"C7531167\",\"C0681808\",\"C8584739\",\"C9465585\",\"C8191615\",\"C0241248\",\"C9906189\",\"C9723763\",\"C5466760\",\"C7138975\",\"C7307187\",\"C9549733\",\"C8173027\",\"C8431940\",\"C9622975\",\"C1536424\",\"C9023035\",\"C7112454\",\"C7191909\",\"C7095437\",\"C7792284\",\"C7873287\",\"C9214677\",\"C9728571\",\"C8885328\",\"C7851117\",\"C8981077\",\"C8614179_A\",\"C0286319\",\"C7900189\",\"C0388329\",\"C7596902\",\"C7860321\",\"C8016613\",\"C8921704\",\"C0987880\",\"C9985402\",\"C9494205\",\"C7800831\",\"C8298170\",\"C9525049\",\"C9446681\",\"C7774127\",\"C0450044\",\"C8868365\",\"C8395884\",\"C8574156\",\"C8120972\",\"C7556646\",\"C9675388\",\"C9882335\",\"C8108376\",\"C9211784\",\"C0090573\",\"C0905309\",\"C1721225\",\"C5222088\",\"C9322275\",\"C9939770\",\"C9174984\",\"C7696137\",\"C5775742\",\"C9210292\",\"C7674803\",\"C9563106\",\"C8328750\",\"C9842667\",\"C8334012\",\"C7364484\",\"C8190455\",\"C5037290\",\"C0789756\",\"C0808631\",\"C4566059\",\"C0403428\",\"C7241422\",\"C7352172\",\"C7862755\",\"C7796034\",\"C8059802\",\"C9853013\",\"C7978591\",\"C9609040\",\"C0403611\",\"C5922853\",\"C0608848\",\"C8417670\",\"C4261455\",\"C8359371\",\"C0445352\",\"C9498593\",\"C8164464\",\"C8246802\",\"C7755859\",\"C0257429\",\"C9901595\",\"C8387101\",\"C9708363\",\"C8240661\",\"C7975607\",\"C9861169\",\"C8070392\",\"C0252881\",\"C0987688\",\"C7242024\",\"C7292533\",\"C7400164\",\"C9692034\",\"C9891547\",\"C0094496\",\"C8365573\",\"C7201722\",\"C9043888\",\"C0768621\",\"C8681088\",\"C9435463\",\"C7624145\",\"C7254952\",\"C8803331\",\"C0111335\",\"C7663753\",\"C9352597\",\"C3995916\",\"C7720398\",\"C7797150\",\"C8546542\",\"C7446783\",\"C9499501\",\"C9623681\",\"C2656017\",\"C9566094\",\"C8285568\",\"C9106847\",\"C8704644\",\"C7744203\",\"C9670670\",\"C8659700\",\"C8445892\",\"C8114694\",\"C0973724\",\"C8243782\",\"C8941520\",\"C8047717\",\"C7420529\",\"C8347151\",\"C7615711\",\"C9337466\",\"C8388266\",\"C9328025_B\",\"C8069365\",\"C8958600\",\"C9352013\",\"C9531167\",\"C8293022\",\"C9032340\",\"C0658349\",\"C7262251\",\"C9183745\",\"C8564190\",\"C9891309\",\"C7880838\",\"C7123283\",\"C7273861\",\"C7211784\",\"C8403653\",\"C8225534\",\"C5989630\",\"C0252536\",\"C0175736\",\"C8035341\",\"C0686667\",\"C8333328\",\"C8494715\",\"C8098744\",\"C9674024\",\"C5244188\",\"C7355851\",\"C8655078\",\"C0057435\",\"C9759662\",\"C9503626\",\"C5048024\",\"C8946541\",\"C0949895\",\"C0871465\",\"C9557092\",\"C0425008\",\"C7728571\",\"C8852726\",\"C9068543\",\"C7975717\",\"C9970429\",\"C0040823\",\"C5795180\",\"C0791932\",\"C7075879\",\"C7337756\",\"C9077429\",\"C7256096\",\"C8614179_B\",\"C8667657\",\"C8186594\",\"C8685400\",\"C8314908\",\"C9254632\",\"C7942862\",\"C8917292\",\"C7561329\",\"C7631226\",\"C9867644\",\"C8404107\",\"C9072808\",\"C0657308\",\"C9796034\",\"C7874287\",\"C8268283\",\"C4723222\",\"C7171813\",\"C9105851\",\"C0355369\",\"C8991687\",\"C8187483\",\"C7599062\",\"C8500841\",\"C9418584\",\"C5191349\",\"C9414698\",\"C5425462\",\"C0267788\",\"C8372662\",\"C8363243\",\"C0129778\",\"C8628170\",\"C7256485\",\"C0912641\"],\"legendgroup\":\"EUR\",\"marker\":{\"color\":\"#636efa\",\"symbol\":\"circle\"},\"mode\":\"markers\",\"name\":\"EUR\",\"orientation\":\"v\",\"showlegend\":true,\"x\":[-10.999114118417651,-9.911215709730488,-13.579621572484491,-9.851568872791225,-11.564812828335537,-8.40139756034949,-9.806754236186503,-9.428386651978455,-14.639523316130159,-10.940747050572767,-9.56617348537945,-12.067427727415241,-12.29128582792721,-10.97354356714136,-14.186115010021611,-10.855703632888536,-10.147726807636698,-12.394261261301805,-10.520527839685299,-13.981429651568044,-11.217110606759213,-11.974642132413578,-10.175505841034424,-11.107351444042774,-9.528108071437382,-11.675460664576411,-10.374974063831823,-10.39528363102015,-14.371610258342333,-11.462455804244978,-11.221084965687,-11.999702191339052,-7.279817317316845,-12.885212321329142,-12.270586080911645,-12.225934590935758,-12.049474002335906,-13.871174501445841,-9.337275776360363,-13.310715713495485,-8.916121299132119,-7.0726048866764035,-11.68543038189844,-11.481551945899586,-9.095214772230797,-10.24280254069566,-12.281833735760463,-9.4160333514222,-11.14346777979674,-10.435204923878239,-11.574726361463155,-12.511620671303522,-16.09175216985148,-12.81132198072772,-8.240151385275691,-9.848650835070009,-13.573080994627247,-13.260967674629484,-10.931705669076123,-12.887291895642269,-4.237380590868229,-9.661036508102365,-12.122007938404394,-11.61235565971598,-12.248043519219449,-12.763860528736519,-11.388122055489745,-12.023364235209687,-11.175802049672612,-11.725516238690114,-11.834115776501811,-10.126317460142044,-9.160885581636979,-11.788054906475214,-12.631701032141626,-10.35410425131029,-11.269040348415103,-12.947477681366433,-10.1925461730294,-11.625043799185006,-8.264010201531217,-11.043733089111036,-4.931988669719622,-8.659026409733585,-10.80998200556581,-14.363520594068685,-12.594614870915814,-10.251850769597883,-12.267663119989532,-9.947517547730975,-12.805830396248192,-12.678026236011435,-10.048859574181686,-7.9947681287914545,-10.86596722057433,-10.668249054328191,-11.335425010448986,-12.00871484408241,-10.36033337462668,-11.577106374992296,-11.344011471500345,-12.048808860917134,-10.465268906099006,-10.479046769661336,-13.234452956393994,-11.881862169295907,-8.20053862922836,-9.242242992224035,-13.092630346888754,-12.795984821441925,-10.003495388687961,-13.573117761709916,-8.11817178602512,-12.612523086143645,-10.539543572618742,-8.056038219380715,-10.023754729754973,-9.385007478659839,-9.987775680702049,-11.85838849909121,-11.31951036727215,-11.175985927808073,-8.909843626867438,-8.81815775062409,-11.921216388354463,-10.003745046652192,-13.760287176508342,-11.238755177361243,-12.482533831842485,-8.86013682799973,-10.615037098815405,-11.701551530329578,-9.606796762257932,-12.238678663608392,-12.100052753851086,-5.875093269508739,-10.05291631700393,-12.563213093897554,-13.209344060458731,-11.720165224832472,-12.542314503048372,-9.689870517443639,-13.517839939594287,-11.2466239880597,-10.655886569676685,-13.742313026159882,-10.455806006266416,-11.128699386804671,-11.174553180489847,-10.431027785874402,-11.90322598617439,-10.48749997532991,-13.059275399481255,-9.286870126508445,-14.503726999185979,-12.135063709857056,-11.033741840146973,-9.837680661492287,-8.973735185480065,-10.673860741826877,-11.504171324069066,-10.035001675204825,-11.597000237354116,-10.311519976543233,-12.89846528487132,-10.552444064365766,-12.697455133051738,-9.513080420515939,-10.181396050725581,-13.559698114315644,-11.486135649791253,-14.285805579373378,-10.652799139669725,-12.149577361107125,-12.548334052612688,-9.465268921992033,-15.924142444025398,-10.738886843989654,-10.924164100216352,-15.035964137609614,-9.965653071674444,-11.542055199996065,-11.991874856866064,-11.14735129874857,-10.504269092211883,-10.808892310396573,-7.455693741982765,-11.541845348029158,-7.32370293594852,-13.278448472905144,-13.314004801261884,-11.882771030452492,-11.696646345278978,-10.777700862206784,-8.670226389127926,-8.121806146529275,-9.220932579991285,-11.94341041696362,-12.344473086890716,-10.799522607545443,-11.04433326622268,-11.59889482223159,-8.793894061325636,-15.764885373083024,-13.52915139313642,-11.728853641284244,-9.997063394483883,-10.619507827360584,-8.191564456920979,-13.243749567932964,-11.432501908148161,-11.437918895559237,-13.928470623476493,-10.086188047037691,-10.771327769927765,-12.384795649870439,-12.643502726246084,-14.15290789456045,-5.68971627733769,-12.425000424450095,-8.52795549292965,-11.137054866079382,-15.830137639579071,-11.178624469732966,-10.81847896464054,-9.237291234685456,-9.929404558269532,-11.62052660520943,-14.489652582124252,-10.38070514494221,-10.338383347771378,-9.719517684563348,-8.763143464574878,-16.164729826400173,-11.534545377957496,-11.560852884221188,-6.985829394800281,-10.355039485147309,-12.937418769761495,-14.065661164423041,-11.321176015176876,-10.312960508225688,-12.546361626416934,-14.745465367371645,-13.95652365618255,-11.334691652115678,-13.360605730634125,-15.037837397497366,-10.9458735327311,-15.147384857739663,-10.527312545783051,-11.953372927297014,-7.683967182098022,-10.650751090223,-14.306784863805108,-11.344328916670321,-15.871249753188069,-12.134139649230589,-12.772463158388847,-13.063722186838373,-8.465300185369061,-10.081695638398255,-9.883934920978449,-9.38663303071128,-11.674169404119091,-10.715053842151166,-12.22455279823417,-9.73929292021223,-8.32108599077307,-10.676737157080622,-12.588885086128451,-15.686731631649344,-12.858060438445838,-10.951725698435979,-9.954296032504939,-10.540781808592696,-11.899967170506242,-11.978423277340921,-9.724027424234418,-11.849246693462089,-12.446891515299235,-10.360421191317092,-9.225683151090582,-10.414466835957198,-14.998765415830482,-9.394121717987499,-13.68157787363227,-8.551354025152053,-10.029680446795371,-10.057110788332439,-11.294827538596797,-11.877687020279753,-12.834948219101205,-12.495144827173913,-11.80599648621416,-12.115447691880556,-11.663099731543781,-11.168096510040154,-12.160381850790348,-7.733924557928109,-10.721487472169285,-11.577917712691946,-12.04587382959874,-12.513923100960666,-10.716323031147912,-9.13103090246781,-9.421042314375274,-13.198075669801588,-12.927798236194759,-12.29066030206702,-10.106166231520477,-13.12778841833953,-10.557310224424164,-10.975695131234957,-4.4452590041947415,-11.736615870829867,-8.782361645878327,-14.030259916949698,-12.223369829338875,-9.268227804584397,-12.703965254324688,-10.530040640329489,-14.012263537080855,-12.711100088921723,-9.532305679010376,-12.425810502613079,-11.448992958536026,-12.749410768202559,-12.678571125199612,-12.48638297929303,-13.833175815149753,-11.489636586610539,-9.750429223119797,-10.057013958805397,-11.311927421277549,-13.739874312309828,-11.421628770179936,-11.630314133348746,-10.805451416693021,-9.054386400833367,-12.570750118020708,-9.76061311182649,-9.975624707163181,-10.756774917304584,-6.8476321598457,-11.004492329012933,-12.104299316932712,-12.77075785237144,-11.980281568577608,-11.551592169137102,-12.737739606507567,-9.652813396212322,-6.573232317445879,-11.670699275416732,-11.627039091105038,-11.176668714976898,-8.903206063001377,-12.604330397762316,-11.014907116302775,-12.037551444203876,-11.179346297361036,-10.487863077433547,-11.961474739325892,-12.652407380571349,-12.616110311738504,-12.97438652892235,-9.44571007578406,-12.005972351637386,-11.068435609640009,-15.053804416021825,-12.78628097217536,-9.345625209243888,-7.714890862278746,-13.863552247815742,-12.993070887891026,-10.433827093482547,-11.866535511944047,-10.258646054313324,-12.112628627272509,-7.73055839603192,-7.961073537963687,-12.013907470768636,-9.582402526578726,-12.308030143518408,-10.714175124459508,-9.476516917769041,-14.534220456850576,-13.052273041354294,-13.146724475673448,-9.62364706086204,-11.680407880023298,-10.18645043615649,-14.60187066163592,-10.90757161213988,-15.177153748560901,-11.185029277301934,-10.228676257384171,-10.331951080740158,-10.060261223781998,-10.801282431854823,-13.875577805828183,-13.9743918092253,-12.132375929663397,-10.505084929095569,-11.233397468026034,-6.694655297862329,-8.988195032339261,-12.921920935660635,-9.570593045303875,-13.84318188143565,-11.209225282183704,-13.398901307584978,-14.395719732409496,-12.452545843926277,-10.400861438600277,-12.146433011463067,-14.882405551903894,-11.894376450524389,-12.159126400456147,-12.14579859677666,-14.143432756155294,-10.453738522674339,-12.763201570507906,-9.569124490797686,-9.31209798398513,-8.212268114742407,-10.889083157489392,-12.067589106842089,-9.84212176958242,-14.092722751493465,-12.281529234373162,-13.258914970708254,-11.869617026227788,-10.853732574130216,-11.743699786275982,-11.484658398900992,-11.680066304610254,-12.306309332421476,-10.553370371386746,-11.727498147887026,-12.178512484088778,-9.995197507889909,-13.852075907787347,-10.613177315061682,-11.861315510168938,-9.70339548654888,-10.327666963850106,-12.768417387081964,-8.780205151886062,-10.0678550023502,-13.450767939113947,-10.531233498392211,-12.536294835665796,-13.907247661881573,-10.469553785699112,-13.750763146557412,-14.052309014951541,-14.119793615557073,-6.9458301543919125,-10.144080897786246,-12.504903591387285,-12.579961616865011,-8.86725346200709,-12.082531682285513,-10.969489969316081,-12.143673819510541,-11.044332729419084,-11.627481656259015,-10.8288683614304,-12.047534218150847,-11.820155501447976,-10.984520647167221,-13.623838320439027,-11.554323333337898,-9.15243244511034,-8.80485753893826,-12.17755819216896,-9.607467749812693,-9.608981264296588,-8.87728237618816,-5.65489472337974,-9.780181859746705,-11.101871591408651,-13.379136277479182,-13.703892614236615,-8.40010476949414,-15.759567760551205,-14.126365053523458,-10.633707491816486,-13.964370315799718,-11.296662949589114,-10.655333062866283,-7.4102334520240225,-10.296316195283445,-9.934764376832009,-12.753041936934187,-14.553207279530092,-11.225237402677404,-11.714717134888904,-10.359892597177627,-9.82311783534839,-8.938469386113487,-12.149214859521502,-7.727561997055869,-14.082614565258273,-10.25897276798912,-14.142592554249001,-15.875943207909053,-12.374631578038105,-12.272890392451956,-12.962185731342604,-11.559395575834595,-10.810955967700007,-9.61884125715214,-14.749335572345222,-11.599995087863944,-10.607152162165177,-7.2047299468379,-12.238591478522348,-13.928740455476184,-13.190092005581473,-12.715403203750974,-11.636751418356708,-11.754874861776281,-10.384996090587329,-10.521012855571103,-9.31867966375286,-10.820992208231328,-11.75253745425073,-12.27757434342585,-10.44025763393372,-8.984390425312908,-9.295237150470781,-11.826304634330345,-10.109862120594578,-10.921369611691429,-10.469595942586569,-7.730637446447129,-10.024651621319098,-9.434183693303861,-12.840094163466446,-14.92731667190059,-13.09062248822962,-13.63978218615655,-12.163020402620806,-11.154484328190913,-12.021859177150898,-12.125674689765788,-9.486940809916975,-9.002513524823874,-8.217737131417586,-14.101315188428433,-11.610355467693626,-9.811543123749816,-14.719555403942003,-12.20213164780811,-13.754081760577304,-12.055921325286777,-12.696605480248442,-9.596054030039882,-10.923628704166218,-13.95015155133947,-9.964674964274618,-10.795810023110729,-10.110307966599446,-14.640717550407285,-11.412559222765445,-12.890102082007417,-10.593817994190209,-12.719403144748243,-14.010201839253908,-7.908077522877977,-13.538240999612931,-10.855221485762065,-14.611304344344136,-8.941029299160594,-9.827509496066314,-11.077655804127826,-9.982583433677183,-9.697607207668966,-10.328470400131547,-5.741062426896166,-11.02225191844638,-12.776535550530403,-14.723703150868479,-13.319194296313789,-14.371359699290126,-12.436856154999411,-6.0142134620168415,-7.548482210931884,-10.64554114870426,-9.755680963798275,-11.762910485367899,-13.856475224267138,-8.751962848243027,-11.574944220219999,-10.37014164890287,-11.197423731534865,-11.65023771563973],\"xaxis\":\"x\",\"y\":[-3.011193470053414,-3.0670184532655127,-5.348168569362151,-3.609995335703689,-4.910069512134248,-2.147810386455011,-2.763718401072164,-3.0185589027455357,-3.244056585652307,-2.922817470637642,-1.6839556298015974,-3.0033426114819335,-3.417139640509752,-4.291475103616816,-0.6634020607824768,-4.810841783334903,-4.252754616367691,-3.1739584711779085,-3.8039384402689653,-1.9023334669814338,-3.315038625474268,-4.2760298068585145,-2.45487718367104,-3.894097009751883,-3.877761350271216,-4.267640110344833,-0.758300451999363,-2.236483714735434,-4.065773870549507,-4.398692649227299,-3.101068190505443,-2.247972080869567,-4.3294136854528436,-4.7372393588706085,-3.0027066858648848,-0.49711148012587286,-6.410312547264222,-3.718480373773436,-3.5442595442329545,-3.0989300982761456,-3.927771711415913,-2.9779856566245075,-3.329415064933793,1.743584524650155,-4.923214294826268,2.752961447353491,-0.9233239644869087,-5.597502281266471,-3.3291740770940086,-1.1145119208690613,-4.855522677247226,-2.9022377151332104,-2.9086436949758547,-5.059454973067825,-4.6189646822419,-4.817939819834113,-5.467125502784103,-3.6879157227773764,-4.1900453328331215,-1.1027905618788498,-2.04170623053448,4.790246665656246,-1.814754133884069,-2.140498239641702,-2.8189129718597195,-2.862251080616015,-2.864577096688232,-4.71825259016354,-4.198518725793714,-3.3870217319994564,-3.2840475051530222,1.1016674827299175,-1.3642178225974944,-4.4849872525898435,-4.0275305851551195,-2.7937603267316224,-5.019790761053267,-3.573505725328391,-2.426720407357892,-2.8798353419224134,0.424547435186663,-2.9787390332426855,-4.672472202012341,-6.09537314111657,-4.104276145083111,-2.6731652894799747,-4.556795989529012,-2.5545766479129925,-4.06725013672441,-1.4896172526113765,-4.121964435513028,-2.118136800201517,-2.703814050293089,-3.112902420238349,-3.706810497476065,-4.562262517745908,-4.365875011648533,-3.3505331429290472,-3.9274874388606933,-4.0148893049458945,0.40206067056166156,-3.248456032993701,-1.2618183835327146,-4.536138122963235,0.41076799820851184,0.04081760234247354,-3.787859553218517,-3.249011329347029,-1.7203446156338076,-4.107665241207691,-3.6655374479677905,-3.2472082655231658,-1.1634739210049825,-6.168569664183106,-2.345314213046776,-5.170207720228912,-3.487371742921069,-3.9609634643443594,-5.384165384732747,-5.009861491332584,-4.360892050818339,-4.527975112789966,-4.994802451616318,-4.868609457877444,-4.3644306068890675,-2.281128393308284,-3.346390162037325,-2.6710738357784476,-1.9768784529675265,-3.413438396478165,-4.211092864083197,-3.4676900267210415,-5.34818330545381,-3.6150822006765555,-2.14347767123458,27.199319055457373,-5.239644730968285,-3.7428165139261935,-4.902553695294636,-4.6166236508033744,-4.587111503858498,-4.410313430918962,-4.128170010444522,-3.0338343621937347,-1.150904106660556,-4.865213740147953,-5.127476426244498,-2.3561867809367465,-4.941100796336498,4.125838037725982,-0.387102416886432,-4.08033468892677,-4.132358943473346,-4.457076243335971,-3.8669841485921372,-4.315638387430133,-3.7111828209529434,-3.3705697410605877,-0.9243979728592977,-2.543230370439321,1.1887045302286248,-4.198081986368303,-5.422581346268569,-2.4209432377753024,-3.9047016364947504,-4.353533064435243,-4.393166322001943,-3.033677403570632,-3.6249955349758234,-0.26996498974804156,-2.1781902936775692,-3.7363360549947378,-4.733834407304954,4.052945466984006,-3.3778909080857007,-2.0145611612317373,-3.235989102859931,-4.344515627192343,-3.08485936624974,-1.5512968371008216,14.613424682039861,-1.9573136454887237,-1.1642883708548286,-2.819651366632539,-2.875889602491119,-4.553987549352052,-4.908785960657235,-4.178344588860181,-3.050109070941677,-4.70218120501751,-2.7210359645769073,-3.8253453923057767,-3.7869089284234794,-2.8275530164784195,-4.191131984549945,0.4699158626542694,-3.483637523941354,-5.315423440125848,-3.14817444502242,-4.690616122742366,-4.949367447076588,-4.185495694662393,-4.22885322846536,-3.626029093113488,-2.025130905507312,-3.694951565378944,-4.6037389068798955,-0.8252748490247968,-4.864461761719128,-4.0837041456737015,-0.5393363114996022,-4.669545462878475,-2.9803188532977356,-4.031363796555785,-2.8412789143462205,-3.9458792563304,-4.066239963378381,-4.919751398300762,16.170414685286833,-1.809501957591296,19.844867268029997,-3.2838056961197784,-3.348721036567134,-1.8476912321147676,-2.215448009667158,-5.344261627565802,-4.961172812602599,-2.450651407594989,-5.1540107962728126,-3.9504109772418405,-2.2581282920754595,19.931766920143822,-3.9759722458163034,-3.892532253579216,-2.820552217162269,-3.145960740031814,-4.504055360379439,-3.5107044047500127,-4.213098527237118,-2.118685897664887,-3.4348260396435486,-4.95316911337605,-2.49456471174794,-1.6021209146617144,-4.341785318679923,-2.6298900429849685,-2.5782722216706335,-4.7095164934552685,-2.027979029820446,-3.0119702954632346,-4.940562998609044,-3.2379154809761777,9.795458874665139,-0.9511175465842039,-4.02134543888106,-3.228332549402709,-2.1710295471554626,-4.3554067916238814,-4.253080798205388,-3.100917092414436,-2.292171018244214,0.3324843651884062,-3.542283547859322,-3.307731363121707,-5.611955317398041,-1.3945602391841132,-3.515403547205727,-5.306564364718722,-3.699084286829527,-3.234200916838838,-4.372404933790519,-2.677866252112039,-4.133802003037465,-2.4731537807309727,-2.027171258861201,-1.6302371728554583,0.3674067114656907,-2.9180775096083496,-4.062313041787022,-4.488336739874487,-1.5942327893361845,-4.111803196938285,-3.316477594751046,-4.757687333286626,-2.5936023000928823,-6.181360769689336,-6.0848872553451905,1.208152528361546,-2.837828699747732,-3.4448285046799456,-6.193644757230674,-4.668016264723787,-1.4913206863474089,-3.28105103155314,-4.13975221712177,-4.205686924311934,-2.8174754840833858,-2.281613742296633,-1.8795458593300356,-2.024349472609158,-5.070364491549376,-2.8212023484530393,-1.2831009212390816,-5.102127670298336,-2.7285753450438284,-4.008272147840265,-3.5071968842548493,-4.861655388195265,-4.813587042914383,0.5792747676699316,-3.0535371005586414,-3.618084289699001,-3.67855206870727,-0.3302820434709467,4.120499691597211,-4.133844445308835,-2.266471888666986,0.8650439247862258,-2.522126256674585,-3.551090830229272,-3.348075762340065,-3.809063736344863,-2.8964715519244764,-4.6924439974907735,8.520265181859024,-2.6019595555421855,-6.1419987010416,-4.0269062290916935,-2.6485700121727396,-5.486264409607888,-4.6637432160306425,-1.1382065614484502,-5.073463153055988,-4.394053728375792,-4.437807613455085,-2.5780227314271906,-4.799780955756472,-5.855870129045468,-4.014896414785735,-4.954754112642907,-3.574213122043843,-2.7425576706069856,-4.828803826039138,-2.023791755113521,-3.46648253758537,-2.5252806560763417,-1.2030683388617636,-4.941633365704525,-5.023583375030726,-5.130330873402912,-3.1140253032583147,-4.602132366532321,10.159322918079896,-3.2246045543664823,1.0808660884558492,-4.331553099579419,-2.4280409999089096,-3.8453504814816686,-1.4673853962010093,-4.112314501302571,-2.0339412456097694,-3.324826554246557,-3.980617934494227,-2.980056622469447,-4.309688282885378,-3.1565786150722515,-3.061626361315921,-4.260052299153628,-4.239989613834338,-6.252164095148977,-3.935171129020737,-2.2573407011762785,-3.537008032077203,-3.1400943266847414,-5.446298308313817,-1.8644756317882036,-0.2802146424011283,-3.1077659000296034,-3.776200574674586,-0.4450987385130846,-0.46914640539512914,-1.337273398001259,-4.925033427772245,-4.374754614811127,-4.4401255129207495,-2.4343743166369483,-2.961619903804104,-0.8293185630996232,-2.7818493084904614,-5.008328274921493,-4.879707434073585,-3.291301932601111,-4.359548464041307,-4.244353171457968,-4.235165568715219,-4.5463921305226895,-4.358544488679174,-3.443474013082223,-3.6689200832214404,-2.8997199951432457,-3.208723281835551,-3.097294962395525,-3.6883056969016996,-2.847853984617631,0.1709007493173786,-2.9042628798731482,-3.841250819550187,-4.4762994138812635,-2.547310310986427,-2.59102309727681,-4.117841704437027,-4.192093255655066,-3.7254256845389113,-4.5840890824325395,-4.668928093545883,-3.9531776188103027,-2.7056836406510727,-4.34493458190069,-2.644381545642626,-4.462198508629611,0.8594417305976506,-4.003020037710747,-3.714544412534351,-1.6740722579132254,-3.8319731858221684,-5.087229284303089,-4.069103095035057,-5.107170163473975,-2.393631509140709,0.36415893562031626,-3.890734360727778,-3.6578550848113367,-2.9963528111540865,-3.8338932095102884,0.9921166017957137,-2.6787494922720314,-3.219093709727721,-3.550581269385214,-3.2852236148600324,-0.9913172937410332,-3.7601849981807343,3.008740774467672,-3.202895705215615,-4.893395552303453,-1.6874247785301584,-4.2314584840047385,-4.483377835228022,-3.2102514363474888,-3.2606059792982074,-1.8821175137340378,-3.778696371697432,-1.9259190114701497,-3.764753766946123,-3.895159700069821,-3.092056254363437,-4.49032935384021,-3.7301934593701978,-3.3586380156828692,-3.235335246501294,-4.494537252768158,-4.315803286492983,-5.355460656263334,-4.51156722789975,-2.252331600188452,-3.632138535185942,-4.0190061696421,-3.5204724638257288,-4.839842891785936,-2.287999878350883,-3.162590072118081,-4.09379452205969,-5.968060147430401,-4.019107525120916,-5.0627535552485226,-3.2657302773501673,-2.5134099679683994,-6.074106118048286,-3.051269330356541,-3.7313052695416253,-3.873757885454125,20.257549056619066,-3.47234983827593,-4.026818842671719,-4.687823574851945,-2.4459389856817535,-1.2685528997814302,-3.911942983795064,-5.851723844779099,-1.6702144988184053,-3.514673386696629,-3.9145268870372747,-3.4029653962871738,1.2538032771328882,-1.434974536371545,-2.5408976248689252,-5.100594313456634,-3.950274734982555,-3.992837614339853,-3.9206539545030736,-3.5846826394994413,-3.1123276857476436,14.88475103622938,-3.9255132179141254,-3.5477584894713483,-4.136879364372078,-5.728696054400635,-3.878455897551896,-3.3371320891118903,-2.9827315470922064,-2.0698233151289256,-1.4014876825877052,-5.265758595253513,-3.191864918782377,-4.741213342032702,-3.8471852126998947,-4.0032639123322475,-2.119400826937879,27.719486523802697,-3.0938873113873795,-3.9144880423443538,-4.499319202502576,-3.6763986921722562,-4.236046525577439,0.8853492680744215,-4.196350121994363,-3.9533489557007293,-4.939202871185329,-2.9588861813245493,-4.50933127779235,-3.638327578323565,0.35104265247480043,-3.699110258999253,-3.9565140896658093,0.19369687164245203,-2.8200257602634395,-4.283863413530795,-3.094869781939023,-4.102156738473819,-5.300069723123302,-1.266181226564859,-4.630352713276841,-3.987068988861193,-2.9869963985287495,-4.945704497596348,-3.2593446740004817,-2.707351402399986,-4.11602837809453,-4.209920908446603,-2.2433669858590783,-3.8346580732208624,-0.718452890413633,-1.447361254903191,-5.445900948808356,-2.966836722420891,-4.839915543738202,-3.2536500160406656,-2.4445442327290228,-0.3030597878249005,-4.051148360057149,-1.1305767250391934,-4.617815675346566,-4.495655743461863,-3.5561502248351546,-4.073366702415428,-4.759925544558313,-2.6181162389112407,-3.05903656186108,-2.9277279306925337,-0.9199820036176887,-5.022304706087523,-3.639871870937815,-4.48536670706985,-4.540477913017039,-4.736064868153435,-1.8433997391033556,-4.4433863133949005,-3.270468716250146,-1.8974063337141076,-3.696203938218327,-0.814980576687302,0.49069225405270334,-4.622374829010698,-3.803301100933758,-3.278942216200562,-3.176892964591645,-1.862449348796887,-3.2676488535523567,-4.895854036238657,1.0340572783049817,2.9556333498224805,-1.1801651114341942,5.40059504003883,-4.8729906920029356,-4.063113378218358,-4.302189435360606,-1.7872431532739181,-1.959027383046573,-5.327671495829552,-3.4640337005015938],\"yaxis\":\"y\",\"type\":\"scatter\"},{\"customdata\":[[\"C7661059\",\"EAS\",\"0.98\",\"AMR\",\"0.012\"],[\"C7722923\",\"EAS\",\"0.96\",\"SAS\",\"0.013\"],[\"C2743496\",\"EAS\",\"0.98\",\"AMR\",\"0.0092\"],[\"C2213572\",\"EAS\",\"0.97\",\"AMR\",\"0.012\"],[\"C2185794\",\"EAS\",\"0.98\",\"AMR\",\"0.0096\"],[\"C2893567\",\"EAS\",\"0.98\",\"AMR\",\"0.0089\"],[\"C2719688\",\"EAS\",\"0.96\",\"AMR\",\"0.015\"],[\"C2967032\",\"EAS\",\"0.97\",\"AMR\",\"0.014\"],[\"C2488119\",\"EAS\",\"0.98\",\"AMR\",\"0.0078\"],[\"C2764972\",\"EAS\",\"0.98\",\"AMR\",\"0.013\"],[\"C2269941\",\"EAS\",\"0.95\",\"AMR\",\"0.021\"],[\"C2756719\",\"EAS\",\"0.96\",\"AMR\",\"0.022\"],[\"C7721233\",\"EAS\",\"0.96\",\"AMR\",\"0.017\"],[\"C2501965\",\"EAS\",\"0.92\",\"AMR\",\"0.035\"],[\"C2695683_B\",\"EAS\",\"0.97\",\"AMR\",\"0.015\"],[\"C2435694\",\"EAS\",\"0.96\",\"AMR\",\"0.019\"],[\"C2726948\",\"EAS\",\"0.97\",\"AMR\",\"0.014\"],[\"C7526923\",\"EAS\",\"0.97\",\"AMR\",\"0.012\"],[\"C2343848\",\"EAS\",\"0.96\",\"AMR\",\"0.019\"],[\"C2854608\",\"EAS\",\"0.97\",\"AMR\",\"0.016\"],[\"C2308186\",\"EAS\",\"0.97\",\"AMR\",\"0.015\"],[\"C2676513\",\"EAS\",\"0.97\",\"AMR\",\"0.013\"],[\"C9896176\",\"EAS\",\"0.92\",\"AMR\",\"0.037\"],[\"C9439087\",\"EAS\",\"0.98\",\"AMR\",\"0.0074\"],[\"C2442839\",\"EAS\",\"0.98\",\"AMR\",\"0.0069\"],[\"C2946462\",\"EAS\",\"0.98\",\"AMR\",\"0.012\"],[\"C2044638\",\"EAS\",\"0.94\",\"AMR\",\"0.033\"],[\"C7321354\",\"EAS\",\"0.98\",\"AMR\",\"0.0052\"],[\"C2753437\",\"EAS\",\"0.98\",\"AMR\",\"0.01\"],[\"C2297508\",\"EAS\",\"0.98\",\"AMR\",\"0.011\"],[\"C2563157\",\"EAS\",\"0.95\",\"AMR\",\"0.024\"],[\"C2657436\",\"EAS\",\"0.95\",\"AMR\",\"0.021\"],[\"C2547590\",\"EAS\",\"0.97\",\"AMR\",\"0.016\"],[\"C2347086\",\"EAS\",\"0.97\",\"AMR\",\"0.015\"],[\"C2806985\",\"EAS\",\"0.97\",\"SAS\",\"0.01\"],[\"C2575592\",\"EAS\",\"0.96\",\"AMR\",\"0.021\"],[\"C7797481\",\"EAS\",\"0.97\",\"AMR\",\"0.0093\"],[\"C2091073\",\"EAS\",\"0.97\",\"AMR\",\"0.0095\"],[\"C2082459\",\"EAS\",\"0.96\",\"AMR\",\"0.021\"],[\"C3585027\",\"EAS\",\"0.98\",\"AMR\",\"0.007\"],[\"C4934163\",\"EAS\",\"0.97\",\"AMR\",\"0.014\"],[\"C9833901\",\"EAS\",\"0.96\",\"AMR\",\"0.015\"],[\"C2695683_A\",\"EAS\",\"0.97\",\"AMR\",\"0.015\"],[\"C1371790\",\"EAS\",\"0.97\",\"SAS\",\"0.0095\"],[\"C2392071\",\"EAS\",\"0.89\",\"AMR\",\"0.061\"],[\"C2900292\",\"EAS\",\"0.98\",\"AMR\",\"0.012\"],[\"C2120252\",\"EAS\",\"0.96\",\"AMR\",\"0.019\"],[\"C2271854\",\"EAS\",\"0.95\",\"AMR\",\"0.023\"],[\"C2429553\",\"EAS\",\"0.97\",\"AMR\",\"0.016\"],[\"C2964148\",\"EAS\",\"0.97\",\"AMR\",\"0.014\"],[\"C2963120\",\"EAS\",\"0.97\",\"AMR\",\"0.014\"],[\"C2958726\",\"EAS\",\"0.97\",\"AMR\",\"0.016\"],[\"C2960443\",\"EAS\",\"0.96\",\"AMR\",\"0.022\"],[\"C2728218\",\"EAS\",\"0.98\",\"AMR\",\"0.01\"],[\"C2794096\",\"EAS\",\"0.98\",\"AMR\",\"0.0083\"],[\"C2646930\",\"EAS\",\"0.98\",\"AMR\",\"0.01\"],[\"C2952024\",\"EAS\",\"0.98\",\"AMR\",\"0.011\"],[\"C2753421\",\"EAS\",\"0.96\",\"AMR\",\"0.018\"],[\"C7231807\",\"EAS\",\"0.97\",\"AMR\",\"0.011\"],[\"C2899426\",\"EAS\",\"0.97\",\"AMR\",\"0.017\"],[\"C2905055\",\"EAS\",\"0.98\",\"AMR\",\"0.011\"],[\"C2375657\",\"EAS\",\"0.97\",\"AMR\",\"0.017\"],[\"C2472941\",\"EAS\",\"0.98\",\"AMR\",\"0.0078\"],[\"C7787459\",\"EAS\",\"0.98\",\"AMR\",\"0.0066\"],[\"C2777597\",\"EAS\",\"0.95\",\"AMR\",\"0.025\"],[\"C2711568\",\"EAS\",\"0.95\",\"AMR\",\"0.029\"],[\"C2278135\",\"EAS\",\"0.97\",\"AMR\",\"0.011\"],[\"C9546882\",\"EAS\",\"0.76\",\"SAS\",\"0.11\"],[\"C2066334\",\"EAS\",\"0.98\",\"AMR\",\"0.0099\"],[\"C2131184\",\"EAS\",\"0.97\",\"AMR\",\"0.016\"],[\"C2558702\",\"EAS\",\"0.97\",\"AMR\",\"0.012\"],[\"C2460187\",\"EAS\",\"0.98\",\"AMR\",\"0.012\"],[\"C2693056\",\"EAS\",\"0.96\",\"AMR\",\"0.015\"],[\"C7543363\",\"EAS\",\"0.96\",\"AMR\",\"0.014\"],[\"C2735834\",\"EAS\",\"0.94\",\"AMR\",\"0.03\"],[\"C2371710\",\"EAS\",\"0.97\",\"AMR\",\"0.012\"],[\"C2535183\",\"EAS\",\"0.96\",\"AMR\",\"0.02\"],[\"C8271677\",\"EAS\",\"0.98\",\"AMR\",\"0.0099\"],[\"C2792284\",\"EAS\",\"0.97\",\"AMR\",\"0.011\"],[\"C9833467\",\"EAS\",\"0.4\",\"SAS\",\"0.25\"],[\"C2095437\",\"EAS\",\"0.97\",\"AMR\",\"0.014\"],[\"C2191909\",\"EAS\",\"0.98\",\"AMR\",\"0.0072\"],[\"C2594695\",\"EAS\",\"0.94\",\"AMR\",\"0.032\"],[\"C2337466\",\"EAS\",\"0.96\",\"AMR\",\"0.019\"],[\"C9281603_B\",\"EAS\",\"0.97\",\"AMR\",\"0.015\"],[\"C2284019\",\"EAS\",\"0.98\",\"AMR\",\"0.0069\"],[\"C2712373\",\"EAS\",\"0.96\",\"AMR\",\"0.02\"],[\"C0994645\",\"EAS\",\"0.96\",\"SAS\",\"0.018\"],[\"C8870889\",\"EAS\",\"0.97\",\"AMR\",\"0.015\"],[\"C2495200\",\"EAS\",\"0.97\",\"AMR\",\"0.013\"],[\"C2842150\",\"EAS\",\"0.99\",\"AMR\",\"0.006\"],[\"C2851117\",\"EAS\",\"0.97\",\"AMR\",\"0.014\"],[\"C9885098\",\"EAS\",\"0.4\",\"AMR\",\"0.33\"],[\"C2978591\",\"EAS\",\"0.96\",\"AMR\",\"0.023\"],[\"C2901838\",\"EAS\",\"0.96\",\"AMR\",\"0.019\"],[\"C2884087\",\"EAS\",\"0.96\",\"AMR\",\"0.018\"],[\"C2814454\",\"EAS\",\"0.94\",\"AMR\",\"0.03\"],[\"C2918178\",\"EAS\",\"0.98\",\"AMR\",\"0.0055\"],[\"C2248002\",\"EAS\",\"0.96\",\"AMR\",\"0.018\"],[\"C2414698\",\"EAS\",\"0.98\",\"AMR\",\"0.013\"],[\"C2487949\",\"EAS\",\"0.97\",\"AMR\",\"0.017\"],[\"C2196396_A\",\"EAS\",\"0.97\",\"AMR\",\"0.014\"],[\"C2400164\",\"EAS\",\"0.95\",\"AMR\",\"0.028\"],[\"C7750012\",\"EAS\",\"0.96\",\"AMR\",\"0.015\"],[\"C9010879\",\"EAS\",\"0.77\",\"AMR\",\"0.1\"],[\"C2575795\",\"EAS\",\"0.96\",\"AMR\",\"0.021\"],[\"C2717299\",\"EAS\",\"0.97\",\"AMR\",\"0.013\"],[\"C2077527\",\"EAS\",\"0.96\",\"AMR\",\"0.02\"],[\"C2451842\",\"EAS\",\"0.97\",\"AMR\",\"0.018\"],[\"C2013700\",\"EAS\",\"0.95\",\"AMR\",\"0.019\"],[\"C7317458\",\"EAS\",\"0.98\",\"AMR\",\"0.0082\"],[\"C2440130\",\"EAS\",\"0.97\",\"AMR\",\"0.016\"],[\"C2615711\",\"EAS\",\"0.97\",\"AMR\",\"0.016\"],[\"C2420529\",\"EAS\",\"0.97\",\"AMR\",\"0.015\"],[\"C9281603_A\",\"EAS\",\"0.97\",\"AMR\",\"0.016\"],[\"C2272037\",\"EAS\",\"0.98\",\"AMR\",\"0.01\"],[\"C2974662\",\"EAS\",\"0.94\",\"AMR\",\"0.027\"],[\"C2880838\",\"EAS\",\"0.98\",\"AMR\",\"0.011\"],[\"C2720398\",\"EAS\",\"0.97\",\"AMR\",\"0.016\"],[\"C0709561\",\"EAS\",\"0.39\",\"AMR\",\"0.32\"],[\"C2869615\",\"EAS\",\"0.97\",\"AMR\",\"0.013\"],[\"C2851928\",\"EAS\",\"0.98\",\"AMR\",\"0.012\"],[\"C2284359\",\"EAS\",\"0.97\",\"AMR\",\"0.012\"],[\"C2525049\",\"EAS\",\"0.95\",\"AMR\",\"0.031\"],[\"C7546689\",\"EAS\",\"0.94\",\"SAS\",\"0.026\"],[\"C2211784\",\"EAS\",\"0.96\",\"AMR\",\"0.021\"],[\"C2273861\",\"EAS\",\"0.98\",\"AMR\",\"0.008\"],[\"C7845278\",\"EAS\",\"0.98\",\"AMR\",\"0.0071\"],[\"C7917704\",\"EAS\",\"0.96\",\"AMR\",\"0.016\"],[\"C7575296\",\"EAS\",\"0.97\",\"AMR\",\"0.011\"],[\"C2412216\",\"EAS\",\"0.97\",\"AMR\",\"0.014\"],[\"C2196396_B\",\"EAS\",\"0.97\",\"AMR\",\"0.014\"],[\"C7935652\",\"EAS\",\"0.98\",\"AMR\",\"0.011\"],[\"C2256485\",\"EAS\",\"0.98\",\"AMR\",\"0.0083\"],[\"C2965113\",\"EAS\",\"0.97\",\"AMR\",\"0.014\"],[\"C2334072\",\"EAS\",\"0.97\",\"AMR\",\"0.013\"],[\"C2743556\",\"EAS\",\"0.97\",\"AMR\",\"0.012\"],[\"C2942862\",\"EAS\",\"0.96\",\"AMR\",\"0.02\"],[\"C2599062\",\"EAS\",\"0.97\",\"SAS\",\"0.013\"],[\"C2419250\",\"EAS\",\"0.97\",\"AMR\",\"0.015\"],[\"C2583097\",\"EAS\",\"0.97\",\"AMR\",\"0.016\"]],\"hovertemplate\":\"\\u003cb\\u003e%{hovertext}\\u003c\\u002fb\\u003e\\u003cbr\\u003e\\u003cbr\\u003ePred=%{customdata[1]}\\u003cbr\\u003ePC1=%{x}\\u003cbr\\u003ePC2=%{y}\\u003cbr\\u003eSample=%{customdata[0]}\\u003cbr\\u003ePrimary_Perc=%{customdata[2]}\\u003cbr\\u003eSecond=%{customdata[3]}\\u003cbr\\u003eSecond_Perc=%{customdata[4]}\\u003cextra\\u003e\\u003c\\u002fextra\\u003e\",\"hovertext\":[\"C7661059\",\"C7722923\",\"C2743496\",\"C2213572\",\"C2185794\",\"C2893567\",\"C2719688\",\"C2967032\",\"C2488119\",\"C2764972\",\"C2269941\",\"C2756719\",\"C7721233\",\"C2501965\",\"C2695683_B\",\"C2435694\",\"C2726948\",\"C7526923\",\"C2343848\",\"C2854608\",\"C2308186\",\"C2676513\",\"C9896176\",\"C9439087\",\"C2442839\",\"C2946462\",\"C2044638\",\"C7321354\",\"C2753437\",\"C2297508\",\"C2563157\",\"C2657436\",\"C2547590\",\"C2347086\",\"C2806985\",\"C2575592\",\"C7797481\",\"C2091073\",\"C2082459\",\"C3585027\",\"C4934163\",\"C9833901\",\"C2695683_A\",\"C1371790\",\"C2392071\",\"C2900292\",\"C2120252\",\"C2271854\",\"C2429553\",\"C2964148\",\"C2963120\",\"C2958726\",\"C2960443\",\"C2728218\",\"C2794096\",\"C2646930\",\"C2952024\",\"C2753421\",\"C7231807\",\"C2899426\",\"C2905055\",\"C2375657\",\"C2472941\",\"C7787459\",\"C2777597\",\"C2711568\",\"C2278135\",\"C9546882\",\"C2066334\",\"C2131184\",\"C2558702\",\"C2460187\",\"C2693056\",\"C7543363\",\"C2735834\",\"C2371710\",\"C2535183\",\"C8271677\",\"C2792284\",\"C9833467\",\"C2095437\",\"C2191909\",\"C2594695\",\"C2337466\",\"C9281603_B\",\"C2284019\",\"C2712373\",\"C0994645\",\"C8870889\",\"C2495200\",\"C2842150\",\"C2851117\",\"C9885098\",\"C2978591\",\"C2901838\",\"C2884087\",\"C2814454\",\"C2918178\",\"C2248002\",\"C2414698\",\"C2487949\",\"C2196396_A\",\"C2400164\",\"C7750012\",\"C9010879\",\"C2575795\",\"C2717299\",\"C2077527\",\"C2451842\",\"C2013700\",\"C7317458\",\"C2440130\",\"C2615711\",\"C2420529\",\"C9281603_A\",\"C2272037\",\"C2974662\",\"C2880838\",\"C2720398\",\"C0709561\",\"C2869615\",\"C2851928\",\"C2284359\",\"C2525049\",\"C7546689\",\"C2211784\",\"C2273861\",\"C7845278\",\"C7917704\",\"C7575296\",\"C2412216\",\"C2196396_B\",\"C7935652\",\"C2256485\",\"C2965113\",\"C2334072\",\"C2743556\",\"C2942862\",\"C2599062\",\"C2419250\",\"C2583097\"],\"legendgroup\":\"EAS\",\"marker\":{\"color\":\"#EF553B\",\"symbol\":\"circle\"},\"mode\":\"markers\",\"name\":\"EAS\",\"orientation\":\"v\",\"showlegend\":true,\"x\":[46.71276731908107,49.7297322938994,51.05191645853108,48.891262499811546,50.075818765047764,47.47192223577169,49.05337334530493,49.14258946753861,51.60930013058498,47.94977566133575,43.29271788683686,47.367197752772086,43.600187934768805,45.379018265512855,51.394256433893155,44.81377789730106,46.915938308703794,48.869102931688516,48.468400950682465,45.141473661834496,47.61174154471114,47.77729034496793,42.84913284707667,44.47538414374296,48.89440442170433,49.92276423806767,48.40308302358977,45.16788248146439,47.33791056467411,48.17456340783839,47.157648934613775,46.90062570930832,44.20182052365923,47.38464577238312,45.30103404265658,45.89920315150872,43.977355631183094,48.700831535128366,49.15984593583943,50.697695024936756,52.2813338215372,42.80627983019095,51.38985925698081,43.949243662388014,45.75729419592737,48.18914660027483,45.339572634122185,43.69465989751266,47.684996236109775,48.58497413154195,47.14585258550196,51.229994576483755,46.90783439053773,49.36851913400386,50.69673118659418,49.755164908903645,47.65226525847432,46.764978022897665,49.67316465561685,48.842758447392654,48.16337581818785,52.973659143248604,53.595913486220816,46.24367616796036,47.12872625205263,47.43373681115124,49.665505763739404,34.568268699744316,45.73095864914113,49.742406251678716,46.16780341805598,52.51556973258682,47.91348716029481,44.804022923724666,45.8596059213469,45.44450396258064,48.27700560750795,45.91032177989032,50.70904129945863,19.268157360027423,50.130048308412604,48.245994342196944,51.00309713791324,46.59631259208463,48.65548822492131,52.00266348780905,46.78903159618314,42.55714495396771,47.96030152207309,48.701357814081234,52.640639775620635,49.70966001580964,20.18596397094278,47.04944888033579,47.93864843379574,49.58970613110271,44.7328504541344,51.64718273944224,47.43044504899598,47.000968638806,46.65460546883088,50.01406098635675,44.812470644142394,43.330738078559044,36.17249414897745,47.44104475675493,47.89072259074136,44.36720033632227,47.875446365247605,46.747465734178654,46.537655719602434,46.55213166135578,47.43959644799398,47.12188712339733,47.07021561830553,48.19064029358172,51.53391092869527,47.76756430942511,51.35057885907533,20.27134298915536,45.64424402844191,48.460577050121735,44.52665817750574,45.26717611127673,42.11668280391771,47.21630125855293,46.16242093022487,46.40428320010055,44.52152605554723,45.17550939993738,49.2540523800478,49.612156834760455,46.9212136090591,50.404505249878746,51.962798559539664,48.877631113721414,48.41708947269464,44.420839628878284,49.97129367026918,47.3068750451923,48.117110133311925],\"xaxis\":\"x\",\"y\":[-8.182759682962573,-4.28839694567422,-5.439372612075555,-5.9852551677093295,-5.225781105633979,-4.7505598388061205,-4.781221974891773,-6.651984680308363,-5.8335915264676865,-6.079341626239765,-6.169489558741765,-4.864825259413229,-3.8497888108795557,-4.590327300717171,-5.738853186622238,-7.898865943994642,-5.200723821958813,-5.698268309537463,-6.151016354776872,-6.145940179148079,-6.033265113949026,-5.374527715540823,-3.879347724393448,-5.770688242535677,-5.268121830222272,-7.60960115943695,-6.952816127010592,-5.292041926729208,-6.931176804389577,-7.540179621661825,-6.248795767622553,-5.479955097300816,-6.668400953732733,-5.512635539055046,-6.2184383744342,-6.845690913068236,-3.731757293521065,-5.646773782392724,-3.0608327836046296,-6.247782704182209,-6.82184454561812,-4.133027023313332,-5.820277712936262,-7.044249160955288,-5.389522009968777,-5.58740430752379,-6.149557107117661,-6.344362153919086,-8.127769288351987,-5.627516972686266,-3.7014605119850352,-5.648491775805552,-4.537766662397026,-5.352457646559265,-6.268581468143327,-7.378751241481823,-6.8109805261313285,-5.564527299131116,-5.826879032433492,-5.54296131541688,-5.89767632613183,-6.367231392764646,-5.857680382584662,-4.44229287952127,-6.450360402419015,-5.84200279313947,-5.361027712193619,-1.8337410474714466,-6.018410087496258,-5.104751638856534,-7.345845655411361,-5.2365632790830805,-7.735908297997667,-3.8528957142449984,-5.128340955471187,-5.867117484322704,-6.549531238273311,-7.27807670825871,-4.898384093692754,-5.2964859838268055,-6.8945269581216895,-5.204962868888429,-6.523380631358727,-6.874566532484131,-6.302513887164288,-5.518948030723596,-6.641681606580697,-3.258154196457758,-7.13488888556749,-4.296973952055154,-5.4877242974834815,-5.6325757836949455,-4.227284087272924,-5.729577367037128,-3.449284689487699,-6.213352454405257,-6.284142543340503,-4.759486382524387,-4.6313114724184175,-4.900035615032799,-6.888202546033941,-7.104633801093466,-7.050852781812306,-3.1305531820365853,6.167004647272348,-5.474417476361694,-5.0947019973966805,-4.1718663598025385,-6.560338182398162,-6.222763550755734,-5.406906002789559,-5.186260043226578,-6.101764246524737,-4.038034638010736,-6.174219330088255,-7.594551636936303,-5.765038027797731,-5.3067841992497655,-5.600977217446552,-4.470635368758443,-5.505774698834281,-6.783253162563354,-6.009821193591222,-6.918387108216855,-3.2921596631415544,-5.620293942361969,-6.714848433377466,-5.800918299218447,-3.1133757785134337,-6.2021712785877385,-4.5077131858054456,-7.454723894856231,-6.080131604870314,-6.609769139111155,-4.83304342387166,-4.0343289582792154,-5.62842924035317,-5.999965785520339,-5.129041481837851,-7.878618949415587,-5.9290360360497205],\"yaxis\":\"y\",\"type\":\"scatter\"},{\"customdata\":[[\"C9824232\",\"AFR\",\"0.99\",\"SAS\",\"0.005\"],[\"C9791100\",\"AFR\",\"0.97\",\"SAS\",\"0.013\"],[\"C7749291\",\"AFR\",\"0.51\",\"SAS\",\"0.18\"],[\"C9382916\",\"AFR\",\"0.98\",\"SAS\",\"0.0095\"],[\"C8081793\",\"AFR\",\"0.9\",\"SAS\",\"0.045\"],[\"C9019762\",\"AFR\",\"0.96\",\"SAS\",\"0.016\"],[\"C8238726\",\"AFR\",\"0.99\",\"SAS\",\"0.0019\"],[\"C2659472\",\"AFR\",\"0.79\",\"SAS\",\"0.11\"],[\"C9444952\",\"AFR\",\"0.96\",\"SAS\",\"0.017\"],[\"C9296958\",\"AFR\",\"0.86\",\"SAS\",\"0.071\"],[\"C7202805\",\"AFR\",\"0.57\",\"AMR\",\"0.17\"],[\"C9553207\",\"AFR\",\"0.98\",\"SAS\",\"0.0063\"],[\"C9427412\",\"AFR\",\"0.99\",\"SAS\",\"0.0047\"],[\"C9787361\",\"AFR\",\"0.96\",\"SAS\",\"0.016\"],[\"C9692811\",\"AFR\",\"0.98\",\"SAS\",\"0.0065\"],[\"C9276134\",\"AFR\",\"0.97\",\"SAS\",\"0.011\"],[\"C9945711\",\"AFR\",\"0.97\",\"SAS\",\"0.01\"],[\"C7133331\",\"AFR\",\"0.95\",\"SAS\",\"0.022\"],[\"C9955418\",\"AFR\",\"0.97\",\"SAS\",\"0.013\"],[\"C9131164\",\"AFR\",\"0.97\",\"SAS\",\"0.016\"],[\"C9332639\",\"AFR\",\"0.96\",\"SAS\",\"0.018\"],[\"C9409283\",\"AFR\",\"0.98\",\"SAS\",\"0.0096\"],[\"C9533499\",\"AFR\",\"0.99\",\"SAS\",\"0.0049\"],[\"C9877132\",\"AFR\",\"0.84\",\"SAS\",\"0.08\"],[\"C9095270\",\"AFR\",\"0.99\",\"SAS\",\"0.0046\"]],\"hovertemplate\":\"\\u003cb\\u003e%{hovertext}\\u003c\\u002fb\\u003e\\u003cbr\\u003e\\u003cbr\\u003ePred=%{customdata[1]}\\u003cbr\\u003ePC1=%{x}\\u003cbr\\u003ePC2=%{y}\\u003cbr\\u003eSample=%{customdata[0]}\\u003cbr\\u003ePrimary_Perc=%{customdata[2]}\\u003cbr\\u003eSecond=%{customdata[3]}\\u003cbr\\u003eSecond_Perc=%{customdata[4]}\\u003cextra\\u003e\\u003c\\u002fextra\\u003e\",\"hovertext\":[\"C9824232\",\"C9791100\",\"C7749291\",\"C9382916\",\"C8081793\",\"C9019762\",\"C8238726\",\"C2659472\",\"C9444952\",\"C9296958\",\"C7202805\",\"C9553207\",\"C9427412\",\"C9787361\",\"C9692811\",\"C9276134\",\"C9945711\",\"C7133331\",\"C9955418\",\"C9131164\",\"C9332639\",\"C9409283\",\"C9533499\",\"C9877132\",\"C9095270\"],\"legendgroup\":\"AFR\",\"marker\":{\"color\":\"#00cc96\",\"symbol\":\"circle\"},\"mode\":\"markers\",\"name\":\"AFR\",\"orientation\":\"v\",\"showlegend\":true,\"x\":[7.414184911692671,3.8050939480422907,5.879932387892381,6.418192903002807,4.402480329724654,7.705651832694396,11.736260365157506,1.218094142525453,8.476520176725584,1.8384003383112337,0.04226654938129052,12.780759605184908,11.579570081781606,4.123373584647188,7.897641023906184,8.44064550813417,8.86656272361496,4.399854131633642,6.605559161035085,6.864575091935227,6.109051978125196,7.8628750970560715,8.304833231872808,-1.5526167460041103,10.296138384729511],\"xaxis\":\"x\",\"y\":[120.37557812425588,108.1275072881069,51.2617504801551,102.98539862677758,76.19785328386727,99.7408853306899,137.8976740373954,51.32929664235439,106.8037178109377,76.53434551135243,58.11233857590065,130.60932384629018,127.29173906900475,95.25319810847292,110.88255319972166,96.72036149975938,99.937236621598,69.8737405819156,96.26385375501698,101.02951945850195,93.91162838728,124.91376988339886,113.86761690119289,83.3423465573181,118.03850141374446],\"yaxis\":\"y\",\"type\":\"scatter\"},{\"customdata\":[[\"C9269942\",\"SAS\",\"0.64\",\"EUR\",\"0.2\"],[\"C8273825\",\"SAS\",\"0.44\",\"EUR\",\"0.41\"],[\"C7044638\",\"SAS\",\"0.81\",\"AMR\",\"0.09\"],[\"C7680316\",\"SAS\",\"0.87\",\"AMR\",\"0.076\"],[\"C7166808\",\"SAS\",\"0.75\",\"AMR\",\"0.16\"],[\"C7256776\",\"SAS\",\"0.76\",\"AMR\",\"0.1\"],[\"C7671735_A\",\"SAS\",\"0.86\",\"AMR\",\"0.073\"],[\"C4850216\",\"SAS\",\"0.79\",\"EUR\",\"0.13\"],[\"C9720398\",\"SAS\",\"0.48\",\"EUR\",\"0.38\"],[\"C5753437\",\"SAS\",\"0.6\",\"EUR\",\"0.32\"],[\"C0957033\",\"SAS\",\"0.72\",\"EUR\",\"0.18\"],[\"C9539913\",\"SAS\",\"0.58\",\"EUR\",\"0.35\"],[\"C9345971\",\"SAS\",\"0.75\",\"AMR\",\"0.14\"],[\"C8749940\",\"SAS\",\"0.53\",\"EUR\",\"0.24\"],[\"C7549733\",\"SAS\",\"0.95\",\"AMR\",\"0.024\"],[\"C7671735_B\",\"SAS\",\"0.86\",\"AMR\",\"0.073\"],[\"C5575592\",\"SAS\",\"0.68\",\"EUR\",\"0.26\"],[\"C7667839\",\"SAS\",\"0.57\",\"EUR\",\"0.37\"],[\"C8933068\",\"SAS\",\"0.46\",\"AMR\",\"0.19\"]],\"hovertemplate\":\"\\u003cb\\u003e%{hovertext}\\u003c\\u002fb\\u003e\\u003cbr\\u003e\\u003cbr\\u003ePred=%{customdata[1]}\\u003cbr\\u003ePC1=%{x}\\u003cbr\\u003ePC2=%{y}\\u003cbr\\u003eSample=%{customdata[0]}\\u003cbr\\u003ePrimary_Perc=%{customdata[2]}\\u003cbr\\u003eSecond=%{customdata[3]}\\u003cbr\\u003eSecond_Perc=%{customdata[4]}\\u003cextra\\u003e\\u003c\\u002fextra\\u003e\",\"hovertext\":[\"C9269942\",\"C8273825\",\"C7044638\",\"C7680316\",\"C7166808\",\"C7256776\",\"C7671735_A\",\"C4850216\",\"C9720398\",\"C5753437\",\"C0957033\",\"C9539913\",\"C9345971\",\"C8749940\",\"C7549733\",\"C7671735_B\",\"C5575592\",\"C7667839\",\"C8933068\"],\"legendgroup\":\"SAS\",\"marker\":{\"color\":\"#ab63fa\",\"symbol\":\"circle\"},\"mode\":\"markers\",\"name\":\"SAS\",\"orientation\":\"v\",\"showlegend\":true,\"x\":[-8.237407673163208,-7.080655927824059,12.325414524326339,3.067855002033199,3.414497274173817,12.60170086077272,10.261061446021001,-5.444542293579824,-11.416793996210915,-9.990929935088396,-2.7208302298882976,-11.505019865514154,-1.4346264355215324,-7.53013644070123,6.471116560812885,10.742128418102846,-6.9568624778914305,-7.419230820860153,-6.577257265682992],\"xaxis\":\"x\",\"y\":[11.411055358048669,13.496593638225418,0.7976562596669331,-0.8348469040112871,-0.09873302040336919,0.17854747601584944,0.19443756026938033,0.38279028699220485,1.0441537898332542,-2.1655332931831426,-0.8004589207303002,2.101555180702149,-0.007074320823235454,20.798123174583406,-0.6219591062768153,0.5468792024322109,-2.0389647700319298,-2.1603694586371183,13.921765546513479],\"yaxis\":\"y\",\"type\":\"scatter\"},{\"customdata\":[[\"C8607789\",\"AMR\",\"0.71\",\"EUR\",\"0.17\"],[\"C9422544\",\"AMR\",\"0.78\",\"SAS\",\"0.098\"],[\"C9012431\",\"AMR\",\"0.89\",\"SAS\",\"0.061\"]],\"hovertemplate\":\"\\u003cb\\u003e%{hovertext}\\u003c\\u002fb\\u003e\\u003cbr\\u003e\\u003cbr\\u003ePred=%{customdata[1]}\\u003cbr\\u003ePC1=%{x}\\u003cbr\\u003ePC2=%{y}\\u003cbr\\u003eSample=%{customdata[0]}\\u003cbr\\u003ePrimary_Perc=%{customdata[2]}\\u003cbr\\u003eSecond=%{customdata[3]}\\u003cbr\\u003eSecond_Perc=%{customdata[4]}\\u003cextra\\u003e\\u003c\\u002fextra\\u003e\",\"hovertext\":[\"C8607789\",\"C9422544\",\"C9012431\"],\"legendgroup\":\"AMR\",\"marker\":{\"color\":\"#FFA15A\",\"symbol\":\"circle\"},\"mode\":\"markers\",\"name\":\"AMR\",\"orientation\":\"v\",\"showlegend\":true,\"x\":[2.0982541523270593,6.172495429850183,7.941831851233738],\"xaxis\":\"x\",\"y\":[0.2520753145371524,-0.40326448952335675,-0.03995250838705632],\"yaxis\":\"y\",\"type\":\"scatter\"}],                        {\"template\":{\"data\":{\"histogram2dcontour\":[{\"type\":\"histogram2dcontour\",\"colorbar\":{\"outlinewidth\":0,\"ticks\":\"\"},\"colorscale\":[[0.0,\"#0d0887\"],[0.1111111111111111,\"#46039f\"],[0.2222222222222222,\"#7201a8\"],[0.3333333333333333,\"#9c179e\"],[0.4444444444444444,\"#bd3786\"],[0.5555555555555556,\"#d8576b\"],[0.6666666666666666,\"#ed7953\"],[0.7777777777777778,\"#fb9f3a\"],[0.8888888888888888,\"#fdca26\"],[1.0,\"#f0f921\"]]}],\"choropleth\":[{\"type\":\"choropleth\",\"colorbar\":{\"outlinewidth\":0,\"ticks\":\"\"}}],\"histogram2d\":[{\"type\":\"histogram2d\",\"colorbar\":{\"outlinewidth\":0,\"ticks\":\"\"},\"colorscale\":[[0.0,\"#0d0887\"],[0.1111111111111111,\"#46039f\"],[0.2222222222222222,\"#7201a8\"],[0.3333333333333333,\"#9c179e\"],[0.4444444444444444,\"#bd3786\"],[0.5555555555555556,\"#d8576b\"],[0.6666666666666666,\"#ed7953\"],[0.7777777777777778,\"#fb9f3a\"],[0.8888888888888888,\"#fdca26\"],[1.0,\"#f0f921\"]]}],\"heatmap\":[{\"type\":\"heatmap\",\"colorbar\":{\"outlinewidth\":0,\"ticks\":\"\"},\"colorscale\":[[0.0,\"#0d0887\"],[0.1111111111111111,\"#46039f\"],[0.2222222222222222,\"#7201a8\"],[0.3333333333333333,\"#9c179e\"],[0.4444444444444444,\"#bd3786\"],[0.5555555555555556,\"#d8576b\"],[0.6666666666666666,\"#ed7953\"],[0.7777777777777778,\"#fb9f3a\"],[0.8888888888888888,\"#fdca26\"],[1.0,\"#f0f921\"]]}],\"heatmapgl\":[{\"type\":\"heatmapgl\",\"colorbar\":{\"outlinewidth\":0,\"ticks\":\"\"},\"colorscale\":[[0.0,\"#0d0887\"],[0.1111111111111111,\"#46039f\"],[0.2222222222222222,\"#7201a8\"],[0.3333333333333333,\"#9c179e\"],[0.4444444444444444,\"#bd3786\"],[0.5555555555555556,\"#d8576b\"],[0.6666666666666666,\"#ed7953\"],[0.7777777777777778,\"#fb9f3a\"],[0.8888888888888888,\"#fdca26\"],[1.0,\"#f0f921\"]]}],\"contourcarpet\":[{\"type\":\"contourcarpet\",\"colorbar\":{\"outlinewidth\":0,\"ticks\":\"\"}}],\"contour\":[{\"type\":\"contour\",\"colorbar\":{\"outlinewidth\":0,\"ticks\":\"\"},\"colorscale\":[[0.0,\"#0d0887\"],[0.1111111111111111,\"#46039f\"],[0.2222222222222222,\"#7201a8\"],[0.3333333333333333,\"#9c179e\"],[0.4444444444444444,\"#bd3786\"],[0.5555555555555556,\"#d8576b\"],[0.6666666666666666,\"#ed7953\"],[0.7777777777777778,\"#fb9f3a\"],[0.8888888888888888,\"#fdca26\"],[1.0,\"#f0f921\"]]}],\"surface\":[{\"type\":\"surface\",\"colorbar\":{\"outlinewidth\":0,\"ticks\":\"\"},\"colorscale\":[[0.0,\"#0d0887\"],[0.1111111111111111,\"#46039f\"],[0.2222222222222222,\"#7201a8\"],[0.3333333333333333,\"#9c179e\"],[0.4444444444444444,\"#bd3786\"],[0.5555555555555556,\"#d8576b\"],[0.6666666666666666,\"#ed7953\"],[0.7777777777777778,\"#fb9f3a\"],[0.8888888888888888,\"#fdca26\"],[1.0,\"#f0f921\"]]}],\"mesh3d\":[{\"type\":\"mesh3d\",\"colorbar\":{\"outlinewidth\":0,\"ticks\":\"\"}}],\"scatter\":[{\"fillpattern\":{\"fillmode\":\"overlay\",\"size\":10,\"solidity\":0.2},\"type\":\"scatter\"}],\"parcoords\":[{\"type\":\"parcoords\",\"line\":{\"colorbar\":{\"outlinewidth\":0,\"ticks\":\"\"}}}],\"scatterpolargl\":[{\"type\":\"scatterpolargl\",\"marker\":{\"colorbar\":{\"outlinewidth\":0,\"ticks\":\"\"}}}],\"bar\":[{\"error_x\":{\"color\":\"#2a3f5f\"},\"error_y\":{\"color\":\"#2a3f5f\"},\"marker\":{\"line\":{\"color\":\"#E5ECF6\",\"width\":0.5},\"pattern\":{\"fillmode\":\"overlay\",\"size\":10,\"solidity\":0.2}},\"type\":\"bar\"}],\"scattergeo\":[{\"type\":\"scattergeo\",\"marker\":{\"colorbar\":{\"outlinewidth\":0,\"ticks\":\"\"}}}],\"scatterpolar\":[{\"type\":\"scatterpolar\",\"marker\":{\"colorbar\":{\"outlinewidth\":0,\"ticks\":\"\"}}}],\"histogram\":[{\"marker\":{\"pattern\":{\"fillmode\":\"overlay\",\"size\":10,\"solidity\":0.2}},\"type\":\"histogram\"}],\"scattergl\":[{\"type\":\"scattergl\",\"marker\":{\"colorbar\":{\"outlinewidth\":0,\"ticks\":\"\"}}}],\"scatter3d\":[{\"type\":\"scatter3d\",\"line\":{\"colorbar\":{\"outlinewidth\":0,\"ticks\":\"\"}},\"marker\":{\"colorbar\":{\"outlinewidth\":0,\"ticks\":\"\"}}}],\"scattermapbox\":[{\"type\":\"scattermapbox\",\"marker\":{\"colorbar\":{\"outlinewidth\":0,\"ticks\":\"\"}}}],\"scatterternary\":[{\"type\":\"scatterternary\",\"marker\":{\"colorbar\":{\"outlinewidth\":0,\"ticks\":\"\"}}}],\"scattercarpet\":[{\"type\":\"scattercarpet\",\"marker\":{\"colorbar\":{\"outlinewidth\":0,\"ticks\":\"\"}}}],\"carpet\":[{\"aaxis\":{\"endlinecolor\":\"#2a3f5f\",\"gridcolor\":\"white\",\"linecolor\":\"white\",\"minorgridcolor\":\"white\",\"startlinecolor\":\"#2a3f5f\"},\"baxis\":{\"endlinecolor\":\"#2a3f5f\",\"gridcolor\":\"white\",\"linecolor\":\"white\",\"minorgridcolor\":\"white\",\"startlinecolor\":\"#2a3f5f\"},\"type\":\"carpet\"}],\"table\":[{\"cells\":{\"fill\":{\"color\":\"#EBF0F8\"},\"line\":{\"color\":\"white\"}},\"header\":{\"fill\":{\"color\":\"#C8D4E3\"},\"line\":{\"color\":\"white\"}},\"type\":\"table\"}],\"barpolar\":[{\"marker\":{\"line\":{\"color\":\"#E5ECF6\",\"width\":0.5},\"pattern\":{\"fillmode\":\"overlay\",\"size\":10,\"solidity\":0.2}},\"type\":\"barpolar\"}],\"pie\":[{\"automargin\":true,\"type\":\"pie\"}]},\"layout\":{\"autotypenumbers\":\"strict\",\"colorway\":[\"#636efa\",\"#EF553B\",\"#00cc96\",\"#ab63fa\",\"#FFA15A\",\"#19d3f3\",\"#FF6692\",\"#B6E880\",\"#FF97FF\",\"#FECB52\"],\"font\":{\"color\":\"#2a3f5f\"},\"hovermode\":\"closest\",\"hoverlabel\":{\"align\":\"left\"},\"paper_bgcolor\":\"white\",\"plot_bgcolor\":\"#E5ECF6\",\"polar\":{\"bgcolor\":\"#E5ECF6\",\"angularaxis\":{\"gridcolor\":\"white\",\"linecolor\":\"white\",\"ticks\":\"\"},\"radialaxis\":{\"gridcolor\":\"white\",\"linecolor\":\"white\",\"ticks\":\"\"}},\"ternary\":{\"bgcolor\":\"#E5ECF6\",\"aaxis\":{\"gridcolor\":\"white\",\"linecolor\":\"white\",\"ticks\":\"\"},\"baxis\":{\"gridcolor\":\"white\",\"linecolor\":\"white\",\"ticks\":\"\"},\"caxis\":{\"gridcolor\":\"white\",\"linecolor\":\"white\",\"ticks\":\"\"}},\"coloraxis\":{\"colorbar\":{\"outlinewidth\":0,\"ticks\":\"\"}},\"colorscale\":{\"sequential\":[[0.0,\"#0d0887\"],[0.1111111111111111,\"#46039f\"],[0.2222222222222222,\"#7201a8\"],[0.3333333333333333,\"#9c179e\"],[0.4444444444444444,\"#bd3786\"],[0.5555555555555556,\"#d8576b\"],[0.6666666666666666,\"#ed7953\"],[0.7777777777777778,\"#fb9f3a\"],[0.8888888888888888,\"#fdca26\"],[1.0,\"#f0f921\"]],\"sequentialminus\":[[0.0,\"#0d0887\"],[0.1111111111111111,\"#46039f\"],[0.2222222222222222,\"#7201a8\"],[0.3333333333333333,\"#9c179e\"],[0.4444444444444444,\"#bd3786\"],[0.5555555555555556,\"#d8576b\"],[0.6666666666666666,\"#ed7953\"],[0.7777777777777778,\"#fb9f3a\"],[0.8888888888888888,\"#fdca26\"],[1.0,\"#f0f921\"]],\"diverging\":[[0,\"#8e0152\"],[0.1,\"#c51b7d\"],[0.2,\"#de77ae\"],[0.3,\"#f1b6da\"],[0.4,\"#fde0ef\"],[0.5,\"#f7f7f7\"],[0.6,\"#e6f5d0\"],[0.7,\"#b8e186\"],[0.8,\"#7fbc41\"],[0.9,\"#4d9221\"],[1,\"#276419\"]]},\"xaxis\":{\"gridcolor\":\"white\",\"linecolor\":\"white\",\"ticks\":\"\",\"title\":{\"standoff\":15},\"zerolinecolor\":\"white\",\"automargin\":true,\"zerolinewidth\":2},\"yaxis\":{\"gridcolor\":\"white\",\"linecolor\":\"white\",\"ticks\":\"\",\"title\":{\"standoff\":15},\"zerolinecolor\":\"white\",\"automargin\":true,\"zerolinewidth\":2},\"scene\":{\"xaxis\":{\"backgroundcolor\":\"#E5ECF6\",\"gridcolor\":\"white\",\"linecolor\":\"white\",\"showbackground\":true,\"ticks\":\"\",\"zerolinecolor\":\"white\",\"gridwidth\":2},\"yaxis\":{\"backgroundcolor\":\"#E5ECF6\",\"gridcolor\":\"white\",\"linecolor\":\"white\",\"showbackground\":true,\"ticks\":\"\",\"zerolinecolor\":\"white\",\"gridwidth\":2},\"zaxis\":{\"backgroundcolor\":\"#E5ECF6\",\"gridcolor\":\"white\",\"linecolor\":\"white\",\"showbackground\":true,\"ticks\":\"\",\"zerolinecolor\":\"white\",\"gridwidth\":2}},\"shapedefaults\":{\"line\":{\"color\":\"#2a3f5f\"}},\"annotationdefaults\":{\"arrowcolor\":\"#2a3f5f\",\"arrowhead\":0,\"arrowwidth\":1},\"geo\":{\"bgcolor\":\"white\",\"landcolor\":\"#E5ECF6\",\"subunitcolor\":\"white\",\"showland\":true,\"showlakes\":true,\"lakecolor\":\"white\"},\"title\":{\"x\":0.05},\"mapbox\":{\"style\":\"light\"}}},\"xaxis\":{\"anchor\":\"y\",\"domain\":[0.0,1.0],\"title\":{\"text\":\"PC1\"}},\"yaxis\":{\"anchor\":\"x\",\"domain\":[0.0,1.0],\"title\":{\"text\":\"PC2\"}},\"legend\":{\"title\":{\"text\":\"Pred\"},\"tracegroupgap\":0},\"title\":{\"text\":\"PCA of Genotype Data with Interactive Labels\"},\"autosize\":true,\"width\":800,\"height\":800},                        {\"responsive\": true}                    ).then(function(){\n",
       "                            \n",
       "var gd = document.getElementById('32bc3fac-3e02-4af5-b4f5-83c56fb79d4a');\n",
       "var x = new MutationObserver(function (mutations, observer) {{\n",
       "        var display = window.getComputedStyle(gd).display;\n",
       "        if (!display || display === 'none') {{\n",
       "            console.log([gd, 'removed!']);\n",
       "            Plotly.purge(gd);\n",
       "            observer.disconnect();\n",
       "        }}\n",
       "}});\n",
       "\n",
       "// Listen for the removal of the full notebook cells\n",
       "var notebookContainer = gd.closest('#notebook-container');\n",
       "if (notebookContainer) {{\n",
       "    x.observe(notebookContainer, {childList: true});\n",
       "}}\n",
       "\n",
       "// Listen for the clearing of the current output cell\n",
       "var outputEl = gd.closest('.output');\n",
       "if (outputEl) {{\n",
       "    x.observe(outputEl, {childList: true});\n",
       "}}\n",
       "\n",
       "                        })                };                });            </script>        </div>"
      ]
     },
     "metadata": {},
     "output_type": "display_data"
    }
   ],
   "source": [
    "import plotly.express as px\n",
    "\n",
    "# Assuming you have merged_df from the previous steps\n",
    "\n",
    "# Create the interactive plot with Plotly\n",
    "fig = px.scatter(\n",
    "    merged_df,\n",
    "    x='PC1',\n",
    "    y='PC2',\n",
    "    color='Pred',  # Color points by their predicted labels\n",
    "    hover_name='Sample',  # Show the sample ID on hover\n",
    "    hover_data=['Sample', 'Pred', 'Primary_Perc', 'Second', 'Second_Perc'], \n",
    "    #labels={'PC1': 'Principal Component 1', 'PC2': 'Principal Component 2', 'Second':'Secondary Ancestry'},\n",
    "    title='PCA of Genotype Data with Interactive Labels'\n",
    ")\n",
    "\n",
    "# Highlight specific IDs by increasing their marker size\n",
    "#highlight_ids = ['C0953478_A', 'C7486770', 'C0000613']  # Replace with your specific IDs\n",
    "#fig.update_traces(marker=dict(size=8, opacity=0.6))  # Default marker settings\n",
    "\n",
    "fig.update_layout(\n",
    "    autosize=True,\n",
    "    width=800,\n",
    "    height=800,\n",
    ")\n",
    "\n",
    "# Show the plot\n",
    "fig.show()\n",
    "\n",
    "\n",
    "fig.write_html(\"Interactive_PCA_Ancestry.html\")"
   ]
  },
  {
   "cell_type": "code",
   "execution_count": 69,
   "id": "8c9bf21a",
   "metadata": {},
   "outputs": [],
   "source": [
    "def get_id(x):\n",
    "    return x[0:2]\n",
    "def get_id_int(x):\n",
    "    return int(x[1:2])\n",
    "merged_df['ID_Group']= merged_df['Sample'].apply(get_id)\n",
    "merged_df['ID_Num']= merged_df['Sample'].apply(get_id_int)"
   ]
  },
  {
   "cell_type": "code",
   "execution_count": 70,
   "id": "c22786f9",
   "metadata": {},
   "outputs": [
    {
     "data": {
      "text/plain": [
       "ID_Group\n",
       "C9    195\n",
       "C8    160\n",
       "C7    159\n",
       "C0    111\n",
       "C2    111\n",
       "C5     30\n",
       "C1      6\n",
       "C4      6\n",
       "C3      5\n",
       "C6      4\n",
       "Name: count, dtype: int64"
      ]
     },
     "execution_count": 70,
     "metadata": {},
     "output_type": "execute_result"
    }
   ],
   "source": [
    "merged_df['ID_Group'].value_counts()"
   ]
  },
  {
   "cell_type": "code",
   "execution_count": 71,
   "id": "70d4f6ec",
   "metadata": {},
   "outputs": [
    {
     "data": {
      "text/html": [
       "<div>\n",
       "<style scoped>\n",
       "    .dataframe tbody tr th:only-of-type {\n",
       "        vertical-align: middle;\n",
       "    }\n",
       "\n",
       "    .dataframe tbody tr th {\n",
       "        vertical-align: top;\n",
       "    }\n",
       "\n",
       "    .dataframe thead th {\n",
       "        text-align: right;\n",
       "    }\n",
       "</style>\n",
       "<table border=\"1\" class=\"dataframe\">\n",
       "  <thead>\n",
       "    <tr style=\"text-align: right;\">\n",
       "      <th></th>\n",
       "      <th>Sample</th>\n",
       "      <th>PC1</th>\n",
       "      <th>PC2</th>\n",
       "      <th>Pred</th>\n",
       "      <th>Primary_Perc</th>\n",
       "      <th>Second</th>\n",
       "      <th>Second_Perc</th>\n",
       "      <th>ID_Group</th>\n",
       "      <th>ID_Num</th>\n",
       "    </tr>\n",
       "  </thead>\n",
       "  <tbody>\n",
       "    <tr>\n",
       "      <th>0</th>\n",
       "      <td>C0000613</td>\n",
       "      <td>-10.999114</td>\n",
       "      <td>-3.011193</td>\n",
       "      <td>EUR</td>\n",
       "      <td>0.98</td>\n",
       "      <td>SAS</td>\n",
       "      <td>0.0081</td>\n",
       "      <td>C0</td>\n",
       "      <td>0</td>\n",
       "    </tr>\n",
       "    <tr>\n",
       "      <th>1</th>\n",
       "      <td>C7661059</td>\n",
       "      <td>46.712767</td>\n",
       "      <td>-8.182760</td>\n",
       "      <td>EAS</td>\n",
       "      <td>0.98</td>\n",
       "      <td>AMR</td>\n",
       "      <td>0.012</td>\n",
       "      <td>C7</td>\n",
       "      <td>7</td>\n",
       "    </tr>\n",
       "    <tr>\n",
       "      <th>2</th>\n",
       "      <td>C9392081</td>\n",
       "      <td>-9.911216</td>\n",
       "      <td>-3.067018</td>\n",
       "      <td>EUR</td>\n",
       "      <td>0.95</td>\n",
       "      <td>AMR</td>\n",
       "      <td>0.023</td>\n",
       "      <td>C9</td>\n",
       "      <td>9</td>\n",
       "    </tr>\n",
       "    <tr>\n",
       "      <th>3</th>\n",
       "      <td>C3029371</td>\n",
       "      <td>-13.579622</td>\n",
       "      <td>-5.348169</td>\n",
       "      <td>EUR</td>\n",
       "      <td>0.98</td>\n",
       "      <td>SAS</td>\n",
       "      <td>0.0079</td>\n",
       "      <td>C3</td>\n",
       "      <td>3</td>\n",
       "    </tr>\n",
       "    <tr>\n",
       "      <th>4</th>\n",
       "      <td>C9112331</td>\n",
       "      <td>-9.851569</td>\n",
       "      <td>-3.609995</td>\n",
       "      <td>EUR</td>\n",
       "      <td>0.95</td>\n",
       "      <td>SAS</td>\n",
       "      <td>0.022</td>\n",
       "      <td>C9</td>\n",
       "      <td>9</td>\n",
       "    </tr>\n",
       "    <tr>\n",
       "      <th>...</th>\n",
       "      <td>...</td>\n",
       "      <td>...</td>\n",
       "      <td>...</td>\n",
       "      <td>...</td>\n",
       "      <td>...</td>\n",
       "      <td>...</td>\n",
       "      <td>...</td>\n",
       "      <td>...</td>\n",
       "      <td>...</td>\n",
       "    </tr>\n",
       "    <tr>\n",
       "      <th>782</th>\n",
       "      <td>C2599062</td>\n",
       "      <td>49.971294</td>\n",
       "      <td>-5.129041</td>\n",
       "      <td>EAS</td>\n",
       "      <td>0.97</td>\n",
       "      <td>SAS</td>\n",
       "      <td>0.013</td>\n",
       "      <td>C2</td>\n",
       "      <td>2</td>\n",
       "    </tr>\n",
       "    <tr>\n",
       "      <th>783</th>\n",
       "      <td>C2419250</td>\n",
       "      <td>47.306875</td>\n",
       "      <td>-7.878619</td>\n",
       "      <td>EAS</td>\n",
       "      <td>0.97</td>\n",
       "      <td>AMR</td>\n",
       "      <td>0.015</td>\n",
       "      <td>C2</td>\n",
       "      <td>2</td>\n",
       "    </tr>\n",
       "    <tr>\n",
       "      <th>784</th>\n",
       "      <td>C7256485</td>\n",
       "      <td>-11.197424</td>\n",
       "      <td>-5.327671</td>\n",
       "      <td>EUR</td>\n",
       "      <td>0.97</td>\n",
       "      <td>SAS</td>\n",
       "      <td>0.017</td>\n",
       "      <td>C7</td>\n",
       "      <td>7</td>\n",
       "    </tr>\n",
       "    <tr>\n",
       "      <th>785</th>\n",
       "      <td>C0912641</td>\n",
       "      <td>-11.650238</td>\n",
       "      <td>-3.464034</td>\n",
       "      <td>EUR</td>\n",
       "      <td>0.89</td>\n",
       "      <td>SAS</td>\n",
       "      <td>0.068</td>\n",
       "      <td>C0</td>\n",
       "      <td>0</td>\n",
       "    </tr>\n",
       "    <tr>\n",
       "      <th>786</th>\n",
       "      <td>C2583097</td>\n",
       "      <td>48.117110</td>\n",
       "      <td>-5.929036</td>\n",
       "      <td>EAS</td>\n",
       "      <td>0.97</td>\n",
       "      <td>AMR</td>\n",
       "      <td>0.016</td>\n",
       "      <td>C2</td>\n",
       "      <td>2</td>\n",
       "    </tr>\n",
       "  </tbody>\n",
       "</table>\n",
       "<p>787 rows × 9 columns</p>\n",
       "</div>"
      ],
      "text/plain": [
       "       Sample        PC1       PC2 Pred Primary_Perc Second Second_Perc  \\\n",
       "0    C0000613 -10.999114 -3.011193  EUR         0.98    SAS      0.0081   \n",
       "1    C7661059  46.712767 -8.182760  EAS         0.98    AMR       0.012   \n",
       "2    C9392081  -9.911216 -3.067018  EUR         0.95    AMR       0.023   \n",
       "3    C3029371 -13.579622 -5.348169  EUR         0.98    SAS      0.0079   \n",
       "4    C9112331  -9.851569 -3.609995  EUR         0.95    SAS       0.022   \n",
       "..        ...        ...       ...  ...          ...    ...         ...   \n",
       "782  C2599062  49.971294 -5.129041  EAS         0.97    SAS       0.013   \n",
       "783  C2419250  47.306875 -7.878619  EAS         0.97    AMR       0.015   \n",
       "784  C7256485 -11.197424 -5.327671  EUR         0.97    SAS       0.017   \n",
       "785  C0912641 -11.650238 -3.464034  EUR         0.89    SAS       0.068   \n",
       "786  C2583097  48.117110 -5.929036  EAS         0.97    AMR       0.016   \n",
       "\n",
       "    ID_Group  ID_Num  \n",
       "0         C0       0  \n",
       "1         C7       7  \n",
       "2         C9       9  \n",
       "3         C3       3  \n",
       "4         C9       9  \n",
       "..       ...     ...  \n",
       "782       C2       2  \n",
       "783       C2       2  \n",
       "784       C7       7  \n",
       "785       C0       0  \n",
       "786       C2       2  \n",
       "\n",
       "[787 rows x 9 columns]"
      ]
     },
     "execution_count": 71,
     "metadata": {},
     "output_type": "execute_result"
    }
   ],
   "source": [
    "merged_df"
   ]
  },
  {
   "cell_type": "code",
   "execution_count": 72,
   "id": "a18347f7",
   "metadata": {},
   "outputs": [
    {
     "data": {
      "application/vnd.plotly.v1+json": {
       "config": {
        "plotlyServerURL": "https://plot.ly"
       },
       "data": [
        {
         "customdata": [
          [
           "C0000613",
           "EUR",
           "0.98",
           "SAS",
           "0.0081"
          ],
          [
           "C0102193",
           "EUR",
           "0.96",
           "AMR",
           "0.018"
          ],
          [
           "C0171053",
           "EUR",
           "0.94",
           "AMR",
           "0.033"
          ],
          [
           "C0205079",
           "EUR",
           "0.97",
           "SAS",
           "0.017"
          ],
          [
           "C0716317",
           "EUR",
           "0.96",
           "SAS",
           "0.021"
          ],
          [
           "C0697204",
           "EUR",
           "0.96",
           "SAS",
           "0.03"
          ],
          [
           "C0323527",
           "EUR",
           "0.92",
           "AMR",
           "0.04"
          ],
          [
           "C0229254",
           "EUR",
           "0.96",
           "SAS",
           "0.023"
          ],
          [
           "C0814135",
           "EUR",
           "0.88",
           "SAS",
           "0.057"
          ],
          [
           "C0080595",
           "EUR",
           "0.9",
           "SAS",
           "0.07"
          ],
          [
           "C0305012",
           "EUR",
           "0.84",
           "SAS",
           "0.082"
          ],
          [
           "C0968806",
           "EUR",
           "0.98",
           "SAS",
           "0.011"
          ],
          [
           "C0506852",
           "EUR",
           "0.97",
           "SAS",
           "0.015"
          ],
          [
           "C0648474",
           "EUR",
           "0.91",
           "SAS",
           "0.064"
          ],
          [
           "C0915694",
           "EUR",
           "0.88",
           "SAS",
           "0.066"
          ],
          [
           "C0869297",
           "EUR",
           "0.95",
           "SAS",
           "0.027"
          ],
          [
           "C0971388",
           "EUR",
           "0.63",
           "SAS",
           "0.26"
          ],
          [
           "C0745818",
           "EUR",
           "0.83",
           "SAS",
           "0.13"
          ],
          [
           "C0384466",
           "EUR",
           "0.95",
           "AMR",
           "0.03"
          ],
          [
           "C0186076",
           "EUR",
           "0.97",
           "SAS",
           "0.016"
          ],
          [
           "C0790760",
           "EUR",
           "0.88",
           "SAS",
           "0.057"
          ],
          [
           "C0982934",
           "EUR",
           "0.96",
           "AMR",
           "0.026"
          ],
          [
           "C0457844",
           "EUR",
           "0.93",
           "AMR",
           "0.028"
          ],
          [
           "C0881093",
           "EUR",
           "0.95",
           "SAS",
           "0.023"
          ],
          [
           "C0613900",
           "EUR",
           "0.88",
           "SAS",
           "0.083"
          ],
          [
           "C0250005",
           "EUR",
           "0.93",
           "AMR",
           "0.044"
          ],
          [
           "C0801578",
           "EUR",
           "0.93",
           "SAS",
           "0.034"
          ],
          [
           "C0953478_B",
           "EUR",
           "0.95",
           "AMR",
           "0.02"
          ],
          [
           "C0475692",
           "EUR",
           "0.95",
           "AMR",
           "0.028"
          ],
          [
           "C0810521",
           "EUR",
           "0.98",
           "AMR",
           "0.0083"
          ],
          [
           "C0940211",
           "EUR",
           "0.98",
           "AMR",
           "0.0077"
          ],
          [
           "C0323438",
           "EUR",
           "0.98",
           "AMR",
           "0.01"
          ],
          [
           "C0774765",
           "EUR",
           "0.93",
           "SAS",
           "0.029"
          ],
          [
           "C0220606",
           "EUR",
           "0.96",
           "SAS",
           "0.018"
          ],
          [
           "C0815217",
           "EUR",
           "0.97",
           "AMR",
           "0.017"
          ],
          [
           "C0175376",
           "EUR",
           "0.93",
           "SAS",
           "0.048"
          ],
          [
           "C0047775",
           "EUR",
           "0.91",
           "AMR",
           "0.044"
          ],
          [
           "C0776135",
           "EUR",
           "0.97",
           "SAS",
           "0.021"
          ],
          [
           "C0125692",
           "EUR",
           "0.98",
           "AMR",
           "0.011"
          ],
          [
           "C0551561",
           "EUR",
           "0.96",
           "SAS",
           "0.023"
          ],
          [
           "C0973809",
           "EUR",
           "0.95",
           "AMR",
           "0.021"
          ],
          [
           "C0478009",
           "EUR",
           "0.91",
           "SAS",
           "0.053"
          ],
          [
           "C0737742",
           "EUR",
           "0.96",
           "SAS",
           "0.019"
          ],
          [
           "C0301621",
           "EUR",
           "0.98",
           "SAS",
           "0.013"
          ],
          [
           "C0747818",
           "EUR",
           "0.95",
           "SAS",
           "0.019"
          ],
          [
           "C0310438",
           "EUR",
           "0.97",
           "SAS",
           "0.013"
          ],
          [
           "C0898730",
           "EUR",
           "0.91",
           "AMR",
           "0.04"
          ],
          [
           "C0813775",
           "EUR",
           "0.94",
           "SAS",
           "0.036"
          ],
          [
           "C0996531",
           "EUR",
           "0.94",
           "SAS",
           "0.035"
          ],
          [
           "C0282724",
           "EUR",
           "0.48",
           "SAS",
           "0.38"
          ],
          [
           "C0921762",
           "EUR",
           "0.92",
           "AMR",
           "0.033"
          ],
          [
           "C0536477",
           "EUR",
           "0.94",
           "SAS",
           "0.035"
          ],
          [
           "C0954932",
           "EUR",
           "0.97",
           "AMR",
           "0.015"
          ],
          [
           "C0953478_A",
           "EUR",
           "0.95",
           "AMR",
           "0.02"
          ],
          [
           "C0084844",
           "EUR",
           "0.82",
           "SAS",
           "0.13"
          ],
          [
           "C0755223",
           "EUR",
           "0.95",
           "SAS",
           "0.031"
          ],
          [
           "C0773447",
           "EUR",
           "0.95",
           "SAS",
           "0.029"
          ],
          [
           "C0770246",
           "EUR",
           "0.95",
           "AMR",
           "0.023"
          ],
          [
           "C0462055",
           "EUR",
           "0.96",
           "AMR",
           "0.016"
          ],
          [
           "C0291197",
           "EUR",
           "0.94",
           "SAS",
           "0.032"
          ],
          [
           "C0365146",
           "EUR",
           "0.49",
           "SAS",
           "0.35"
          ],
          [
           "C0047921",
           "EUR",
           "0.89",
           "SAS",
           "0.08"
          ],
          [
           "C0606661",
           "EUR",
           "0.97",
           "AMR",
           "0.014"
          ],
          [
           "C0589344",
           "EUR",
           "0.93",
           "SAS",
           "0.031"
          ],
          [
           "C0549991",
           "EUR",
           "0.95",
           "AMR",
           "0.021"
          ],
          [
           "C0661301",
           "EUR",
           "0.97",
           "SAS",
           "0.011"
          ],
          [
           "C0539635",
           "EUR",
           "0.89",
           "SAS",
           "0.082"
          ],
          [
           "C0430692",
           "EUR",
           "0.96",
           "AMR",
           "0.018"
          ],
          [
           "C0490359",
           "EUR",
           "0.98",
           "SAS",
           "0.0095"
          ],
          [
           "C0323408",
           "EUR",
           "0.97",
           "SAS",
           "0.012"
          ],
          [
           "C0796853",
           "EUR",
           "0.97",
           "SAS",
           "0.015"
          ],
          [
           "C0407432",
           "EUR",
           "0.9",
           "SAS",
           "0.05"
          ],
          [
           "C0681808",
           "EUR",
           "0.96",
           "SAS",
           "0.019"
          ],
          [
           "C0241248",
           "EUR",
           "0.98",
           "SAS",
           "0.0078"
          ],
          [
           "C0994645",
           "EAS",
           "0.96",
           "SAS",
           "0.018"
          ],
          [
           "C0286319",
           "EUR",
           "0.98",
           "AMR",
           "0.0099"
          ],
          [
           "C0388329",
           "EUR",
           "0.93",
           "SAS",
           "0.046"
          ],
          [
           "C0957033",
           "SAS",
           "0.72",
           "EUR",
           "0.18"
          ],
          [
           "C0987880",
           "EUR",
           "0.88",
           "SAS",
           "0.082"
          ],
          [
           "C0450044",
           "EUR",
           "0.98",
           "AMR",
           "0.0084"
          ],
          [
           "C0090573",
           "EUR",
           "0.94",
           "SAS",
           "0.035"
          ],
          [
           "C0905309",
           "EUR",
           "0.95",
           "SAS",
           "0.028"
          ],
          [
           "C0789756",
           "EUR",
           "0.89",
           "SAS",
           "0.063"
          ],
          [
           "C0808631",
           "EUR",
           "0.95",
           "AMR",
           "0.017"
          ],
          [
           "C0403428",
           "EUR",
           "0.83",
           "SAS",
           "0.11"
          ],
          [
           "C0403611",
           "EUR",
           "0.95",
           "AMR",
           "0.024"
          ],
          [
           "C0608848",
           "EUR",
           "0.85",
           "SAS",
           "0.11"
          ],
          [
           "C0445352",
           "EUR",
           "0.98",
           "AMR",
           "0.0074"
          ],
          [
           "C0257429",
           "EUR",
           "0.86",
           "SAS",
           "0.066"
          ],
          [
           "C0252881",
           "EUR",
           "0.88",
           "SAS",
           "0.094"
          ],
          [
           "C0987688",
           "EUR",
           "0.86",
           "SAS",
           "0.11"
          ],
          [
           "C0094496",
           "EUR",
           "0.9",
           "SAS",
           "0.078"
          ],
          [
           "C0768621",
           "EUR",
           "0.97",
           "SAS",
           "0.014"
          ],
          [
           "C0111335",
           "EUR",
           "0.94",
           "AMR",
           "0.026"
          ],
          [
           "C0709561",
           "EAS",
           "0.39",
           "AMR",
           "0.32"
          ],
          [
           "C0973724",
           "EUR",
           "0.86",
           "SAS",
           "0.09"
          ],
          [
           "C0658349",
           "EUR",
           "0.98",
           "SAS",
           "0.011"
          ],
          [
           "C0252536",
           "EUR",
           "0.96",
           "SAS",
           "0.02"
          ],
          [
           "C0175736",
           "EUR",
           "0.95",
           "AMR",
           "0.025"
          ],
          [
           "C0686667",
           "EUR",
           "0.85",
           "SAS",
           "0.12"
          ],
          [
           "C0057435",
           "EUR",
           "0.96",
           "AMR",
           "0.022"
          ],
          [
           "C0949895",
           "EUR",
           "0.92",
           "SAS",
           "0.04"
          ],
          [
           "C0871465",
           "EUR",
           "0.9",
           "SAS",
           "0.072"
          ],
          [
           "C0425008",
           "EUR",
           "0.74",
           "AMR",
           "0.18"
          ],
          [
           "C0040823",
           "EUR",
           "0.96",
           "AMR",
           "0.016"
          ],
          [
           "C0791932",
           "EUR",
           "0.95",
           "SAS",
           "0.027"
          ],
          [
           "C0657308",
           "EUR",
           "0.88",
           "SAS",
           "0.074"
          ],
          [
           "C0355369",
           "EUR",
           "0.96",
           "SAS",
           "0.022"
          ],
          [
           "C0267788",
           "EUR",
           "0.94",
           "SAS",
           "0.037"
          ],
          [
           "C0129778",
           "EUR",
           "0.97",
           "SAS",
           "0.011"
          ],
          [
           "C0912641",
           "EUR",
           "0.89",
           "SAS",
           "0.068"
          ]
         ],
         "hovertemplate": "<b>%{hovertext}</b><br><br>ID_Group=C0<br>PC1=%{x}<br>PC2=%{y}<br>Sample=%{customdata[0]}<br>Pred=%{customdata[1]}<br>Primary_Perc=%{customdata[2]}<br>Second=%{customdata[3]}<br>Second_Perc=%{customdata[4]}<extra></extra>",
         "hovertext": [
          "C0000613",
          "C0102193",
          "C0171053",
          "C0205079",
          "C0716317",
          "C0697204",
          "C0323527",
          "C0229254",
          "C0814135",
          "C0080595",
          "C0305012",
          "C0968806",
          "C0506852",
          "C0648474",
          "C0915694",
          "C0869297",
          "C0971388",
          "C0745818",
          "C0384466",
          "C0186076",
          "C0790760",
          "C0982934",
          "C0457844",
          "C0881093",
          "C0613900",
          "C0250005",
          "C0801578",
          "C0953478_B",
          "C0475692",
          "C0810521",
          "C0940211",
          "C0323438",
          "C0774765",
          "C0220606",
          "C0815217",
          "C0175376",
          "C0047775",
          "C0776135",
          "C0125692",
          "C0551561",
          "C0973809",
          "C0478009",
          "C0737742",
          "C0301621",
          "C0747818",
          "C0310438",
          "C0898730",
          "C0813775",
          "C0996531",
          "C0282724",
          "C0921762",
          "C0536477",
          "C0954932",
          "C0953478_A",
          "C0084844",
          "C0755223",
          "C0773447",
          "C0770246",
          "C0462055",
          "C0291197",
          "C0365146",
          "C0047921",
          "C0606661",
          "C0589344",
          "C0549991",
          "C0661301",
          "C0539635",
          "C0430692",
          "C0490359",
          "C0323408",
          "C0796853",
          "C0407432",
          "C0681808",
          "C0241248",
          "C0994645",
          "C0286319",
          "C0388329",
          "C0957033",
          "C0987880",
          "C0450044",
          "C0090573",
          "C0905309",
          "C0789756",
          "C0808631",
          "C0403428",
          "C0403611",
          "C0608848",
          "C0445352",
          "C0257429",
          "C0252881",
          "C0987688",
          "C0094496",
          "C0768621",
          "C0111335",
          "C0709561",
          "C0973724",
          "C0658349",
          "C0252536",
          "C0175736",
          "C0686667",
          "C0057435",
          "C0949895",
          "C0871465",
          "C0425008",
          "C0040823",
          "C0791932",
          "C0657308",
          "C0355369",
          "C0267788",
          "C0129778",
          "C0912641"
         ],
         "legendgroup": "C0",
         "marker": {
          "color": "#636efa",
          "symbol": "circle"
         },
         "mode": "markers",
         "name": "C0",
         "orientation": "v",
         "showlegend": true,
         "type": "scatter",
         "x": [
          -10.999114118417651,
          -11.564812828335537,
          -10.940747050572767,
          -12.067427727415241,
          -12.29128582792721,
          -10.855703632888536,
          -10.520527839685299,
          -11.974642132413578,
          -10.175505841034424,
          -9.337275776360363,
          -8.916121299132119,
          -11.68543038189844,
          -11.574726361463155,
          -16.09175216985148,
          -8.240151385275691,
          -13.573080994627247,
          -4.237380590868229,
          -11.175802049672612,
          -11.725516238690114,
          -14.363520594068685,
          -10.86596722057433,
          -11.577106374992296,
          -10.003495388687961,
          -10.539543572618742,
          -10.023754729754973,
          -9.987775680702049,
          -10.003745046652192,
          -12.482533831842485,
          -12.563213093897554,
          -13.209344060458731,
          -12.542314503048372,
          -13.742313026159882,
          -9.286870126508445,
          -11.033741840146973,
          -11.597000237354116,
          -10.652799139669725,
          -7.455693741982765,
          -11.696646345278978,
          -10.777700862206784,
          -11.94341041696362,
          -8.793894061325636,
          -8.191564456920979,
          -10.771327769927765,
          -12.425000424450095,
          -11.137054866079382,
          -16.164729826400173,
          -6.985829394800281,
          -11.334691652115678,
          -11.953372927297014,
          -7.683967182098022,
          -10.650751090223,
          -12.134139649230589,
          -12.588885086128451,
          -12.446891515299235,
          -9.394121717987499,
          -13.68157787363227,
          -12.115447691880556,
          -10.716323031147912,
          -9.13103090246781,
          -10.557310224424164,
          -4.4452590041947415,
          -11.736615870829867,
          -12.223369829338875,
          -10.530040640329489,
          -10.057013958805397,
          -11.421628770179936,
          -11.630314133348746,
          -10.805451416693021,
          -12.77075785237144,
          -12.737739606507567,
          -11.176668714976898,
          -11.961474739325892,
          -12.97438652892235,
          -15.053804416021825,
          42.55714495396771,
          -14.60187066163592,
          -15.177153748560901,
          -2.7208302298882976,
          -10.801282431854823,
          -12.921920935660635,
          -11.894376450524389,
          -12.159126400456147,
          -11.484658398900992,
          -11.680066304610254,
          -10.553370371386746,
          -12.768417387081964,
          -10.0678550023502,
          -13.907247661881573,
          -6.9458301543919125,
          -11.044332729419084,
          -11.627481656259015,
          -11.554323333337898,
          -9.607467749812693,
          -13.379136277479182,
          20.27134298915536,
          -7.727561997055869,
          -13.928740455476184,
          -8.984390425312908,
          -9.295237150470781,
          -10.109862120594578,
          -13.09062248822962,
          -12.125674689765788,
          -9.486940809916975,
          -8.217737131417586,
          -13.754081760577304,
          -12.696605480248442,
          -9.827509496066314,
          -12.776535550530403,
          -11.762910485367899,
          -11.574944220219999,
          -11.65023771563973
         ],
         "xaxis": "x",
         "y": [
          -3.011193470053414,
          -4.910069512134248,
          -2.922817470637642,
          -3.0033426114819335,
          -3.417139640509752,
          -4.810841783334903,
          -3.8039384402689653,
          -4.2760298068585145,
          -2.45487718367104,
          -3.5442595442329545,
          -3.927771711415913,
          -3.329415064933793,
          -4.855522677247226,
          -2.9086436949758547,
          -4.6189646822419,
          -5.467125502784103,
          -2.04170623053448,
          -4.198518725793714,
          -3.3870217319994564,
          -2.6731652894799747,
          -3.706810497476065,
          -4.0148893049458945,
          -3.6655374479677905,
          -2.345314213046776,
          -3.487371742921069,
          -5.384165384732747,
          -2.281128393308284,
          -1.9768784529675265,
          -3.7428165139261935,
          -4.902553695294636,
          -4.587111503858498,
          -4.865213740147953,
          -4.457076243335971,
          -3.7111828209529434,
          -5.422581346268569,
          -4.733834407304954,
          -4.908785960657235,
          -3.7869089284234794,
          -2.8275530164784195,
          -5.315423440125848,
          -4.22885322846536,
          -4.864461761719128,
          -2.8412789143462205,
          -1.809501957591296,
          -3.2838056961197784,
          -3.892532253579216,
          -4.504055360379439,
          -2.6298900429849685,
          -3.2379154809761777,
          9.795458874665139,
          -0.9511175465842039,
          -4.3554067916238814,
          -4.372404933790519,
          -1.5942327893361845,
          -6.181360769689336,
          -6.0848872553451905,
          -4.205686924311934,
          -2.7285753450438284,
          -4.008272147840265,
          -3.67855206870727,
          4.120499691597211,
          -4.133844445308835,
          -2.522126256674585,
          -3.809063736344863,
          -4.394053728375792,
          -4.799780955756472,
          -5.855870129045468,
          -4.014896414785735,
          -4.941633365704525,
          -3.1140253032583147,
          -4.331553099579419,
          -3.980617934494227,
          -3.1565786150722515,
          -6.252164095148977,
          -3.258154196457758,
          -4.359548464041307,
          -4.235165568715219,
          -0.8004589207303002,
          -2.8997199951432457,
          -4.4762994138812635,
          -4.34493458190069,
          -2.644381545642626,
          -2.6787494922720314,
          -3.219093709727721,
          -3.2852236148600324,
          -3.2102514363474888,
          -1.8821175137340378,
          -3.895159700069821,
          -3.235335246501294,
          -3.5204724638257288,
          -4.839842891785936,
          -5.0627535552485226,
          -3.051269330356541,
          -4.687823574851945,
          -4.470635368758443,
          -3.5477584894713483,
          -3.9144880423443538,
          -3.699110258999253,
          -3.9565140896658093,
          -2.8200257602634395,
          -2.9869963985287495,
          -4.209920908446603,
          -2.2433669858590783,
          -0.718452890413633,
          -2.4445442327290228,
          -4.051148360057149,
          -3.270468716250146,
          -3.278942216200562,
          -4.8729906920029356,
          -1.7872431532739181,
          -3.4640337005015938
         ],
         "yaxis": "y"
        },
        {
         "customdata": [
          [
           "C7661059",
           "EAS",
           "0.98",
           "AMR",
           "0.012"
          ],
          [
           "C7722923",
           "EAS",
           "0.96",
           "SAS",
           "0.013"
          ],
          [
           "C7488119",
           "EUR",
           "0.94",
           "SAS",
           "0.032"
          ],
          [
           "C7719688_B",
           "EUR",
           "0.78",
           "SAS",
           "0.15"
          ],
          [
           "C7272482",
           "EUR",
           "0.97",
           "AMR",
           "0.011"
          ],
          [
           "C7419040",
           "EUR",
           "0.89",
           "SAS",
           "0.075"
          ],
          [
           "C7515229",
           "EUR",
           "0.96",
           "SAS",
           "0.022"
          ],
          [
           "C7774321",
           "EUR",
           "0.94",
           "SAS",
           "0.03"
          ],
          [
           "C7721233",
           "EAS",
           "0.96",
           "AMR",
           "0.017"
          ],
          [
           "C7922853",
           "EUR",
           "0.96",
           "SAS",
           "0.018"
          ],
          [
           "C7873931",
           "EUR",
           "0.96",
           "SAS",
           "0.019"
          ],
          [
           "C7037290",
           "EUR",
           "0.9",
           "SAS",
           "0.062"
          ],
          [
           "C7564617",
           "EUR",
           "0.87",
           "SAS",
           "0.09"
          ],
          [
           "C7899782",
           "EUR",
           "0.96",
           "AMR",
           "0.019"
          ],
          [
           "C7900996",
           "EUR",
           "0.8",
           "SAS",
           "0.092"
          ],
          [
           "C7775742",
           "EUR",
           "0.93",
           "SAS",
           "0.032"
          ],
          [
           "C7489236",
           "EUR",
           "0.9",
           "SAS",
           "0.065"
          ],
          [
           "C7854608",
           "EUR",
           "0.98",
           "SAS",
           "0.0071"
          ],
          [
           "C7812934",
           "EUR",
           "0.94",
           "AMR",
           "0.027"
          ],
          [
           "C7526923",
           "EAS",
           "0.97",
           "AMR",
           "0.012"
          ],
          [
           "C7214227",
           "EUR",
           "0.89",
           "SAS",
           "0.063"
          ],
          [
           "C7829444",
           "EUR",
           "0.86",
           "SAS",
           "0.097"
          ],
          [
           "C7749291",
           "AFR",
           "0.51",
           "SAS",
           "0.18"
          ],
          [
           "C7343848",
           "EUR",
           "0.98",
           "AMR",
           "0.0081"
          ],
          [
           "C7724650",
           "EUR",
           "0.91",
           "SAS",
           "0.041"
          ],
          [
           "C7555611",
           "EUR",
           "0.84",
           "SAS",
           "0.12"
          ],
          [
           "C7873494",
           "EUR",
           "0.97",
           "SAS",
           "0.014"
          ],
          [
           "C7355308",
           "EUR",
           "0.96",
           "SAS",
           "0.019"
          ],
          [
           "C7249530",
           "EUR",
           "0.85",
           "SAS",
           "0.11"
          ],
          [
           "C7466760",
           "EUR",
           "0.9",
           "SAS",
           "0.065"
          ],
          [
           "C7563157",
           "EUR",
           "0.93",
           "SAS",
           "0.034"
          ],
          [
           "C7812195",
           "EUR",
           "0.97",
           "AMR",
           "0.012"
          ],
          [
           "C7626599",
           "EUR",
           "0.94",
           "SAS",
           "0.035"
          ],
          [
           "C7753437",
           "EUR",
           "0.95",
           "SAS",
           "0.025"
          ],
          [
           "C7321354",
           "EAS",
           "0.98",
           "AMR",
           "0.0052"
          ],
          [
           "C7442839",
           "EUR",
           "0.98",
           "SAS",
           "0.0079"
          ],
          [
           "C7044638",
           "SAS",
           "0.81",
           "AMR",
           "0.09"
          ],
          [
           "C7719688_A",
           "EUR",
           "0.78",
           "SAS",
           "0.15"
          ],
          [
           "C7664882",
           "EUR",
           "0.96",
           "SAS",
           "0.013"
          ],
          [
           "C7731610",
           "EUR",
           "0.95",
           "SAS",
           "0.02"
          ],
          [
           "C7680316",
           "SAS",
           "0.87",
           "AMR",
           "0.076"
          ],
          [
           "C7575592",
           "EUR",
           "0.95",
           "AMR",
           "0.025"
          ],
          [
           "C7048024",
           "EUR",
           "0.96",
           "AMR",
           "0.016"
          ],
          [
           "C7244188",
           "EUR",
           "0.95",
           "SAS",
           "0.026"
          ],
          [
           "C7931543",
           "EUR",
           "0.94",
           "SAS",
           "0.028"
          ],
          [
           "C7989630",
           "EUR",
           "0.93",
           "AMR",
           "0.036"
          ],
          [
           "C7797481",
           "EAS",
           "0.97",
           "AMR",
           "0.0093"
          ],
          [
           "C7392071",
           "EUR",
           "0.98",
           "AMR",
           "0.0096"
          ],
          [
           "C7560532",
           "EUR",
           "0.97",
           "SAS",
           "0.013"
          ],
          [
           "C7900292",
           "EUR",
           "0.97",
           "SAS",
           "0.012"
          ],
          [
           "C7580286",
           "EUR",
           "0.95",
           "SAS",
           "0.034"
          ],
          [
           "C7128050",
           "EUR",
           "0.94",
           "SAS",
           "0.029"
          ],
          [
           "C7425462",
           "EUR",
           "0.98",
           "AMR",
           "0.011"
          ],
          [
           "C7202805",
           "AFR",
           "0.57",
           "AMR",
           "0.17"
          ],
          [
           "C7405020",
           "EUR",
           "0.96",
           "SAS",
           "0.019"
          ],
          [
           "C7893181",
           "EUR",
           "0.9",
           "AMR",
           "0.047"
          ],
          [
           "C7952024",
           "EUR",
           "0.91",
           "SAS",
           "0.043"
          ],
          [
           "C7952533",
           "EUR",
           "0.96",
           "AMR",
           "0.014"
          ],
          [
           "C7964148",
           "EUR",
           "0.97",
           "SAS",
           "0.01"
          ],
          [
           "C7486770",
           "EUR",
           "0.63",
           "SAS",
           "0.22"
          ],
          [
           "C7166808",
           "SAS",
           "0.75",
           "AMR",
           "0.16"
          ],
          [
           "C7259165",
           "EUR",
           "0.96",
           "AMR",
           "0.018"
          ],
          [
           "C7769468",
           "EUR",
           "0.92",
           "SAS",
           "0.056"
          ],
          [
           "C7231807",
           "EAS",
           "0.97",
           "AMR",
           "0.011"
          ],
          [
           "C7991356",
           "EUR",
           "0.79",
           "SAS",
           "0.13"
          ],
          [
           "C7777597",
           "EUR",
           "0.97",
           "SAS",
           "0.014"
          ],
          [
           "C7557432",
           "EUR",
           "0.96",
           "SAS",
           "0.015"
          ],
          [
           "C7860973",
           "EUR",
           "0.94",
           "AMR",
           "0.03"
          ],
          [
           "C7256776",
           "SAS",
           "0.76",
           "AMR",
           "0.1"
          ],
          [
           "C7163669",
           "EUR",
           "0.94",
           "AMR",
           "0.027"
          ],
          [
           "C7787459",
           "EAS",
           "0.98",
           "AMR",
           "0.0066"
          ],
          [
           "C7375657",
           "EUR",
           "0.97",
           "AMR",
           "0.014"
          ],
          [
           "C7161606",
           "EUR",
           "0.93",
           "AMR",
           "0.034"
          ],
          [
           "C7759848",
           "EUR",
           "0.46",
           "SAS",
           "0.45"
          ],
          [
           "C7899426",
           "EUR",
           "0.89",
           "SAS",
           "0.064"
          ],
          [
           "C7564817",
           "EUR",
           "0.98",
           "AMR",
           "0.0084"
          ],
          [
           "C7069181",
           "EUR",
           "0.92",
           "SAS",
           "0.047"
          ],
          [
           "C7770397",
           "EUR",
           "0.94",
           "SAS",
           "0.025"
          ],
          [
           "C7861169",
           "EUR",
           "0.96",
           "AMR",
           "0.017"
          ],
          [
           "C7051331",
           "EUR",
           "0.95",
           "SAS",
           "0.029"
          ],
          [
           "C7728583",
           "EUR",
           "0.85",
           "SAS",
           "0.09"
          ],
          [
           "C7543363",
           "EAS",
           "0.96",
           "AMR",
           "0.014"
          ],
          [
           "C7606723",
           "EUR",
           "0.96",
           "SAS",
           "0.019"
          ],
          [
           "C7670382",
           "EUR",
           "0.95",
           "SAS",
           "0.026"
          ],
          [
           "C7574693",
           "EUR",
           "0.95",
           "SAS",
           "0.029"
          ],
          [
           "C7075995",
           "EUR",
           "0.85",
           "SAS",
           "0.085"
          ],
          [
           "C7558702",
           "EUR",
           "0.95",
           "AMR",
           "0.023"
          ],
          [
           "C7671735_A",
           "SAS",
           "0.86",
           "AMR",
           "0.073"
          ],
          [
           "C7337466",
           "EUR",
           "0.83",
           "SAS",
           "0.11"
          ],
          [
           "C7725618",
           "EUR",
           "0.89",
           "SAS",
           "0.064"
          ],
          [
           "C7934589",
           "EUR",
           "0.91",
           "SAS",
           "0.039"
          ],
          [
           "C7551958",
           "EUR",
           "0.94",
           "SAS",
           "0.028"
          ],
          [
           "C7531167",
           "EUR",
           "0.94",
           "AMR",
           "0.029"
          ],
          [
           "C7138975",
           "EUR",
           "0.94",
           "SAS",
           "0.025"
          ],
          [
           "C7307187",
           "EUR",
           "0.96",
           "SAS",
           "0.021"
          ],
          [
           "C7112454",
           "EUR",
           "0.92",
           "SAS",
           "0.04"
          ],
          [
           "C7191909",
           "EUR",
           "0.9",
           "SAS",
           "0.052"
          ],
          [
           "C7095437",
           "EUR",
           "0.92",
           "SAS",
           "0.035"
          ],
          [
           "C7792284",
           "EUR",
           "0.9",
           "SAS",
           "0.046"
          ],
          [
           "C7873287",
           "EUR",
           "0.94",
           "SAS",
           "0.029"
          ],
          [
           "C7851117",
           "EUR",
           "0.96",
           "AMR",
           "0.02"
          ],
          [
           "C7900189",
           "EUR",
           "0.94",
           "SAS",
           "0.028"
          ],
          [
           "C7596902",
           "EUR",
           "0.96",
           "AMR",
           "0.019"
          ],
          [
           "C7860321",
           "EUR",
           "0.97",
           "SAS",
           "0.013"
          ],
          [
           "C7800831",
           "EUR",
           "0.95",
           "SAS",
           "0.04"
          ],
          [
           "C7774127",
           "EUR",
           "0.85",
           "SAS",
           "0.089"
          ],
          [
           "C7556646",
           "EUR",
           "0.95",
           "SAS",
           "0.024"
          ],
          [
           "C7696137",
           "EUR",
           "0.94",
           "SAS",
           "0.025"
          ],
          [
           "C7674803",
           "EUR",
           "0.93",
           "SAS",
           "0.039"
          ],
          [
           "C7364484",
           "EUR",
           "0.92",
           "SAS",
           "0.049"
          ],
          [
           "C7133331",
           "AFR",
           "0.95",
           "SAS",
           "0.022"
          ],
          [
           "C7241422",
           "EUR",
           "0.66",
           "SAS",
           "0.3"
          ],
          [
           "C7352172",
           "EUR",
           "0.89",
           "SAS",
           "0.089"
          ],
          [
           "C7862755",
           "EUR",
           "0.89",
           "SAS",
           "0.069"
          ],
          [
           "C7796034",
           "EUR",
           "0.94",
           "SAS",
           "0.039"
          ],
          [
           "C7978591",
           "EUR",
           "0.94",
           "SAS",
           "0.043"
          ],
          [
           "C7750012",
           "EAS",
           "0.96",
           "AMR",
           "0.015"
          ],
          [
           "C7755859",
           "EUR",
           "0.94",
           "SAS",
           "0.04"
          ],
          [
           "C7975607",
           "EUR",
           "0.94",
           "SAS",
           "0.026"
          ],
          [
           "C7317458",
           "EAS",
           "0.98",
           "AMR",
           "0.0082"
          ],
          [
           "C7242024",
           "EUR",
           "0.97",
           "SAS",
           "0.012"
          ],
          [
           "C7292533",
           "EUR",
           "0.97",
           "AMR",
           "0.016"
          ],
          [
           "C7400164",
           "EUR",
           "0.91",
           "SAS",
           "0.065"
          ],
          [
           "C7201722",
           "EUR",
           "0.9",
           "SAS",
           "0.045"
          ],
          [
           "C7624145",
           "EUR",
           "0.74",
           "SAS",
           "0.15"
          ],
          [
           "C7254952",
           "EUR",
           "0.96",
           "AMR",
           "0.015"
          ],
          [
           "C7549733",
           "SAS",
           "0.95",
           "AMR",
           "0.024"
          ],
          [
           "C7663753",
           "EUR",
           "0.96",
           "SAS",
           "0.021"
          ],
          [
           "C7720398",
           "EUR",
           "0.99",
           "AMR",
           "0.0046"
          ],
          [
           "C7797150",
           "EUR",
           "0.93",
           "SAS",
           "0.048"
          ],
          [
           "C7446783",
           "EUR",
           "0.95",
           "SAS",
           "0.027"
          ],
          [
           "C7744203",
           "EUR",
           "0.91",
           "SAS",
           "0.051"
          ],
          [
           "C7420529",
           "EUR",
           "0.97",
           "AMR",
           "0.011"
          ],
          [
           "C7615711",
           "EUR",
           "0.98",
           "AMR",
           "0.011"
          ],
          [
           "C7671735_B",
           "SAS",
           "0.86",
           "AMR",
           "0.073"
          ],
          [
           "C7262251",
           "EUR",
           "0.97",
           "SAS",
           "0.022"
          ],
          [
           "C7880838",
           "EUR",
           "0.97",
           "AMR",
           "0.015"
          ],
          [
           "C7123283",
           "EUR",
           "0.92",
           "SAS",
           "0.05"
          ],
          [
           "C7273861",
           "EUR",
           "0.98",
           "AMR",
           "0.0061"
          ],
          [
           "C7211784",
           "EUR",
           "0.92",
           "SAS",
           "0.042"
          ],
          [
           "C7355851",
           "EUR",
           "0.96",
           "SAS",
           "0.018"
          ],
          [
           "C7546689",
           "EAS",
           "0.94",
           "SAS",
           "0.026"
          ],
          [
           "C7728571",
           "EUR",
           "0.95",
           "SAS",
           "0.022"
          ],
          [
           "C7975717",
           "EUR",
           "0.96",
           "SAS",
           "0.02"
          ],
          [
           "C7845278",
           "EAS",
           "0.98",
           "AMR",
           "0.0071"
          ],
          [
           "C7075879",
           "EUR",
           "0.92",
           "SAS",
           "0.033"
          ],
          [
           "C7337756",
           "EUR",
           "0.89",
           "SAS",
           "0.078"
          ],
          [
           "C7256096",
           "EUR",
           "0.9",
           "SAS",
           "0.052"
          ],
          [
           "C7667839",
           "SAS",
           "0.57",
           "EUR",
           "0.37"
          ],
          [
           "C7942862",
           "EUR",
           "0.93",
           "SAS",
           "0.035"
          ],
          [
           "C7561329",
           "EUR",
           "0.89",
           "SAS",
           "0.062"
          ],
          [
           "C7917704",
           "EAS",
           "0.96",
           "AMR",
           "0.016"
          ],
          [
           "C7575296",
           "EAS",
           "0.97",
           "AMR",
           "0.011"
          ],
          [
           "C7631226",
           "EUR",
           "0.98",
           "AMR",
           "0.008"
          ],
          [
           "C7874287",
           "EUR",
           "0.87",
           "SAS",
           "0.1"
          ],
          [
           "C7935652",
           "EAS",
           "0.98",
           "AMR",
           "0.011"
          ],
          [
           "C7171813",
           "EUR",
           "0.56",
           "AMR",
           "0.26"
          ],
          [
           "C7599062",
           "EUR",
           "0.96",
           "SAS",
           "0.018"
          ],
          [
           "C7256485",
           "EUR",
           "0.97",
           "SAS",
           "0.017"
          ]
         ],
         "hovertemplate": "<b>%{hovertext}</b><br><br>ID_Group=C7<br>PC1=%{x}<br>PC2=%{y}<br>Sample=%{customdata[0]}<br>Pred=%{customdata[1]}<br>Primary_Perc=%{customdata[2]}<br>Second=%{customdata[3]}<br>Second_Perc=%{customdata[4]}<extra></extra>",
         "hovertext": [
          "C7661059",
          "C7722923",
          "C7488119",
          "C7719688_B",
          "C7272482",
          "C7419040",
          "C7515229",
          "C7774321",
          "C7721233",
          "C7922853",
          "C7873931",
          "C7037290",
          "C7564617",
          "C7899782",
          "C7900996",
          "C7775742",
          "C7489236",
          "C7854608",
          "C7812934",
          "C7526923",
          "C7214227",
          "C7829444",
          "C7749291",
          "C7343848",
          "C7724650",
          "C7555611",
          "C7873494",
          "C7355308",
          "C7249530",
          "C7466760",
          "C7563157",
          "C7812195",
          "C7626599",
          "C7753437",
          "C7321354",
          "C7442839",
          "C7044638",
          "C7719688_A",
          "C7664882",
          "C7731610",
          "C7680316",
          "C7575592",
          "C7048024",
          "C7244188",
          "C7931543",
          "C7989630",
          "C7797481",
          "C7392071",
          "C7560532",
          "C7900292",
          "C7580286",
          "C7128050",
          "C7425462",
          "C7202805",
          "C7405020",
          "C7893181",
          "C7952024",
          "C7952533",
          "C7964148",
          "C7486770",
          "C7166808",
          "C7259165",
          "C7769468",
          "C7231807",
          "C7991356",
          "C7777597",
          "C7557432",
          "C7860973",
          "C7256776",
          "C7163669",
          "C7787459",
          "C7375657",
          "C7161606",
          "C7759848",
          "C7899426",
          "C7564817",
          "C7069181",
          "C7770397",
          "C7861169",
          "C7051331",
          "C7728583",
          "C7543363",
          "C7606723",
          "C7670382",
          "C7574693",
          "C7075995",
          "C7558702",
          "C7671735_A",
          "C7337466",
          "C7725618",
          "C7934589",
          "C7551958",
          "C7531167",
          "C7138975",
          "C7307187",
          "C7112454",
          "C7191909",
          "C7095437",
          "C7792284",
          "C7873287",
          "C7851117",
          "C7900189",
          "C7596902",
          "C7860321",
          "C7800831",
          "C7774127",
          "C7556646",
          "C7696137",
          "C7674803",
          "C7364484",
          "C7133331",
          "C7241422",
          "C7352172",
          "C7862755",
          "C7796034",
          "C7978591",
          "C7750012",
          "C7755859",
          "C7975607",
          "C7317458",
          "C7242024",
          "C7292533",
          "C7400164",
          "C7201722",
          "C7624145",
          "C7254952",
          "C7549733",
          "C7663753",
          "C7720398",
          "C7797150",
          "C7446783",
          "C7744203",
          "C7420529",
          "C7615711",
          "C7671735_B",
          "C7262251",
          "C7880838",
          "C7123283",
          "C7273861",
          "C7211784",
          "C7355851",
          "C7546689",
          "C7728571",
          "C7975717",
          "C7845278",
          "C7075879",
          "C7337756",
          "C7256096",
          "C7667839",
          "C7942862",
          "C7561329",
          "C7917704",
          "C7575296",
          "C7631226",
          "C7874287",
          "C7935652",
          "C7171813",
          "C7599062",
          "C7256485"
         ],
         "legendgroup": "C7",
         "marker": {
          "color": "#EF553B",
          "symbol": "circle"
         },
         "mode": "markers",
         "name": "C7",
         "orientation": "v",
         "showlegend": true,
         "type": "scatter",
         "x": [
          46.71276731908107,
          49.7297322938994,
          -14.186115010021611,
          -9.528108071437382,
          -11.675460664576411,
          -10.39528363102015,
          -11.221084965687,
          -12.885212321329142,
          43.600187934768805,
          -12.049474002335906,
          -13.310715713495485,
          -12.281833735760463,
          -9.848650835070009,
          -10.931705669076123,
          -9.661036508102365,
          -12.248043519219449,
          -12.023364235209687,
          -11.834115776501811,
          -11.788054906475214,
          48.869102931688516,
          -11.625043799185006,
          -8.264010201531217,
          5.879932387892381,
          -12.267663119989532,
          -7.9947681287914545,
          -10.668249054328191,
          -10.36033337462668,
          -12.048808860917134,
          -8.20053862922836,
          -9.385007478659839,
          -11.85838849909121,
          -11.31951036727215,
          -8.81815775062409,
          -8.86013682799973,
          45.16788248146439,
          -10.615037098815405,
          12.325414524326339,
          -9.837680661492287,
          -10.552444064365766,
          -12.697455133051738,
          3.067855002033199,
          -11.486135649791253,
          -10.738886843989654,
          -10.924164100216352,
          -11.542055199996065,
          -10.808892310396573,
          43.977355631183094,
          -13.278448472905144,
          -13.314004801261884,
          -10.799522607545443,
          -11.04433326622268,
          -11.59889482223159,
          -15.764885373083024,
          0.04226654938129052,
          -11.437918895559237,
          -9.237291234685456,
          -8.763143464574878,
          -11.321176015176876,
          -10.312960508225688,
          -14.745465367371645,
          3.414497274173817,
          -11.344328916670321,
          -13.063722186838373,
          49.67316465561685,
          -9.38663303071128,
          -10.715053842151166,
          -10.676737157080622,
          -10.951725698435979,
          12.60170086077272,
          -11.849246693462089,
          46.24367616796036,
          -9.225683151090582,
          -10.414466835957198,
          -8.551354025152053,
          -10.057110788332439,
          -11.877687020279753,
          -12.495144827173913,
          -11.577917712691946,
          -13.198075669801588,
          -10.975695131234957,
          -8.782361645878327,
          44.804022923724666,
          -12.425810502613079,
          -11.448992958536026,
          -11.489636586610539,
          -9.054386400833367,
          -9.76061311182649,
          10.261061446021001,
          -10.756774917304584,
          -6.8476321598457,
          -11.980281568577608,
          -11.179346297361036,
          -12.616110311738504,
          -13.863552247815742,
          -12.993070887891026,
          -12.013907470768636,
          -9.582402526578726,
          -12.308030143518408,
          -10.714175124459508,
          -9.476516917769041,
          -9.62364706086204,
          -10.90757161213988,
          -11.185029277301934,
          -10.228676257384171,
          -12.132375929663397,
          -8.988195032339261,
          -14.395719732409496,
          -9.31209798398513,
          -12.067589106842089,
          -11.869617026227788,
          4.399854131633642,
          -11.727498147887026,
          -12.178512484088778,
          -9.995197507889909,
          -13.852075907787347,
          -9.70339548654888,
          43.330738078559044,
          -14.119793615557073,
          -12.082531682285513,
          46.537655719602434,
          -10.8288683614304,
          -12.047534218150847,
          -11.820155501447976,
          -8.80485753893826,
          -5.65489472337974,
          -9.780181859746705,
          6.471116560812885,
          -13.703892614236615,
          -14.126365053523458,
          -10.633707491816486,
          -11.296662949589114,
          -11.714717134888904,
          -15.875943207909053,
          -12.272890392451956,
          10.742128418102846,
          -13.190092005581473,
          -10.384996090587329,
          -10.521012855571103,
          -9.31867966375286,
          -10.820992208231328,
          -12.840094163466446,
          42.11668280391771,
          -14.101315188428433,
          -14.719555403942003,
          46.40428320010055,
          -9.596054030039882,
          -10.923628704166218,
          -9.964674964274618,
          -7.419230820860153,
          -12.719403144748243,
          -7.908077522877977,
          44.52152605554723,
          45.17550939993738,
          -13.538240999612931,
          -9.982583433677183,
          46.9212136090591,
          -5.741062426896166,
          -14.371359699290126,
          -11.197423731534865
         ],
         "xaxis": "x",
         "y": [
          -8.182759682962573,
          -4.28839694567422,
          -0.6634020607824768,
          -3.877761350271216,
          -4.267640110344833,
          -2.236483714735434,
          -3.101068190505443,
          -4.7372393588706085,
          -3.8497888108795557,
          -6.410312547264222,
          -3.0989300982761456,
          -0.9233239644869087,
          -4.817939819834113,
          -4.1900453328331215,
          4.790246665656246,
          -2.8189129718597195,
          -4.71825259016354,
          -3.2840475051530222,
          -4.4849872525898435,
          -5.698268309537463,
          -2.8798353419224134,
          0.424547435186663,
          51.2617504801551,
          -4.06725013672441,
          -3.112902420238349,
          -4.562262517745908,
          -3.9274874388606933,
          -3.248456032993701,
          -3.787859553218517,
          -3.9609634643443594,
          -5.009861491332584,
          -4.360892050818339,
          -4.868609457877444,
          -3.413438396478165,
          -5.292041926729208,
          -4.211092864083197,
          0.7976562596669331,
          -3.3705697410605877,
          -4.353533064435243,
          -4.393166322001943,
          -0.8348469040112871,
          -2.1781902936775692,
          -4.344515627192343,
          -3.08485936624974,
          -1.9573136454887237,
          -4.553987549352052,
          -3.731757293521065,
          -4.70218120501751,
          -2.7210359645769073,
          -4.690616122742366,
          -4.949367447076588,
          -4.185495694662393,
          -3.626029093113488,
          58.11233857590065,
          -4.669545462878475,
          -5.344261627565802,
          -3.9759722458163034,
          -3.4348260396435486,
          -4.95316911337605,
          -1.6021209146617144,
          -0.09873302040336919,
          -3.228332549402709,
          -3.100917092414436,
          -5.826879032433492,
          -3.307731363121707,
          -1.3945602391841132,
          -3.234200916838838,
          -2.4731537807309727,
          0.17854747601584944,
          -4.488336739874487,
          -4.44229287952127,
          -3.316477594751046,
          -4.757687333286626,
          1.208152528361546,
          -3.4448285046799456,
          -4.668016264723787,
          -3.28105103155314,
          -2.8212023484530393,
          -4.861655388195265,
          -0.3302820434709467,
          -2.266471888666986,
          -3.8528957142449984,
          -2.6019595555421855,
          -6.1419987010416,
          -1.1382065614484502,
          -4.954754112642907,
          -2.7425576706069856,
          0.19443756026938033,
          -2.023791755113521,
          -3.46648253758537,
          -5.023583375030726,
          -2.0339412456097694,
          -4.309688282885378,
          -3.1400943266847414,
          -5.446298308313817,
          -1.337273398001259,
          -4.925033427772245,
          -4.374754614811127,
          -4.4401255129207495,
          -2.4343743166369483,
          -5.008328274921493,
          -4.244353171457968,
          -4.5463921305226895,
          -4.358544488679174,
          -3.6883056969016996,
          -3.841250819550187,
          -3.7254256845389113,
          -3.8319731858221684,
          -5.107170163473975,
          -2.9963528111540865,
          69.8737405819156,
          -0.9913172937410332,
          -3.7601849981807343,
          3.008740774467672,
          -3.202895705215615,
          -4.2314584840047385,
          -3.1305531820365853,
          -3.3586380156828692,
          -2.252331600188452,
          -5.406906002789559,
          -2.287999878350883,
          -3.162590072118081,
          -4.09379452205969,
          -2.5134099679683994,
          20.257549056619066,
          -3.47234983827593,
          -0.6219591062768153,
          -2.4459389856817535,
          -5.851723844779099,
          -1.6702144988184053,
          -3.9145268870372747,
          -3.9206539545030736,
          -3.3371320891118903,
          -2.0698233151289256,
          0.5468792024322109,
          -4.499319202502576,
          -4.196350121994363,
          -3.9533489557007293,
          -4.939202871185329,
          -2.9588861813245493,
          -4.630352713276841,
          -3.2921596631415544,
          -1.447361254903191,
          -4.839915543738202,
          -5.800918299218447,
          -1.1305767250391934,
          -4.617815675346566,
          -3.5561502248351546,
          -2.1603694586371183,
          -5.022304706087523,
          -4.48536670706985,
          -3.1133757785134337,
          -6.2021712785877385,
          -4.540477913017039,
          -3.696203938218327,
          -6.080131604870314,
          -4.622374829010698,
          -3.2676488535523567,
          -5.327671495829552
         ],
         "yaxis": "y"
        },
        {
         "customdata": [
          [
           "C9392081",
           "EUR",
           "0.95",
           "AMR",
           "0.023"
          ],
          [
           "C9112331",
           "EUR",
           "0.95",
           "SAS",
           "0.022"
          ],
          [
           "C9773006",
           "EUR",
           "0.78",
           "SAS",
           "0.16"
          ],
          [
           "C9544194",
           "EUR",
           "0.95",
           "AMR",
           "0.02"
          ],
          [
           "C9373517",
           "EUR",
           "0.95",
           "AMR",
           "0.02"
          ],
          [
           "C9948864",
           "EUR",
           "0.98",
           "SAS",
           "0.0079"
          ],
          [
           "C9421850",
           "EUR",
           "0.94",
           "SAS",
           "0.029"
          ],
          [
           "C9404984",
           "EUR",
           "0.98",
           "AMR",
           "0.0077"
          ],
          [
           "C9143246",
           "EUR",
           "0.94",
           "SAS",
           "0.027"
          ],
          [
           "C9070830",
           "EUR",
           "0.97",
           "SAS",
           "0.013"
          ],
          [
           "C9504996",
           "EUR",
           "0.9",
           "SAS",
           "0.076"
          ],
          [
           "C9202805",
           "EUR",
           "0.9",
           "AMR",
           "0.042"
          ],
          [
           "C9362525",
           "EUR",
           "0.95",
           "AMR",
           "0.02"
          ],
          [
           "C9092574",
           "EUR",
           "0.82",
           "SAS",
           "0.12"
          ],
          [
           "C9783888",
           "EUR",
           "0.9",
           "SAS",
           "0.068"
          ],
          [
           "C9867144",
           "EUR",
           "0.93",
           "AMR",
           "0.031"
          ],
          [
           "C9019427",
           "EUR",
           "0.97",
           "SAS",
           "0.0094"
          ],
          [
           "C9824232",
           "AFR",
           "0.99",
           "SAS",
           "0.005"
          ],
          [
           "C9551607",
           "EUR",
           "0.98",
           "AMR",
           "0.0086"
          ],
          [
           "C9791100",
           "AFR",
           "0.97",
           "SAS",
           "0.013"
          ],
          [
           "C9269942",
           "SAS",
           "0.64",
           "EUR",
           "0.2"
          ],
          [
           "C9950284",
           "EUR",
           "0.92",
           "SAS",
           "0.046"
          ],
          [
           "C9830861",
           "EUR",
           "0.98",
           "AMR",
           "0.01"
          ],
          [
           "C9271854",
           "EUR",
           "0.91",
           "AMR",
           "0.041"
          ],
          [
           "C9429553",
           "EUR",
           "0.94",
           "AMR",
           "0.029"
          ],
          [
           "C9963120",
           "EUR",
           "0.97",
           "SAS",
           "0.012"
          ],
          [
           "C9500443",
           "EUR",
           "0.92",
           "SAS",
           "0.049"
          ],
          [
           "C9181785",
           "EUR",
           "0.95",
           "AMR",
           "0.023"
          ],
          [
           "C9454614",
           "EUR",
           "0.6",
           "SAS",
           "0.28"
          ],
          [
           "C9173829",
           "EUR",
           "0.95",
           "AMR",
           "0.021"
          ],
          [
           "C9236526",
           "EUR",
           "0.95",
           "AMR",
           "0.023"
          ],
          [
           "C9337436",
           "EUR",
           "0.85",
           "SAS",
           "0.094"
          ],
          [
           "C9281676",
           "EUR",
           "0.94",
           "AMR",
           "0.033"
          ],
          [
           "C9834437",
           "EUR",
           "0.87",
           "AMR",
           "0.055"
          ],
          [
           "C9256776",
           "EUR",
           "0.97",
           "AMR",
           "0.013"
          ],
          [
           "C9896176",
           "EAS",
           "0.92",
           "AMR",
           "0.037"
          ],
          [
           "C9395325",
           "EUR",
           "0.98",
           "SAS",
           "0.01"
          ],
          [
           "C9439087",
           "EAS",
           "0.98",
           "AMR",
           "0.0074"
          ],
          [
           "C9738079",
           "EUR",
           "0.91",
           "SAS",
           "0.052"
          ],
          [
           "C9343835",
           "EUR",
           "0.96",
           "AMR",
           "0.017"
          ],
          [
           "C9382916",
           "AFR",
           "0.98",
           "SAS",
           "0.0095"
          ],
          [
           "C9348452",
           "EUR",
           "0.95",
           "AMR",
           "0.026"
          ],
          [
           "C9137802",
           "EUR",
           "0.97",
           "SAS",
           "0.012"
          ],
          [
           "C9841936",
           "EUR",
           "0.95",
           "SAS",
           "0.026"
          ],
          [
           "C9899426",
           "EUR",
           "0.94",
           "SAS",
           "0.028"
          ],
          [
           "C9769468",
           "EUR",
           "0.95",
           "AMR",
           "0.028"
          ],
          [
           "C9149135",
           "EUR",
           "0.94",
           "SAS",
           "0.031"
          ],
          [
           "C9414358",
           "EUR",
           "0.48",
           "SAS",
           "0.25"
          ],
          [
           "C9015006_A",
           "EUR",
           "0.92",
           "SAS",
           "0.053"
          ],
          [
           "C9333875",
           "EUR",
           "0.96",
           "AMR",
           "0.021"
          ],
          [
           "C9987132",
           "EUR",
           "0.92",
           "AMR",
           "0.033"
          ],
          [
           "C9019762",
           "AFR",
           "0.96",
           "SAS",
           "0.016"
          ],
          [
           "C9332037",
           "EUR",
           "0.94",
           "SAS",
           "0.024"
          ],
          [
           "C9107796",
           "EUR",
           "0.94",
           "SAS",
           "0.023"
          ],
          [
           "C9146837",
           "EUR",
           "0.96",
           "SAS",
           "0.016"
          ],
          [
           "C9335055",
           "EUR",
           "0.97",
           "AMR",
           "0.013"
          ],
          [
           "C9353533",
           "EUR",
           "0.97",
           "SAS",
           "0.014"
          ],
          [
           "C9065204",
           "EUR",
           "0.7",
           "SAS",
           "0.19"
          ],
          [
           "C9630977",
           "EUR",
           "0.92",
           "SAS",
           "0.046"
          ],
          [
           "C9910955",
           "EUR",
           "0.86",
           "SAS",
           "0.088"
          ],
          [
           "C9593509",
           "EUR",
           "0.96",
           "AMR",
           "0.018"
          ],
          [
           "C9203538",
           "EUR",
           "0.93",
           "SAS",
           "0.054"
          ],
          [
           "C9895193",
           "EUR",
           "0.95",
           "AMR",
           "0.022"
          ],
          [
           "C9287399",
           "EUR",
           "0.96",
           "AMR",
           "0.017"
          ],
          [
           "C9425592",
           "EUR",
           "0.91",
           "SAS",
           "0.058"
          ],
          [
           "C9787294",
           "EUR",
           "0.95",
           "AMR",
           "0.019"
          ],
          [
           "C9960311",
           "EUR",
           "0.92",
           "AMR",
           "0.047"
          ],
          [
           "C9237364",
           "EUR",
           "0.87",
           "SAS",
           "0.1"
          ],
          [
           "C9100987",
           "EUR",
           "0.95",
           "SAS",
           "0.02"
          ],
          [
           "C9172258",
           "EUR",
           "0.96",
           "SAS",
           "0.019"
          ],
          [
           "C9833901",
           "EAS",
           "0.96",
           "AMR",
           "0.015"
          ],
          [
           "C9444952",
           "AFR",
           "0.96",
           "SAS",
           "0.017"
          ],
          [
           "C9296958",
           "AFR",
           "0.86",
           "SAS",
           "0.071"
          ],
          [
           "C9761272",
           "EUR",
           "0.87",
           "SAS",
           "0.089"
          ],
          [
           "C9738061",
           "EUR",
           "0.96",
           "SAS",
           "0.017"
          ],
          [
           "C9697066",
           "EUR",
           "0.9",
           "SAS",
           "0.056"
          ],
          [
           "C9835618",
           "EUR",
           "0.97",
           "AMR",
           "0.015"
          ],
          [
           "C9518874",
           "EUR",
           "0.92",
           "SAS",
           "0.049"
          ],
          [
           "C9553207",
           "AFR",
           "0.98",
           "SAS",
           "0.0063"
          ],
          [
           "C9749291",
           "EUR",
           "0.75",
           "SAS",
           "0.16"
          ],
          [
           "C9427412",
           "AFR",
           "0.99",
           "SAS",
           "0.0047"
          ],
          [
           "C9588598",
           "EUR",
           "0.93",
           "SAS",
           "0.045"
          ],
          [
           "C9767055",
           "EUR",
           "0.97",
           "SAS",
           "0.0098"
          ],
          [
           "C9696497",
           "EUR",
           "0.94",
           "SAS",
           "0.031"
          ],
          [
           "C9249260",
           "EUR",
           "0.89",
           "SAS",
           "0.069"
          ],
          [
           "C9145166",
           "EUR",
           "0.96",
           "SAS",
           "0.014"
          ],
          [
           "C9806608",
           "EUR",
           "0.95",
           "SAS",
           "0.024"
          ],
          [
           "C9608162",
           "EUR",
           "0.97",
           "SAS",
           "0.013"
          ],
          [
           "C9829444",
           "EUR",
           "0.86",
           "SAS",
           "0.096"
          ],
          [
           "C9155285",
           "EUR",
           "0.97",
           "AMR",
           "0.01"
          ],
          [
           "C9830781",
           "EUR",
           "0.98",
           "SAS",
           "0.0072"
          ],
          [
           "C9634772",
           "EUR",
           "0.92",
           "SAS",
           "0.038"
          ],
          [
           "C9796515",
           "EUR",
           "0.97",
           "SAS",
           "0.013"
          ],
          [
           "C9473340",
           "EUR",
           "0.97",
           "AMR",
           "0.012"
          ],
          [
           "C9015006_B",
           "EUR",
           "0.92",
           "SAS",
           "0.051"
          ],
          [
           "C9787361",
           "AFR",
           "0.96",
           "SAS",
           "0.016"
          ],
          [
           "C9664685",
           "EUR",
           "0.91",
           "SAS",
           "0.04"
          ],
          [
           "C9186995",
           "EUR",
           "0.96",
           "SAS",
           "0.015"
          ],
          [
           "C9931298",
           "EUR",
           "0.97",
           "SAS",
           "0.014"
          ],
          [
           "C9546882",
           "EAS",
           "0.76",
           "SAS",
           "0.11"
          ],
          [
           "C9766496",
           "EUR",
           "0.97",
           "AMR",
           "0.015"
          ],
          [
           "C9594960",
           "EUR",
           "0.86",
           "SAS",
           "0.091"
          ],
          [
           "C9264845",
           "EUR",
           "0.94",
           "SAS",
           "0.037"
          ],
          [
           "C9693293",
           "EUR",
           "0.96",
           "SAS",
           "0.019"
          ],
          [
           "C9366500",
           "EUR",
           "0.65",
           "SAS",
           "0.25"
          ],
          [
           "C9840031",
           "EUR",
           "0.93",
           "SAS",
           "0.04"
          ],
          [
           "C9352656",
           "EUR",
           "0.96",
           "AMR",
           "0.016"
          ],
          [
           "C9926912",
           "EUR",
           "0.96",
           "AMR",
           "0.018"
          ],
          [
           "C9539446",
           "EUR",
           "0.97",
           "SAS",
           "0.013"
          ],
          [
           "C9328025_A",
           "EUR",
           "0.94",
           "SAS",
           "0.037"
          ],
          [
           "C9845989",
           "EUR",
           "0.95",
           "SAS",
           "0.023"
          ],
          [
           "C9046772",
           "EUR",
           "0.86",
           "SAS",
           "0.1"
          ],
          [
           "C9164503",
           "EUR",
           "0.72",
           "AMR",
           "0.14"
          ],
          [
           "C9289426",
           "EUR",
           "0.88",
           "SAS",
           "0.059"
          ],
          [
           "C9833467",
           "EAS",
           "0.4",
           "SAS",
           "0.25"
          ],
          [
           "C9880838",
           "EUR",
           "0.93",
           "SAS",
           "0.038"
          ],
          [
           "C9422879",
           "EUR",
           "0.96",
           "SAS",
           "0.024"
          ],
          [
           "C9694140",
           "EUR",
           "0.92",
           "SAS",
           "0.037"
          ],
          [
           "C9720398",
           "SAS",
           "0.48",
           "EUR",
           "0.38"
          ],
          [
           "C9465585",
           "EUR",
           "0.96",
           "SAS",
           "0.015"
          ],
          [
           "C9906189",
           "EUR",
           "0.94",
           "SAS",
           "0.027"
          ],
          [
           "C9723763",
           "EUR",
           "0.87",
           "SAS",
           "0.098"
          ],
          [
           "C9549733",
           "EUR",
           "0.93",
           "SAS",
           "0.043"
          ],
          [
           "C9622975",
           "EUR",
           "0.89",
           "SAS",
           "0.064"
          ],
          [
           "C9023035",
           "EUR",
           "0.62",
           "SAS",
           "0.27"
          ],
          [
           "C9281603_B",
           "EAS",
           "0.97",
           "AMR",
           "0.015"
          ],
          [
           "C9214677",
           "EUR",
           "0.96",
           "SAS",
           "0.026"
          ],
          [
           "C9728571",
           "EUR",
           "0.97",
           "SAS",
           "0.0092"
          ],
          [
           "C9692811",
           "AFR",
           "0.98",
           "SAS",
           "0.0065"
          ],
          [
           "C9276134",
           "AFR",
           "0.97",
           "SAS",
           "0.011"
          ],
          [
           "C9985402",
           "EUR",
           "0.95",
           "SAS",
           "0.023"
          ],
          [
           "C9494205",
           "EUR",
           "0.81",
           "SAS",
           "0.12"
          ],
          [
           "C9525049",
           "EUR",
           "0.93",
           "SAS",
           "0.041"
          ],
          [
           "C9446681",
           "EUR",
           "0.57",
           "SAS",
           "0.34"
          ],
          [
           "C9675388",
           "EUR",
           "0.95",
           "SAS",
           "0.029"
          ],
          [
           "C9882335",
           "EUR",
           "0.95",
           "AMR",
           "0.024"
          ],
          [
           "C9211784",
           "EUR",
           "0.94",
           "SAS",
           "0.029"
          ],
          [
           "C9885098",
           "EAS",
           "0.4",
           "AMR",
           "0.33"
          ],
          [
           "C9322275",
           "EUR",
           "0.94",
           "SAS",
           "0.025"
          ],
          [
           "C9939770",
           "EUR",
           "0.95",
           "SAS",
           "0.029"
          ],
          [
           "C9539913",
           "SAS",
           "0.58",
           "EUR",
           "0.35"
          ],
          [
           "C9174984",
           "EUR",
           "0.87",
           "AMR",
           "0.062"
          ],
          [
           "C9210292",
           "EUR",
           "0.89",
           "SAS",
           "0.052"
          ],
          [
           "C9563106",
           "EUR",
           "0.8",
           "SAS",
           "0.13"
          ],
          [
           "C9945711",
           "AFR",
           "0.97",
           "SAS",
           "0.01"
          ],
          [
           "C9842667",
           "EUR",
           "0.96",
           "SAS",
           "0.018"
          ],
          [
           "C9955418",
           "AFR",
           "0.97",
           "SAS",
           "0.013"
          ],
          [
           "C9853013",
           "EUR",
           "0.86",
           "SAS",
           "0.11"
          ],
          [
           "C9609040",
           "EUR",
           "0.96",
           "SAS",
           "0.017"
          ],
          [
           "C9131164",
           "AFR",
           "0.97",
           "SAS",
           "0.016"
          ],
          [
           "C9332639",
           "AFR",
           "0.96",
           "SAS",
           "0.018"
          ],
          [
           "C9010879",
           "EAS",
           "0.77",
           "AMR",
           "0.1"
          ],
          [
           "C9498593",
           "EUR",
           "0.89",
           "SAS",
           "0.06"
          ],
          [
           "C9345971",
           "SAS",
           "0.75",
           "AMR",
           "0.14"
          ],
          [
           "C9901595",
           "EUR",
           "0.94",
           "SAS",
           "0.024"
          ],
          [
           "C9708363",
           "EUR",
           "0.92",
           "SAS",
           "0.054"
          ],
          [
           "C9861169",
           "EUR",
           "0.89",
           "SAS",
           "0.061"
          ],
          [
           "C9409283",
           "AFR",
           "0.98",
           "SAS",
           "0.0096"
          ],
          [
           "C9692034",
           "EUR",
           "0.97",
           "AMR",
           "0.014"
          ],
          [
           "C9891547",
           "EUR",
           "0.93",
           "SAS",
           "0.049"
          ],
          [
           "C9043888",
           "EUR",
           "0.93",
           "SAS",
           "0.041"
          ],
          [
           "C9435463",
           "EUR",
           "0.92",
           "SAS",
           "0.05"
          ],
          [
           "C9281603_A",
           "EAS",
           "0.97",
           "AMR",
           "0.016"
          ],
          [
           "C9352597",
           "EUR",
           "0.74",
           "SAS",
           "0.19"
          ],
          [
           "C9499501",
           "EUR",
           "0.96",
           "SAS",
           "0.016"
          ],
          [
           "C9533499",
           "AFR",
           "0.99",
           "SAS",
           "0.0049"
          ],
          [
           "C9623681",
           "EUR",
           "0.76",
           "SAS",
           "0.14"
          ],
          [
           "C9566094",
           "EUR",
           "0.97",
           "AMR",
           "0.018"
          ],
          [
           "C9106847",
           "EUR",
           "0.94",
           "AMR",
           "0.032"
          ],
          [
           "C9670670",
           "EUR",
           "0.92",
           "AMR",
           "0.037"
          ],
          [
           "C9337466",
           "EUR",
           "0.93",
           "SAS",
           "0.038"
          ],
          [
           "C9328025_B",
           "EUR",
           "0.95",
           "SAS",
           "0.031"
          ],
          [
           "C9352013",
           "EUR",
           "0.89",
           "SAS",
           "0.047"
          ],
          [
           "C9531167",
           "EUR",
           "0.82",
           "SAS",
           "0.1"
          ],
          [
           "C9032340",
           "EUR",
           "0.96",
           "SAS",
           "0.021"
          ],
          [
           "C9183745",
           "EUR",
           "0.92",
           "SAS",
           "0.043"
          ],
          [
           "C9891309",
           "EUR",
           "0.94",
           "AMR",
           "0.03"
          ],
          [
           "C9422544",
           "AMR",
           "0.78",
           "SAS",
           "0.098"
          ],
          [
           "C9012431",
           "AMR",
           "0.89",
           "SAS",
           "0.061"
          ],
          [
           "C9674024",
           "EUR",
           "0.94",
           "SAS",
           "0.031"
          ],
          [
           "C9759662",
           "EUR",
           "0.98",
           "SAS",
           "0.011"
          ],
          [
           "C9503626",
           "EUR",
           "0.93",
           "SAS",
           "0.048"
          ],
          [
           "C9877132",
           "AFR",
           "0.84",
           "SAS",
           "0.08"
          ],
          [
           "C9557092",
           "EUR",
           "0.89",
           "SAS",
           "0.066"
          ],
          [
           "C9068543",
           "EUR",
           "0.93",
           "SAS",
           "0.032"
          ],
          [
           "C9970429",
           "EUR",
           "0.95",
           "SAS",
           "0.02"
          ],
          [
           "C9077429",
           "EUR",
           "0.95",
           "SAS",
           "0.029"
          ],
          [
           "C9254632",
           "EUR",
           "0.69",
           "SAS",
           "0.26"
          ],
          [
           "C9867644",
           "EUR",
           "0.92",
           "SAS",
           "0.038"
          ],
          [
           "C9072808",
           "EUR",
           "0.94",
           "SAS",
           "0.026"
          ],
          [
           "C9796034",
           "EUR",
           "0.8",
           "SAS",
           "0.16"
          ],
          [
           "C9095270",
           "AFR",
           "0.99",
           "SAS",
           "0.0046"
          ],
          [
           "C9105851",
           "EUR",
           "0.95",
           "SAS",
           "0.022"
          ],
          [
           "C9418584",
           "EUR",
           "0.94",
           "SAS",
           "0.026"
          ],
          [
           "C9414698",
           "EUR",
           "0.92",
           "SAS",
           "0.052"
          ]
         ],
         "hovertemplate": "<b>%{hovertext}</b><br><br>ID_Group=C9<br>PC1=%{x}<br>PC2=%{y}<br>Sample=%{customdata[0]}<br>Pred=%{customdata[1]}<br>Primary_Perc=%{customdata[2]}<br>Second=%{customdata[3]}<br>Second_Perc=%{customdata[4]}<extra></extra>",
         "hovertext": [
          "C9392081",
          "C9112331",
          "C9773006",
          "C9544194",
          "C9373517",
          "C9948864",
          "C9421850",
          "C9404984",
          "C9143246",
          "C9070830",
          "C9504996",
          "C9202805",
          "C9362525",
          "C9092574",
          "C9783888",
          "C9867144",
          "C9019427",
          "C9824232",
          "C9551607",
          "C9791100",
          "C9269942",
          "C9950284",
          "C9830861",
          "C9271854",
          "C9429553",
          "C9963120",
          "C9500443",
          "C9181785",
          "C9454614",
          "C9173829",
          "C9236526",
          "C9337436",
          "C9281676",
          "C9834437",
          "C9256776",
          "C9896176",
          "C9395325",
          "C9439087",
          "C9738079",
          "C9343835",
          "C9382916",
          "C9348452",
          "C9137802",
          "C9841936",
          "C9899426",
          "C9769468",
          "C9149135",
          "C9414358",
          "C9015006_A",
          "C9333875",
          "C9987132",
          "C9019762",
          "C9332037",
          "C9107796",
          "C9146837",
          "C9335055",
          "C9353533",
          "C9065204",
          "C9630977",
          "C9910955",
          "C9593509",
          "C9203538",
          "C9895193",
          "C9287399",
          "C9425592",
          "C9787294",
          "C9960311",
          "C9237364",
          "C9100987",
          "C9172258",
          "C9833901",
          "C9444952",
          "C9296958",
          "C9761272",
          "C9738061",
          "C9697066",
          "C9835618",
          "C9518874",
          "C9553207",
          "C9749291",
          "C9427412",
          "C9588598",
          "C9767055",
          "C9696497",
          "C9249260",
          "C9145166",
          "C9806608",
          "C9608162",
          "C9829444",
          "C9155285",
          "C9830781",
          "C9634772",
          "C9796515",
          "C9473340",
          "C9015006_B",
          "C9787361",
          "C9664685",
          "C9186995",
          "C9931298",
          "C9546882",
          "C9766496",
          "C9594960",
          "C9264845",
          "C9693293",
          "C9366500",
          "C9840031",
          "C9352656",
          "C9926912",
          "C9539446",
          "C9328025_A",
          "C9845989",
          "C9046772",
          "C9164503",
          "C9289426",
          "C9833467",
          "C9880838",
          "C9422879",
          "C9694140",
          "C9720398",
          "C9465585",
          "C9906189",
          "C9723763",
          "C9549733",
          "C9622975",
          "C9023035",
          "C9281603_B",
          "C9214677",
          "C9728571",
          "C9692811",
          "C9276134",
          "C9985402",
          "C9494205",
          "C9525049",
          "C9446681",
          "C9675388",
          "C9882335",
          "C9211784",
          "C9885098",
          "C9322275",
          "C9939770",
          "C9539913",
          "C9174984",
          "C9210292",
          "C9563106",
          "C9945711",
          "C9842667",
          "C9955418",
          "C9853013",
          "C9609040",
          "C9131164",
          "C9332639",
          "C9010879",
          "C9498593",
          "C9345971",
          "C9901595",
          "C9708363",
          "C9861169",
          "C9409283",
          "C9692034",
          "C9891547",
          "C9043888",
          "C9435463",
          "C9281603_A",
          "C9352597",
          "C9499501",
          "C9533499",
          "C9623681",
          "C9566094",
          "C9106847",
          "C9670670",
          "C9337466",
          "C9328025_B",
          "C9352013",
          "C9531167",
          "C9032340",
          "C9183745",
          "C9891309",
          "C9422544",
          "C9012431",
          "C9674024",
          "C9759662",
          "C9503626",
          "C9877132",
          "C9557092",
          "C9068543",
          "C9970429",
          "C9077429",
          "C9254632",
          "C9867644",
          "C9072808",
          "C9796034",
          "C9095270",
          "C9105851",
          "C9418584",
          "C9414698"
         ],
         "legendgroup": "C9",
         "marker": {
          "color": "#00cc96",
          "symbol": "circle"
         },
         "mode": "markers",
         "name": "C9",
         "orientation": "v",
         "showlegend": true,
         "type": "scatter",
         "x": [
          -9.911215709730488,
          -9.851568872791225,
          -8.40139756034949,
          -14.639523316130159,
          -9.56617348537945,
          -10.97354356714136,
          -10.147726807636698,
          -13.981429651568044,
          -11.217110606759213,
          -11.462455804244978,
          -7.279817317316845,
          -12.225934590935758,
          -7.0726048866764035,
          -11.481551945899586,
          -9.095214772230797,
          -10.435204923878239,
          -12.511620671303522,
          7.414184911692671,
          -12.81132198072772,
          3.8050939480422907,
          -8.237407673163208,
          -12.122007938404394,
          -11.388122055489745,
          -10.126317460142044,
          -9.160885581636979,
          -10.35410425131029,
          -11.269040348415103,
          -11.043733089111036,
          -4.931988669719622,
          -10.80998200556581,
          -10.251850769597883,
          -12.805830396248192,
          -12.678026236011435,
          -10.479046769661336,
          -13.092630346888754,
          42.84913284707667,
          -13.573117761709916,
          44.47538414374296,
          -8.11817178602512,
          -12.612523086143645,
          6.418192903002807,
          -8.056038219380715,
          -11.175985927808073,
          -8.909843626867438,
          -11.238755177361243,
          -11.701551530329578,
          -9.606796762257932,
          -5.875093269508739,
          -10.05291631700393,
          -11.720165224832472,
          -9.689870517443639,
          7.705651832694396,
          -10.655886569676685,
          -11.128699386804671,
          -11.174553180489847,
          -10.48749997532991,
          -14.503726999185979,
          -8.973735185480065,
          -10.673860741826877,
          -9.513080420515939,
          -13.559698114315644,
          -14.285805579373378,
          -12.149577361107125,
          -12.548334052612688,
          -9.465268921992033,
          -15.035964137609614,
          -11.14735129874857,
          -11.541845348029158,
          -8.670226389127926,
          -12.344473086890716,
          42.80627983019095,
          8.476520176725584,
          1.8384003383112337,
          -13.52915139313642,
          -11.728853641284244,
          -9.997063394483883,
          -13.243749567932964,
          -11.432501908148161,
          12.780759605184908,
          -10.81847896464054,
          11.579570081781606,
          -9.929404558269532,
          -11.62052660520943,
          -14.489652582124252,
          -10.338383347771378,
          -11.534545377957496,
          -10.355039485147309,
          -13.360605730634125,
          -15.147384857739663,
          -10.527312545783051,
          -15.871249753188069,
          -10.081695638398255,
          -11.674169404119091,
          -12.22455279823417,
          -9.73929292021223,
          4.123373584647188,
          -12.834948219101205,
          -11.168096510040154,
          -12.160381850790348,
          34.568268699744316,
          -12.513923100960666,
          -10.106166231520477,
          -14.030259916949698,
          -12.703965254324688,
          -9.532305679010376,
          -12.749410768202559,
          -12.678571125199612,
          -13.833175815149753,
          -12.570750118020708,
          -11.004492329012933,
          -12.104299316932712,
          -9.652813396212322,
          -6.573232317445879,
          -8.903206063001377,
          19.268157360027423,
          -11.014907116302775,
          -12.037551444203876,
          -12.652407380571349,
          -11.416793996210915,
          -12.005972351637386,
          -12.78628097217536,
          -9.345625209243888,
          -10.433827093482547,
          -12.112628627272509,
          -7.961073537963687,
          48.65548822492131,
          -14.534220456850576,
          -13.052273041354294,
          7.897641023906184,
          8.44064550813417,
          -13.875577805828183,
          -13.9743918092253,
          -11.233397468026034,
          -6.694655297862329,
          -12.452545843926277,
          -10.400861438600277,
          -14.882405551903894,
          20.18596397094278,
          -10.453738522674339,
          -12.763201570507906,
          -11.505019865514154,
          -9.569124490797686,
          -10.889083157489392,
          -9.84212176958242,
          8.86656272361496,
          -12.281529234373162,
          6.605559161035085,
          -11.861315510168938,
          -10.327666963850106,
          6.864575091935227,
          6.109051978125196,
          36.17249414897745,
          -10.469553785699112,
          -1.4346264355215324,
          -10.144080897786246,
          -12.579961616865011,
          -10.969489969316081,
          7.8628750970560715,
          -10.984520647167221,
          -13.623838320439027,
          -12.17755819216896,
          -8.87728237618816,
          47.07021561830553,
          -8.40010476949414,
          -10.655333062866283,
          8.304833231872808,
          -7.4102334520240225,
          -9.934764376832009,
          -14.553207279530092,
          -10.359892597177627,
          -12.962185731342604,
          -10.810955967700007,
          -11.599995087863944,
          -10.607152162165177,
          -12.238591478522348,
          -12.715403203750974,
          -11.754874861776281,
          6.172495429850183,
          7.941831851233738,
          -10.024651621319098,
          -13.63978218615655,
          -12.163020402620806,
          -1.5526167460041103,
          -9.002513524823874,
          -9.811543123749816,
          -12.20213164780811,
          -13.95015155133947,
          -10.593817994190209,
          -10.855221485762065,
          -8.941029299160594,
          -11.077655804127826,
          10.296138384729511,
          -11.02225191844638,
          -6.0142134620168415,
          -10.64554114870426
         ],
         "xaxis": "x",
         "y": [
          -3.0670184532655127,
          -3.609995335703689,
          -2.147810386455011,
          -3.244056585652307,
          -1.6839556298015974,
          -4.291475103616816,
          -4.252754616367691,
          -1.9023334669814338,
          -3.315038625474268,
          -4.398692649227299,
          -4.3294136854528436,
          -0.49711148012587286,
          -2.9779856566245075,
          1.743584524650155,
          -4.923214294826268,
          -1.1145119208690613,
          -2.9022377151332104,
          120.37557812425588,
          -5.059454973067825,
          108.1275072881069,
          11.411055358048669,
          -1.814754133884069,
          -2.864577096688232,
          1.1016674827299175,
          -1.3642178225974944,
          -2.7937603267316224,
          -5.019790761053267,
          -2.9787390332426855,
          -4.672472202012341,
          -4.104276145083111,
          -2.5545766479129925,
          -4.121964435513028,
          -2.118136800201517,
          -4.536138122963235,
          -1.7203446156338076,
          -3.879347724393448,
          -3.2472082655231658,
          -5.770688242535677,
          -1.1634739210049825,
          -6.168569664183106,
          102.98539862677758,
          -5.170207720228912,
          -4.527975112789966,
          -4.994802451616318,
          -2.6710738357784476,
          -3.4676900267210415,
          -5.34818330545381,
          27.199319055457373,
          -5.239644730968285,
          -4.6166236508033744,
          -4.410313430918962,
          99.7408853306899,
          -1.150904106660556,
          -2.3561867809367465,
          -4.941100796336498,
          -4.08033468892677,
          -3.8669841485921372,
          -0.9243979728592977,
          -2.543230370439321,
          -3.033677403570632,
          -0.26996498974804156,
          -3.7363360549947378,
          4.052945466984006,
          -3.3778909080857007,
          -2.0145611612317373,
          -1.5512968371008216,
          -2.819651366632539,
          -4.178344588860181,
          -4.191131984549945,
          -3.14817444502242,
          -4.133027023313332,
          106.8037178109377,
          76.53434551135243,
          -2.025130905507312,
          -3.694951565378944,
          -4.6037389068798955,
          -4.0837041456737015,
          -0.5393363114996022,
          130.60932384629018,
          -2.215448009667158,
          127.29173906900475,
          -4.961172812602599,
          -2.450651407594989,
          -5.1540107962728126,
          -2.2581282920754595,
          -2.820552217162269,
          -3.5107044047500127,
          -2.5782722216706335,
          -3.0119702954632346,
          -4.940562998609044,
          -2.1710295471554626,
          0.3324843651884062,
          -5.611955317398041,
          -3.515403547205727,
          -5.306564364718722,
          95.25319810847292,
          -1.4913206863474089,
          -2.281613742296633,
          -1.8795458593300356,
          -1.8337410474714466,
          -5.102127670298336,
          -3.0535371005586414,
          0.8650439247862258,
          -3.348075762340065,
          8.520265181859024,
          -4.0269062290916935,
          -2.6485700121727396,
          -4.6637432160306425,
          -3.574213122043843,
          -2.5252806560763417,
          -1.2030683388617636,
          -4.602132366532321,
          10.159322918079896,
          -2.4280409999089096,
          -5.2964859838268055,
          -1.4673853962010093,
          -4.112314501302571,
          -2.980056622469447,
          1.0441537898332542,
          -4.260052299153628,
          -3.935171129020737,
          -2.2573407011762785,
          -1.8644756317882036,
          -3.776200574674586,
          -0.46914640539512914,
          -6.302513887164288,
          -2.961619903804104,
          -0.8293185630996232,
          110.88255319972166,
          96.72036149975938,
          -3.208723281835551,
          -3.097294962395525,
          0.1709007493173786,
          -2.9042628798731482,
          -4.5840890824325395,
          -4.668928093545883,
          -2.7056836406510727,
          -4.227284087272924,
          -4.003020037710747,
          -3.714544412534351,
          2.101555180702149,
          -1.6740722579132254,
          -4.069103095035057,
          -2.393631509140709,
          99.937236621598,
          -3.890734360727778,
          96.26385375501698,
          -1.6874247785301584,
          -4.483377835228022,
          101.02951945850195,
          93.91162838728,
          6.167004647272348,
          -3.092056254363437,
          -0.007074320823235454,
          -4.494537252768158,
          -5.355460656263334,
          -3.632138535185942,
          124.91376988339886,
          -5.968060147430401,
          -4.019107525120916,
          -6.074106118048286,
          -3.873757885454125,
          -6.174219330088255,
          -1.2685528997814302,
          -3.4029653962871738,
          113.86761690119289,
          1.2538032771328882,
          -2.5408976248689252,
          -3.950274734982555,
          -3.5846826394994413,
          -1.4014876825877052,
          -3.191864918782377,
          -4.0032639123322475,
          -2.119400826937879,
          -3.0938873113873795,
          -3.6763986921722562,
          0.8853492680744215,
          -0.40326448952335675,
          -0.03995250838705632,
          -5.300069723123302,
          -4.945704497596348,
          -3.2593446740004817,
          83.3423465573181,
          -3.8346580732208624,
          -2.966836722420891,
          -3.2536500160406656,
          -4.495655743461863,
          -0.9199820036176887,
          -4.736064868153435,
          -4.4433863133949005,
          -1.8974063337141076,
          118.03850141374446,
          -3.803301100933758,
          1.0340572783049817,
          -1.1801651114341942
         ],
         "yaxis": "y"
        },
        {
         "customdata": [
          [
           "C3029371",
           "EUR",
           "0.98",
           "SAS",
           "0.0079"
          ],
          [
           "C3585027",
           "EAS",
           "0.98",
           "AMR",
           "0.007"
          ],
          [
           "C3802976",
           "EUR",
           "0.89",
           "SAS",
           "0.058"
          ],
          [
           "C3302744",
           "EUR",
           "0.98",
           "AMR",
           "0.011"
          ],
          [
           "C3995916",
           "EUR",
           "0.99",
           "SAS",
           "0.0053"
          ]
         ],
         "hovertemplate": "<b>%{hovertext}</b><br><br>ID_Group=C3<br>PC1=%{x}<br>PC2=%{y}<br>Sample=%{customdata[0]}<br>Pred=%{customdata[1]}<br>Primary_Perc=%{customdata[2]}<br>Second=%{customdata[3]}<br>Second_Perc=%{customdata[4]}<extra></extra>",
         "hovertext": [
          "C3029371",
          "C3585027",
          "C3802976",
          "C3302744",
          "C3995916"
         ],
         "legendgroup": "C3",
         "marker": {
          "color": "#ab63fa",
          "symbol": "circle"
         },
         "mode": "markers",
         "name": "C3",
         "orientation": "v",
         "showlegend": true,
         "type": "scatter",
         "x": [
          -13.579621572484491,
          50.697695024936756,
          -8.465300185369061,
          -12.711100088921723,
          -15.759567760551205
         ],
         "xaxis": "x",
         "y": [
          -5.348168569362151,
          -6.247782704182209,
          -2.292171018244214,
          -4.6924439974907735,
          -3.911942983795064
         ],
         "yaxis": "y"
        },
        {
         "customdata": [
          [
           "C8439824",
           "EUR",
           "0.96",
           "SAS",
           "0.016"
          ],
          [
           "C8440070",
           "EUR",
           "0.95",
           "SAS",
           "0.022"
          ],
          [
           "C8992487",
           "EUR",
           "0.96",
           "AMR",
           "0.019"
          ],
          [
           "C8046245",
           "EUR",
           "0.97",
           "SAS",
           "0.014"
          ],
          [
           "C8719784",
           "EUR",
           "0.89",
           "SAS",
           "0.047"
          ],
          [
           "C8028049",
           "EUR",
           "0.97",
           "SAS",
           "0.014"
          ],
          [
           "C8320957",
           "EUR",
           "0.92",
           "SAS",
           "0.051"
          ],
          [
           "C8973185",
           "EUR",
           "0.88",
           "SAS",
           "0.095"
          ],
          [
           "C8896744",
           "EUR",
           "0.9",
           "SAS",
           "0.054"
          ],
          [
           "C8566915",
           "EUR",
           "0.97",
           "SAS",
           "0.014"
          ],
          [
           "C8916507",
           "EUR",
           "0.97",
           "SAS",
           "0.013"
          ],
          [
           "C8207616",
           "EUR",
           "0.93",
           "AMR",
           "0.032"
          ],
          [
           "C8607789",
           "AMR",
           "0.71",
           "EUR",
           "0.17"
          ],
          [
           "C8949385",
           "EUR",
           "0.96",
           "SAS",
           "0.019"
          ],
          [
           "C8036290",
           "EUR",
           "0.88",
           "SAS",
           "0.052"
          ],
          [
           "C8451371",
           "EUR",
           "0.83",
           "SAS",
           "0.13"
          ],
          [
           "C8360547",
           "EUR",
           "0.96",
           "SAS",
           "0.02"
          ],
          [
           "C8900381",
           "EUR",
           "0.91",
           "SAS",
           "0.05"
          ],
          [
           "C8643849",
           "EUR",
           "0.96",
           "AMR",
           "0.016"
          ],
          [
           "C8876110",
           "EUR",
           "0.94",
           "SAS",
           "0.033"
          ],
          [
           "C8716254",
           "EUR",
           "0.93",
           "AMR",
           "0.032"
          ],
          [
           "C8273825",
           "SAS",
           "0.44",
           "EUR",
           "0.41"
          ],
          [
           "C8124245",
           "EUR",
           "0.9",
           "SAS",
           "0.056"
          ],
          [
           "C8297061",
           "EUR",
           "0.93",
           "AMR",
           "0.031"
          ],
          [
           "C8170175",
           "EUR",
           "0.95",
           "SAS",
           "0.027"
          ],
          [
           "C8689064",
           "EUR",
           "0.96",
           "SAS",
           "0.018"
          ],
          [
           "C8574255",
           "EUR",
           "0.92",
           "SAS",
           "0.044"
          ],
          [
           "C8081793",
           "AFR",
           "0.9",
           "SAS",
           "0.045"
          ],
          [
           "C8808071",
           "EUR",
           "0.94",
           "SAS",
           "0.033"
          ],
          [
           "C8584714",
           "EUR",
           "0.96",
           "SAS",
           "0.018"
          ],
          [
           "C8021853",
           "EUR",
           "0.96",
           "SAS",
           "0.014"
          ],
          [
           "C8643073",
           "EUR",
           "0.93",
           "SAS",
           "0.04"
          ],
          [
           "C8790955",
           "EUR",
           "0.91",
           "SAS",
           "0.048"
          ],
          [
           "C8238726",
           "AFR",
           "0.99",
           "SAS",
           "0.0019"
          ],
          [
           "C8219205",
           "EUR",
           "0.89",
           "AMR",
           "0.06"
          ],
          [
           "C8681671",
           "EUR",
           "0.96",
           "AMR",
           "0.017"
          ],
          [
           "C8478557",
           "EUR",
           "0.95",
           "SAS",
           "0.034"
          ],
          [
           "C8770577",
           "EUR",
           "0.95",
           "AMR",
           "0.02"
          ],
          [
           "C8048662",
           "EUR",
           "0.91",
           "SAS",
           "0.057"
          ],
          [
           "C8897927",
           "EUR",
           "0.87",
           "SAS",
           "0.077"
          ],
          [
           "C8615941",
           "EUR",
           "0.84",
           "SAS",
           "0.095"
          ],
          [
           "C8461665",
           "EUR",
           "0.9",
           "SAS",
           "0.065"
          ],
          [
           "C8761613",
           "EUR",
           "0.96",
           "SAS",
           "0.019"
          ],
          [
           "C8985793",
           "EUR",
           "0.95",
           "AMR",
           "0.025"
          ],
          [
           "C8319806",
           "EUR",
           "0.94",
           "AMR",
           "0.035"
          ],
          [
           "C8896162",
           "EUR",
           "0.94",
           "SAS",
           "0.039"
          ],
          [
           "C8363284",
           "EUR",
           "0.59",
           "SAS",
           "0.22"
          ],
          [
           "C8246413",
           "EUR",
           "0.73",
           "SAS",
           "0.11"
          ],
          [
           "C8193518",
           "EUR",
           "0.96",
           "SAS",
           "0.023"
          ],
          [
           "C8704315",
           "EUR",
           "0.9",
           "SAS",
           "0.068"
          ],
          [
           "C8801527",
           "EUR",
           "0.48",
           "SAS",
           "0.38"
          ],
          [
           "C8596930",
           "EUR",
           "0.89",
           "SAS",
           "0.069"
          ],
          [
           "C8810404",
           "EUR",
           "0.96",
           "SAS",
           "0.02"
          ],
          [
           "C8219541",
           "EUR",
           "0.95",
           "AMR",
           "0.02"
          ],
          [
           "C8651159",
           "EUR",
           "0.94",
           "SAS",
           "0.034"
          ],
          [
           "C8495592",
           "EUR",
           "0.98",
           "AMR",
           "0.0046"
          ],
          [
           "C8865309",
           "EUR",
           "0.96",
           "SAS",
           "0.024"
          ],
          [
           "C8358629",
           "EUR",
           "0.93",
           "SAS",
           "0.036"
          ],
          [
           "C8659108",
           "EUR",
           "0.97",
           "SAS",
           "0.015"
          ],
          [
           "C8192476",
           "EUR",
           "0.96",
           "SAS",
           "0.025"
          ],
          [
           "C8335523",
           "EUR",
           "0.93",
           "AMR",
           "0.033"
          ],
          [
           "C8506441",
           "EUR",
           "0.93",
           "SAS",
           "0.031"
          ],
          [
           "C8736037",
           "EUR",
           "0.98",
           "AMR",
           "0.0078"
          ],
          [
           "C8040854",
           "EUR",
           "0.94",
           "SAS",
           "0.038"
          ],
          [
           "C8278819",
           "EUR",
           "0.93",
           "SAS",
           "0.03"
          ],
          [
           "C8644106",
           "EUR",
           "0.87",
           "SAS",
           "0.094"
          ],
          [
           "C8681860",
           "EUR",
           "0.87",
           "SAS",
           "0.09"
          ],
          [
           "C8519536",
           "EUR",
           "0.93",
           "AMR",
           "0.046"
          ],
          [
           "C8938114",
           "EUR",
           "0.89",
           "AMR",
           "0.069"
          ],
          [
           "C8319450",
           "EUR",
           "0.84",
           "SAS",
           "0.12"
          ],
          [
           "C8397582",
           "EUR",
           "0.95",
           "SAS",
           "0.026"
          ],
          [
           "C8713498",
           "EUR",
           "0.86",
           "SAS",
           "0.099"
          ],
          [
           "C8876593",
           "EUR",
           "0.95",
           "SAS",
           "0.027"
          ],
          [
           "C8257777",
           "EUR",
           "0.97",
           "AMR",
           "0.014"
          ],
          [
           "C8451688",
           "EUR",
           "0.97",
           "AMR",
           "0.014"
          ],
          [
           "C8488109",
           "EUR",
           "0.84",
           "SAS",
           "0.11"
          ],
          [
           "C8450746",
           "EUR",
           "0.95",
           "AMR",
           "0.02"
          ],
          [
           "C8614148",
           "EUR",
           "0.9",
           "AMR",
           "0.062"
          ],
          [
           "C8194455",
           "EUR",
           "0.96",
           "AMR",
           "0.016"
          ],
          [
           "C8240437",
           "EUR",
           "0.95",
           "SAS",
           "0.029"
          ],
          [
           "C8587599",
           "EUR",
           "0.96",
           "AMR",
           "0.017"
          ],
          [
           "C8489869",
           "EUR",
           "0.97",
           "AMR",
           "0.013"
          ],
          [
           "C8081097",
           "EUR",
           "0.97",
           "SAS",
           "0.011"
          ],
          [
           "C8740455",
           "EUR",
           "0.96",
           "AMR",
           "0.015"
          ],
          [
           "C8219585",
           "EUR",
           "0.92",
           "SAS",
           "0.046"
          ],
          [
           "C8271677",
           "EAS",
           "0.98",
           "AMR",
           "0.0099"
          ],
          [
           "C8205925",
           "EUR",
           "0.93",
           "SAS",
           "0.044"
          ],
          [
           "C8284466",
           "EUR",
           "0.98",
           "AMR",
           "0.01"
          ],
          [
           "C8237107",
           "EUR",
           "0.93",
           "SAS",
           "0.036"
          ],
          [
           "C8798010",
           "EUR",
           "0.96",
           "AMR",
           "0.021"
          ],
          [
           "C8584739",
           "EUR",
           "0.94",
           "SAS",
           "0.033"
          ],
          [
           "C8191615",
           "EUR",
           "0.98",
           "AMR",
           "0.0069"
          ],
          [
           "C8173027",
           "EUR",
           "0.95",
           "SAS",
           "0.033"
          ],
          [
           "C8431940",
           "EUR",
           "0.94",
           "AMR",
           "0.028"
          ],
          [
           "C8870889",
           "EAS",
           "0.97",
           "AMR",
           "0.015"
          ],
          [
           "C8885328",
           "EUR",
           "0.94",
           "SAS",
           "0.041"
          ],
          [
           "C8981077",
           "EUR",
           "0.97",
           "SAS",
           "0.012"
          ],
          [
           "C8614179_A",
           "EUR",
           "0.96",
           "SAS",
           "0.019"
          ],
          [
           "C8016613",
           "EUR",
           "0.95",
           "AMR",
           "0.026"
          ],
          [
           "C8921704",
           "EUR",
           "0.92",
           "AMR",
           "0.035"
          ],
          [
           "C8298170",
           "EUR",
           "0.93",
           "AMR",
           "0.029"
          ],
          [
           "C8868365",
           "EUR",
           "0.93",
           "SAS",
           "0.034"
          ],
          [
           "C8395884",
           "EUR",
           "0.98",
           "AMR",
           "0.0095"
          ],
          [
           "C8574156",
           "EUR",
           "0.98",
           "AMR",
           "0.009"
          ],
          [
           "C8120972",
           "EUR",
           "0.98",
           "AMR",
           "0.009"
          ],
          [
           "C8108376",
           "EUR",
           "0.95",
           "AMR",
           "0.022"
          ],
          [
           "C8328750",
           "EUR",
           "0.95",
           "SAS",
           "0.022"
          ],
          [
           "C8334012",
           "EUR",
           "0.96",
           "SAS",
           "0.023"
          ],
          [
           "C8190455",
           "EUR",
           "0.88",
           "SAS",
           "0.077"
          ],
          [
           "C8059802",
           "EUR",
           "0.97",
           "AMR",
           "0.013"
          ],
          [
           "C8417670",
           "EUR",
           "0.93",
           "SAS",
           "0.045"
          ],
          [
           "C8359371",
           "EUR",
           "0.95",
           "SAS",
           "0.034"
          ],
          [
           "C8164464",
           "EUR",
           "0.98",
           "AMR",
           "0.0092"
          ],
          [
           "C8246802",
           "EUR",
           "0.96",
           "SAS",
           "0.022"
          ],
          [
           "C8387101",
           "EUR",
           "0.92",
           "SAS",
           "0.051"
          ],
          [
           "C8240661",
           "EUR",
           "0.97",
           "AMR",
           "0.011"
          ],
          [
           "C8749940",
           "SAS",
           "0.53",
           "EUR",
           "0.24"
          ],
          [
           "C8070392",
           "EUR",
           "0.97",
           "SAS",
           "0.012"
          ],
          [
           "C8365573",
           "EUR",
           "0.94",
           "SAS",
           "0.031"
          ],
          [
           "C8681088",
           "EUR",
           "0.91",
           "SAS",
           "0.058"
          ],
          [
           "C8803331",
           "EUR",
           "0.98",
           "SAS",
           "0.011"
          ],
          [
           "C8546542",
           "EUR",
           "0.95",
           "SAS",
           "0.026"
          ],
          [
           "C8285568",
           "EUR",
           "0.92",
           "SAS",
           "0.052"
          ],
          [
           "C8704644",
           "EUR",
           "0.97",
           "AMR",
           "0.012"
          ],
          [
           "C8659700",
           "EUR",
           "0.91",
           "SAS",
           "0.05"
          ],
          [
           "C8445892",
           "EUR",
           "0.55",
           "SAS",
           "0.32"
          ],
          [
           "C8114694",
           "EUR",
           "0.93",
           "AMR",
           "0.028"
          ],
          [
           "C8243782",
           "EUR",
           "0.97",
           "SAS",
           "0.015"
          ],
          [
           "C8941520",
           "EUR",
           "0.95",
           "SAS",
           "0.024"
          ],
          [
           "C8047717",
           "EUR",
           "0.98",
           "AMR",
           "0.0073"
          ],
          [
           "C8347151",
           "EUR",
           "0.9",
           "SAS",
           "0.055"
          ],
          [
           "C8388266",
           "EUR",
           "0.96",
           "SAS",
           "0.027"
          ],
          [
           "C8069365",
           "EUR",
           "0.97",
           "SAS",
           "0.017"
          ],
          [
           "C8958600",
           "EUR",
           "0.96",
           "SAS",
           "0.019"
          ],
          [
           "C8293022",
           "EUR",
           "0.45",
           "SAS",
           "0.37"
          ],
          [
           "C8564190",
           "EUR",
           "0.95",
           "SAS",
           "0.028"
          ],
          [
           "C8403653",
           "EUR",
           "0.96",
           "SAS",
           "0.027"
          ],
          [
           "C8225534",
           "EUR",
           "0.95",
           "AMR",
           "0.026"
          ],
          [
           "C8035341",
           "EUR",
           "0.9",
           "SAS",
           "0.066"
          ],
          [
           "C8333328",
           "EUR",
           "0.95",
           "SAS",
           "0.032"
          ],
          [
           "C8494715",
           "EUR",
           "0.92",
           "AMR",
           "0.032"
          ],
          [
           "C8098744",
           "EUR",
           "0.92",
           "SAS",
           "0.034"
          ],
          [
           "C8655078",
           "EUR",
           "0.96",
           "AMR",
           "0.02"
          ],
          [
           "C8946541",
           "EUR",
           "0.94",
           "SAS",
           "0.042"
          ],
          [
           "C8852726",
           "EUR",
           "0.97",
           "AMR",
           "0.016"
          ],
          [
           "C8614179_B",
           "EUR",
           "0.96",
           "SAS",
           "0.018"
          ],
          [
           "C8667657",
           "EUR",
           "0.94",
           "AMR",
           "0.023"
          ],
          [
           "C8186594",
           "EUR",
           "0.97",
           "SAS",
           "0.011"
          ],
          [
           "C8933068",
           "SAS",
           "0.46",
           "AMR",
           "0.19"
          ],
          [
           "C8685400",
           "EUR",
           "0.96",
           "AMR",
           "0.017"
          ],
          [
           "C8314908",
           "EUR",
           "0.96",
           "SAS",
           "0.019"
          ],
          [
           "C8917292",
           "EUR",
           "0.96",
           "SAS",
           "0.019"
          ],
          [
           "C8404107",
           "EUR",
           "0.98",
           "SAS",
           "0.01"
          ],
          [
           "C8268283",
           "EUR",
           "0.95",
           "AMR",
           "0.03"
          ],
          [
           "C8991687",
           "EUR",
           "0.97",
           "SAS",
           "0.02"
          ],
          [
           "C8187483",
           "EUR",
           "0.97",
           "AMR",
           "0.013"
          ],
          [
           "C8500841",
           "EUR",
           "0.98",
           "AMR",
           "0.0071"
          ],
          [
           "C8372662",
           "EUR",
           "0.95",
           "SAS",
           "0.032"
          ],
          [
           "C8363243",
           "EUR",
           "0.8",
           "SAS",
           "0.13"
          ],
          [
           "C8628170",
           "EUR",
           "0.95",
           "SAS",
           "0.022"
          ]
         ],
         "hovertemplate": "<b>%{hovertext}</b><br><br>ID_Group=C8<br>PC1=%{x}<br>PC2=%{y}<br>Sample=%{customdata[0]}<br>Pred=%{customdata[1]}<br>Primary_Perc=%{customdata[2]}<br>Second=%{customdata[3]}<br>Second_Perc=%{customdata[4]}<extra></extra>",
         "hovertext": [
          "C8439824",
          "C8440070",
          "C8992487",
          "C8046245",
          "C8719784",
          "C8028049",
          "C8320957",
          "C8973185",
          "C8896744",
          "C8566915",
          "C8916507",
          "C8207616",
          "C8607789",
          "C8949385",
          "C8036290",
          "C8451371",
          "C8360547",
          "C8900381",
          "C8643849",
          "C8876110",
          "C8716254",
          "C8273825",
          "C8124245",
          "C8297061",
          "C8170175",
          "C8689064",
          "C8574255",
          "C8081793",
          "C8808071",
          "C8584714",
          "C8021853",
          "C8643073",
          "C8790955",
          "C8238726",
          "C8219205",
          "C8681671",
          "C8478557",
          "C8770577",
          "C8048662",
          "C8897927",
          "C8615941",
          "C8461665",
          "C8761613",
          "C8985793",
          "C8319806",
          "C8896162",
          "C8363284",
          "C8246413",
          "C8193518",
          "C8704315",
          "C8801527",
          "C8596930",
          "C8810404",
          "C8219541",
          "C8651159",
          "C8495592",
          "C8865309",
          "C8358629",
          "C8659108",
          "C8192476",
          "C8335523",
          "C8506441",
          "C8736037",
          "C8040854",
          "C8278819",
          "C8644106",
          "C8681860",
          "C8519536",
          "C8938114",
          "C8319450",
          "C8397582",
          "C8713498",
          "C8876593",
          "C8257777",
          "C8451688",
          "C8488109",
          "C8450746",
          "C8614148",
          "C8194455",
          "C8240437",
          "C8587599",
          "C8489869",
          "C8081097",
          "C8740455",
          "C8219585",
          "C8271677",
          "C8205925",
          "C8284466",
          "C8237107",
          "C8798010",
          "C8584739",
          "C8191615",
          "C8173027",
          "C8431940",
          "C8870889",
          "C8885328",
          "C8981077",
          "C8614179_A",
          "C8016613",
          "C8921704",
          "C8298170",
          "C8868365",
          "C8395884",
          "C8574156",
          "C8120972",
          "C8108376",
          "C8328750",
          "C8334012",
          "C8190455",
          "C8059802",
          "C8417670",
          "C8359371",
          "C8164464",
          "C8246802",
          "C8387101",
          "C8240661",
          "C8749940",
          "C8070392",
          "C8365573",
          "C8681088",
          "C8803331",
          "C8546542",
          "C8285568",
          "C8704644",
          "C8659700",
          "C8445892",
          "C8114694",
          "C8243782",
          "C8941520",
          "C8047717",
          "C8347151",
          "C8388266",
          "C8069365",
          "C8958600",
          "C8293022",
          "C8564190",
          "C8403653",
          "C8225534",
          "C8035341",
          "C8333328",
          "C8494715",
          "C8098744",
          "C8655078",
          "C8946541",
          "C8852726",
          "C8614179_B",
          "C8667657",
          "C8186594",
          "C8933068",
          "C8685400",
          "C8314908",
          "C8917292",
          "C8404107",
          "C8268283",
          "C8991687",
          "C8187483",
          "C8500841",
          "C8372662",
          "C8363243",
          "C8628170"
         ],
         "legendgroup": "C8",
         "marker": {
          "color": "#FFA15A",
          "symbol": "circle"
         },
         "mode": "markers",
         "name": "C8",
         "orientation": "v",
         "showlegend": true,
         "type": "scatter",
         "x": [
          -9.806754236186503,
          -9.428386651978455,
          -12.394261261301805,
          -11.107351444042774,
          -10.374974063831823,
          -14.371610258342333,
          -11.999702191339052,
          -12.270586080911645,
          -9.4160333514222,
          -11.14346777979674,
          -13.260967674629484,
          -11.61235565971598,
          2.0982541523270593,
          -12.763860528736519,
          -12.631701032141626,
          -10.1925461730294,
          -12.594614870915814,
          -9.947517547730975,
          -10.048859574181686,
          -11.335425010448986,
          -12.00871484408241,
          -7.080655927824059,
          -11.881862169295907,
          -9.242242992224035,
          -12.795984821441925,
          -11.921216388354463,
          -13.760287176508342,
          4.402480329724654,
          -12.238678663608392,
          -12.100052753851086,
          -13.517839939594287,
          -11.2466239880597,
          -10.455806006266416,
          11.736260365157506,
          -10.035001675204825,
          -10.311519976543233,
          -12.89846528487132,
          -10.181396050725581,
          -15.924142444025398,
          -10.504269092211883,
          -7.32370293594852,
          -11.882771030452492,
          -13.928470623476493,
          -10.086188047037691,
          -12.643502726246084,
          -14.15290789456045,
          -5.68971627733769,
          -8.52795549292965,
          -15.830137639579071,
          -11.178624469732966,
          -9.719517684563348,
          -11.560852884221188,
          -12.937418769761495,
          -14.065661164423041,
          -12.546361626416934,
          -13.95652365618255,
          -15.037837397497366,
          -10.9458735327311,
          -14.306784863805108,
          -12.772463158388847,
          -9.883934920978449,
          -8.32108599077307,
          -15.686731631649344,
          -12.858060438445838,
          -9.954296032504939,
          -10.540781808592696,
          -11.899967170506242,
          -11.978423277340921,
          -9.724027424234418,
          -10.360421191317092,
          -14.998765415830482,
          -10.029680446795371,
          -11.294827538596797,
          -11.80599648621416,
          -11.663099731543781,
          -7.733924557928109,
          -10.721487472169285,
          -9.421042314375274,
          -12.927798236194759,
          -13.12778841833953,
          -14.012263537080855,
          -12.48638297929303,
          -9.750429223119797,
          -11.311927421277549,
          -13.739874312309828,
          45.91032177989032,
          -9.975624707163181,
          -11.551592169137102,
          -11.670699275416732,
          -10.487863077433547,
          -9.44571007578406,
          -11.068435609640009,
          -11.866535511944047,
          -10.258646054313324,
          47.96030152207309,
          -13.146724475673448,
          -11.680407880023298,
          -10.18645043615649,
          -10.331951080740158,
          -10.060261223781998,
          -10.505084929095569,
          -9.570593045303875,
          -13.84318188143565,
          -11.209225282183704,
          -13.398901307584978,
          -12.146433011463067,
          -14.092722751493465,
          -13.258914970708254,
          -10.853732574130216,
          -10.613177315061682,
          -13.450767939113947,
          -12.536294835665796,
          -13.750763146557412,
          -14.052309014951541,
          -12.504903591387285,
          -8.86725346200709,
          -7.53013644070123,
          -12.143673819510541,
          -9.15243244511034,
          -9.608981264296588,
          -11.101871591408651,
          -13.964370315799718,
          -12.753041936934187,
          -11.225237402677404,
          -9.82311783534839,
          -8.938469386113487,
          -12.149214859521502,
          -14.082614565258273,
          -10.25897276798912,
          -14.142592554249001,
          -12.374631578038105,
          -11.559395575834595,
          -9.61884125715214,
          -14.749335572345222,
          -7.2047299468379,
          -11.636751418356708,
          -11.75253745425073,
          -12.27757434342585,
          -11.826304634330345,
          -10.921369611691429,
          -10.469595942586569,
          -7.730637446447129,
          -14.92731667190059,
          -12.021859177150898,
          -11.610355467693626,
          -10.795810023110729,
          -10.110307966599446,
          -14.640717550407285,
          -6.577257265682992,
          -11.412559222765445,
          -12.890102082007417,
          -14.010201839253908,
          -14.611304344344136,
          -9.697607207668966,
          -14.723703150868479,
          -13.319194296313789,
          -12.436856154999411,
          -13.856475224267138,
          -8.751962848243027,
          -10.37014164890287
         ],
         "xaxis": "x",
         "y": [
          -2.763718401072164,
          -3.0185589027455357,
          -3.1739584711779085,
          -3.894097009751883,
          -0.758300451999363,
          -4.065773870549507,
          -2.247972080869567,
          -3.0027066858648848,
          -5.597502281266471,
          -3.3291740770940086,
          -3.6879157227773764,
          -2.140498239641702,
          0.2520753145371524,
          -2.862251080616015,
          -4.0275305851551195,
          -2.426720407357892,
          -4.556795989529012,
          -1.4896172526113765,
          -2.703814050293089,
          -4.365875011648533,
          -3.3505331429290472,
          13.496593638225418,
          0.04081760234247354,
          -3.249011329347029,
          -4.107665241207691,
          -4.3644306068890675,
          -3.346390162037325,
          76.19785328386727,
          -3.6150822006765555,
          -2.14347767123458,
          -4.128170010444522,
          -3.0338343621937347,
          -5.127476426244498,
          137.8976740373954,
          -4.198081986368303,
          -2.4209432377753024,
          -3.9047016364947504,
          -3.6249955349758234,
          -3.235989102859931,
          -2.875889602491119,
          -3.050109070941677,
          -3.8253453923057767,
          -2.9803188532977356,
          -4.031363796555785,
          -4.066239963378381,
          -4.919751398300762,
          16.170414685286833,
          19.844867268029997,
          -3.348721036567134,
          -1.8476912321147676,
          19.931766920143822,
          -3.145960740031814,
          -4.213098527237118,
          -2.118685897664887,
          -2.49456471174794,
          -4.341785318679923,
          -4.7095164934552685,
          -2.027979029820446,
          -4.02134543888106,
          -4.253080798205388,
          -3.542283547859322,
          -3.699084286829527,
          -2.677866252112039,
          -4.133802003037465,
          -2.027171258861201,
          -1.6302371728554583,
          0.3674067114656907,
          -2.9180775096083496,
          -4.062313041787022,
          -4.111803196938285,
          -2.5936023000928823,
          -2.837828699747732,
          -6.193644757230674,
          -4.13975221712177,
          -2.8174754840833858,
          -2.024349472609158,
          -5.070364491549376,
          -3.5071968842548493,
          -4.813587042914383,
          -3.618084289699001,
          -2.8964715519244764,
          -5.486264409607888,
          -5.073463153055988,
          -4.437807613455085,
          -2.5780227314271906,
          -7.27807670825871,
          -4.828803826039138,
          -5.130330873402912,
          -3.2246045543664823,
          -3.324826554246557,
          -3.061626361315921,
          -4.239989613834338,
          -0.2802146424011283,
          -3.1077659000296034,
          -7.13488888556749,
          -2.7818493084904614,
          -4.879707434073585,
          -3.291301932601111,
          -3.443474013082223,
          -3.6689200832214404,
          -2.847853984617631,
          -2.547310310986427,
          -2.59102309727681,
          -4.117841704437027,
          -4.192093255655066,
          -3.9531776188103027,
          0.36415893562031626,
          -3.6578550848113367,
          -3.8338932095102884,
          -4.893395552303453,
          -3.778696371697432,
          -3.764753766946123,
          -4.49032935384021,
          -3.7301934593701978,
          -4.315803286492983,
          -4.51156722789975,
          20.798123174583406,
          -4.0190061696421,
          -3.2657302773501673,
          -3.7313052695416253,
          -4.026818842671719,
          -3.514673386696629,
          -5.100594313456634,
          -3.992837614339853,
          -3.1123276857476436,
          14.88475103622938,
          -3.9255132179141254,
          -4.136879364372078,
          -5.728696054400635,
          -3.878455897551896,
          -2.9827315470922064,
          -5.265758595253513,
          -4.741213342032702,
          -3.8471852126998947,
          27.719486523802697,
          -4.236046525577439,
          -4.50933127779235,
          -3.638327578323565,
          0.19369687164245203,
          -4.283863413530795,
          -3.094869781939023,
          -4.102156738473819,
          -3.987068988861193,
          -4.11602837809453,
          -5.445900948808356,
          -4.073366702415428,
          -4.759925544558313,
          -2.6181162389112407,
          13.921765546513479,
          -3.05903656186108,
          -2.9277279306925337,
          -3.639871870937815,
          -1.8433997391033556,
          -0.814980576687302,
          -3.176892964591645,
          -1.862449348796887,
          -4.895854036238657,
          -4.063113378218358,
          -4.302189435360606,
          -1.959027383046573
         ],
         "yaxis": "y"
        },
        {
         "customdata": [
          [
           "C2743496",
           "EAS",
           "0.98",
           "AMR",
           "0.0092"
          ],
          [
           "C2213572",
           "EAS",
           "0.97",
           "AMR",
           "0.012"
          ],
          [
           "C2185794",
           "EAS",
           "0.98",
           "AMR",
           "0.0096"
          ],
          [
           "C2893567",
           "EAS",
           "0.98",
           "AMR",
           "0.0089"
          ],
          [
           "C2719688",
           "EAS",
           "0.96",
           "AMR",
           "0.015"
          ],
          [
           "C2967032",
           "EAS",
           "0.97",
           "AMR",
           "0.014"
          ],
          [
           "C2488119",
           "EAS",
           "0.98",
           "AMR",
           "0.0078"
          ],
          [
           "C2764972",
           "EAS",
           "0.98",
           "AMR",
           "0.013"
          ],
          [
           "C2269941",
           "EAS",
           "0.95",
           "AMR",
           "0.021"
          ],
          [
           "C2756719",
           "EAS",
           "0.96",
           "AMR",
           "0.022"
          ],
          [
           "C2501965",
           "EAS",
           "0.92",
           "AMR",
           "0.035"
          ],
          [
           "C2695683_B",
           "EAS",
           "0.97",
           "AMR",
           "0.015"
          ],
          [
           "C2435694",
           "EAS",
           "0.96",
           "AMR",
           "0.019"
          ],
          [
           "C2726948",
           "EAS",
           "0.97",
           "AMR",
           "0.014"
          ],
          [
           "C2343848",
           "EAS",
           "0.96",
           "AMR",
           "0.019"
          ],
          [
           "C2854608",
           "EAS",
           "0.97",
           "AMR",
           "0.016"
          ],
          [
           "C2308186",
           "EAS",
           "0.97",
           "AMR",
           "0.015"
          ],
          [
           "C2676513",
           "EAS",
           "0.97",
           "AMR",
           "0.013"
          ],
          [
           "C2442839",
           "EAS",
           "0.98",
           "AMR",
           "0.0069"
          ],
          [
           "C2946462",
           "EAS",
           "0.98",
           "AMR",
           "0.012"
          ],
          [
           "C2044638",
           "EAS",
           "0.94",
           "AMR",
           "0.033"
          ],
          [
           "C2753437",
           "EAS",
           "0.98",
           "AMR",
           "0.01"
          ],
          [
           "C2297508",
           "EAS",
           "0.98",
           "AMR",
           "0.011"
          ],
          [
           "C2563157",
           "EAS",
           "0.95",
           "AMR",
           "0.024"
          ],
          [
           "C2657436",
           "EAS",
           "0.95",
           "AMR",
           "0.021"
          ],
          [
           "C2547590",
           "EAS",
           "0.97",
           "AMR",
           "0.016"
          ],
          [
           "C2347086",
           "EAS",
           "0.97",
           "AMR",
           "0.015"
          ],
          [
           "C2806985",
           "EAS",
           "0.97",
           "SAS",
           "0.01"
          ],
          [
           "C2575592",
           "EAS",
           "0.96",
           "AMR",
           "0.021"
          ],
          [
           "C2091073",
           "EAS",
           "0.97",
           "AMR",
           "0.0095"
          ],
          [
           "C2082459",
           "EAS",
           "0.96",
           "AMR",
           "0.021"
          ],
          [
           "C2659472",
           "AFR",
           "0.79",
           "SAS",
           "0.11"
          ],
          [
           "C2695683_A",
           "EAS",
           "0.97",
           "AMR",
           "0.015"
          ],
          [
           "C2392071",
           "EAS",
           "0.89",
           "AMR",
           "0.061"
          ],
          [
           "C2900292",
           "EAS",
           "0.98",
           "AMR",
           "0.012"
          ],
          [
           "C2120252",
           "EAS",
           "0.96",
           "AMR",
           "0.019"
          ],
          [
           "C2271854",
           "EAS",
           "0.95",
           "AMR",
           "0.023"
          ],
          [
           "C2429553",
           "EAS",
           "0.97",
           "AMR",
           "0.016"
          ],
          [
           "C2964148",
           "EAS",
           "0.97",
           "AMR",
           "0.014"
          ],
          [
           "C2963120",
           "EAS",
           "0.97",
           "AMR",
           "0.014"
          ],
          [
           "C2958726",
           "EAS",
           "0.97",
           "AMR",
           "0.016"
          ],
          [
           "C2960443",
           "EAS",
           "0.96",
           "AMR",
           "0.022"
          ],
          [
           "C2728218",
           "EAS",
           "0.98",
           "AMR",
           "0.01"
          ],
          [
           "C2794096",
           "EAS",
           "0.98",
           "AMR",
           "0.0083"
          ],
          [
           "C2646930",
           "EAS",
           "0.98",
           "AMR",
           "0.01"
          ],
          [
           "C2952024",
           "EAS",
           "0.98",
           "AMR",
           "0.011"
          ],
          [
           "C2753421",
           "EAS",
           "0.96",
           "AMR",
           "0.018"
          ],
          [
           "C2899426",
           "EAS",
           "0.97",
           "AMR",
           "0.017"
          ],
          [
           "C2905055",
           "EAS",
           "0.98",
           "AMR",
           "0.011"
          ],
          [
           "C2375657",
           "EAS",
           "0.97",
           "AMR",
           "0.017"
          ],
          [
           "C2472941",
           "EAS",
           "0.98",
           "AMR",
           "0.0078"
          ],
          [
           "C2777597",
           "EAS",
           "0.95",
           "AMR",
           "0.025"
          ],
          [
           "C2711568",
           "EAS",
           "0.95",
           "AMR",
           "0.029"
          ],
          [
           "C2278135",
           "EAS",
           "0.97",
           "AMR",
           "0.011"
          ],
          [
           "C2066334",
           "EAS",
           "0.98",
           "AMR",
           "0.0099"
          ],
          [
           "C2131184",
           "EAS",
           "0.97",
           "AMR",
           "0.016"
          ],
          [
           "C2558702",
           "EAS",
           "0.97",
           "AMR",
           "0.012"
          ],
          [
           "C2460187",
           "EAS",
           "0.98",
           "AMR",
           "0.012"
          ],
          [
           "C2693056",
           "EAS",
           "0.96",
           "AMR",
           "0.015"
          ],
          [
           "C2735834",
           "EAS",
           "0.94",
           "AMR",
           "0.03"
          ],
          [
           "C2371710",
           "EAS",
           "0.97",
           "AMR",
           "0.012"
          ],
          [
           "C2535183",
           "EAS",
           "0.96",
           "AMR",
           "0.02"
          ],
          [
           "C2792284",
           "EAS",
           "0.97",
           "AMR",
           "0.011"
          ],
          [
           "C2095437",
           "EAS",
           "0.97",
           "AMR",
           "0.014"
          ],
          [
           "C2191909",
           "EAS",
           "0.98",
           "AMR",
           "0.0072"
          ],
          [
           "C2594695",
           "EAS",
           "0.94",
           "AMR",
           "0.032"
          ],
          [
           "C2337466",
           "EAS",
           "0.96",
           "AMR",
           "0.019"
          ],
          [
           "C2284019",
           "EAS",
           "0.98",
           "AMR",
           "0.0069"
          ],
          [
           "C2712373",
           "EAS",
           "0.96",
           "AMR",
           "0.02"
          ],
          [
           "C2495200",
           "EAS",
           "0.97",
           "AMR",
           "0.013"
          ],
          [
           "C2842150",
           "EAS",
           "0.99",
           "AMR",
           "0.006"
          ],
          [
           "C2851117",
           "EAS",
           "0.97",
           "AMR",
           "0.014"
          ],
          [
           "C2978591",
           "EAS",
           "0.96",
           "AMR",
           "0.023"
          ],
          [
           "C2901838",
           "EAS",
           "0.96",
           "AMR",
           "0.019"
          ],
          [
           "C2884087",
           "EAS",
           "0.96",
           "AMR",
           "0.018"
          ],
          [
           "C2814454",
           "EAS",
           "0.94",
           "AMR",
           "0.03"
          ],
          [
           "C2918178",
           "EAS",
           "0.98",
           "AMR",
           "0.0055"
          ],
          [
           "C2248002",
           "EAS",
           "0.96",
           "AMR",
           "0.018"
          ],
          [
           "C2414698",
           "EAS",
           "0.98",
           "AMR",
           "0.013"
          ],
          [
           "C2487949",
           "EAS",
           "0.97",
           "AMR",
           "0.017"
          ],
          [
           "C2196396_A",
           "EAS",
           "0.97",
           "AMR",
           "0.014"
          ],
          [
           "C2400164",
           "EAS",
           "0.95",
           "AMR",
           "0.028"
          ],
          [
           "C2575795",
           "EAS",
           "0.96",
           "AMR",
           "0.021"
          ],
          [
           "C2717299",
           "EAS",
           "0.97",
           "AMR",
           "0.013"
          ],
          [
           "C2077527",
           "EAS",
           "0.96",
           "AMR",
           "0.02"
          ],
          [
           "C2451842",
           "EAS",
           "0.97",
           "AMR",
           "0.018"
          ],
          [
           "C2013700",
           "EAS",
           "0.95",
           "AMR",
           "0.019"
          ],
          [
           "C2440130",
           "EAS",
           "0.97",
           "AMR",
           "0.016"
          ],
          [
           "C2615711",
           "EAS",
           "0.97",
           "AMR",
           "0.016"
          ],
          [
           "C2420529",
           "EAS",
           "0.97",
           "AMR",
           "0.015"
          ],
          [
           "C2272037",
           "EAS",
           "0.98",
           "AMR",
           "0.01"
          ],
          [
           "C2974662",
           "EAS",
           "0.94",
           "AMR",
           "0.027"
          ],
          [
           "C2880838",
           "EAS",
           "0.98",
           "AMR",
           "0.011"
          ],
          [
           "C2656017",
           "EUR",
           "0.94",
           "SAS",
           "0.027"
          ],
          [
           "C2720398",
           "EAS",
           "0.97",
           "AMR",
           "0.016"
          ],
          [
           "C2869615",
           "EAS",
           "0.97",
           "AMR",
           "0.013"
          ],
          [
           "C2851928",
           "EAS",
           "0.98",
           "AMR",
           "0.012"
          ],
          [
           "C2284359",
           "EAS",
           "0.97",
           "AMR",
           "0.012"
          ],
          [
           "C2525049",
           "EAS",
           "0.95",
           "AMR",
           "0.031"
          ],
          [
           "C2211784",
           "EAS",
           "0.96",
           "AMR",
           "0.021"
          ],
          [
           "C2273861",
           "EAS",
           "0.98",
           "AMR",
           "0.008"
          ],
          [
           "C2412216",
           "EAS",
           "0.97",
           "AMR",
           "0.014"
          ],
          [
           "C2196396_B",
           "EAS",
           "0.97",
           "AMR",
           "0.014"
          ],
          [
           "C2256485",
           "EAS",
           "0.98",
           "AMR",
           "0.0083"
          ],
          [
           "C2965113",
           "EAS",
           "0.97",
           "AMR",
           "0.014"
          ],
          [
           "C2334072",
           "EAS",
           "0.97",
           "AMR",
           "0.013"
          ],
          [
           "C2743556",
           "EAS",
           "0.97",
           "AMR",
           "0.012"
          ],
          [
           "C2942862",
           "EAS",
           "0.96",
           "AMR",
           "0.02"
          ],
          [
           "C2599062",
           "EAS",
           "0.97",
           "SAS",
           "0.013"
          ],
          [
           "C2419250",
           "EAS",
           "0.97",
           "AMR",
           "0.015"
          ],
          [
           "C2583097",
           "EAS",
           "0.97",
           "AMR",
           "0.016"
          ]
         ],
         "hovertemplate": "<b>%{hovertext}</b><br><br>ID_Group=C2<br>PC1=%{x}<br>PC2=%{y}<br>Sample=%{customdata[0]}<br>Pred=%{customdata[1]}<br>Primary_Perc=%{customdata[2]}<br>Second=%{customdata[3]}<br>Second_Perc=%{customdata[4]}<extra></extra>",
         "hovertext": [
          "C2743496",
          "C2213572",
          "C2185794",
          "C2893567",
          "C2719688",
          "C2967032",
          "C2488119",
          "C2764972",
          "C2269941",
          "C2756719",
          "C2501965",
          "C2695683_B",
          "C2435694",
          "C2726948",
          "C2343848",
          "C2854608",
          "C2308186",
          "C2676513",
          "C2442839",
          "C2946462",
          "C2044638",
          "C2753437",
          "C2297508",
          "C2563157",
          "C2657436",
          "C2547590",
          "C2347086",
          "C2806985",
          "C2575592",
          "C2091073",
          "C2082459",
          "C2659472",
          "C2695683_A",
          "C2392071",
          "C2900292",
          "C2120252",
          "C2271854",
          "C2429553",
          "C2964148",
          "C2963120",
          "C2958726",
          "C2960443",
          "C2728218",
          "C2794096",
          "C2646930",
          "C2952024",
          "C2753421",
          "C2899426",
          "C2905055",
          "C2375657",
          "C2472941",
          "C2777597",
          "C2711568",
          "C2278135",
          "C2066334",
          "C2131184",
          "C2558702",
          "C2460187",
          "C2693056",
          "C2735834",
          "C2371710",
          "C2535183",
          "C2792284",
          "C2095437",
          "C2191909",
          "C2594695",
          "C2337466",
          "C2284019",
          "C2712373",
          "C2495200",
          "C2842150",
          "C2851117",
          "C2978591",
          "C2901838",
          "C2884087",
          "C2814454",
          "C2918178",
          "C2248002",
          "C2414698",
          "C2487949",
          "C2196396_A",
          "C2400164",
          "C2575795",
          "C2717299",
          "C2077527",
          "C2451842",
          "C2013700",
          "C2440130",
          "C2615711",
          "C2420529",
          "C2272037",
          "C2974662",
          "C2880838",
          "C2656017",
          "C2720398",
          "C2869615",
          "C2851928",
          "C2284359",
          "C2525049",
          "C2211784",
          "C2273861",
          "C2412216",
          "C2196396_B",
          "C2256485",
          "C2965113",
          "C2334072",
          "C2743556",
          "C2942862",
          "C2599062",
          "C2419250",
          "C2583097"
         ],
         "legendgroup": "C2",
         "marker": {
          "color": "#19d3f3",
          "symbol": "circle"
         },
         "mode": "markers",
         "name": "C2",
         "orientation": "v",
         "showlegend": true,
         "type": "scatter",
         "x": [
          51.05191645853108,
          48.891262499811546,
          50.075818765047764,
          47.47192223577169,
          49.05337334530493,
          49.14258946753861,
          51.60930013058498,
          47.94977566133575,
          43.29271788683686,
          47.367197752772086,
          45.379018265512855,
          51.394256433893155,
          44.81377789730106,
          46.915938308703794,
          48.468400950682465,
          45.141473661834496,
          47.61174154471114,
          47.77729034496793,
          48.89440442170433,
          49.92276423806767,
          48.40308302358977,
          47.33791056467411,
          48.17456340783839,
          47.157648934613775,
          46.90062570930832,
          44.20182052365923,
          47.38464577238312,
          45.30103404265658,
          45.89920315150872,
          48.700831535128366,
          49.15984593583943,
          1.218094142525453,
          51.38985925698081,
          45.75729419592737,
          48.18914660027483,
          45.339572634122185,
          43.69465989751266,
          47.684996236109775,
          48.58497413154195,
          47.14585258550196,
          51.229994576483755,
          46.90783439053773,
          49.36851913400386,
          50.69673118659418,
          49.755164908903645,
          47.65226525847432,
          46.764978022897665,
          48.842758447392654,
          48.16337581818785,
          52.973659143248604,
          53.595913486220816,
          47.12872625205263,
          47.43373681115124,
          49.665505763739404,
          45.73095864914113,
          49.742406251678716,
          46.16780341805598,
          52.51556973258682,
          47.91348716029481,
          45.8596059213469,
          45.44450396258064,
          48.27700560750795,
          50.70904129945863,
          50.130048308412604,
          48.245994342196944,
          51.00309713791324,
          46.59631259208463,
          52.00266348780905,
          46.78903159618314,
          48.701357814081234,
          52.640639775620635,
          49.70966001580964,
          47.04944888033579,
          47.93864843379574,
          49.58970613110271,
          44.7328504541344,
          51.64718273944224,
          47.43044504899598,
          47.000968638806,
          46.65460546883088,
          50.01406098635675,
          44.812470644142394,
          47.44104475675493,
          47.89072259074136,
          44.36720033632227,
          47.875446365247605,
          46.747465734178654,
          46.55213166135578,
          47.43959644799398,
          47.12188712339733,
          48.19064029358172,
          51.53391092869527,
          47.76756430942511,
          -10.296316195283445,
          51.35057885907533,
          45.64424402844191,
          48.460577050121735,
          44.52665817750574,
          45.26717611127673,
          47.21630125855293,
          46.16242093022487,
          49.2540523800478,
          49.612156834760455,
          50.404505249878746,
          51.962798559539664,
          48.877631113721414,
          48.41708947269464,
          44.420839628878284,
          49.97129367026918,
          47.3068750451923,
          48.117110133311925
         ],
         "xaxis": "x",
         "y": [
          -5.439372612075555,
          -5.9852551677093295,
          -5.225781105633979,
          -4.7505598388061205,
          -4.781221974891773,
          -6.651984680308363,
          -5.8335915264676865,
          -6.079341626239765,
          -6.169489558741765,
          -4.864825259413229,
          -4.590327300717171,
          -5.738853186622238,
          -7.898865943994642,
          -5.200723821958813,
          -6.151016354776872,
          -6.145940179148079,
          -6.033265113949026,
          -5.374527715540823,
          -5.268121830222272,
          -7.60960115943695,
          -6.952816127010592,
          -6.931176804389577,
          -7.540179621661825,
          -6.248795767622553,
          -5.479955097300816,
          -6.668400953732733,
          -5.512635539055046,
          -6.2184383744342,
          -6.845690913068236,
          -5.646773782392724,
          -3.0608327836046296,
          51.32929664235439,
          -5.820277712936262,
          -5.389522009968777,
          -5.58740430752379,
          -6.149557107117661,
          -6.344362153919086,
          -8.127769288351987,
          -5.627516972686266,
          -3.7014605119850352,
          -5.648491775805552,
          -4.537766662397026,
          -5.352457646559265,
          -6.268581468143327,
          -7.378751241481823,
          -6.8109805261313285,
          -5.564527299131116,
          -5.54296131541688,
          -5.89767632613183,
          -6.367231392764646,
          -5.857680382584662,
          -6.450360402419015,
          -5.84200279313947,
          -5.361027712193619,
          -6.018410087496258,
          -5.104751638856534,
          -7.345845655411361,
          -5.2365632790830805,
          -7.735908297997667,
          -5.128340955471187,
          -5.867117484322704,
          -6.549531238273311,
          -4.898384093692754,
          -6.8945269581216895,
          -5.204962868888429,
          -6.523380631358727,
          -6.874566532484131,
          -5.518948030723596,
          -6.641681606580697,
          -4.296973952055154,
          -5.4877242974834815,
          -5.6325757836949455,
          -5.729577367037128,
          -3.449284689487699,
          -6.213352454405257,
          -6.284142543340503,
          -4.759486382524387,
          -4.6313114724184175,
          -4.900035615032799,
          -6.888202546033941,
          -7.104633801093466,
          -7.050852781812306,
          -5.474417476361694,
          -5.0947019973966805,
          -4.1718663598025385,
          -6.560338182398162,
          -6.222763550755734,
          -5.186260043226578,
          -6.101764246524737,
          -4.038034638010736,
          -7.594551636936303,
          -5.765038027797731,
          -5.3067841992497655,
          -1.434974536371545,
          -5.600977217446552,
          -5.505774698834281,
          -6.783253162563354,
          -6.009821193591222,
          -6.918387108216855,
          -5.620293942361969,
          -6.714848433377466,
          -4.5077131858054456,
          -7.454723894856231,
          -6.609769139111155,
          -4.83304342387166,
          -4.0343289582792154,
          -5.62842924035317,
          -5.999965785520339,
          -5.129041481837851,
          -7.878618949415587,
          -5.9290360360497205
         ],
         "yaxis": "y"
        },
        {
         "customdata": [
          [
           "C1419921",
           "EUR",
           "0.94",
           "SAS",
           "0.037"
          ],
          [
           "C1268869",
           "EUR",
           "0.89",
           "SAS",
           "0.075"
          ],
          [
           "C1099243",
           "EUR",
           "0.79",
           "SAS",
           "0.084"
          ],
          [
           "C1371790",
           "EAS",
           "0.97",
           "SAS",
           "0.0095"
          ],
          [
           "C1536424",
           "EUR",
           "0.97",
           "SAS",
           "0.014"
          ],
          [
           "C1721225",
           "EUR",
           "0.93",
           "SAS",
           "0.047"
          ]
         ],
         "hovertemplate": "<b>%{hovertext}</b><br><br>ID_Group=C1<br>PC1=%{x}<br>PC2=%{y}<br>Sample=%{customdata[0]}<br>Pred=%{customdata[1]}<br>Primary_Perc=%{customdata[2]}<br>Second=%{customdata[3]}<br>Second_Perc=%{customdata[4]}<extra></extra>",
         "hovertext": [
          "C1419921",
          "C1268869",
          "C1099243",
          "C1371790",
          "C1536424",
          "C1721225"
         ],
         "legendgroup": "C1",
         "marker": {
          "color": "#FF6692",
          "symbol": "circle"
         },
         "mode": "markers",
         "name": "C1",
         "orientation": "v",
         "showlegend": true,
         "type": "scatter",
         "x": [
          -13.871174501445841,
          -11.90322598617439,
          -9.965653071674444,
          43.949243662388014,
          -7.73055839603192,
          -12.14579859677666
         ],
         "xaxis": "x",
         "y": [
          -3.718480373773436,
          -0.387102416886432,
          14.613424682039861,
          -7.044249160955288,
          -0.4450987385130846,
          -4.462198508629611
         ],
         "yaxis": "y"
        },
        {
         "customdata": [
          [
           "C5901838",
           "EUR",
           "0.64",
           "SAS",
           "0.27"
          ],
          [
           "C5041438",
           "EUR",
           "0.95",
           "AMR",
           "0.019"
          ],
          [
           "C5191909",
           "EUR",
           "0.84",
           "SAS",
           "0.12"
          ],
          [
           "C5792284",
           "EUR",
           "0.85",
           "SAS",
           "0.095"
          ],
          [
           "C5095437",
           "EUR",
           "0.6",
           "SAS",
           "0.33"
          ],
          [
           "C5845278",
           "EUR",
           "0.91",
           "SAS",
           "0.044"
          ],
          [
           "C5095146",
           "EUR",
           "0.96",
           "SAS",
           "0.019"
          ],
          [
           "C5667839",
           "EUR",
           "0.97",
           "SAS",
           "0.014"
          ],
          [
           "C5975717",
           "EUR",
           "0.82",
           "SAS",
           "0.14"
          ],
          [
           "C5211557",
           "EUR",
           "0.75",
           "SAS",
           "0.21"
          ],
          [
           "C5256485",
           "EUR",
           "0.51",
           "SAS",
           "0.41"
          ],
          [
           "C5599062",
           "EUR",
           "0.87",
           "SAS",
           "0.091"
          ],
          [
           "C5942862",
           "EUR",
           "0.87",
           "SAS",
           "0.08"
          ],
          [
           "C5343848",
           "EUR",
           "0.82",
           "SAS",
           "0.13"
          ],
          [
           "C5526923",
           "EUR",
           "0.86",
           "SAS",
           "0.097"
          ],
          [
           "C5044638",
           "EUR",
           "0.77",
           "SAS",
           "0.19"
          ],
          [
           "C5156906",
           "EUR",
           "0.95",
           "SAS",
           "0.026"
          ],
          [
           "C5753437",
           "SAS",
           "0.6",
           "EUR",
           "0.32"
          ],
          [
           "C5466760",
           "EUR",
           "0.77",
           "SAS",
           "0.16"
          ],
          [
           "C5222088",
           "EUR",
           "0.85",
           "SAS",
           "0.11"
          ],
          [
           "C5775742",
           "EUR",
           "0.89",
           "SAS",
           "0.063"
          ],
          [
           "C5037290",
           "EUR",
           "0.85",
           "SAS",
           "0.074"
          ],
          [
           "C5922853",
           "EUR",
           "0.84",
           "SAS",
           "0.096"
          ],
          [
           "C5989630",
           "EUR",
           "0.8",
           "SAS",
           "0.15"
          ],
          [
           "C5244188",
           "EUR",
           "0.96",
           "SAS",
           "0.019"
          ],
          [
           "C5048024",
           "EUR",
           "0.84",
           "SAS",
           "0.13"
          ],
          [
           "C5575592",
           "SAS",
           "0.68",
           "EUR",
           "0.26"
          ],
          [
           "C5795180",
           "EUR",
           "0.76",
           "SAS",
           "0.15"
          ],
          [
           "C5191349",
           "EUR",
           "0.64",
           "SAS",
           "0.27"
          ],
          [
           "C5425462",
           "EUR",
           "0.49",
           "SAS",
           "0.4"
          ]
         ],
         "hovertemplate": "<b>%{hovertext}</b><br><br>ID_Group=C5<br>PC1=%{x}<br>PC2=%{y}<br>Sample=%{customdata[0]}<br>Pred=%{customdata[1]}<br>Primary_Perc=%{customdata[2]}<br>Second=%{customdata[3]}<br>Second_Perc=%{customdata[4]}<extra></extra>",
         "hovertext": [
          "C5901838",
          "C5041438",
          "C5191909",
          "C5792284",
          "C5095437",
          "C5845278",
          "C5095146",
          "C5667839",
          "C5975717",
          "C5211557",
          "C5256485",
          "C5599062",
          "C5942862",
          "C5343848",
          "C5526923",
          "C5044638",
          "C5156906",
          "C5753437",
          "C5466760",
          "C5222088",
          "C5775742",
          "C5037290",
          "C5922853",
          "C5989630",
          "C5244188",
          "C5048024",
          "C5575592",
          "C5795180",
          "C5191349",
          "C5425462"
         ],
         "legendgroup": "C5",
         "marker": {
          "color": "#B6E880",
          "symbol": "circle"
         },
         "mode": "markers",
         "name": "C5",
         "orientation": "v",
         "showlegend": true,
         "type": "scatter",
         "x": [
          -10.24280254069566,
          -12.887291895642269,
          -11.344011471500345,
          -10.465268906099006,
          -13.234452956393994,
          -10.431027785874402,
          -13.059275399481255,
          -12.135063709857056,
          -11.504171324069066,
          -11.991874856866064,
          -8.121806146529275,
          -10.619507827360584,
          -12.384795649870439,
          -12.04587382959874,
          -9.268227804584397,
          -11.627039091105038,
          -12.604330397762316,
          -9.990929935088396,
          -7.714890862278746,
          -14.143432756155294,
          -8.212268114742407,
          -11.743699786275982,
          -8.780205151886062,
          -10.44025763393372,
          -9.434183693303861,
          -11.154484328190913,
          -6.9568624778914305,
          -12.055921325286777,
          -7.548482210931884,
          -9.755680963798275
         ],
         "xaxis": "x",
         "y": [
          2.752961447353491,
          -1.1027905618788498,
          0.40206067056166156,
          -1.2618183835327146,
          0.41076799820851184,
          4.125838037725982,
          -4.132358943473346,
          -4.315638387430133,
          1.1887045302286248,
          -1.1642883708548286,
          0.4699158626542694,
          -0.8252748490247968,
          -3.9458792563304,
          -1.2831009212390816,
          -3.551090830229272,
          1.0808660884558492,
          -3.8453504814816686,
          -2.1655332931831426,
          -3.537008032077203,
          0.8594417305976506,
          -5.087229284303089,
          0.9921166017957137,
          -3.2606059792982074,
          0.35104265247480043,
          -1.266181226564859,
          -2.707351402399986,
          -2.0389647700319298,
          -0.3030597878249005,
          2.9556333498224805,
          5.40059504003883
         ],
         "yaxis": "y"
        },
        {
         "customdata": [
          [
           "C6657611",
           "EUR",
           "0.95",
           "SAS",
           "0.024"
          ],
          [
           "C6281807",
           "EUR",
           "0.94",
           "SAS",
           "0.029"
          ],
          [
           "C6061051",
           "EUR",
           "0.94",
           "AMR",
           "0.034"
          ],
          [
           "C6514151",
           "EUR",
           "0.93",
           "SAS",
           "0.046"
          ]
         ],
         "hovertemplate": "<b>%{hovertext}</b><br><br>ID_Group=C6<br>PC1=%{x}<br>PC2=%{y}<br>Sample=%{customdata[0]}<br>Pred=%{customdata[1]}<br>Primary_Perc=%{customdata[2]}<br>Second=%{customdata[3]}<br>Second_Perc=%{customdata[4]}<extra></extra>",
         "hovertext": [
          "C6657611",
          "C6281807",
          "C6061051",
          "C6514151"
         ],
         "legendgroup": "C6",
         "marker": {
          "color": "#FF97FF",
          "symbol": "circle"
         },
         "mode": "markers",
         "name": "C6",
         "orientation": "v",
         "showlegend": true,
         "type": "scatter",
         "x": [
          -12.947477681366433,
          -9.220932579991285,
          -10.38070514494221,
          -12.29066030206702
         ],
         "xaxis": "x",
         "y": [
          -3.573505725328391,
          -3.483637523941354,
          -3.9504109772418405,
          0.5792747676699316
         ],
         "yaxis": "y"
        },
        {
         "customdata": [
          [
           "C4013619",
           "EUR",
           "0.98",
           "AMR",
           "0.0077"
          ],
          [
           "C4934163",
           "EAS",
           "0.97",
           "AMR",
           "0.014"
          ],
          [
           "C4850216",
           "SAS",
           "0.79",
           "EUR",
           "0.13"
          ],
          [
           "C4566059",
           "EUR",
           "0.88",
           "SAS",
           "0.089"
          ],
          [
           "C4261455",
           "EUR",
           "0.88",
           "SAS",
           "0.064"
          ],
          [
           "C4723222",
           "EUR",
           "0.89",
           "SAS",
           "0.069"
          ]
         ],
         "hovertemplate": "<b>%{hovertext}</b><br><br>ID_Group=C4<br>PC1=%{x}<br>PC2=%{y}<br>Sample=%{customdata[0]}<br>Pred=%{customdata[1]}<br>Primary_Perc=%{customdata[2]}<br>Second=%{customdata[3]}<br>Second_Perc=%{customdata[4]}<extra></extra>",
         "hovertext": [
          "C4013619",
          "C4934163",
          "C4850216",
          "C4566059",
          "C4261455",
          "C4723222"
         ],
         "legendgroup": "C4",
         "marker": {
          "color": "#FECB52",
          "symbol": "circle"
         },
         "mode": "markers",
         "name": "C4",
         "orientation": "v",
         "showlegend": true,
         "type": "scatter",
         "x": [
          -8.659026409733585,
          52.2813338215372,
          -5.444542293579824,
          -12.306309332421476,
          -10.531233498392211,
          -10.328470400131547
         ],
         "xaxis": "x",
         "y": [
          -6.09537314111657,
          -6.82184454561812,
          0.38279028699220485,
          -3.550581269385214,
          -1.9259190114701497,
          0.49069225405270334
         ],
         "yaxis": "y"
        }
       ],
       "layout": {
        "autosize": true,
        "height": 800,
        "legend": {
         "title": {
          "text": "ID_Group"
         },
         "tracegroupgap": 0
        },
        "template": {
         "data": {
          "bar": [
           {
            "error_x": {
             "color": "#2a3f5f"
            },
            "error_y": {
             "color": "#2a3f5f"
            },
            "marker": {
             "line": {
              "color": "#E5ECF6",
              "width": 0.5
             },
             "pattern": {
              "fillmode": "overlay",
              "size": 10,
              "solidity": 0.2
             }
            },
            "type": "bar"
           }
          ],
          "barpolar": [
           {
            "marker": {
             "line": {
              "color": "#E5ECF6",
              "width": 0.5
             },
             "pattern": {
              "fillmode": "overlay",
              "size": 10,
              "solidity": 0.2
             }
            },
            "type": "barpolar"
           }
          ],
          "carpet": [
           {
            "aaxis": {
             "endlinecolor": "#2a3f5f",
             "gridcolor": "white",
             "linecolor": "white",
             "minorgridcolor": "white",
             "startlinecolor": "#2a3f5f"
            },
            "baxis": {
             "endlinecolor": "#2a3f5f",
             "gridcolor": "white",
             "linecolor": "white",
             "minorgridcolor": "white",
             "startlinecolor": "#2a3f5f"
            },
            "type": "carpet"
           }
          ],
          "choropleth": [
           {
            "colorbar": {
             "outlinewidth": 0,
             "ticks": ""
            },
            "type": "choropleth"
           }
          ],
          "contour": [
           {
            "colorbar": {
             "outlinewidth": 0,
             "ticks": ""
            },
            "colorscale": [
             [
              0,
              "#0d0887"
             ],
             [
              0.1111111111111111,
              "#46039f"
             ],
             [
              0.2222222222222222,
              "#7201a8"
             ],
             [
              0.3333333333333333,
              "#9c179e"
             ],
             [
              0.4444444444444444,
              "#bd3786"
             ],
             [
              0.5555555555555556,
              "#d8576b"
             ],
             [
              0.6666666666666666,
              "#ed7953"
             ],
             [
              0.7777777777777778,
              "#fb9f3a"
             ],
             [
              0.8888888888888888,
              "#fdca26"
             ],
             [
              1,
              "#f0f921"
             ]
            ],
            "type": "contour"
           }
          ],
          "contourcarpet": [
           {
            "colorbar": {
             "outlinewidth": 0,
             "ticks": ""
            },
            "type": "contourcarpet"
           }
          ],
          "heatmap": [
           {
            "colorbar": {
             "outlinewidth": 0,
             "ticks": ""
            },
            "colorscale": [
             [
              0,
              "#0d0887"
             ],
             [
              0.1111111111111111,
              "#46039f"
             ],
             [
              0.2222222222222222,
              "#7201a8"
             ],
             [
              0.3333333333333333,
              "#9c179e"
             ],
             [
              0.4444444444444444,
              "#bd3786"
             ],
             [
              0.5555555555555556,
              "#d8576b"
             ],
             [
              0.6666666666666666,
              "#ed7953"
             ],
             [
              0.7777777777777778,
              "#fb9f3a"
             ],
             [
              0.8888888888888888,
              "#fdca26"
             ],
             [
              1,
              "#f0f921"
             ]
            ],
            "type": "heatmap"
           }
          ],
          "heatmapgl": [
           {
            "colorbar": {
             "outlinewidth": 0,
             "ticks": ""
            },
            "colorscale": [
             [
              0,
              "#0d0887"
             ],
             [
              0.1111111111111111,
              "#46039f"
             ],
             [
              0.2222222222222222,
              "#7201a8"
             ],
             [
              0.3333333333333333,
              "#9c179e"
             ],
             [
              0.4444444444444444,
              "#bd3786"
             ],
             [
              0.5555555555555556,
              "#d8576b"
             ],
             [
              0.6666666666666666,
              "#ed7953"
             ],
             [
              0.7777777777777778,
              "#fb9f3a"
             ],
             [
              0.8888888888888888,
              "#fdca26"
             ],
             [
              1,
              "#f0f921"
             ]
            ],
            "type": "heatmapgl"
           }
          ],
          "histogram": [
           {
            "marker": {
             "pattern": {
              "fillmode": "overlay",
              "size": 10,
              "solidity": 0.2
             }
            },
            "type": "histogram"
           }
          ],
          "histogram2d": [
           {
            "colorbar": {
             "outlinewidth": 0,
             "ticks": ""
            },
            "colorscale": [
             [
              0,
              "#0d0887"
             ],
             [
              0.1111111111111111,
              "#46039f"
             ],
             [
              0.2222222222222222,
              "#7201a8"
             ],
             [
              0.3333333333333333,
              "#9c179e"
             ],
             [
              0.4444444444444444,
              "#bd3786"
             ],
             [
              0.5555555555555556,
              "#d8576b"
             ],
             [
              0.6666666666666666,
              "#ed7953"
             ],
             [
              0.7777777777777778,
              "#fb9f3a"
             ],
             [
              0.8888888888888888,
              "#fdca26"
             ],
             [
              1,
              "#f0f921"
             ]
            ],
            "type": "histogram2d"
           }
          ],
          "histogram2dcontour": [
           {
            "colorbar": {
             "outlinewidth": 0,
             "ticks": ""
            },
            "colorscale": [
             [
              0,
              "#0d0887"
             ],
             [
              0.1111111111111111,
              "#46039f"
             ],
             [
              0.2222222222222222,
              "#7201a8"
             ],
             [
              0.3333333333333333,
              "#9c179e"
             ],
             [
              0.4444444444444444,
              "#bd3786"
             ],
             [
              0.5555555555555556,
              "#d8576b"
             ],
             [
              0.6666666666666666,
              "#ed7953"
             ],
             [
              0.7777777777777778,
              "#fb9f3a"
             ],
             [
              0.8888888888888888,
              "#fdca26"
             ],
             [
              1,
              "#f0f921"
             ]
            ],
            "type": "histogram2dcontour"
           }
          ],
          "mesh3d": [
           {
            "colorbar": {
             "outlinewidth": 0,
             "ticks": ""
            },
            "type": "mesh3d"
           }
          ],
          "parcoords": [
           {
            "line": {
             "colorbar": {
              "outlinewidth": 0,
              "ticks": ""
             }
            },
            "type": "parcoords"
           }
          ],
          "pie": [
           {
            "automargin": true,
            "type": "pie"
           }
          ],
          "scatter": [
           {
            "fillpattern": {
             "fillmode": "overlay",
             "size": 10,
             "solidity": 0.2
            },
            "type": "scatter"
           }
          ],
          "scatter3d": [
           {
            "line": {
             "colorbar": {
              "outlinewidth": 0,
              "ticks": ""
             }
            },
            "marker": {
             "colorbar": {
              "outlinewidth": 0,
              "ticks": ""
             }
            },
            "type": "scatter3d"
           }
          ],
          "scattercarpet": [
           {
            "marker": {
             "colorbar": {
              "outlinewidth": 0,
              "ticks": ""
             }
            },
            "type": "scattercarpet"
           }
          ],
          "scattergeo": [
           {
            "marker": {
             "colorbar": {
              "outlinewidth": 0,
              "ticks": ""
             }
            },
            "type": "scattergeo"
           }
          ],
          "scattergl": [
           {
            "marker": {
             "colorbar": {
              "outlinewidth": 0,
              "ticks": ""
             }
            },
            "type": "scattergl"
           }
          ],
          "scattermapbox": [
           {
            "marker": {
             "colorbar": {
              "outlinewidth": 0,
              "ticks": ""
             }
            },
            "type": "scattermapbox"
           }
          ],
          "scatterpolar": [
           {
            "marker": {
             "colorbar": {
              "outlinewidth": 0,
              "ticks": ""
             }
            },
            "type": "scatterpolar"
           }
          ],
          "scatterpolargl": [
           {
            "marker": {
             "colorbar": {
              "outlinewidth": 0,
              "ticks": ""
             }
            },
            "type": "scatterpolargl"
           }
          ],
          "scatterternary": [
           {
            "marker": {
             "colorbar": {
              "outlinewidth": 0,
              "ticks": ""
             }
            },
            "type": "scatterternary"
           }
          ],
          "surface": [
           {
            "colorbar": {
             "outlinewidth": 0,
             "ticks": ""
            },
            "colorscale": [
             [
              0,
              "#0d0887"
             ],
             [
              0.1111111111111111,
              "#46039f"
             ],
             [
              0.2222222222222222,
              "#7201a8"
             ],
             [
              0.3333333333333333,
              "#9c179e"
             ],
             [
              0.4444444444444444,
              "#bd3786"
             ],
             [
              0.5555555555555556,
              "#d8576b"
             ],
             [
              0.6666666666666666,
              "#ed7953"
             ],
             [
              0.7777777777777778,
              "#fb9f3a"
             ],
             [
              0.8888888888888888,
              "#fdca26"
             ],
             [
              1,
              "#f0f921"
             ]
            ],
            "type": "surface"
           }
          ],
          "table": [
           {
            "cells": {
             "fill": {
              "color": "#EBF0F8"
             },
             "line": {
              "color": "white"
             }
            },
            "header": {
             "fill": {
              "color": "#C8D4E3"
             },
             "line": {
              "color": "white"
             }
            },
            "type": "table"
           }
          ]
         },
         "layout": {
          "annotationdefaults": {
           "arrowcolor": "#2a3f5f",
           "arrowhead": 0,
           "arrowwidth": 1
          },
          "autotypenumbers": "strict",
          "coloraxis": {
           "colorbar": {
            "outlinewidth": 0,
            "ticks": ""
           }
          },
          "colorscale": {
           "diverging": [
            [
             0,
             "#8e0152"
            ],
            [
             0.1,
             "#c51b7d"
            ],
            [
             0.2,
             "#de77ae"
            ],
            [
             0.3,
             "#f1b6da"
            ],
            [
             0.4,
             "#fde0ef"
            ],
            [
             0.5,
             "#f7f7f7"
            ],
            [
             0.6,
             "#e6f5d0"
            ],
            [
             0.7,
             "#b8e186"
            ],
            [
             0.8,
             "#7fbc41"
            ],
            [
             0.9,
             "#4d9221"
            ],
            [
             1,
             "#276419"
            ]
           ],
           "sequential": [
            [
             0,
             "#0d0887"
            ],
            [
             0.1111111111111111,
             "#46039f"
            ],
            [
             0.2222222222222222,
             "#7201a8"
            ],
            [
             0.3333333333333333,
             "#9c179e"
            ],
            [
             0.4444444444444444,
             "#bd3786"
            ],
            [
             0.5555555555555556,
             "#d8576b"
            ],
            [
             0.6666666666666666,
             "#ed7953"
            ],
            [
             0.7777777777777778,
             "#fb9f3a"
            ],
            [
             0.8888888888888888,
             "#fdca26"
            ],
            [
             1,
             "#f0f921"
            ]
           ],
           "sequentialminus": [
            [
             0,
             "#0d0887"
            ],
            [
             0.1111111111111111,
             "#46039f"
            ],
            [
             0.2222222222222222,
             "#7201a8"
            ],
            [
             0.3333333333333333,
             "#9c179e"
            ],
            [
             0.4444444444444444,
             "#bd3786"
            ],
            [
             0.5555555555555556,
             "#d8576b"
            ],
            [
             0.6666666666666666,
             "#ed7953"
            ],
            [
             0.7777777777777778,
             "#fb9f3a"
            ],
            [
             0.8888888888888888,
             "#fdca26"
            ],
            [
             1,
             "#f0f921"
            ]
           ]
          },
          "colorway": [
           "#636efa",
           "#EF553B",
           "#00cc96",
           "#ab63fa",
           "#FFA15A",
           "#19d3f3",
           "#FF6692",
           "#B6E880",
           "#FF97FF",
           "#FECB52"
          ],
          "font": {
           "color": "#2a3f5f"
          },
          "geo": {
           "bgcolor": "white",
           "lakecolor": "white",
           "landcolor": "#E5ECF6",
           "showlakes": true,
           "showland": true,
           "subunitcolor": "white"
          },
          "hoverlabel": {
           "align": "left"
          },
          "hovermode": "closest",
          "mapbox": {
           "style": "light"
          },
          "paper_bgcolor": "white",
          "plot_bgcolor": "#E5ECF6",
          "polar": {
           "angularaxis": {
            "gridcolor": "white",
            "linecolor": "white",
            "ticks": ""
           },
           "bgcolor": "#E5ECF6",
           "radialaxis": {
            "gridcolor": "white",
            "linecolor": "white",
            "ticks": ""
           }
          },
          "scene": {
           "xaxis": {
            "backgroundcolor": "#E5ECF6",
            "gridcolor": "white",
            "gridwidth": 2,
            "linecolor": "white",
            "showbackground": true,
            "ticks": "",
            "zerolinecolor": "white"
           },
           "yaxis": {
            "backgroundcolor": "#E5ECF6",
            "gridcolor": "white",
            "gridwidth": 2,
            "linecolor": "white",
            "showbackground": true,
            "ticks": "",
            "zerolinecolor": "white"
           },
           "zaxis": {
            "backgroundcolor": "#E5ECF6",
            "gridcolor": "white",
            "gridwidth": 2,
            "linecolor": "white",
            "showbackground": true,
            "ticks": "",
            "zerolinecolor": "white"
           }
          },
          "shapedefaults": {
           "line": {
            "color": "#2a3f5f"
           }
          },
          "ternary": {
           "aaxis": {
            "gridcolor": "white",
            "linecolor": "white",
            "ticks": ""
           },
           "baxis": {
            "gridcolor": "white",
            "linecolor": "white",
            "ticks": ""
           },
           "bgcolor": "#E5ECF6",
           "caxis": {
            "gridcolor": "white",
            "linecolor": "white",
            "ticks": ""
           }
          },
          "title": {
           "x": 0.05
          },
          "xaxis": {
           "automargin": true,
           "gridcolor": "white",
           "linecolor": "white",
           "ticks": "",
           "title": {
            "standoff": 15
           },
           "zerolinecolor": "white",
           "zerolinewidth": 2
          },
          "yaxis": {
           "automargin": true,
           "gridcolor": "white",
           "linecolor": "white",
           "ticks": "",
           "title": {
            "standoff": 15
           },
           "zerolinecolor": "white",
           "zerolinewidth": 2
          }
         }
        },
        "title": {
         "text": "Colored by Patient ID"
        },
        "width": 800,
        "xaxis": {
         "anchor": "y",
         "domain": [
          0,
          1
         ],
         "title": {
          "text": "PC1"
         }
        },
        "yaxis": {
         "anchor": "x",
         "domain": [
          0,
          1
         ],
         "title": {
          "text": "PC2"
         }
        }
       }
      },
      "text/html": [
       "<div>                            <div id=\"277c0557-90fd-4691-8ed4-ed288ab6235f\" class=\"plotly-graph-div\" style=\"height:800px; width:800px;\"></div>            <script type=\"text/javascript\">                require([\"plotly\"], function(Plotly) {                    window.PLOTLYENV=window.PLOTLYENV || {};                                    if (document.getElementById(\"277c0557-90fd-4691-8ed4-ed288ab6235f\")) {                    Plotly.newPlot(                        \"277c0557-90fd-4691-8ed4-ed288ab6235f\",                        [{\"customdata\":[[\"C0000613\",\"EUR\",\"0.98\",\"SAS\",\"0.0081\"],[\"C0102193\",\"EUR\",\"0.96\",\"AMR\",\"0.018\"],[\"C0171053\",\"EUR\",\"0.94\",\"AMR\",\"0.033\"],[\"C0205079\",\"EUR\",\"0.97\",\"SAS\",\"0.017\"],[\"C0716317\",\"EUR\",\"0.96\",\"SAS\",\"0.021\"],[\"C0697204\",\"EUR\",\"0.96\",\"SAS\",\"0.03\"],[\"C0323527\",\"EUR\",\"0.92\",\"AMR\",\"0.04\"],[\"C0229254\",\"EUR\",\"0.96\",\"SAS\",\"0.023\"],[\"C0814135\",\"EUR\",\"0.88\",\"SAS\",\"0.057\"],[\"C0080595\",\"EUR\",\"0.9\",\"SAS\",\"0.07\"],[\"C0305012\",\"EUR\",\"0.84\",\"SAS\",\"0.082\"],[\"C0968806\",\"EUR\",\"0.98\",\"SAS\",\"0.011\"],[\"C0506852\",\"EUR\",\"0.97\",\"SAS\",\"0.015\"],[\"C0648474\",\"EUR\",\"0.91\",\"SAS\",\"0.064\"],[\"C0915694\",\"EUR\",\"0.88\",\"SAS\",\"0.066\"],[\"C0869297\",\"EUR\",\"0.95\",\"SAS\",\"0.027\"],[\"C0971388\",\"EUR\",\"0.63\",\"SAS\",\"0.26\"],[\"C0745818\",\"EUR\",\"0.83\",\"SAS\",\"0.13\"],[\"C0384466\",\"EUR\",\"0.95\",\"AMR\",\"0.03\"],[\"C0186076\",\"EUR\",\"0.97\",\"SAS\",\"0.016\"],[\"C0790760\",\"EUR\",\"0.88\",\"SAS\",\"0.057\"],[\"C0982934\",\"EUR\",\"0.96\",\"AMR\",\"0.026\"],[\"C0457844\",\"EUR\",\"0.93\",\"AMR\",\"0.028\"],[\"C0881093\",\"EUR\",\"0.95\",\"SAS\",\"0.023\"],[\"C0613900\",\"EUR\",\"0.88\",\"SAS\",\"0.083\"],[\"C0250005\",\"EUR\",\"0.93\",\"AMR\",\"0.044\"],[\"C0801578\",\"EUR\",\"0.93\",\"SAS\",\"0.034\"],[\"C0953478_B\",\"EUR\",\"0.95\",\"AMR\",\"0.02\"],[\"C0475692\",\"EUR\",\"0.95\",\"AMR\",\"0.028\"],[\"C0810521\",\"EUR\",\"0.98\",\"AMR\",\"0.0083\"],[\"C0940211\",\"EUR\",\"0.98\",\"AMR\",\"0.0077\"],[\"C0323438\",\"EUR\",\"0.98\",\"AMR\",\"0.01\"],[\"C0774765\",\"EUR\",\"0.93\",\"SAS\",\"0.029\"],[\"C0220606\",\"EUR\",\"0.96\",\"SAS\",\"0.018\"],[\"C0815217\",\"EUR\",\"0.97\",\"AMR\",\"0.017\"],[\"C0175376\",\"EUR\",\"0.93\",\"SAS\",\"0.048\"],[\"C0047775\",\"EUR\",\"0.91\",\"AMR\",\"0.044\"],[\"C0776135\",\"EUR\",\"0.97\",\"SAS\",\"0.021\"],[\"C0125692\",\"EUR\",\"0.98\",\"AMR\",\"0.011\"],[\"C0551561\",\"EUR\",\"0.96\",\"SAS\",\"0.023\"],[\"C0973809\",\"EUR\",\"0.95\",\"AMR\",\"0.021\"],[\"C0478009\",\"EUR\",\"0.91\",\"SAS\",\"0.053\"],[\"C0737742\",\"EUR\",\"0.96\",\"SAS\",\"0.019\"],[\"C0301621\",\"EUR\",\"0.98\",\"SAS\",\"0.013\"],[\"C0747818\",\"EUR\",\"0.95\",\"SAS\",\"0.019\"],[\"C0310438\",\"EUR\",\"0.97\",\"SAS\",\"0.013\"],[\"C0898730\",\"EUR\",\"0.91\",\"AMR\",\"0.04\"],[\"C0813775\",\"EUR\",\"0.94\",\"SAS\",\"0.036\"],[\"C0996531\",\"EUR\",\"0.94\",\"SAS\",\"0.035\"],[\"C0282724\",\"EUR\",\"0.48\",\"SAS\",\"0.38\"],[\"C0921762\",\"EUR\",\"0.92\",\"AMR\",\"0.033\"],[\"C0536477\",\"EUR\",\"0.94\",\"SAS\",\"0.035\"],[\"C0954932\",\"EUR\",\"0.97\",\"AMR\",\"0.015\"],[\"C0953478_A\",\"EUR\",\"0.95\",\"AMR\",\"0.02\"],[\"C0084844\",\"EUR\",\"0.82\",\"SAS\",\"0.13\"],[\"C0755223\",\"EUR\",\"0.95\",\"SAS\",\"0.031\"],[\"C0773447\",\"EUR\",\"0.95\",\"SAS\",\"0.029\"],[\"C0770246\",\"EUR\",\"0.95\",\"AMR\",\"0.023\"],[\"C0462055\",\"EUR\",\"0.96\",\"AMR\",\"0.016\"],[\"C0291197\",\"EUR\",\"0.94\",\"SAS\",\"0.032\"],[\"C0365146\",\"EUR\",\"0.49\",\"SAS\",\"0.35\"],[\"C0047921\",\"EUR\",\"0.89\",\"SAS\",\"0.08\"],[\"C0606661\",\"EUR\",\"0.97\",\"AMR\",\"0.014\"],[\"C0589344\",\"EUR\",\"0.93\",\"SAS\",\"0.031\"],[\"C0549991\",\"EUR\",\"0.95\",\"AMR\",\"0.021\"],[\"C0661301\",\"EUR\",\"0.97\",\"SAS\",\"0.011\"],[\"C0539635\",\"EUR\",\"0.89\",\"SAS\",\"0.082\"],[\"C0430692\",\"EUR\",\"0.96\",\"AMR\",\"0.018\"],[\"C0490359\",\"EUR\",\"0.98\",\"SAS\",\"0.0095\"],[\"C0323408\",\"EUR\",\"0.97\",\"SAS\",\"0.012\"],[\"C0796853\",\"EUR\",\"0.97\",\"SAS\",\"0.015\"],[\"C0407432\",\"EUR\",\"0.9\",\"SAS\",\"0.05\"],[\"C0681808\",\"EUR\",\"0.96\",\"SAS\",\"0.019\"],[\"C0241248\",\"EUR\",\"0.98\",\"SAS\",\"0.0078\"],[\"C0994645\",\"EAS\",\"0.96\",\"SAS\",\"0.018\"],[\"C0286319\",\"EUR\",\"0.98\",\"AMR\",\"0.0099\"],[\"C0388329\",\"EUR\",\"0.93\",\"SAS\",\"0.046\"],[\"C0957033\",\"SAS\",\"0.72\",\"EUR\",\"0.18\"],[\"C0987880\",\"EUR\",\"0.88\",\"SAS\",\"0.082\"],[\"C0450044\",\"EUR\",\"0.98\",\"AMR\",\"0.0084\"],[\"C0090573\",\"EUR\",\"0.94\",\"SAS\",\"0.035\"],[\"C0905309\",\"EUR\",\"0.95\",\"SAS\",\"0.028\"],[\"C0789756\",\"EUR\",\"0.89\",\"SAS\",\"0.063\"],[\"C0808631\",\"EUR\",\"0.95\",\"AMR\",\"0.017\"],[\"C0403428\",\"EUR\",\"0.83\",\"SAS\",\"0.11\"],[\"C0403611\",\"EUR\",\"0.95\",\"AMR\",\"0.024\"],[\"C0608848\",\"EUR\",\"0.85\",\"SAS\",\"0.11\"],[\"C0445352\",\"EUR\",\"0.98\",\"AMR\",\"0.0074\"],[\"C0257429\",\"EUR\",\"0.86\",\"SAS\",\"0.066\"],[\"C0252881\",\"EUR\",\"0.88\",\"SAS\",\"0.094\"],[\"C0987688\",\"EUR\",\"0.86\",\"SAS\",\"0.11\"],[\"C0094496\",\"EUR\",\"0.9\",\"SAS\",\"0.078\"],[\"C0768621\",\"EUR\",\"0.97\",\"SAS\",\"0.014\"],[\"C0111335\",\"EUR\",\"0.94\",\"AMR\",\"0.026\"],[\"C0709561\",\"EAS\",\"0.39\",\"AMR\",\"0.32\"],[\"C0973724\",\"EUR\",\"0.86\",\"SAS\",\"0.09\"],[\"C0658349\",\"EUR\",\"0.98\",\"SAS\",\"0.011\"],[\"C0252536\",\"EUR\",\"0.96\",\"SAS\",\"0.02\"],[\"C0175736\",\"EUR\",\"0.95\",\"AMR\",\"0.025\"],[\"C0686667\",\"EUR\",\"0.85\",\"SAS\",\"0.12\"],[\"C0057435\",\"EUR\",\"0.96\",\"AMR\",\"0.022\"],[\"C0949895\",\"EUR\",\"0.92\",\"SAS\",\"0.04\"],[\"C0871465\",\"EUR\",\"0.9\",\"SAS\",\"0.072\"],[\"C0425008\",\"EUR\",\"0.74\",\"AMR\",\"0.18\"],[\"C0040823\",\"EUR\",\"0.96\",\"AMR\",\"0.016\"],[\"C0791932\",\"EUR\",\"0.95\",\"SAS\",\"0.027\"],[\"C0657308\",\"EUR\",\"0.88\",\"SAS\",\"0.074\"],[\"C0355369\",\"EUR\",\"0.96\",\"SAS\",\"0.022\"],[\"C0267788\",\"EUR\",\"0.94\",\"SAS\",\"0.037\"],[\"C0129778\",\"EUR\",\"0.97\",\"SAS\",\"0.011\"],[\"C0912641\",\"EUR\",\"0.89\",\"SAS\",\"0.068\"]],\"hovertemplate\":\"\\u003cb\\u003e%{hovertext}\\u003c\\u002fb\\u003e\\u003cbr\\u003e\\u003cbr\\u003eID_Group=C0\\u003cbr\\u003ePC1=%{x}\\u003cbr\\u003ePC2=%{y}\\u003cbr\\u003eSample=%{customdata[0]}\\u003cbr\\u003ePred=%{customdata[1]}\\u003cbr\\u003ePrimary_Perc=%{customdata[2]}\\u003cbr\\u003eSecond=%{customdata[3]}\\u003cbr\\u003eSecond_Perc=%{customdata[4]}\\u003cextra\\u003e\\u003c\\u002fextra\\u003e\",\"hovertext\":[\"C0000613\",\"C0102193\",\"C0171053\",\"C0205079\",\"C0716317\",\"C0697204\",\"C0323527\",\"C0229254\",\"C0814135\",\"C0080595\",\"C0305012\",\"C0968806\",\"C0506852\",\"C0648474\",\"C0915694\",\"C0869297\",\"C0971388\",\"C0745818\",\"C0384466\",\"C0186076\",\"C0790760\",\"C0982934\",\"C0457844\",\"C0881093\",\"C0613900\",\"C0250005\",\"C0801578\",\"C0953478_B\",\"C0475692\",\"C0810521\",\"C0940211\",\"C0323438\",\"C0774765\",\"C0220606\",\"C0815217\",\"C0175376\",\"C0047775\",\"C0776135\",\"C0125692\",\"C0551561\",\"C0973809\",\"C0478009\",\"C0737742\",\"C0301621\",\"C0747818\",\"C0310438\",\"C0898730\",\"C0813775\",\"C0996531\",\"C0282724\",\"C0921762\",\"C0536477\",\"C0954932\",\"C0953478_A\",\"C0084844\",\"C0755223\",\"C0773447\",\"C0770246\",\"C0462055\",\"C0291197\",\"C0365146\",\"C0047921\",\"C0606661\",\"C0589344\",\"C0549991\",\"C0661301\",\"C0539635\",\"C0430692\",\"C0490359\",\"C0323408\",\"C0796853\",\"C0407432\",\"C0681808\",\"C0241248\",\"C0994645\",\"C0286319\",\"C0388329\",\"C0957033\",\"C0987880\",\"C0450044\",\"C0090573\",\"C0905309\",\"C0789756\",\"C0808631\",\"C0403428\",\"C0403611\",\"C0608848\",\"C0445352\",\"C0257429\",\"C0252881\",\"C0987688\",\"C0094496\",\"C0768621\",\"C0111335\",\"C0709561\",\"C0973724\",\"C0658349\",\"C0252536\",\"C0175736\",\"C0686667\",\"C0057435\",\"C0949895\",\"C0871465\",\"C0425008\",\"C0040823\",\"C0791932\",\"C0657308\",\"C0355369\",\"C0267788\",\"C0129778\",\"C0912641\"],\"legendgroup\":\"C0\",\"marker\":{\"color\":\"#636efa\",\"symbol\":\"circle\"},\"mode\":\"markers\",\"name\":\"C0\",\"orientation\":\"v\",\"showlegend\":true,\"x\":[-10.999114118417651,-11.564812828335537,-10.940747050572767,-12.067427727415241,-12.29128582792721,-10.855703632888536,-10.520527839685299,-11.974642132413578,-10.175505841034424,-9.337275776360363,-8.916121299132119,-11.68543038189844,-11.574726361463155,-16.09175216985148,-8.240151385275691,-13.573080994627247,-4.237380590868229,-11.175802049672612,-11.725516238690114,-14.363520594068685,-10.86596722057433,-11.577106374992296,-10.003495388687961,-10.539543572618742,-10.023754729754973,-9.987775680702049,-10.003745046652192,-12.482533831842485,-12.563213093897554,-13.209344060458731,-12.542314503048372,-13.742313026159882,-9.286870126508445,-11.033741840146973,-11.597000237354116,-10.652799139669725,-7.455693741982765,-11.696646345278978,-10.777700862206784,-11.94341041696362,-8.793894061325636,-8.191564456920979,-10.771327769927765,-12.425000424450095,-11.137054866079382,-16.164729826400173,-6.985829394800281,-11.334691652115678,-11.953372927297014,-7.683967182098022,-10.650751090223,-12.134139649230589,-12.588885086128451,-12.446891515299235,-9.394121717987499,-13.68157787363227,-12.115447691880556,-10.716323031147912,-9.13103090246781,-10.557310224424164,-4.4452590041947415,-11.736615870829867,-12.223369829338875,-10.530040640329489,-10.057013958805397,-11.421628770179936,-11.630314133348746,-10.805451416693021,-12.77075785237144,-12.737739606507567,-11.176668714976898,-11.961474739325892,-12.97438652892235,-15.053804416021825,42.55714495396771,-14.60187066163592,-15.177153748560901,-2.7208302298882976,-10.801282431854823,-12.921920935660635,-11.894376450524389,-12.159126400456147,-11.484658398900992,-11.680066304610254,-10.553370371386746,-12.768417387081964,-10.0678550023502,-13.907247661881573,-6.9458301543919125,-11.044332729419084,-11.627481656259015,-11.554323333337898,-9.607467749812693,-13.379136277479182,20.27134298915536,-7.727561997055869,-13.928740455476184,-8.984390425312908,-9.295237150470781,-10.109862120594578,-13.09062248822962,-12.125674689765788,-9.486940809916975,-8.217737131417586,-13.754081760577304,-12.696605480248442,-9.827509496066314,-12.776535550530403,-11.762910485367899,-11.574944220219999,-11.65023771563973],\"xaxis\":\"x\",\"y\":[-3.011193470053414,-4.910069512134248,-2.922817470637642,-3.0033426114819335,-3.417139640509752,-4.810841783334903,-3.8039384402689653,-4.2760298068585145,-2.45487718367104,-3.5442595442329545,-3.927771711415913,-3.329415064933793,-4.855522677247226,-2.9086436949758547,-4.6189646822419,-5.467125502784103,-2.04170623053448,-4.198518725793714,-3.3870217319994564,-2.6731652894799747,-3.706810497476065,-4.0148893049458945,-3.6655374479677905,-2.345314213046776,-3.487371742921069,-5.384165384732747,-2.281128393308284,-1.9768784529675265,-3.7428165139261935,-4.902553695294636,-4.587111503858498,-4.865213740147953,-4.457076243335971,-3.7111828209529434,-5.422581346268569,-4.733834407304954,-4.908785960657235,-3.7869089284234794,-2.8275530164784195,-5.315423440125848,-4.22885322846536,-4.864461761719128,-2.8412789143462205,-1.809501957591296,-3.2838056961197784,-3.892532253579216,-4.504055360379439,-2.6298900429849685,-3.2379154809761777,9.795458874665139,-0.9511175465842039,-4.3554067916238814,-4.372404933790519,-1.5942327893361845,-6.181360769689336,-6.0848872553451905,-4.205686924311934,-2.7285753450438284,-4.008272147840265,-3.67855206870727,4.120499691597211,-4.133844445308835,-2.522126256674585,-3.809063736344863,-4.394053728375792,-4.799780955756472,-5.855870129045468,-4.014896414785735,-4.941633365704525,-3.1140253032583147,-4.331553099579419,-3.980617934494227,-3.1565786150722515,-6.252164095148977,-3.258154196457758,-4.359548464041307,-4.235165568715219,-0.8004589207303002,-2.8997199951432457,-4.4762994138812635,-4.34493458190069,-2.644381545642626,-2.6787494922720314,-3.219093709727721,-3.2852236148600324,-3.2102514363474888,-1.8821175137340378,-3.895159700069821,-3.235335246501294,-3.5204724638257288,-4.839842891785936,-5.0627535552485226,-3.051269330356541,-4.687823574851945,-4.470635368758443,-3.5477584894713483,-3.9144880423443538,-3.699110258999253,-3.9565140896658093,-2.8200257602634395,-2.9869963985287495,-4.209920908446603,-2.2433669858590783,-0.718452890413633,-2.4445442327290228,-4.051148360057149,-3.270468716250146,-3.278942216200562,-4.8729906920029356,-1.7872431532739181,-3.4640337005015938],\"yaxis\":\"y\",\"type\":\"scatter\"},{\"customdata\":[[\"C7661059\",\"EAS\",\"0.98\",\"AMR\",\"0.012\"],[\"C7722923\",\"EAS\",\"0.96\",\"SAS\",\"0.013\"],[\"C7488119\",\"EUR\",\"0.94\",\"SAS\",\"0.032\"],[\"C7719688_B\",\"EUR\",\"0.78\",\"SAS\",\"0.15\"],[\"C7272482\",\"EUR\",\"0.97\",\"AMR\",\"0.011\"],[\"C7419040\",\"EUR\",\"0.89\",\"SAS\",\"0.075\"],[\"C7515229\",\"EUR\",\"0.96\",\"SAS\",\"0.022\"],[\"C7774321\",\"EUR\",\"0.94\",\"SAS\",\"0.03\"],[\"C7721233\",\"EAS\",\"0.96\",\"AMR\",\"0.017\"],[\"C7922853\",\"EUR\",\"0.96\",\"SAS\",\"0.018\"],[\"C7873931\",\"EUR\",\"0.96\",\"SAS\",\"0.019\"],[\"C7037290\",\"EUR\",\"0.9\",\"SAS\",\"0.062\"],[\"C7564617\",\"EUR\",\"0.87\",\"SAS\",\"0.09\"],[\"C7899782\",\"EUR\",\"0.96\",\"AMR\",\"0.019\"],[\"C7900996\",\"EUR\",\"0.8\",\"SAS\",\"0.092\"],[\"C7775742\",\"EUR\",\"0.93\",\"SAS\",\"0.032\"],[\"C7489236\",\"EUR\",\"0.9\",\"SAS\",\"0.065\"],[\"C7854608\",\"EUR\",\"0.98\",\"SAS\",\"0.0071\"],[\"C7812934\",\"EUR\",\"0.94\",\"AMR\",\"0.027\"],[\"C7526923\",\"EAS\",\"0.97\",\"AMR\",\"0.012\"],[\"C7214227\",\"EUR\",\"0.89\",\"SAS\",\"0.063\"],[\"C7829444\",\"EUR\",\"0.86\",\"SAS\",\"0.097\"],[\"C7749291\",\"AFR\",\"0.51\",\"SAS\",\"0.18\"],[\"C7343848\",\"EUR\",\"0.98\",\"AMR\",\"0.0081\"],[\"C7724650\",\"EUR\",\"0.91\",\"SAS\",\"0.041\"],[\"C7555611\",\"EUR\",\"0.84\",\"SAS\",\"0.12\"],[\"C7873494\",\"EUR\",\"0.97\",\"SAS\",\"0.014\"],[\"C7355308\",\"EUR\",\"0.96\",\"SAS\",\"0.019\"],[\"C7249530\",\"EUR\",\"0.85\",\"SAS\",\"0.11\"],[\"C7466760\",\"EUR\",\"0.9\",\"SAS\",\"0.065\"],[\"C7563157\",\"EUR\",\"0.93\",\"SAS\",\"0.034\"],[\"C7812195\",\"EUR\",\"0.97\",\"AMR\",\"0.012\"],[\"C7626599\",\"EUR\",\"0.94\",\"SAS\",\"0.035\"],[\"C7753437\",\"EUR\",\"0.95\",\"SAS\",\"0.025\"],[\"C7321354\",\"EAS\",\"0.98\",\"AMR\",\"0.0052\"],[\"C7442839\",\"EUR\",\"0.98\",\"SAS\",\"0.0079\"],[\"C7044638\",\"SAS\",\"0.81\",\"AMR\",\"0.09\"],[\"C7719688_A\",\"EUR\",\"0.78\",\"SAS\",\"0.15\"],[\"C7664882\",\"EUR\",\"0.96\",\"SAS\",\"0.013\"],[\"C7731610\",\"EUR\",\"0.95\",\"SAS\",\"0.02\"],[\"C7680316\",\"SAS\",\"0.87\",\"AMR\",\"0.076\"],[\"C7575592\",\"EUR\",\"0.95\",\"AMR\",\"0.025\"],[\"C7048024\",\"EUR\",\"0.96\",\"AMR\",\"0.016\"],[\"C7244188\",\"EUR\",\"0.95\",\"SAS\",\"0.026\"],[\"C7931543\",\"EUR\",\"0.94\",\"SAS\",\"0.028\"],[\"C7989630\",\"EUR\",\"0.93\",\"AMR\",\"0.036\"],[\"C7797481\",\"EAS\",\"0.97\",\"AMR\",\"0.0093\"],[\"C7392071\",\"EUR\",\"0.98\",\"AMR\",\"0.0096\"],[\"C7560532\",\"EUR\",\"0.97\",\"SAS\",\"0.013\"],[\"C7900292\",\"EUR\",\"0.97\",\"SAS\",\"0.012\"],[\"C7580286\",\"EUR\",\"0.95\",\"SAS\",\"0.034\"],[\"C7128050\",\"EUR\",\"0.94\",\"SAS\",\"0.029\"],[\"C7425462\",\"EUR\",\"0.98\",\"AMR\",\"0.011\"],[\"C7202805\",\"AFR\",\"0.57\",\"AMR\",\"0.17\"],[\"C7405020\",\"EUR\",\"0.96\",\"SAS\",\"0.019\"],[\"C7893181\",\"EUR\",\"0.9\",\"AMR\",\"0.047\"],[\"C7952024\",\"EUR\",\"0.91\",\"SAS\",\"0.043\"],[\"C7952533\",\"EUR\",\"0.96\",\"AMR\",\"0.014\"],[\"C7964148\",\"EUR\",\"0.97\",\"SAS\",\"0.01\"],[\"C7486770\",\"EUR\",\"0.63\",\"SAS\",\"0.22\"],[\"C7166808\",\"SAS\",\"0.75\",\"AMR\",\"0.16\"],[\"C7259165\",\"EUR\",\"0.96\",\"AMR\",\"0.018\"],[\"C7769468\",\"EUR\",\"0.92\",\"SAS\",\"0.056\"],[\"C7231807\",\"EAS\",\"0.97\",\"AMR\",\"0.011\"],[\"C7991356\",\"EUR\",\"0.79\",\"SAS\",\"0.13\"],[\"C7777597\",\"EUR\",\"0.97\",\"SAS\",\"0.014\"],[\"C7557432\",\"EUR\",\"0.96\",\"SAS\",\"0.015\"],[\"C7860973\",\"EUR\",\"0.94\",\"AMR\",\"0.03\"],[\"C7256776\",\"SAS\",\"0.76\",\"AMR\",\"0.1\"],[\"C7163669\",\"EUR\",\"0.94\",\"AMR\",\"0.027\"],[\"C7787459\",\"EAS\",\"0.98\",\"AMR\",\"0.0066\"],[\"C7375657\",\"EUR\",\"0.97\",\"AMR\",\"0.014\"],[\"C7161606\",\"EUR\",\"0.93\",\"AMR\",\"0.034\"],[\"C7759848\",\"EUR\",\"0.46\",\"SAS\",\"0.45\"],[\"C7899426\",\"EUR\",\"0.89\",\"SAS\",\"0.064\"],[\"C7564817\",\"EUR\",\"0.98\",\"AMR\",\"0.0084\"],[\"C7069181\",\"EUR\",\"0.92\",\"SAS\",\"0.047\"],[\"C7770397\",\"EUR\",\"0.94\",\"SAS\",\"0.025\"],[\"C7861169\",\"EUR\",\"0.96\",\"AMR\",\"0.017\"],[\"C7051331\",\"EUR\",\"0.95\",\"SAS\",\"0.029\"],[\"C7728583\",\"EUR\",\"0.85\",\"SAS\",\"0.09\"],[\"C7543363\",\"EAS\",\"0.96\",\"AMR\",\"0.014\"],[\"C7606723\",\"EUR\",\"0.96\",\"SAS\",\"0.019\"],[\"C7670382\",\"EUR\",\"0.95\",\"SAS\",\"0.026\"],[\"C7574693\",\"EUR\",\"0.95\",\"SAS\",\"0.029\"],[\"C7075995\",\"EUR\",\"0.85\",\"SAS\",\"0.085\"],[\"C7558702\",\"EUR\",\"0.95\",\"AMR\",\"0.023\"],[\"C7671735_A\",\"SAS\",\"0.86\",\"AMR\",\"0.073\"],[\"C7337466\",\"EUR\",\"0.83\",\"SAS\",\"0.11\"],[\"C7725618\",\"EUR\",\"0.89\",\"SAS\",\"0.064\"],[\"C7934589\",\"EUR\",\"0.91\",\"SAS\",\"0.039\"],[\"C7551958\",\"EUR\",\"0.94\",\"SAS\",\"0.028\"],[\"C7531167\",\"EUR\",\"0.94\",\"AMR\",\"0.029\"],[\"C7138975\",\"EUR\",\"0.94\",\"SAS\",\"0.025\"],[\"C7307187\",\"EUR\",\"0.96\",\"SAS\",\"0.021\"],[\"C7112454\",\"EUR\",\"0.92\",\"SAS\",\"0.04\"],[\"C7191909\",\"EUR\",\"0.9\",\"SAS\",\"0.052\"],[\"C7095437\",\"EUR\",\"0.92\",\"SAS\",\"0.035\"],[\"C7792284\",\"EUR\",\"0.9\",\"SAS\",\"0.046\"],[\"C7873287\",\"EUR\",\"0.94\",\"SAS\",\"0.029\"],[\"C7851117\",\"EUR\",\"0.96\",\"AMR\",\"0.02\"],[\"C7900189\",\"EUR\",\"0.94\",\"SAS\",\"0.028\"],[\"C7596902\",\"EUR\",\"0.96\",\"AMR\",\"0.019\"],[\"C7860321\",\"EUR\",\"0.97\",\"SAS\",\"0.013\"],[\"C7800831\",\"EUR\",\"0.95\",\"SAS\",\"0.04\"],[\"C7774127\",\"EUR\",\"0.85\",\"SAS\",\"0.089\"],[\"C7556646\",\"EUR\",\"0.95\",\"SAS\",\"0.024\"],[\"C7696137\",\"EUR\",\"0.94\",\"SAS\",\"0.025\"],[\"C7674803\",\"EUR\",\"0.93\",\"SAS\",\"0.039\"],[\"C7364484\",\"EUR\",\"0.92\",\"SAS\",\"0.049\"],[\"C7133331\",\"AFR\",\"0.95\",\"SAS\",\"0.022\"],[\"C7241422\",\"EUR\",\"0.66\",\"SAS\",\"0.3\"],[\"C7352172\",\"EUR\",\"0.89\",\"SAS\",\"0.089\"],[\"C7862755\",\"EUR\",\"0.89\",\"SAS\",\"0.069\"],[\"C7796034\",\"EUR\",\"0.94\",\"SAS\",\"0.039\"],[\"C7978591\",\"EUR\",\"0.94\",\"SAS\",\"0.043\"],[\"C7750012\",\"EAS\",\"0.96\",\"AMR\",\"0.015\"],[\"C7755859\",\"EUR\",\"0.94\",\"SAS\",\"0.04\"],[\"C7975607\",\"EUR\",\"0.94\",\"SAS\",\"0.026\"],[\"C7317458\",\"EAS\",\"0.98\",\"AMR\",\"0.0082\"],[\"C7242024\",\"EUR\",\"0.97\",\"SAS\",\"0.012\"],[\"C7292533\",\"EUR\",\"0.97\",\"AMR\",\"0.016\"],[\"C7400164\",\"EUR\",\"0.91\",\"SAS\",\"0.065\"],[\"C7201722\",\"EUR\",\"0.9\",\"SAS\",\"0.045\"],[\"C7624145\",\"EUR\",\"0.74\",\"SAS\",\"0.15\"],[\"C7254952\",\"EUR\",\"0.96\",\"AMR\",\"0.015\"],[\"C7549733\",\"SAS\",\"0.95\",\"AMR\",\"0.024\"],[\"C7663753\",\"EUR\",\"0.96\",\"SAS\",\"0.021\"],[\"C7720398\",\"EUR\",\"0.99\",\"AMR\",\"0.0046\"],[\"C7797150\",\"EUR\",\"0.93\",\"SAS\",\"0.048\"],[\"C7446783\",\"EUR\",\"0.95\",\"SAS\",\"0.027\"],[\"C7744203\",\"EUR\",\"0.91\",\"SAS\",\"0.051\"],[\"C7420529\",\"EUR\",\"0.97\",\"AMR\",\"0.011\"],[\"C7615711\",\"EUR\",\"0.98\",\"AMR\",\"0.011\"],[\"C7671735_B\",\"SAS\",\"0.86\",\"AMR\",\"0.073\"],[\"C7262251\",\"EUR\",\"0.97\",\"SAS\",\"0.022\"],[\"C7880838\",\"EUR\",\"0.97\",\"AMR\",\"0.015\"],[\"C7123283\",\"EUR\",\"0.92\",\"SAS\",\"0.05\"],[\"C7273861\",\"EUR\",\"0.98\",\"AMR\",\"0.0061\"],[\"C7211784\",\"EUR\",\"0.92\",\"SAS\",\"0.042\"],[\"C7355851\",\"EUR\",\"0.96\",\"SAS\",\"0.018\"],[\"C7546689\",\"EAS\",\"0.94\",\"SAS\",\"0.026\"],[\"C7728571\",\"EUR\",\"0.95\",\"SAS\",\"0.022\"],[\"C7975717\",\"EUR\",\"0.96\",\"SAS\",\"0.02\"],[\"C7845278\",\"EAS\",\"0.98\",\"AMR\",\"0.0071\"],[\"C7075879\",\"EUR\",\"0.92\",\"SAS\",\"0.033\"],[\"C7337756\",\"EUR\",\"0.89\",\"SAS\",\"0.078\"],[\"C7256096\",\"EUR\",\"0.9\",\"SAS\",\"0.052\"],[\"C7667839\",\"SAS\",\"0.57\",\"EUR\",\"0.37\"],[\"C7942862\",\"EUR\",\"0.93\",\"SAS\",\"0.035\"],[\"C7561329\",\"EUR\",\"0.89\",\"SAS\",\"0.062\"],[\"C7917704\",\"EAS\",\"0.96\",\"AMR\",\"0.016\"],[\"C7575296\",\"EAS\",\"0.97\",\"AMR\",\"0.011\"],[\"C7631226\",\"EUR\",\"0.98\",\"AMR\",\"0.008\"],[\"C7874287\",\"EUR\",\"0.87\",\"SAS\",\"0.1\"],[\"C7935652\",\"EAS\",\"0.98\",\"AMR\",\"0.011\"],[\"C7171813\",\"EUR\",\"0.56\",\"AMR\",\"0.26\"],[\"C7599062\",\"EUR\",\"0.96\",\"SAS\",\"0.018\"],[\"C7256485\",\"EUR\",\"0.97\",\"SAS\",\"0.017\"]],\"hovertemplate\":\"\\u003cb\\u003e%{hovertext}\\u003c\\u002fb\\u003e\\u003cbr\\u003e\\u003cbr\\u003eID_Group=C7\\u003cbr\\u003ePC1=%{x}\\u003cbr\\u003ePC2=%{y}\\u003cbr\\u003eSample=%{customdata[0]}\\u003cbr\\u003ePred=%{customdata[1]}\\u003cbr\\u003ePrimary_Perc=%{customdata[2]}\\u003cbr\\u003eSecond=%{customdata[3]}\\u003cbr\\u003eSecond_Perc=%{customdata[4]}\\u003cextra\\u003e\\u003c\\u002fextra\\u003e\",\"hovertext\":[\"C7661059\",\"C7722923\",\"C7488119\",\"C7719688_B\",\"C7272482\",\"C7419040\",\"C7515229\",\"C7774321\",\"C7721233\",\"C7922853\",\"C7873931\",\"C7037290\",\"C7564617\",\"C7899782\",\"C7900996\",\"C7775742\",\"C7489236\",\"C7854608\",\"C7812934\",\"C7526923\",\"C7214227\",\"C7829444\",\"C7749291\",\"C7343848\",\"C7724650\",\"C7555611\",\"C7873494\",\"C7355308\",\"C7249530\",\"C7466760\",\"C7563157\",\"C7812195\",\"C7626599\",\"C7753437\",\"C7321354\",\"C7442839\",\"C7044638\",\"C7719688_A\",\"C7664882\",\"C7731610\",\"C7680316\",\"C7575592\",\"C7048024\",\"C7244188\",\"C7931543\",\"C7989630\",\"C7797481\",\"C7392071\",\"C7560532\",\"C7900292\",\"C7580286\",\"C7128050\",\"C7425462\",\"C7202805\",\"C7405020\",\"C7893181\",\"C7952024\",\"C7952533\",\"C7964148\",\"C7486770\",\"C7166808\",\"C7259165\",\"C7769468\",\"C7231807\",\"C7991356\",\"C7777597\",\"C7557432\",\"C7860973\",\"C7256776\",\"C7163669\",\"C7787459\",\"C7375657\",\"C7161606\",\"C7759848\",\"C7899426\",\"C7564817\",\"C7069181\",\"C7770397\",\"C7861169\",\"C7051331\",\"C7728583\",\"C7543363\",\"C7606723\",\"C7670382\",\"C7574693\",\"C7075995\",\"C7558702\",\"C7671735_A\",\"C7337466\",\"C7725618\",\"C7934589\",\"C7551958\",\"C7531167\",\"C7138975\",\"C7307187\",\"C7112454\",\"C7191909\",\"C7095437\",\"C7792284\",\"C7873287\",\"C7851117\",\"C7900189\",\"C7596902\",\"C7860321\",\"C7800831\",\"C7774127\",\"C7556646\",\"C7696137\",\"C7674803\",\"C7364484\",\"C7133331\",\"C7241422\",\"C7352172\",\"C7862755\",\"C7796034\",\"C7978591\",\"C7750012\",\"C7755859\",\"C7975607\",\"C7317458\",\"C7242024\",\"C7292533\",\"C7400164\",\"C7201722\",\"C7624145\",\"C7254952\",\"C7549733\",\"C7663753\",\"C7720398\",\"C7797150\",\"C7446783\",\"C7744203\",\"C7420529\",\"C7615711\",\"C7671735_B\",\"C7262251\",\"C7880838\",\"C7123283\",\"C7273861\",\"C7211784\",\"C7355851\",\"C7546689\",\"C7728571\",\"C7975717\",\"C7845278\",\"C7075879\",\"C7337756\",\"C7256096\",\"C7667839\",\"C7942862\",\"C7561329\",\"C7917704\",\"C7575296\",\"C7631226\",\"C7874287\",\"C7935652\",\"C7171813\",\"C7599062\",\"C7256485\"],\"legendgroup\":\"C7\",\"marker\":{\"color\":\"#EF553B\",\"symbol\":\"circle\"},\"mode\":\"markers\",\"name\":\"C7\",\"orientation\":\"v\",\"showlegend\":true,\"x\":[46.71276731908107,49.7297322938994,-14.186115010021611,-9.528108071437382,-11.675460664576411,-10.39528363102015,-11.221084965687,-12.885212321329142,43.600187934768805,-12.049474002335906,-13.310715713495485,-12.281833735760463,-9.848650835070009,-10.931705669076123,-9.661036508102365,-12.248043519219449,-12.023364235209687,-11.834115776501811,-11.788054906475214,48.869102931688516,-11.625043799185006,-8.264010201531217,5.879932387892381,-12.267663119989532,-7.9947681287914545,-10.668249054328191,-10.36033337462668,-12.048808860917134,-8.20053862922836,-9.385007478659839,-11.85838849909121,-11.31951036727215,-8.81815775062409,-8.86013682799973,45.16788248146439,-10.615037098815405,12.325414524326339,-9.837680661492287,-10.552444064365766,-12.697455133051738,3.067855002033199,-11.486135649791253,-10.738886843989654,-10.924164100216352,-11.542055199996065,-10.808892310396573,43.977355631183094,-13.278448472905144,-13.314004801261884,-10.799522607545443,-11.04433326622268,-11.59889482223159,-15.764885373083024,0.04226654938129052,-11.437918895559237,-9.237291234685456,-8.763143464574878,-11.321176015176876,-10.312960508225688,-14.745465367371645,3.414497274173817,-11.344328916670321,-13.063722186838373,49.67316465561685,-9.38663303071128,-10.715053842151166,-10.676737157080622,-10.951725698435979,12.60170086077272,-11.849246693462089,46.24367616796036,-9.225683151090582,-10.414466835957198,-8.551354025152053,-10.057110788332439,-11.877687020279753,-12.495144827173913,-11.577917712691946,-13.198075669801588,-10.975695131234957,-8.782361645878327,44.804022923724666,-12.425810502613079,-11.448992958536026,-11.489636586610539,-9.054386400833367,-9.76061311182649,10.261061446021001,-10.756774917304584,-6.8476321598457,-11.980281568577608,-11.179346297361036,-12.616110311738504,-13.863552247815742,-12.993070887891026,-12.013907470768636,-9.582402526578726,-12.308030143518408,-10.714175124459508,-9.476516917769041,-9.62364706086204,-10.90757161213988,-11.185029277301934,-10.228676257384171,-12.132375929663397,-8.988195032339261,-14.395719732409496,-9.31209798398513,-12.067589106842089,-11.869617026227788,4.399854131633642,-11.727498147887026,-12.178512484088778,-9.995197507889909,-13.852075907787347,-9.70339548654888,43.330738078559044,-14.119793615557073,-12.082531682285513,46.537655719602434,-10.8288683614304,-12.047534218150847,-11.820155501447976,-8.80485753893826,-5.65489472337974,-9.780181859746705,6.471116560812885,-13.703892614236615,-14.126365053523458,-10.633707491816486,-11.296662949589114,-11.714717134888904,-15.875943207909053,-12.272890392451956,10.742128418102846,-13.190092005581473,-10.384996090587329,-10.521012855571103,-9.31867966375286,-10.820992208231328,-12.840094163466446,42.11668280391771,-14.101315188428433,-14.719555403942003,46.40428320010055,-9.596054030039882,-10.923628704166218,-9.964674964274618,-7.419230820860153,-12.719403144748243,-7.908077522877977,44.52152605554723,45.17550939993738,-13.538240999612931,-9.982583433677183,46.9212136090591,-5.741062426896166,-14.371359699290126,-11.197423731534865],\"xaxis\":\"x\",\"y\":[-8.182759682962573,-4.28839694567422,-0.6634020607824768,-3.877761350271216,-4.267640110344833,-2.236483714735434,-3.101068190505443,-4.7372393588706085,-3.8497888108795557,-6.410312547264222,-3.0989300982761456,-0.9233239644869087,-4.817939819834113,-4.1900453328331215,4.790246665656246,-2.8189129718597195,-4.71825259016354,-3.2840475051530222,-4.4849872525898435,-5.698268309537463,-2.8798353419224134,0.424547435186663,51.2617504801551,-4.06725013672441,-3.112902420238349,-4.562262517745908,-3.9274874388606933,-3.248456032993701,-3.787859553218517,-3.9609634643443594,-5.009861491332584,-4.360892050818339,-4.868609457877444,-3.413438396478165,-5.292041926729208,-4.211092864083197,0.7976562596669331,-3.3705697410605877,-4.353533064435243,-4.393166322001943,-0.8348469040112871,-2.1781902936775692,-4.344515627192343,-3.08485936624974,-1.9573136454887237,-4.553987549352052,-3.731757293521065,-4.70218120501751,-2.7210359645769073,-4.690616122742366,-4.949367447076588,-4.185495694662393,-3.626029093113488,58.11233857590065,-4.669545462878475,-5.344261627565802,-3.9759722458163034,-3.4348260396435486,-4.95316911337605,-1.6021209146617144,-0.09873302040336919,-3.228332549402709,-3.100917092414436,-5.826879032433492,-3.307731363121707,-1.3945602391841132,-3.234200916838838,-2.4731537807309727,0.17854747601584944,-4.488336739874487,-4.44229287952127,-3.316477594751046,-4.757687333286626,1.208152528361546,-3.4448285046799456,-4.668016264723787,-3.28105103155314,-2.8212023484530393,-4.861655388195265,-0.3302820434709467,-2.266471888666986,-3.8528957142449984,-2.6019595555421855,-6.1419987010416,-1.1382065614484502,-4.954754112642907,-2.7425576706069856,0.19443756026938033,-2.023791755113521,-3.46648253758537,-5.023583375030726,-2.0339412456097694,-4.309688282885378,-3.1400943266847414,-5.446298308313817,-1.337273398001259,-4.925033427772245,-4.374754614811127,-4.4401255129207495,-2.4343743166369483,-5.008328274921493,-4.244353171457968,-4.5463921305226895,-4.358544488679174,-3.6883056969016996,-3.841250819550187,-3.7254256845389113,-3.8319731858221684,-5.107170163473975,-2.9963528111540865,69.8737405819156,-0.9913172937410332,-3.7601849981807343,3.008740774467672,-3.202895705215615,-4.2314584840047385,-3.1305531820365853,-3.3586380156828692,-2.252331600188452,-5.406906002789559,-2.287999878350883,-3.162590072118081,-4.09379452205969,-2.5134099679683994,20.257549056619066,-3.47234983827593,-0.6219591062768153,-2.4459389856817535,-5.851723844779099,-1.6702144988184053,-3.9145268870372747,-3.9206539545030736,-3.3371320891118903,-2.0698233151289256,0.5468792024322109,-4.499319202502576,-4.196350121994363,-3.9533489557007293,-4.939202871185329,-2.9588861813245493,-4.630352713276841,-3.2921596631415544,-1.447361254903191,-4.839915543738202,-5.800918299218447,-1.1305767250391934,-4.617815675346566,-3.5561502248351546,-2.1603694586371183,-5.022304706087523,-4.48536670706985,-3.1133757785134337,-6.2021712785877385,-4.540477913017039,-3.696203938218327,-6.080131604870314,-4.622374829010698,-3.2676488535523567,-5.327671495829552],\"yaxis\":\"y\",\"type\":\"scatter\"},{\"customdata\":[[\"C9392081\",\"EUR\",\"0.95\",\"AMR\",\"0.023\"],[\"C9112331\",\"EUR\",\"0.95\",\"SAS\",\"0.022\"],[\"C9773006\",\"EUR\",\"0.78\",\"SAS\",\"0.16\"],[\"C9544194\",\"EUR\",\"0.95\",\"AMR\",\"0.02\"],[\"C9373517\",\"EUR\",\"0.95\",\"AMR\",\"0.02\"],[\"C9948864\",\"EUR\",\"0.98\",\"SAS\",\"0.0079\"],[\"C9421850\",\"EUR\",\"0.94\",\"SAS\",\"0.029\"],[\"C9404984\",\"EUR\",\"0.98\",\"AMR\",\"0.0077\"],[\"C9143246\",\"EUR\",\"0.94\",\"SAS\",\"0.027\"],[\"C9070830\",\"EUR\",\"0.97\",\"SAS\",\"0.013\"],[\"C9504996\",\"EUR\",\"0.9\",\"SAS\",\"0.076\"],[\"C9202805\",\"EUR\",\"0.9\",\"AMR\",\"0.042\"],[\"C9362525\",\"EUR\",\"0.95\",\"AMR\",\"0.02\"],[\"C9092574\",\"EUR\",\"0.82\",\"SAS\",\"0.12\"],[\"C9783888\",\"EUR\",\"0.9\",\"SAS\",\"0.068\"],[\"C9867144\",\"EUR\",\"0.93\",\"AMR\",\"0.031\"],[\"C9019427\",\"EUR\",\"0.97\",\"SAS\",\"0.0094\"],[\"C9824232\",\"AFR\",\"0.99\",\"SAS\",\"0.005\"],[\"C9551607\",\"EUR\",\"0.98\",\"AMR\",\"0.0086\"],[\"C9791100\",\"AFR\",\"0.97\",\"SAS\",\"0.013\"],[\"C9269942\",\"SAS\",\"0.64\",\"EUR\",\"0.2\"],[\"C9950284\",\"EUR\",\"0.92\",\"SAS\",\"0.046\"],[\"C9830861\",\"EUR\",\"0.98\",\"AMR\",\"0.01\"],[\"C9271854\",\"EUR\",\"0.91\",\"AMR\",\"0.041\"],[\"C9429553\",\"EUR\",\"0.94\",\"AMR\",\"0.029\"],[\"C9963120\",\"EUR\",\"0.97\",\"SAS\",\"0.012\"],[\"C9500443\",\"EUR\",\"0.92\",\"SAS\",\"0.049\"],[\"C9181785\",\"EUR\",\"0.95\",\"AMR\",\"0.023\"],[\"C9454614\",\"EUR\",\"0.6\",\"SAS\",\"0.28\"],[\"C9173829\",\"EUR\",\"0.95\",\"AMR\",\"0.021\"],[\"C9236526\",\"EUR\",\"0.95\",\"AMR\",\"0.023\"],[\"C9337436\",\"EUR\",\"0.85\",\"SAS\",\"0.094\"],[\"C9281676\",\"EUR\",\"0.94\",\"AMR\",\"0.033\"],[\"C9834437\",\"EUR\",\"0.87\",\"AMR\",\"0.055\"],[\"C9256776\",\"EUR\",\"0.97\",\"AMR\",\"0.013\"],[\"C9896176\",\"EAS\",\"0.92\",\"AMR\",\"0.037\"],[\"C9395325\",\"EUR\",\"0.98\",\"SAS\",\"0.01\"],[\"C9439087\",\"EAS\",\"0.98\",\"AMR\",\"0.0074\"],[\"C9738079\",\"EUR\",\"0.91\",\"SAS\",\"0.052\"],[\"C9343835\",\"EUR\",\"0.96\",\"AMR\",\"0.017\"],[\"C9382916\",\"AFR\",\"0.98\",\"SAS\",\"0.0095\"],[\"C9348452\",\"EUR\",\"0.95\",\"AMR\",\"0.026\"],[\"C9137802\",\"EUR\",\"0.97\",\"SAS\",\"0.012\"],[\"C9841936\",\"EUR\",\"0.95\",\"SAS\",\"0.026\"],[\"C9899426\",\"EUR\",\"0.94\",\"SAS\",\"0.028\"],[\"C9769468\",\"EUR\",\"0.95\",\"AMR\",\"0.028\"],[\"C9149135\",\"EUR\",\"0.94\",\"SAS\",\"0.031\"],[\"C9414358\",\"EUR\",\"0.48\",\"SAS\",\"0.25\"],[\"C9015006_A\",\"EUR\",\"0.92\",\"SAS\",\"0.053\"],[\"C9333875\",\"EUR\",\"0.96\",\"AMR\",\"0.021\"],[\"C9987132\",\"EUR\",\"0.92\",\"AMR\",\"0.033\"],[\"C9019762\",\"AFR\",\"0.96\",\"SAS\",\"0.016\"],[\"C9332037\",\"EUR\",\"0.94\",\"SAS\",\"0.024\"],[\"C9107796\",\"EUR\",\"0.94\",\"SAS\",\"0.023\"],[\"C9146837\",\"EUR\",\"0.96\",\"SAS\",\"0.016\"],[\"C9335055\",\"EUR\",\"0.97\",\"AMR\",\"0.013\"],[\"C9353533\",\"EUR\",\"0.97\",\"SAS\",\"0.014\"],[\"C9065204\",\"EUR\",\"0.7\",\"SAS\",\"0.19\"],[\"C9630977\",\"EUR\",\"0.92\",\"SAS\",\"0.046\"],[\"C9910955\",\"EUR\",\"0.86\",\"SAS\",\"0.088\"],[\"C9593509\",\"EUR\",\"0.96\",\"AMR\",\"0.018\"],[\"C9203538\",\"EUR\",\"0.93\",\"SAS\",\"0.054\"],[\"C9895193\",\"EUR\",\"0.95\",\"AMR\",\"0.022\"],[\"C9287399\",\"EUR\",\"0.96\",\"AMR\",\"0.017\"],[\"C9425592\",\"EUR\",\"0.91\",\"SAS\",\"0.058\"],[\"C9787294\",\"EUR\",\"0.95\",\"AMR\",\"0.019\"],[\"C9960311\",\"EUR\",\"0.92\",\"AMR\",\"0.047\"],[\"C9237364\",\"EUR\",\"0.87\",\"SAS\",\"0.1\"],[\"C9100987\",\"EUR\",\"0.95\",\"SAS\",\"0.02\"],[\"C9172258\",\"EUR\",\"0.96\",\"SAS\",\"0.019\"],[\"C9833901\",\"EAS\",\"0.96\",\"AMR\",\"0.015\"],[\"C9444952\",\"AFR\",\"0.96\",\"SAS\",\"0.017\"],[\"C9296958\",\"AFR\",\"0.86\",\"SAS\",\"0.071\"],[\"C9761272\",\"EUR\",\"0.87\",\"SAS\",\"0.089\"],[\"C9738061\",\"EUR\",\"0.96\",\"SAS\",\"0.017\"],[\"C9697066\",\"EUR\",\"0.9\",\"SAS\",\"0.056\"],[\"C9835618\",\"EUR\",\"0.97\",\"AMR\",\"0.015\"],[\"C9518874\",\"EUR\",\"0.92\",\"SAS\",\"0.049\"],[\"C9553207\",\"AFR\",\"0.98\",\"SAS\",\"0.0063\"],[\"C9749291\",\"EUR\",\"0.75\",\"SAS\",\"0.16\"],[\"C9427412\",\"AFR\",\"0.99\",\"SAS\",\"0.0047\"],[\"C9588598\",\"EUR\",\"0.93\",\"SAS\",\"0.045\"],[\"C9767055\",\"EUR\",\"0.97\",\"SAS\",\"0.0098\"],[\"C9696497\",\"EUR\",\"0.94\",\"SAS\",\"0.031\"],[\"C9249260\",\"EUR\",\"0.89\",\"SAS\",\"0.069\"],[\"C9145166\",\"EUR\",\"0.96\",\"SAS\",\"0.014\"],[\"C9806608\",\"EUR\",\"0.95\",\"SAS\",\"0.024\"],[\"C9608162\",\"EUR\",\"0.97\",\"SAS\",\"0.013\"],[\"C9829444\",\"EUR\",\"0.86\",\"SAS\",\"0.096\"],[\"C9155285\",\"EUR\",\"0.97\",\"AMR\",\"0.01\"],[\"C9830781\",\"EUR\",\"0.98\",\"SAS\",\"0.0072\"],[\"C9634772\",\"EUR\",\"0.92\",\"SAS\",\"0.038\"],[\"C9796515\",\"EUR\",\"0.97\",\"SAS\",\"0.013\"],[\"C9473340\",\"EUR\",\"0.97\",\"AMR\",\"0.012\"],[\"C9015006_B\",\"EUR\",\"0.92\",\"SAS\",\"0.051\"],[\"C9787361\",\"AFR\",\"0.96\",\"SAS\",\"0.016\"],[\"C9664685\",\"EUR\",\"0.91\",\"SAS\",\"0.04\"],[\"C9186995\",\"EUR\",\"0.96\",\"SAS\",\"0.015\"],[\"C9931298\",\"EUR\",\"0.97\",\"SAS\",\"0.014\"],[\"C9546882\",\"EAS\",\"0.76\",\"SAS\",\"0.11\"],[\"C9766496\",\"EUR\",\"0.97\",\"AMR\",\"0.015\"],[\"C9594960\",\"EUR\",\"0.86\",\"SAS\",\"0.091\"],[\"C9264845\",\"EUR\",\"0.94\",\"SAS\",\"0.037\"],[\"C9693293\",\"EUR\",\"0.96\",\"SAS\",\"0.019\"],[\"C9366500\",\"EUR\",\"0.65\",\"SAS\",\"0.25\"],[\"C9840031\",\"EUR\",\"0.93\",\"SAS\",\"0.04\"],[\"C9352656\",\"EUR\",\"0.96\",\"AMR\",\"0.016\"],[\"C9926912\",\"EUR\",\"0.96\",\"AMR\",\"0.018\"],[\"C9539446\",\"EUR\",\"0.97\",\"SAS\",\"0.013\"],[\"C9328025_A\",\"EUR\",\"0.94\",\"SAS\",\"0.037\"],[\"C9845989\",\"EUR\",\"0.95\",\"SAS\",\"0.023\"],[\"C9046772\",\"EUR\",\"0.86\",\"SAS\",\"0.1\"],[\"C9164503\",\"EUR\",\"0.72\",\"AMR\",\"0.14\"],[\"C9289426\",\"EUR\",\"0.88\",\"SAS\",\"0.059\"],[\"C9833467\",\"EAS\",\"0.4\",\"SAS\",\"0.25\"],[\"C9880838\",\"EUR\",\"0.93\",\"SAS\",\"0.038\"],[\"C9422879\",\"EUR\",\"0.96\",\"SAS\",\"0.024\"],[\"C9694140\",\"EUR\",\"0.92\",\"SAS\",\"0.037\"],[\"C9720398\",\"SAS\",\"0.48\",\"EUR\",\"0.38\"],[\"C9465585\",\"EUR\",\"0.96\",\"SAS\",\"0.015\"],[\"C9906189\",\"EUR\",\"0.94\",\"SAS\",\"0.027\"],[\"C9723763\",\"EUR\",\"0.87\",\"SAS\",\"0.098\"],[\"C9549733\",\"EUR\",\"0.93\",\"SAS\",\"0.043\"],[\"C9622975\",\"EUR\",\"0.89\",\"SAS\",\"0.064\"],[\"C9023035\",\"EUR\",\"0.62\",\"SAS\",\"0.27\"],[\"C9281603_B\",\"EAS\",\"0.97\",\"AMR\",\"0.015\"],[\"C9214677\",\"EUR\",\"0.96\",\"SAS\",\"0.026\"],[\"C9728571\",\"EUR\",\"0.97\",\"SAS\",\"0.0092\"],[\"C9692811\",\"AFR\",\"0.98\",\"SAS\",\"0.0065\"],[\"C9276134\",\"AFR\",\"0.97\",\"SAS\",\"0.011\"],[\"C9985402\",\"EUR\",\"0.95\",\"SAS\",\"0.023\"],[\"C9494205\",\"EUR\",\"0.81\",\"SAS\",\"0.12\"],[\"C9525049\",\"EUR\",\"0.93\",\"SAS\",\"0.041\"],[\"C9446681\",\"EUR\",\"0.57\",\"SAS\",\"0.34\"],[\"C9675388\",\"EUR\",\"0.95\",\"SAS\",\"0.029\"],[\"C9882335\",\"EUR\",\"0.95\",\"AMR\",\"0.024\"],[\"C9211784\",\"EUR\",\"0.94\",\"SAS\",\"0.029\"],[\"C9885098\",\"EAS\",\"0.4\",\"AMR\",\"0.33\"],[\"C9322275\",\"EUR\",\"0.94\",\"SAS\",\"0.025\"],[\"C9939770\",\"EUR\",\"0.95\",\"SAS\",\"0.029\"],[\"C9539913\",\"SAS\",\"0.58\",\"EUR\",\"0.35\"],[\"C9174984\",\"EUR\",\"0.87\",\"AMR\",\"0.062\"],[\"C9210292\",\"EUR\",\"0.89\",\"SAS\",\"0.052\"],[\"C9563106\",\"EUR\",\"0.8\",\"SAS\",\"0.13\"],[\"C9945711\",\"AFR\",\"0.97\",\"SAS\",\"0.01\"],[\"C9842667\",\"EUR\",\"0.96\",\"SAS\",\"0.018\"],[\"C9955418\",\"AFR\",\"0.97\",\"SAS\",\"0.013\"],[\"C9853013\",\"EUR\",\"0.86\",\"SAS\",\"0.11\"],[\"C9609040\",\"EUR\",\"0.96\",\"SAS\",\"0.017\"],[\"C9131164\",\"AFR\",\"0.97\",\"SAS\",\"0.016\"],[\"C9332639\",\"AFR\",\"0.96\",\"SAS\",\"0.018\"],[\"C9010879\",\"EAS\",\"0.77\",\"AMR\",\"0.1\"],[\"C9498593\",\"EUR\",\"0.89\",\"SAS\",\"0.06\"],[\"C9345971\",\"SAS\",\"0.75\",\"AMR\",\"0.14\"],[\"C9901595\",\"EUR\",\"0.94\",\"SAS\",\"0.024\"],[\"C9708363\",\"EUR\",\"0.92\",\"SAS\",\"0.054\"],[\"C9861169\",\"EUR\",\"0.89\",\"SAS\",\"0.061\"],[\"C9409283\",\"AFR\",\"0.98\",\"SAS\",\"0.0096\"],[\"C9692034\",\"EUR\",\"0.97\",\"AMR\",\"0.014\"],[\"C9891547\",\"EUR\",\"0.93\",\"SAS\",\"0.049\"],[\"C9043888\",\"EUR\",\"0.93\",\"SAS\",\"0.041\"],[\"C9435463\",\"EUR\",\"0.92\",\"SAS\",\"0.05\"],[\"C9281603_A\",\"EAS\",\"0.97\",\"AMR\",\"0.016\"],[\"C9352597\",\"EUR\",\"0.74\",\"SAS\",\"0.19\"],[\"C9499501\",\"EUR\",\"0.96\",\"SAS\",\"0.016\"],[\"C9533499\",\"AFR\",\"0.99\",\"SAS\",\"0.0049\"],[\"C9623681\",\"EUR\",\"0.76\",\"SAS\",\"0.14\"],[\"C9566094\",\"EUR\",\"0.97\",\"AMR\",\"0.018\"],[\"C9106847\",\"EUR\",\"0.94\",\"AMR\",\"0.032\"],[\"C9670670\",\"EUR\",\"0.92\",\"AMR\",\"0.037\"],[\"C9337466\",\"EUR\",\"0.93\",\"SAS\",\"0.038\"],[\"C9328025_B\",\"EUR\",\"0.95\",\"SAS\",\"0.031\"],[\"C9352013\",\"EUR\",\"0.89\",\"SAS\",\"0.047\"],[\"C9531167\",\"EUR\",\"0.82\",\"SAS\",\"0.1\"],[\"C9032340\",\"EUR\",\"0.96\",\"SAS\",\"0.021\"],[\"C9183745\",\"EUR\",\"0.92\",\"SAS\",\"0.043\"],[\"C9891309\",\"EUR\",\"0.94\",\"AMR\",\"0.03\"],[\"C9422544\",\"AMR\",\"0.78\",\"SAS\",\"0.098\"],[\"C9012431\",\"AMR\",\"0.89\",\"SAS\",\"0.061\"],[\"C9674024\",\"EUR\",\"0.94\",\"SAS\",\"0.031\"],[\"C9759662\",\"EUR\",\"0.98\",\"SAS\",\"0.011\"],[\"C9503626\",\"EUR\",\"0.93\",\"SAS\",\"0.048\"],[\"C9877132\",\"AFR\",\"0.84\",\"SAS\",\"0.08\"],[\"C9557092\",\"EUR\",\"0.89\",\"SAS\",\"0.066\"],[\"C9068543\",\"EUR\",\"0.93\",\"SAS\",\"0.032\"],[\"C9970429\",\"EUR\",\"0.95\",\"SAS\",\"0.02\"],[\"C9077429\",\"EUR\",\"0.95\",\"SAS\",\"0.029\"],[\"C9254632\",\"EUR\",\"0.69\",\"SAS\",\"0.26\"],[\"C9867644\",\"EUR\",\"0.92\",\"SAS\",\"0.038\"],[\"C9072808\",\"EUR\",\"0.94\",\"SAS\",\"0.026\"],[\"C9796034\",\"EUR\",\"0.8\",\"SAS\",\"0.16\"],[\"C9095270\",\"AFR\",\"0.99\",\"SAS\",\"0.0046\"],[\"C9105851\",\"EUR\",\"0.95\",\"SAS\",\"0.022\"],[\"C9418584\",\"EUR\",\"0.94\",\"SAS\",\"0.026\"],[\"C9414698\",\"EUR\",\"0.92\",\"SAS\",\"0.052\"]],\"hovertemplate\":\"\\u003cb\\u003e%{hovertext}\\u003c\\u002fb\\u003e\\u003cbr\\u003e\\u003cbr\\u003eID_Group=C9\\u003cbr\\u003ePC1=%{x}\\u003cbr\\u003ePC2=%{y}\\u003cbr\\u003eSample=%{customdata[0]}\\u003cbr\\u003ePred=%{customdata[1]}\\u003cbr\\u003ePrimary_Perc=%{customdata[2]}\\u003cbr\\u003eSecond=%{customdata[3]}\\u003cbr\\u003eSecond_Perc=%{customdata[4]}\\u003cextra\\u003e\\u003c\\u002fextra\\u003e\",\"hovertext\":[\"C9392081\",\"C9112331\",\"C9773006\",\"C9544194\",\"C9373517\",\"C9948864\",\"C9421850\",\"C9404984\",\"C9143246\",\"C9070830\",\"C9504996\",\"C9202805\",\"C9362525\",\"C9092574\",\"C9783888\",\"C9867144\",\"C9019427\",\"C9824232\",\"C9551607\",\"C9791100\",\"C9269942\",\"C9950284\",\"C9830861\",\"C9271854\",\"C9429553\",\"C9963120\",\"C9500443\",\"C9181785\",\"C9454614\",\"C9173829\",\"C9236526\",\"C9337436\",\"C9281676\",\"C9834437\",\"C9256776\",\"C9896176\",\"C9395325\",\"C9439087\",\"C9738079\",\"C9343835\",\"C9382916\",\"C9348452\",\"C9137802\",\"C9841936\",\"C9899426\",\"C9769468\",\"C9149135\",\"C9414358\",\"C9015006_A\",\"C9333875\",\"C9987132\",\"C9019762\",\"C9332037\",\"C9107796\",\"C9146837\",\"C9335055\",\"C9353533\",\"C9065204\",\"C9630977\",\"C9910955\",\"C9593509\",\"C9203538\",\"C9895193\",\"C9287399\",\"C9425592\",\"C9787294\",\"C9960311\",\"C9237364\",\"C9100987\",\"C9172258\",\"C9833901\",\"C9444952\",\"C9296958\",\"C9761272\",\"C9738061\",\"C9697066\",\"C9835618\",\"C9518874\",\"C9553207\",\"C9749291\",\"C9427412\",\"C9588598\",\"C9767055\",\"C9696497\",\"C9249260\",\"C9145166\",\"C9806608\",\"C9608162\",\"C9829444\",\"C9155285\",\"C9830781\",\"C9634772\",\"C9796515\",\"C9473340\",\"C9015006_B\",\"C9787361\",\"C9664685\",\"C9186995\",\"C9931298\",\"C9546882\",\"C9766496\",\"C9594960\",\"C9264845\",\"C9693293\",\"C9366500\",\"C9840031\",\"C9352656\",\"C9926912\",\"C9539446\",\"C9328025_A\",\"C9845989\",\"C9046772\",\"C9164503\",\"C9289426\",\"C9833467\",\"C9880838\",\"C9422879\",\"C9694140\",\"C9720398\",\"C9465585\",\"C9906189\",\"C9723763\",\"C9549733\",\"C9622975\",\"C9023035\",\"C9281603_B\",\"C9214677\",\"C9728571\",\"C9692811\",\"C9276134\",\"C9985402\",\"C9494205\",\"C9525049\",\"C9446681\",\"C9675388\",\"C9882335\",\"C9211784\",\"C9885098\",\"C9322275\",\"C9939770\",\"C9539913\",\"C9174984\",\"C9210292\",\"C9563106\",\"C9945711\",\"C9842667\",\"C9955418\",\"C9853013\",\"C9609040\",\"C9131164\",\"C9332639\",\"C9010879\",\"C9498593\",\"C9345971\",\"C9901595\",\"C9708363\",\"C9861169\",\"C9409283\",\"C9692034\",\"C9891547\",\"C9043888\",\"C9435463\",\"C9281603_A\",\"C9352597\",\"C9499501\",\"C9533499\",\"C9623681\",\"C9566094\",\"C9106847\",\"C9670670\",\"C9337466\",\"C9328025_B\",\"C9352013\",\"C9531167\",\"C9032340\",\"C9183745\",\"C9891309\",\"C9422544\",\"C9012431\",\"C9674024\",\"C9759662\",\"C9503626\",\"C9877132\",\"C9557092\",\"C9068543\",\"C9970429\",\"C9077429\",\"C9254632\",\"C9867644\",\"C9072808\",\"C9796034\",\"C9095270\",\"C9105851\",\"C9418584\",\"C9414698\"],\"legendgroup\":\"C9\",\"marker\":{\"color\":\"#00cc96\",\"symbol\":\"circle\"},\"mode\":\"markers\",\"name\":\"C9\",\"orientation\":\"v\",\"showlegend\":true,\"x\":[-9.911215709730488,-9.851568872791225,-8.40139756034949,-14.639523316130159,-9.56617348537945,-10.97354356714136,-10.147726807636698,-13.981429651568044,-11.217110606759213,-11.462455804244978,-7.279817317316845,-12.225934590935758,-7.0726048866764035,-11.481551945899586,-9.095214772230797,-10.435204923878239,-12.511620671303522,7.414184911692671,-12.81132198072772,3.8050939480422907,-8.237407673163208,-12.122007938404394,-11.388122055489745,-10.126317460142044,-9.160885581636979,-10.35410425131029,-11.269040348415103,-11.043733089111036,-4.931988669719622,-10.80998200556581,-10.251850769597883,-12.805830396248192,-12.678026236011435,-10.479046769661336,-13.092630346888754,42.84913284707667,-13.573117761709916,44.47538414374296,-8.11817178602512,-12.612523086143645,6.418192903002807,-8.056038219380715,-11.175985927808073,-8.909843626867438,-11.238755177361243,-11.701551530329578,-9.606796762257932,-5.875093269508739,-10.05291631700393,-11.720165224832472,-9.689870517443639,7.705651832694396,-10.655886569676685,-11.128699386804671,-11.174553180489847,-10.48749997532991,-14.503726999185979,-8.973735185480065,-10.673860741826877,-9.513080420515939,-13.559698114315644,-14.285805579373378,-12.149577361107125,-12.548334052612688,-9.465268921992033,-15.035964137609614,-11.14735129874857,-11.541845348029158,-8.670226389127926,-12.344473086890716,42.80627983019095,8.476520176725584,1.8384003383112337,-13.52915139313642,-11.728853641284244,-9.997063394483883,-13.243749567932964,-11.432501908148161,12.780759605184908,-10.81847896464054,11.579570081781606,-9.929404558269532,-11.62052660520943,-14.489652582124252,-10.338383347771378,-11.534545377957496,-10.355039485147309,-13.360605730634125,-15.147384857739663,-10.527312545783051,-15.871249753188069,-10.081695638398255,-11.674169404119091,-12.22455279823417,-9.73929292021223,4.123373584647188,-12.834948219101205,-11.168096510040154,-12.160381850790348,34.568268699744316,-12.513923100960666,-10.106166231520477,-14.030259916949698,-12.703965254324688,-9.532305679010376,-12.749410768202559,-12.678571125199612,-13.833175815149753,-12.570750118020708,-11.004492329012933,-12.104299316932712,-9.652813396212322,-6.573232317445879,-8.903206063001377,19.268157360027423,-11.014907116302775,-12.037551444203876,-12.652407380571349,-11.416793996210915,-12.005972351637386,-12.78628097217536,-9.345625209243888,-10.433827093482547,-12.112628627272509,-7.961073537963687,48.65548822492131,-14.534220456850576,-13.052273041354294,7.897641023906184,8.44064550813417,-13.875577805828183,-13.9743918092253,-11.233397468026034,-6.694655297862329,-12.452545843926277,-10.400861438600277,-14.882405551903894,20.18596397094278,-10.453738522674339,-12.763201570507906,-11.505019865514154,-9.569124490797686,-10.889083157489392,-9.84212176958242,8.86656272361496,-12.281529234373162,6.605559161035085,-11.861315510168938,-10.327666963850106,6.864575091935227,6.109051978125196,36.17249414897745,-10.469553785699112,-1.4346264355215324,-10.144080897786246,-12.579961616865011,-10.969489969316081,7.8628750970560715,-10.984520647167221,-13.623838320439027,-12.17755819216896,-8.87728237618816,47.07021561830553,-8.40010476949414,-10.655333062866283,8.304833231872808,-7.4102334520240225,-9.934764376832009,-14.553207279530092,-10.359892597177627,-12.962185731342604,-10.810955967700007,-11.599995087863944,-10.607152162165177,-12.238591478522348,-12.715403203750974,-11.754874861776281,6.172495429850183,7.941831851233738,-10.024651621319098,-13.63978218615655,-12.163020402620806,-1.5526167460041103,-9.002513524823874,-9.811543123749816,-12.20213164780811,-13.95015155133947,-10.593817994190209,-10.855221485762065,-8.941029299160594,-11.077655804127826,10.296138384729511,-11.02225191844638,-6.0142134620168415,-10.64554114870426],\"xaxis\":\"x\",\"y\":[-3.0670184532655127,-3.609995335703689,-2.147810386455011,-3.244056585652307,-1.6839556298015974,-4.291475103616816,-4.252754616367691,-1.9023334669814338,-3.315038625474268,-4.398692649227299,-4.3294136854528436,-0.49711148012587286,-2.9779856566245075,1.743584524650155,-4.923214294826268,-1.1145119208690613,-2.9022377151332104,120.37557812425588,-5.059454973067825,108.1275072881069,11.411055358048669,-1.814754133884069,-2.864577096688232,1.1016674827299175,-1.3642178225974944,-2.7937603267316224,-5.019790761053267,-2.9787390332426855,-4.672472202012341,-4.104276145083111,-2.5545766479129925,-4.121964435513028,-2.118136800201517,-4.536138122963235,-1.7203446156338076,-3.879347724393448,-3.2472082655231658,-5.770688242535677,-1.1634739210049825,-6.168569664183106,102.98539862677758,-5.170207720228912,-4.527975112789966,-4.994802451616318,-2.6710738357784476,-3.4676900267210415,-5.34818330545381,27.199319055457373,-5.239644730968285,-4.6166236508033744,-4.410313430918962,99.7408853306899,-1.150904106660556,-2.3561867809367465,-4.941100796336498,-4.08033468892677,-3.8669841485921372,-0.9243979728592977,-2.543230370439321,-3.033677403570632,-0.26996498974804156,-3.7363360549947378,4.052945466984006,-3.3778909080857007,-2.0145611612317373,-1.5512968371008216,-2.819651366632539,-4.178344588860181,-4.191131984549945,-3.14817444502242,-4.133027023313332,106.8037178109377,76.53434551135243,-2.025130905507312,-3.694951565378944,-4.6037389068798955,-4.0837041456737015,-0.5393363114996022,130.60932384629018,-2.215448009667158,127.29173906900475,-4.961172812602599,-2.450651407594989,-5.1540107962728126,-2.2581282920754595,-2.820552217162269,-3.5107044047500127,-2.5782722216706335,-3.0119702954632346,-4.940562998609044,-2.1710295471554626,0.3324843651884062,-5.611955317398041,-3.515403547205727,-5.306564364718722,95.25319810847292,-1.4913206863474089,-2.281613742296633,-1.8795458593300356,-1.8337410474714466,-5.102127670298336,-3.0535371005586414,0.8650439247862258,-3.348075762340065,8.520265181859024,-4.0269062290916935,-2.6485700121727396,-4.6637432160306425,-3.574213122043843,-2.5252806560763417,-1.2030683388617636,-4.602132366532321,10.159322918079896,-2.4280409999089096,-5.2964859838268055,-1.4673853962010093,-4.112314501302571,-2.980056622469447,1.0441537898332542,-4.260052299153628,-3.935171129020737,-2.2573407011762785,-1.8644756317882036,-3.776200574674586,-0.46914640539512914,-6.302513887164288,-2.961619903804104,-0.8293185630996232,110.88255319972166,96.72036149975938,-3.208723281835551,-3.097294962395525,0.1709007493173786,-2.9042628798731482,-4.5840890824325395,-4.668928093545883,-2.7056836406510727,-4.227284087272924,-4.003020037710747,-3.714544412534351,2.101555180702149,-1.6740722579132254,-4.069103095035057,-2.393631509140709,99.937236621598,-3.890734360727778,96.26385375501698,-1.6874247785301584,-4.483377835228022,101.02951945850195,93.91162838728,6.167004647272348,-3.092056254363437,-0.007074320823235454,-4.494537252768158,-5.355460656263334,-3.632138535185942,124.91376988339886,-5.968060147430401,-4.019107525120916,-6.074106118048286,-3.873757885454125,-6.174219330088255,-1.2685528997814302,-3.4029653962871738,113.86761690119289,1.2538032771328882,-2.5408976248689252,-3.950274734982555,-3.5846826394994413,-1.4014876825877052,-3.191864918782377,-4.0032639123322475,-2.119400826937879,-3.0938873113873795,-3.6763986921722562,0.8853492680744215,-0.40326448952335675,-0.03995250838705632,-5.300069723123302,-4.945704497596348,-3.2593446740004817,83.3423465573181,-3.8346580732208624,-2.966836722420891,-3.2536500160406656,-4.495655743461863,-0.9199820036176887,-4.736064868153435,-4.4433863133949005,-1.8974063337141076,118.03850141374446,-3.803301100933758,1.0340572783049817,-1.1801651114341942],\"yaxis\":\"y\",\"type\":\"scatter\"},{\"customdata\":[[\"C3029371\",\"EUR\",\"0.98\",\"SAS\",\"0.0079\"],[\"C3585027\",\"EAS\",\"0.98\",\"AMR\",\"0.007\"],[\"C3802976\",\"EUR\",\"0.89\",\"SAS\",\"0.058\"],[\"C3302744\",\"EUR\",\"0.98\",\"AMR\",\"0.011\"],[\"C3995916\",\"EUR\",\"0.99\",\"SAS\",\"0.0053\"]],\"hovertemplate\":\"\\u003cb\\u003e%{hovertext}\\u003c\\u002fb\\u003e\\u003cbr\\u003e\\u003cbr\\u003eID_Group=C3\\u003cbr\\u003ePC1=%{x}\\u003cbr\\u003ePC2=%{y}\\u003cbr\\u003eSample=%{customdata[0]}\\u003cbr\\u003ePred=%{customdata[1]}\\u003cbr\\u003ePrimary_Perc=%{customdata[2]}\\u003cbr\\u003eSecond=%{customdata[3]}\\u003cbr\\u003eSecond_Perc=%{customdata[4]}\\u003cextra\\u003e\\u003c\\u002fextra\\u003e\",\"hovertext\":[\"C3029371\",\"C3585027\",\"C3802976\",\"C3302744\",\"C3995916\"],\"legendgroup\":\"C3\",\"marker\":{\"color\":\"#ab63fa\",\"symbol\":\"circle\"},\"mode\":\"markers\",\"name\":\"C3\",\"orientation\":\"v\",\"showlegend\":true,\"x\":[-13.579621572484491,50.697695024936756,-8.465300185369061,-12.711100088921723,-15.759567760551205],\"xaxis\":\"x\",\"y\":[-5.348168569362151,-6.247782704182209,-2.292171018244214,-4.6924439974907735,-3.911942983795064],\"yaxis\":\"y\",\"type\":\"scatter\"},{\"customdata\":[[\"C8439824\",\"EUR\",\"0.96\",\"SAS\",\"0.016\"],[\"C8440070\",\"EUR\",\"0.95\",\"SAS\",\"0.022\"],[\"C8992487\",\"EUR\",\"0.96\",\"AMR\",\"0.019\"],[\"C8046245\",\"EUR\",\"0.97\",\"SAS\",\"0.014\"],[\"C8719784\",\"EUR\",\"0.89\",\"SAS\",\"0.047\"],[\"C8028049\",\"EUR\",\"0.97\",\"SAS\",\"0.014\"],[\"C8320957\",\"EUR\",\"0.92\",\"SAS\",\"0.051\"],[\"C8973185\",\"EUR\",\"0.88\",\"SAS\",\"0.095\"],[\"C8896744\",\"EUR\",\"0.9\",\"SAS\",\"0.054\"],[\"C8566915\",\"EUR\",\"0.97\",\"SAS\",\"0.014\"],[\"C8916507\",\"EUR\",\"0.97\",\"SAS\",\"0.013\"],[\"C8207616\",\"EUR\",\"0.93\",\"AMR\",\"0.032\"],[\"C8607789\",\"AMR\",\"0.71\",\"EUR\",\"0.17\"],[\"C8949385\",\"EUR\",\"0.96\",\"SAS\",\"0.019\"],[\"C8036290\",\"EUR\",\"0.88\",\"SAS\",\"0.052\"],[\"C8451371\",\"EUR\",\"0.83\",\"SAS\",\"0.13\"],[\"C8360547\",\"EUR\",\"0.96\",\"SAS\",\"0.02\"],[\"C8900381\",\"EUR\",\"0.91\",\"SAS\",\"0.05\"],[\"C8643849\",\"EUR\",\"0.96\",\"AMR\",\"0.016\"],[\"C8876110\",\"EUR\",\"0.94\",\"SAS\",\"0.033\"],[\"C8716254\",\"EUR\",\"0.93\",\"AMR\",\"0.032\"],[\"C8273825\",\"SAS\",\"0.44\",\"EUR\",\"0.41\"],[\"C8124245\",\"EUR\",\"0.9\",\"SAS\",\"0.056\"],[\"C8297061\",\"EUR\",\"0.93\",\"AMR\",\"0.031\"],[\"C8170175\",\"EUR\",\"0.95\",\"SAS\",\"0.027\"],[\"C8689064\",\"EUR\",\"0.96\",\"SAS\",\"0.018\"],[\"C8574255\",\"EUR\",\"0.92\",\"SAS\",\"0.044\"],[\"C8081793\",\"AFR\",\"0.9\",\"SAS\",\"0.045\"],[\"C8808071\",\"EUR\",\"0.94\",\"SAS\",\"0.033\"],[\"C8584714\",\"EUR\",\"0.96\",\"SAS\",\"0.018\"],[\"C8021853\",\"EUR\",\"0.96\",\"SAS\",\"0.014\"],[\"C8643073\",\"EUR\",\"0.93\",\"SAS\",\"0.04\"],[\"C8790955\",\"EUR\",\"0.91\",\"SAS\",\"0.048\"],[\"C8238726\",\"AFR\",\"0.99\",\"SAS\",\"0.0019\"],[\"C8219205\",\"EUR\",\"0.89\",\"AMR\",\"0.06\"],[\"C8681671\",\"EUR\",\"0.96\",\"AMR\",\"0.017\"],[\"C8478557\",\"EUR\",\"0.95\",\"SAS\",\"0.034\"],[\"C8770577\",\"EUR\",\"0.95\",\"AMR\",\"0.02\"],[\"C8048662\",\"EUR\",\"0.91\",\"SAS\",\"0.057\"],[\"C8897927\",\"EUR\",\"0.87\",\"SAS\",\"0.077\"],[\"C8615941\",\"EUR\",\"0.84\",\"SAS\",\"0.095\"],[\"C8461665\",\"EUR\",\"0.9\",\"SAS\",\"0.065\"],[\"C8761613\",\"EUR\",\"0.96\",\"SAS\",\"0.019\"],[\"C8985793\",\"EUR\",\"0.95\",\"AMR\",\"0.025\"],[\"C8319806\",\"EUR\",\"0.94\",\"AMR\",\"0.035\"],[\"C8896162\",\"EUR\",\"0.94\",\"SAS\",\"0.039\"],[\"C8363284\",\"EUR\",\"0.59\",\"SAS\",\"0.22\"],[\"C8246413\",\"EUR\",\"0.73\",\"SAS\",\"0.11\"],[\"C8193518\",\"EUR\",\"0.96\",\"SAS\",\"0.023\"],[\"C8704315\",\"EUR\",\"0.9\",\"SAS\",\"0.068\"],[\"C8801527\",\"EUR\",\"0.48\",\"SAS\",\"0.38\"],[\"C8596930\",\"EUR\",\"0.89\",\"SAS\",\"0.069\"],[\"C8810404\",\"EUR\",\"0.96\",\"SAS\",\"0.02\"],[\"C8219541\",\"EUR\",\"0.95\",\"AMR\",\"0.02\"],[\"C8651159\",\"EUR\",\"0.94\",\"SAS\",\"0.034\"],[\"C8495592\",\"EUR\",\"0.98\",\"AMR\",\"0.0046\"],[\"C8865309\",\"EUR\",\"0.96\",\"SAS\",\"0.024\"],[\"C8358629\",\"EUR\",\"0.93\",\"SAS\",\"0.036\"],[\"C8659108\",\"EUR\",\"0.97\",\"SAS\",\"0.015\"],[\"C8192476\",\"EUR\",\"0.96\",\"SAS\",\"0.025\"],[\"C8335523\",\"EUR\",\"0.93\",\"AMR\",\"0.033\"],[\"C8506441\",\"EUR\",\"0.93\",\"SAS\",\"0.031\"],[\"C8736037\",\"EUR\",\"0.98\",\"AMR\",\"0.0078\"],[\"C8040854\",\"EUR\",\"0.94\",\"SAS\",\"0.038\"],[\"C8278819\",\"EUR\",\"0.93\",\"SAS\",\"0.03\"],[\"C8644106\",\"EUR\",\"0.87\",\"SAS\",\"0.094\"],[\"C8681860\",\"EUR\",\"0.87\",\"SAS\",\"0.09\"],[\"C8519536\",\"EUR\",\"0.93\",\"AMR\",\"0.046\"],[\"C8938114\",\"EUR\",\"0.89\",\"AMR\",\"0.069\"],[\"C8319450\",\"EUR\",\"0.84\",\"SAS\",\"0.12\"],[\"C8397582\",\"EUR\",\"0.95\",\"SAS\",\"0.026\"],[\"C8713498\",\"EUR\",\"0.86\",\"SAS\",\"0.099\"],[\"C8876593\",\"EUR\",\"0.95\",\"SAS\",\"0.027\"],[\"C8257777\",\"EUR\",\"0.97\",\"AMR\",\"0.014\"],[\"C8451688\",\"EUR\",\"0.97\",\"AMR\",\"0.014\"],[\"C8488109\",\"EUR\",\"0.84\",\"SAS\",\"0.11\"],[\"C8450746\",\"EUR\",\"0.95\",\"AMR\",\"0.02\"],[\"C8614148\",\"EUR\",\"0.9\",\"AMR\",\"0.062\"],[\"C8194455\",\"EUR\",\"0.96\",\"AMR\",\"0.016\"],[\"C8240437\",\"EUR\",\"0.95\",\"SAS\",\"0.029\"],[\"C8587599\",\"EUR\",\"0.96\",\"AMR\",\"0.017\"],[\"C8489869\",\"EUR\",\"0.97\",\"AMR\",\"0.013\"],[\"C8081097\",\"EUR\",\"0.97\",\"SAS\",\"0.011\"],[\"C8740455\",\"EUR\",\"0.96\",\"AMR\",\"0.015\"],[\"C8219585\",\"EUR\",\"0.92\",\"SAS\",\"0.046\"],[\"C8271677\",\"EAS\",\"0.98\",\"AMR\",\"0.0099\"],[\"C8205925\",\"EUR\",\"0.93\",\"SAS\",\"0.044\"],[\"C8284466\",\"EUR\",\"0.98\",\"AMR\",\"0.01\"],[\"C8237107\",\"EUR\",\"0.93\",\"SAS\",\"0.036\"],[\"C8798010\",\"EUR\",\"0.96\",\"AMR\",\"0.021\"],[\"C8584739\",\"EUR\",\"0.94\",\"SAS\",\"0.033\"],[\"C8191615\",\"EUR\",\"0.98\",\"AMR\",\"0.0069\"],[\"C8173027\",\"EUR\",\"0.95\",\"SAS\",\"0.033\"],[\"C8431940\",\"EUR\",\"0.94\",\"AMR\",\"0.028\"],[\"C8870889\",\"EAS\",\"0.97\",\"AMR\",\"0.015\"],[\"C8885328\",\"EUR\",\"0.94\",\"SAS\",\"0.041\"],[\"C8981077\",\"EUR\",\"0.97\",\"SAS\",\"0.012\"],[\"C8614179_A\",\"EUR\",\"0.96\",\"SAS\",\"0.019\"],[\"C8016613\",\"EUR\",\"0.95\",\"AMR\",\"0.026\"],[\"C8921704\",\"EUR\",\"0.92\",\"AMR\",\"0.035\"],[\"C8298170\",\"EUR\",\"0.93\",\"AMR\",\"0.029\"],[\"C8868365\",\"EUR\",\"0.93\",\"SAS\",\"0.034\"],[\"C8395884\",\"EUR\",\"0.98\",\"AMR\",\"0.0095\"],[\"C8574156\",\"EUR\",\"0.98\",\"AMR\",\"0.009\"],[\"C8120972\",\"EUR\",\"0.98\",\"AMR\",\"0.009\"],[\"C8108376\",\"EUR\",\"0.95\",\"AMR\",\"0.022\"],[\"C8328750\",\"EUR\",\"0.95\",\"SAS\",\"0.022\"],[\"C8334012\",\"EUR\",\"0.96\",\"SAS\",\"0.023\"],[\"C8190455\",\"EUR\",\"0.88\",\"SAS\",\"0.077\"],[\"C8059802\",\"EUR\",\"0.97\",\"AMR\",\"0.013\"],[\"C8417670\",\"EUR\",\"0.93\",\"SAS\",\"0.045\"],[\"C8359371\",\"EUR\",\"0.95\",\"SAS\",\"0.034\"],[\"C8164464\",\"EUR\",\"0.98\",\"AMR\",\"0.0092\"],[\"C8246802\",\"EUR\",\"0.96\",\"SAS\",\"0.022\"],[\"C8387101\",\"EUR\",\"0.92\",\"SAS\",\"0.051\"],[\"C8240661\",\"EUR\",\"0.97\",\"AMR\",\"0.011\"],[\"C8749940\",\"SAS\",\"0.53\",\"EUR\",\"0.24\"],[\"C8070392\",\"EUR\",\"0.97\",\"SAS\",\"0.012\"],[\"C8365573\",\"EUR\",\"0.94\",\"SAS\",\"0.031\"],[\"C8681088\",\"EUR\",\"0.91\",\"SAS\",\"0.058\"],[\"C8803331\",\"EUR\",\"0.98\",\"SAS\",\"0.011\"],[\"C8546542\",\"EUR\",\"0.95\",\"SAS\",\"0.026\"],[\"C8285568\",\"EUR\",\"0.92\",\"SAS\",\"0.052\"],[\"C8704644\",\"EUR\",\"0.97\",\"AMR\",\"0.012\"],[\"C8659700\",\"EUR\",\"0.91\",\"SAS\",\"0.05\"],[\"C8445892\",\"EUR\",\"0.55\",\"SAS\",\"0.32\"],[\"C8114694\",\"EUR\",\"0.93\",\"AMR\",\"0.028\"],[\"C8243782\",\"EUR\",\"0.97\",\"SAS\",\"0.015\"],[\"C8941520\",\"EUR\",\"0.95\",\"SAS\",\"0.024\"],[\"C8047717\",\"EUR\",\"0.98\",\"AMR\",\"0.0073\"],[\"C8347151\",\"EUR\",\"0.9\",\"SAS\",\"0.055\"],[\"C8388266\",\"EUR\",\"0.96\",\"SAS\",\"0.027\"],[\"C8069365\",\"EUR\",\"0.97\",\"SAS\",\"0.017\"],[\"C8958600\",\"EUR\",\"0.96\",\"SAS\",\"0.019\"],[\"C8293022\",\"EUR\",\"0.45\",\"SAS\",\"0.37\"],[\"C8564190\",\"EUR\",\"0.95\",\"SAS\",\"0.028\"],[\"C8403653\",\"EUR\",\"0.96\",\"SAS\",\"0.027\"],[\"C8225534\",\"EUR\",\"0.95\",\"AMR\",\"0.026\"],[\"C8035341\",\"EUR\",\"0.9\",\"SAS\",\"0.066\"],[\"C8333328\",\"EUR\",\"0.95\",\"SAS\",\"0.032\"],[\"C8494715\",\"EUR\",\"0.92\",\"AMR\",\"0.032\"],[\"C8098744\",\"EUR\",\"0.92\",\"SAS\",\"0.034\"],[\"C8655078\",\"EUR\",\"0.96\",\"AMR\",\"0.02\"],[\"C8946541\",\"EUR\",\"0.94\",\"SAS\",\"0.042\"],[\"C8852726\",\"EUR\",\"0.97\",\"AMR\",\"0.016\"],[\"C8614179_B\",\"EUR\",\"0.96\",\"SAS\",\"0.018\"],[\"C8667657\",\"EUR\",\"0.94\",\"AMR\",\"0.023\"],[\"C8186594\",\"EUR\",\"0.97\",\"SAS\",\"0.011\"],[\"C8933068\",\"SAS\",\"0.46\",\"AMR\",\"0.19\"],[\"C8685400\",\"EUR\",\"0.96\",\"AMR\",\"0.017\"],[\"C8314908\",\"EUR\",\"0.96\",\"SAS\",\"0.019\"],[\"C8917292\",\"EUR\",\"0.96\",\"SAS\",\"0.019\"],[\"C8404107\",\"EUR\",\"0.98\",\"SAS\",\"0.01\"],[\"C8268283\",\"EUR\",\"0.95\",\"AMR\",\"0.03\"],[\"C8991687\",\"EUR\",\"0.97\",\"SAS\",\"0.02\"],[\"C8187483\",\"EUR\",\"0.97\",\"AMR\",\"0.013\"],[\"C8500841\",\"EUR\",\"0.98\",\"AMR\",\"0.0071\"],[\"C8372662\",\"EUR\",\"0.95\",\"SAS\",\"0.032\"],[\"C8363243\",\"EUR\",\"0.8\",\"SAS\",\"0.13\"],[\"C8628170\",\"EUR\",\"0.95\",\"SAS\",\"0.022\"]],\"hovertemplate\":\"\\u003cb\\u003e%{hovertext}\\u003c\\u002fb\\u003e\\u003cbr\\u003e\\u003cbr\\u003eID_Group=C8\\u003cbr\\u003ePC1=%{x}\\u003cbr\\u003ePC2=%{y}\\u003cbr\\u003eSample=%{customdata[0]}\\u003cbr\\u003ePred=%{customdata[1]}\\u003cbr\\u003ePrimary_Perc=%{customdata[2]}\\u003cbr\\u003eSecond=%{customdata[3]}\\u003cbr\\u003eSecond_Perc=%{customdata[4]}\\u003cextra\\u003e\\u003c\\u002fextra\\u003e\",\"hovertext\":[\"C8439824\",\"C8440070\",\"C8992487\",\"C8046245\",\"C8719784\",\"C8028049\",\"C8320957\",\"C8973185\",\"C8896744\",\"C8566915\",\"C8916507\",\"C8207616\",\"C8607789\",\"C8949385\",\"C8036290\",\"C8451371\",\"C8360547\",\"C8900381\",\"C8643849\",\"C8876110\",\"C8716254\",\"C8273825\",\"C8124245\",\"C8297061\",\"C8170175\",\"C8689064\",\"C8574255\",\"C8081793\",\"C8808071\",\"C8584714\",\"C8021853\",\"C8643073\",\"C8790955\",\"C8238726\",\"C8219205\",\"C8681671\",\"C8478557\",\"C8770577\",\"C8048662\",\"C8897927\",\"C8615941\",\"C8461665\",\"C8761613\",\"C8985793\",\"C8319806\",\"C8896162\",\"C8363284\",\"C8246413\",\"C8193518\",\"C8704315\",\"C8801527\",\"C8596930\",\"C8810404\",\"C8219541\",\"C8651159\",\"C8495592\",\"C8865309\",\"C8358629\",\"C8659108\",\"C8192476\",\"C8335523\",\"C8506441\",\"C8736037\",\"C8040854\",\"C8278819\",\"C8644106\",\"C8681860\",\"C8519536\",\"C8938114\",\"C8319450\",\"C8397582\",\"C8713498\",\"C8876593\",\"C8257777\",\"C8451688\",\"C8488109\",\"C8450746\",\"C8614148\",\"C8194455\",\"C8240437\",\"C8587599\",\"C8489869\",\"C8081097\",\"C8740455\",\"C8219585\",\"C8271677\",\"C8205925\",\"C8284466\",\"C8237107\",\"C8798010\",\"C8584739\",\"C8191615\",\"C8173027\",\"C8431940\",\"C8870889\",\"C8885328\",\"C8981077\",\"C8614179_A\",\"C8016613\",\"C8921704\",\"C8298170\",\"C8868365\",\"C8395884\",\"C8574156\",\"C8120972\",\"C8108376\",\"C8328750\",\"C8334012\",\"C8190455\",\"C8059802\",\"C8417670\",\"C8359371\",\"C8164464\",\"C8246802\",\"C8387101\",\"C8240661\",\"C8749940\",\"C8070392\",\"C8365573\",\"C8681088\",\"C8803331\",\"C8546542\",\"C8285568\",\"C8704644\",\"C8659700\",\"C8445892\",\"C8114694\",\"C8243782\",\"C8941520\",\"C8047717\",\"C8347151\",\"C8388266\",\"C8069365\",\"C8958600\",\"C8293022\",\"C8564190\",\"C8403653\",\"C8225534\",\"C8035341\",\"C8333328\",\"C8494715\",\"C8098744\",\"C8655078\",\"C8946541\",\"C8852726\",\"C8614179_B\",\"C8667657\",\"C8186594\",\"C8933068\",\"C8685400\",\"C8314908\",\"C8917292\",\"C8404107\",\"C8268283\",\"C8991687\",\"C8187483\",\"C8500841\",\"C8372662\",\"C8363243\",\"C8628170\"],\"legendgroup\":\"C8\",\"marker\":{\"color\":\"#FFA15A\",\"symbol\":\"circle\"},\"mode\":\"markers\",\"name\":\"C8\",\"orientation\":\"v\",\"showlegend\":true,\"x\":[-9.806754236186503,-9.428386651978455,-12.394261261301805,-11.107351444042774,-10.374974063831823,-14.371610258342333,-11.999702191339052,-12.270586080911645,-9.4160333514222,-11.14346777979674,-13.260967674629484,-11.61235565971598,2.0982541523270593,-12.763860528736519,-12.631701032141626,-10.1925461730294,-12.594614870915814,-9.947517547730975,-10.048859574181686,-11.335425010448986,-12.00871484408241,-7.080655927824059,-11.881862169295907,-9.242242992224035,-12.795984821441925,-11.921216388354463,-13.760287176508342,4.402480329724654,-12.238678663608392,-12.100052753851086,-13.517839939594287,-11.2466239880597,-10.455806006266416,11.736260365157506,-10.035001675204825,-10.311519976543233,-12.89846528487132,-10.181396050725581,-15.924142444025398,-10.504269092211883,-7.32370293594852,-11.882771030452492,-13.928470623476493,-10.086188047037691,-12.643502726246084,-14.15290789456045,-5.68971627733769,-8.52795549292965,-15.830137639579071,-11.178624469732966,-9.719517684563348,-11.560852884221188,-12.937418769761495,-14.065661164423041,-12.546361626416934,-13.95652365618255,-15.037837397497366,-10.9458735327311,-14.306784863805108,-12.772463158388847,-9.883934920978449,-8.32108599077307,-15.686731631649344,-12.858060438445838,-9.954296032504939,-10.540781808592696,-11.899967170506242,-11.978423277340921,-9.724027424234418,-10.360421191317092,-14.998765415830482,-10.029680446795371,-11.294827538596797,-11.80599648621416,-11.663099731543781,-7.733924557928109,-10.721487472169285,-9.421042314375274,-12.927798236194759,-13.12778841833953,-14.012263537080855,-12.48638297929303,-9.750429223119797,-11.311927421277549,-13.739874312309828,45.91032177989032,-9.975624707163181,-11.551592169137102,-11.670699275416732,-10.487863077433547,-9.44571007578406,-11.068435609640009,-11.866535511944047,-10.258646054313324,47.96030152207309,-13.146724475673448,-11.680407880023298,-10.18645043615649,-10.331951080740158,-10.060261223781998,-10.505084929095569,-9.570593045303875,-13.84318188143565,-11.209225282183704,-13.398901307584978,-12.146433011463067,-14.092722751493465,-13.258914970708254,-10.853732574130216,-10.613177315061682,-13.450767939113947,-12.536294835665796,-13.750763146557412,-14.052309014951541,-12.504903591387285,-8.86725346200709,-7.53013644070123,-12.143673819510541,-9.15243244511034,-9.608981264296588,-11.101871591408651,-13.964370315799718,-12.753041936934187,-11.225237402677404,-9.82311783534839,-8.938469386113487,-12.149214859521502,-14.082614565258273,-10.25897276798912,-14.142592554249001,-12.374631578038105,-11.559395575834595,-9.61884125715214,-14.749335572345222,-7.2047299468379,-11.636751418356708,-11.75253745425073,-12.27757434342585,-11.826304634330345,-10.921369611691429,-10.469595942586569,-7.730637446447129,-14.92731667190059,-12.021859177150898,-11.610355467693626,-10.795810023110729,-10.110307966599446,-14.640717550407285,-6.577257265682992,-11.412559222765445,-12.890102082007417,-14.010201839253908,-14.611304344344136,-9.697607207668966,-14.723703150868479,-13.319194296313789,-12.436856154999411,-13.856475224267138,-8.751962848243027,-10.37014164890287],\"xaxis\":\"x\",\"y\":[-2.763718401072164,-3.0185589027455357,-3.1739584711779085,-3.894097009751883,-0.758300451999363,-4.065773870549507,-2.247972080869567,-3.0027066858648848,-5.597502281266471,-3.3291740770940086,-3.6879157227773764,-2.140498239641702,0.2520753145371524,-2.862251080616015,-4.0275305851551195,-2.426720407357892,-4.556795989529012,-1.4896172526113765,-2.703814050293089,-4.365875011648533,-3.3505331429290472,13.496593638225418,0.04081760234247354,-3.249011329347029,-4.107665241207691,-4.3644306068890675,-3.346390162037325,76.19785328386727,-3.6150822006765555,-2.14347767123458,-4.128170010444522,-3.0338343621937347,-5.127476426244498,137.8976740373954,-4.198081986368303,-2.4209432377753024,-3.9047016364947504,-3.6249955349758234,-3.235989102859931,-2.875889602491119,-3.050109070941677,-3.8253453923057767,-2.9803188532977356,-4.031363796555785,-4.066239963378381,-4.919751398300762,16.170414685286833,19.844867268029997,-3.348721036567134,-1.8476912321147676,19.931766920143822,-3.145960740031814,-4.213098527237118,-2.118685897664887,-2.49456471174794,-4.341785318679923,-4.7095164934552685,-2.027979029820446,-4.02134543888106,-4.253080798205388,-3.542283547859322,-3.699084286829527,-2.677866252112039,-4.133802003037465,-2.027171258861201,-1.6302371728554583,0.3674067114656907,-2.9180775096083496,-4.062313041787022,-4.111803196938285,-2.5936023000928823,-2.837828699747732,-6.193644757230674,-4.13975221712177,-2.8174754840833858,-2.024349472609158,-5.070364491549376,-3.5071968842548493,-4.813587042914383,-3.618084289699001,-2.8964715519244764,-5.486264409607888,-5.073463153055988,-4.437807613455085,-2.5780227314271906,-7.27807670825871,-4.828803826039138,-5.130330873402912,-3.2246045543664823,-3.324826554246557,-3.061626361315921,-4.239989613834338,-0.2802146424011283,-3.1077659000296034,-7.13488888556749,-2.7818493084904614,-4.879707434073585,-3.291301932601111,-3.443474013082223,-3.6689200832214404,-2.847853984617631,-2.547310310986427,-2.59102309727681,-4.117841704437027,-4.192093255655066,-3.9531776188103027,0.36415893562031626,-3.6578550848113367,-3.8338932095102884,-4.893395552303453,-3.778696371697432,-3.764753766946123,-4.49032935384021,-3.7301934593701978,-4.315803286492983,-4.51156722789975,20.798123174583406,-4.0190061696421,-3.2657302773501673,-3.7313052695416253,-4.026818842671719,-3.514673386696629,-5.100594313456634,-3.992837614339853,-3.1123276857476436,14.88475103622938,-3.9255132179141254,-4.136879364372078,-5.728696054400635,-3.878455897551896,-2.9827315470922064,-5.265758595253513,-4.741213342032702,-3.8471852126998947,27.719486523802697,-4.236046525577439,-4.50933127779235,-3.638327578323565,0.19369687164245203,-4.283863413530795,-3.094869781939023,-4.102156738473819,-3.987068988861193,-4.11602837809453,-5.445900948808356,-4.073366702415428,-4.759925544558313,-2.6181162389112407,13.921765546513479,-3.05903656186108,-2.9277279306925337,-3.639871870937815,-1.8433997391033556,-0.814980576687302,-3.176892964591645,-1.862449348796887,-4.895854036238657,-4.063113378218358,-4.302189435360606,-1.959027383046573],\"yaxis\":\"y\",\"type\":\"scatter\"},{\"customdata\":[[\"C2743496\",\"EAS\",\"0.98\",\"AMR\",\"0.0092\"],[\"C2213572\",\"EAS\",\"0.97\",\"AMR\",\"0.012\"],[\"C2185794\",\"EAS\",\"0.98\",\"AMR\",\"0.0096\"],[\"C2893567\",\"EAS\",\"0.98\",\"AMR\",\"0.0089\"],[\"C2719688\",\"EAS\",\"0.96\",\"AMR\",\"0.015\"],[\"C2967032\",\"EAS\",\"0.97\",\"AMR\",\"0.014\"],[\"C2488119\",\"EAS\",\"0.98\",\"AMR\",\"0.0078\"],[\"C2764972\",\"EAS\",\"0.98\",\"AMR\",\"0.013\"],[\"C2269941\",\"EAS\",\"0.95\",\"AMR\",\"0.021\"],[\"C2756719\",\"EAS\",\"0.96\",\"AMR\",\"0.022\"],[\"C2501965\",\"EAS\",\"0.92\",\"AMR\",\"0.035\"],[\"C2695683_B\",\"EAS\",\"0.97\",\"AMR\",\"0.015\"],[\"C2435694\",\"EAS\",\"0.96\",\"AMR\",\"0.019\"],[\"C2726948\",\"EAS\",\"0.97\",\"AMR\",\"0.014\"],[\"C2343848\",\"EAS\",\"0.96\",\"AMR\",\"0.019\"],[\"C2854608\",\"EAS\",\"0.97\",\"AMR\",\"0.016\"],[\"C2308186\",\"EAS\",\"0.97\",\"AMR\",\"0.015\"],[\"C2676513\",\"EAS\",\"0.97\",\"AMR\",\"0.013\"],[\"C2442839\",\"EAS\",\"0.98\",\"AMR\",\"0.0069\"],[\"C2946462\",\"EAS\",\"0.98\",\"AMR\",\"0.012\"],[\"C2044638\",\"EAS\",\"0.94\",\"AMR\",\"0.033\"],[\"C2753437\",\"EAS\",\"0.98\",\"AMR\",\"0.01\"],[\"C2297508\",\"EAS\",\"0.98\",\"AMR\",\"0.011\"],[\"C2563157\",\"EAS\",\"0.95\",\"AMR\",\"0.024\"],[\"C2657436\",\"EAS\",\"0.95\",\"AMR\",\"0.021\"],[\"C2547590\",\"EAS\",\"0.97\",\"AMR\",\"0.016\"],[\"C2347086\",\"EAS\",\"0.97\",\"AMR\",\"0.015\"],[\"C2806985\",\"EAS\",\"0.97\",\"SAS\",\"0.01\"],[\"C2575592\",\"EAS\",\"0.96\",\"AMR\",\"0.021\"],[\"C2091073\",\"EAS\",\"0.97\",\"AMR\",\"0.0095\"],[\"C2082459\",\"EAS\",\"0.96\",\"AMR\",\"0.021\"],[\"C2659472\",\"AFR\",\"0.79\",\"SAS\",\"0.11\"],[\"C2695683_A\",\"EAS\",\"0.97\",\"AMR\",\"0.015\"],[\"C2392071\",\"EAS\",\"0.89\",\"AMR\",\"0.061\"],[\"C2900292\",\"EAS\",\"0.98\",\"AMR\",\"0.012\"],[\"C2120252\",\"EAS\",\"0.96\",\"AMR\",\"0.019\"],[\"C2271854\",\"EAS\",\"0.95\",\"AMR\",\"0.023\"],[\"C2429553\",\"EAS\",\"0.97\",\"AMR\",\"0.016\"],[\"C2964148\",\"EAS\",\"0.97\",\"AMR\",\"0.014\"],[\"C2963120\",\"EAS\",\"0.97\",\"AMR\",\"0.014\"],[\"C2958726\",\"EAS\",\"0.97\",\"AMR\",\"0.016\"],[\"C2960443\",\"EAS\",\"0.96\",\"AMR\",\"0.022\"],[\"C2728218\",\"EAS\",\"0.98\",\"AMR\",\"0.01\"],[\"C2794096\",\"EAS\",\"0.98\",\"AMR\",\"0.0083\"],[\"C2646930\",\"EAS\",\"0.98\",\"AMR\",\"0.01\"],[\"C2952024\",\"EAS\",\"0.98\",\"AMR\",\"0.011\"],[\"C2753421\",\"EAS\",\"0.96\",\"AMR\",\"0.018\"],[\"C2899426\",\"EAS\",\"0.97\",\"AMR\",\"0.017\"],[\"C2905055\",\"EAS\",\"0.98\",\"AMR\",\"0.011\"],[\"C2375657\",\"EAS\",\"0.97\",\"AMR\",\"0.017\"],[\"C2472941\",\"EAS\",\"0.98\",\"AMR\",\"0.0078\"],[\"C2777597\",\"EAS\",\"0.95\",\"AMR\",\"0.025\"],[\"C2711568\",\"EAS\",\"0.95\",\"AMR\",\"0.029\"],[\"C2278135\",\"EAS\",\"0.97\",\"AMR\",\"0.011\"],[\"C2066334\",\"EAS\",\"0.98\",\"AMR\",\"0.0099\"],[\"C2131184\",\"EAS\",\"0.97\",\"AMR\",\"0.016\"],[\"C2558702\",\"EAS\",\"0.97\",\"AMR\",\"0.012\"],[\"C2460187\",\"EAS\",\"0.98\",\"AMR\",\"0.012\"],[\"C2693056\",\"EAS\",\"0.96\",\"AMR\",\"0.015\"],[\"C2735834\",\"EAS\",\"0.94\",\"AMR\",\"0.03\"],[\"C2371710\",\"EAS\",\"0.97\",\"AMR\",\"0.012\"],[\"C2535183\",\"EAS\",\"0.96\",\"AMR\",\"0.02\"],[\"C2792284\",\"EAS\",\"0.97\",\"AMR\",\"0.011\"],[\"C2095437\",\"EAS\",\"0.97\",\"AMR\",\"0.014\"],[\"C2191909\",\"EAS\",\"0.98\",\"AMR\",\"0.0072\"],[\"C2594695\",\"EAS\",\"0.94\",\"AMR\",\"0.032\"],[\"C2337466\",\"EAS\",\"0.96\",\"AMR\",\"0.019\"],[\"C2284019\",\"EAS\",\"0.98\",\"AMR\",\"0.0069\"],[\"C2712373\",\"EAS\",\"0.96\",\"AMR\",\"0.02\"],[\"C2495200\",\"EAS\",\"0.97\",\"AMR\",\"0.013\"],[\"C2842150\",\"EAS\",\"0.99\",\"AMR\",\"0.006\"],[\"C2851117\",\"EAS\",\"0.97\",\"AMR\",\"0.014\"],[\"C2978591\",\"EAS\",\"0.96\",\"AMR\",\"0.023\"],[\"C2901838\",\"EAS\",\"0.96\",\"AMR\",\"0.019\"],[\"C2884087\",\"EAS\",\"0.96\",\"AMR\",\"0.018\"],[\"C2814454\",\"EAS\",\"0.94\",\"AMR\",\"0.03\"],[\"C2918178\",\"EAS\",\"0.98\",\"AMR\",\"0.0055\"],[\"C2248002\",\"EAS\",\"0.96\",\"AMR\",\"0.018\"],[\"C2414698\",\"EAS\",\"0.98\",\"AMR\",\"0.013\"],[\"C2487949\",\"EAS\",\"0.97\",\"AMR\",\"0.017\"],[\"C2196396_A\",\"EAS\",\"0.97\",\"AMR\",\"0.014\"],[\"C2400164\",\"EAS\",\"0.95\",\"AMR\",\"0.028\"],[\"C2575795\",\"EAS\",\"0.96\",\"AMR\",\"0.021\"],[\"C2717299\",\"EAS\",\"0.97\",\"AMR\",\"0.013\"],[\"C2077527\",\"EAS\",\"0.96\",\"AMR\",\"0.02\"],[\"C2451842\",\"EAS\",\"0.97\",\"AMR\",\"0.018\"],[\"C2013700\",\"EAS\",\"0.95\",\"AMR\",\"0.019\"],[\"C2440130\",\"EAS\",\"0.97\",\"AMR\",\"0.016\"],[\"C2615711\",\"EAS\",\"0.97\",\"AMR\",\"0.016\"],[\"C2420529\",\"EAS\",\"0.97\",\"AMR\",\"0.015\"],[\"C2272037\",\"EAS\",\"0.98\",\"AMR\",\"0.01\"],[\"C2974662\",\"EAS\",\"0.94\",\"AMR\",\"0.027\"],[\"C2880838\",\"EAS\",\"0.98\",\"AMR\",\"0.011\"],[\"C2656017\",\"EUR\",\"0.94\",\"SAS\",\"0.027\"],[\"C2720398\",\"EAS\",\"0.97\",\"AMR\",\"0.016\"],[\"C2869615\",\"EAS\",\"0.97\",\"AMR\",\"0.013\"],[\"C2851928\",\"EAS\",\"0.98\",\"AMR\",\"0.012\"],[\"C2284359\",\"EAS\",\"0.97\",\"AMR\",\"0.012\"],[\"C2525049\",\"EAS\",\"0.95\",\"AMR\",\"0.031\"],[\"C2211784\",\"EAS\",\"0.96\",\"AMR\",\"0.021\"],[\"C2273861\",\"EAS\",\"0.98\",\"AMR\",\"0.008\"],[\"C2412216\",\"EAS\",\"0.97\",\"AMR\",\"0.014\"],[\"C2196396_B\",\"EAS\",\"0.97\",\"AMR\",\"0.014\"],[\"C2256485\",\"EAS\",\"0.98\",\"AMR\",\"0.0083\"],[\"C2965113\",\"EAS\",\"0.97\",\"AMR\",\"0.014\"],[\"C2334072\",\"EAS\",\"0.97\",\"AMR\",\"0.013\"],[\"C2743556\",\"EAS\",\"0.97\",\"AMR\",\"0.012\"],[\"C2942862\",\"EAS\",\"0.96\",\"AMR\",\"0.02\"],[\"C2599062\",\"EAS\",\"0.97\",\"SAS\",\"0.013\"],[\"C2419250\",\"EAS\",\"0.97\",\"AMR\",\"0.015\"],[\"C2583097\",\"EAS\",\"0.97\",\"AMR\",\"0.016\"]],\"hovertemplate\":\"\\u003cb\\u003e%{hovertext}\\u003c\\u002fb\\u003e\\u003cbr\\u003e\\u003cbr\\u003eID_Group=C2\\u003cbr\\u003ePC1=%{x}\\u003cbr\\u003ePC2=%{y}\\u003cbr\\u003eSample=%{customdata[0]}\\u003cbr\\u003ePred=%{customdata[1]}\\u003cbr\\u003ePrimary_Perc=%{customdata[2]}\\u003cbr\\u003eSecond=%{customdata[3]}\\u003cbr\\u003eSecond_Perc=%{customdata[4]}\\u003cextra\\u003e\\u003c\\u002fextra\\u003e\",\"hovertext\":[\"C2743496\",\"C2213572\",\"C2185794\",\"C2893567\",\"C2719688\",\"C2967032\",\"C2488119\",\"C2764972\",\"C2269941\",\"C2756719\",\"C2501965\",\"C2695683_B\",\"C2435694\",\"C2726948\",\"C2343848\",\"C2854608\",\"C2308186\",\"C2676513\",\"C2442839\",\"C2946462\",\"C2044638\",\"C2753437\",\"C2297508\",\"C2563157\",\"C2657436\",\"C2547590\",\"C2347086\",\"C2806985\",\"C2575592\",\"C2091073\",\"C2082459\",\"C2659472\",\"C2695683_A\",\"C2392071\",\"C2900292\",\"C2120252\",\"C2271854\",\"C2429553\",\"C2964148\",\"C2963120\",\"C2958726\",\"C2960443\",\"C2728218\",\"C2794096\",\"C2646930\",\"C2952024\",\"C2753421\",\"C2899426\",\"C2905055\",\"C2375657\",\"C2472941\",\"C2777597\",\"C2711568\",\"C2278135\",\"C2066334\",\"C2131184\",\"C2558702\",\"C2460187\",\"C2693056\",\"C2735834\",\"C2371710\",\"C2535183\",\"C2792284\",\"C2095437\",\"C2191909\",\"C2594695\",\"C2337466\",\"C2284019\",\"C2712373\",\"C2495200\",\"C2842150\",\"C2851117\",\"C2978591\",\"C2901838\",\"C2884087\",\"C2814454\",\"C2918178\",\"C2248002\",\"C2414698\",\"C2487949\",\"C2196396_A\",\"C2400164\",\"C2575795\",\"C2717299\",\"C2077527\",\"C2451842\",\"C2013700\",\"C2440130\",\"C2615711\",\"C2420529\",\"C2272037\",\"C2974662\",\"C2880838\",\"C2656017\",\"C2720398\",\"C2869615\",\"C2851928\",\"C2284359\",\"C2525049\",\"C2211784\",\"C2273861\",\"C2412216\",\"C2196396_B\",\"C2256485\",\"C2965113\",\"C2334072\",\"C2743556\",\"C2942862\",\"C2599062\",\"C2419250\",\"C2583097\"],\"legendgroup\":\"C2\",\"marker\":{\"color\":\"#19d3f3\",\"symbol\":\"circle\"},\"mode\":\"markers\",\"name\":\"C2\",\"orientation\":\"v\",\"showlegend\":true,\"x\":[51.05191645853108,48.891262499811546,50.075818765047764,47.47192223577169,49.05337334530493,49.14258946753861,51.60930013058498,47.94977566133575,43.29271788683686,47.367197752772086,45.379018265512855,51.394256433893155,44.81377789730106,46.915938308703794,48.468400950682465,45.141473661834496,47.61174154471114,47.77729034496793,48.89440442170433,49.92276423806767,48.40308302358977,47.33791056467411,48.17456340783839,47.157648934613775,46.90062570930832,44.20182052365923,47.38464577238312,45.30103404265658,45.89920315150872,48.700831535128366,49.15984593583943,1.218094142525453,51.38985925698081,45.75729419592737,48.18914660027483,45.339572634122185,43.69465989751266,47.684996236109775,48.58497413154195,47.14585258550196,51.229994576483755,46.90783439053773,49.36851913400386,50.69673118659418,49.755164908903645,47.65226525847432,46.764978022897665,48.842758447392654,48.16337581818785,52.973659143248604,53.595913486220816,47.12872625205263,47.43373681115124,49.665505763739404,45.73095864914113,49.742406251678716,46.16780341805598,52.51556973258682,47.91348716029481,45.8596059213469,45.44450396258064,48.27700560750795,50.70904129945863,50.130048308412604,48.245994342196944,51.00309713791324,46.59631259208463,52.00266348780905,46.78903159618314,48.701357814081234,52.640639775620635,49.70966001580964,47.04944888033579,47.93864843379574,49.58970613110271,44.7328504541344,51.64718273944224,47.43044504899598,47.000968638806,46.65460546883088,50.01406098635675,44.812470644142394,47.44104475675493,47.89072259074136,44.36720033632227,47.875446365247605,46.747465734178654,46.55213166135578,47.43959644799398,47.12188712339733,48.19064029358172,51.53391092869527,47.76756430942511,-10.296316195283445,51.35057885907533,45.64424402844191,48.460577050121735,44.52665817750574,45.26717611127673,47.21630125855293,46.16242093022487,49.2540523800478,49.612156834760455,50.404505249878746,51.962798559539664,48.877631113721414,48.41708947269464,44.420839628878284,49.97129367026918,47.3068750451923,48.117110133311925],\"xaxis\":\"x\",\"y\":[-5.439372612075555,-5.9852551677093295,-5.225781105633979,-4.7505598388061205,-4.781221974891773,-6.651984680308363,-5.8335915264676865,-6.079341626239765,-6.169489558741765,-4.864825259413229,-4.590327300717171,-5.738853186622238,-7.898865943994642,-5.200723821958813,-6.151016354776872,-6.145940179148079,-6.033265113949026,-5.374527715540823,-5.268121830222272,-7.60960115943695,-6.952816127010592,-6.931176804389577,-7.540179621661825,-6.248795767622553,-5.479955097300816,-6.668400953732733,-5.512635539055046,-6.2184383744342,-6.845690913068236,-5.646773782392724,-3.0608327836046296,51.32929664235439,-5.820277712936262,-5.389522009968777,-5.58740430752379,-6.149557107117661,-6.344362153919086,-8.127769288351987,-5.627516972686266,-3.7014605119850352,-5.648491775805552,-4.537766662397026,-5.352457646559265,-6.268581468143327,-7.378751241481823,-6.8109805261313285,-5.564527299131116,-5.54296131541688,-5.89767632613183,-6.367231392764646,-5.857680382584662,-6.450360402419015,-5.84200279313947,-5.361027712193619,-6.018410087496258,-5.104751638856534,-7.345845655411361,-5.2365632790830805,-7.735908297997667,-5.128340955471187,-5.867117484322704,-6.549531238273311,-4.898384093692754,-6.8945269581216895,-5.204962868888429,-6.523380631358727,-6.874566532484131,-5.518948030723596,-6.641681606580697,-4.296973952055154,-5.4877242974834815,-5.6325757836949455,-5.729577367037128,-3.449284689487699,-6.213352454405257,-6.284142543340503,-4.759486382524387,-4.6313114724184175,-4.900035615032799,-6.888202546033941,-7.104633801093466,-7.050852781812306,-5.474417476361694,-5.0947019973966805,-4.1718663598025385,-6.560338182398162,-6.222763550755734,-5.186260043226578,-6.101764246524737,-4.038034638010736,-7.594551636936303,-5.765038027797731,-5.3067841992497655,-1.434974536371545,-5.600977217446552,-5.505774698834281,-6.783253162563354,-6.009821193591222,-6.918387108216855,-5.620293942361969,-6.714848433377466,-4.5077131858054456,-7.454723894856231,-6.609769139111155,-4.83304342387166,-4.0343289582792154,-5.62842924035317,-5.999965785520339,-5.129041481837851,-7.878618949415587,-5.9290360360497205],\"yaxis\":\"y\",\"type\":\"scatter\"},{\"customdata\":[[\"C1419921\",\"EUR\",\"0.94\",\"SAS\",\"0.037\"],[\"C1268869\",\"EUR\",\"0.89\",\"SAS\",\"0.075\"],[\"C1099243\",\"EUR\",\"0.79\",\"SAS\",\"0.084\"],[\"C1371790\",\"EAS\",\"0.97\",\"SAS\",\"0.0095\"],[\"C1536424\",\"EUR\",\"0.97\",\"SAS\",\"0.014\"],[\"C1721225\",\"EUR\",\"0.93\",\"SAS\",\"0.047\"]],\"hovertemplate\":\"\\u003cb\\u003e%{hovertext}\\u003c\\u002fb\\u003e\\u003cbr\\u003e\\u003cbr\\u003eID_Group=C1\\u003cbr\\u003ePC1=%{x}\\u003cbr\\u003ePC2=%{y}\\u003cbr\\u003eSample=%{customdata[0]}\\u003cbr\\u003ePred=%{customdata[1]}\\u003cbr\\u003ePrimary_Perc=%{customdata[2]}\\u003cbr\\u003eSecond=%{customdata[3]}\\u003cbr\\u003eSecond_Perc=%{customdata[4]}\\u003cextra\\u003e\\u003c\\u002fextra\\u003e\",\"hovertext\":[\"C1419921\",\"C1268869\",\"C1099243\",\"C1371790\",\"C1536424\",\"C1721225\"],\"legendgroup\":\"C1\",\"marker\":{\"color\":\"#FF6692\",\"symbol\":\"circle\"},\"mode\":\"markers\",\"name\":\"C1\",\"orientation\":\"v\",\"showlegend\":true,\"x\":[-13.871174501445841,-11.90322598617439,-9.965653071674444,43.949243662388014,-7.73055839603192,-12.14579859677666],\"xaxis\":\"x\",\"y\":[-3.718480373773436,-0.387102416886432,14.613424682039861,-7.044249160955288,-0.4450987385130846,-4.462198508629611],\"yaxis\":\"y\",\"type\":\"scatter\"},{\"customdata\":[[\"C5901838\",\"EUR\",\"0.64\",\"SAS\",\"0.27\"],[\"C5041438\",\"EUR\",\"0.95\",\"AMR\",\"0.019\"],[\"C5191909\",\"EUR\",\"0.84\",\"SAS\",\"0.12\"],[\"C5792284\",\"EUR\",\"0.85\",\"SAS\",\"0.095\"],[\"C5095437\",\"EUR\",\"0.6\",\"SAS\",\"0.33\"],[\"C5845278\",\"EUR\",\"0.91\",\"SAS\",\"0.044\"],[\"C5095146\",\"EUR\",\"0.96\",\"SAS\",\"0.019\"],[\"C5667839\",\"EUR\",\"0.97\",\"SAS\",\"0.014\"],[\"C5975717\",\"EUR\",\"0.82\",\"SAS\",\"0.14\"],[\"C5211557\",\"EUR\",\"0.75\",\"SAS\",\"0.21\"],[\"C5256485\",\"EUR\",\"0.51\",\"SAS\",\"0.41\"],[\"C5599062\",\"EUR\",\"0.87\",\"SAS\",\"0.091\"],[\"C5942862\",\"EUR\",\"0.87\",\"SAS\",\"0.08\"],[\"C5343848\",\"EUR\",\"0.82\",\"SAS\",\"0.13\"],[\"C5526923\",\"EUR\",\"0.86\",\"SAS\",\"0.097\"],[\"C5044638\",\"EUR\",\"0.77\",\"SAS\",\"0.19\"],[\"C5156906\",\"EUR\",\"0.95\",\"SAS\",\"0.026\"],[\"C5753437\",\"SAS\",\"0.6\",\"EUR\",\"0.32\"],[\"C5466760\",\"EUR\",\"0.77\",\"SAS\",\"0.16\"],[\"C5222088\",\"EUR\",\"0.85\",\"SAS\",\"0.11\"],[\"C5775742\",\"EUR\",\"0.89\",\"SAS\",\"0.063\"],[\"C5037290\",\"EUR\",\"0.85\",\"SAS\",\"0.074\"],[\"C5922853\",\"EUR\",\"0.84\",\"SAS\",\"0.096\"],[\"C5989630\",\"EUR\",\"0.8\",\"SAS\",\"0.15\"],[\"C5244188\",\"EUR\",\"0.96\",\"SAS\",\"0.019\"],[\"C5048024\",\"EUR\",\"0.84\",\"SAS\",\"0.13\"],[\"C5575592\",\"SAS\",\"0.68\",\"EUR\",\"0.26\"],[\"C5795180\",\"EUR\",\"0.76\",\"SAS\",\"0.15\"],[\"C5191349\",\"EUR\",\"0.64\",\"SAS\",\"0.27\"],[\"C5425462\",\"EUR\",\"0.49\",\"SAS\",\"0.4\"]],\"hovertemplate\":\"\\u003cb\\u003e%{hovertext}\\u003c\\u002fb\\u003e\\u003cbr\\u003e\\u003cbr\\u003eID_Group=C5\\u003cbr\\u003ePC1=%{x}\\u003cbr\\u003ePC2=%{y}\\u003cbr\\u003eSample=%{customdata[0]}\\u003cbr\\u003ePred=%{customdata[1]}\\u003cbr\\u003ePrimary_Perc=%{customdata[2]}\\u003cbr\\u003eSecond=%{customdata[3]}\\u003cbr\\u003eSecond_Perc=%{customdata[4]}\\u003cextra\\u003e\\u003c\\u002fextra\\u003e\",\"hovertext\":[\"C5901838\",\"C5041438\",\"C5191909\",\"C5792284\",\"C5095437\",\"C5845278\",\"C5095146\",\"C5667839\",\"C5975717\",\"C5211557\",\"C5256485\",\"C5599062\",\"C5942862\",\"C5343848\",\"C5526923\",\"C5044638\",\"C5156906\",\"C5753437\",\"C5466760\",\"C5222088\",\"C5775742\",\"C5037290\",\"C5922853\",\"C5989630\",\"C5244188\",\"C5048024\",\"C5575592\",\"C5795180\",\"C5191349\",\"C5425462\"],\"legendgroup\":\"C5\",\"marker\":{\"color\":\"#B6E880\",\"symbol\":\"circle\"},\"mode\":\"markers\",\"name\":\"C5\",\"orientation\":\"v\",\"showlegend\":true,\"x\":[-10.24280254069566,-12.887291895642269,-11.344011471500345,-10.465268906099006,-13.234452956393994,-10.431027785874402,-13.059275399481255,-12.135063709857056,-11.504171324069066,-11.991874856866064,-8.121806146529275,-10.619507827360584,-12.384795649870439,-12.04587382959874,-9.268227804584397,-11.627039091105038,-12.604330397762316,-9.990929935088396,-7.714890862278746,-14.143432756155294,-8.212268114742407,-11.743699786275982,-8.780205151886062,-10.44025763393372,-9.434183693303861,-11.154484328190913,-6.9568624778914305,-12.055921325286777,-7.548482210931884,-9.755680963798275],\"xaxis\":\"x\",\"y\":[2.752961447353491,-1.1027905618788498,0.40206067056166156,-1.2618183835327146,0.41076799820851184,4.125838037725982,-4.132358943473346,-4.315638387430133,1.1887045302286248,-1.1642883708548286,0.4699158626542694,-0.8252748490247968,-3.9458792563304,-1.2831009212390816,-3.551090830229272,1.0808660884558492,-3.8453504814816686,-2.1655332931831426,-3.537008032077203,0.8594417305976506,-5.087229284303089,0.9921166017957137,-3.2606059792982074,0.35104265247480043,-1.266181226564859,-2.707351402399986,-2.0389647700319298,-0.3030597878249005,2.9556333498224805,5.40059504003883],\"yaxis\":\"y\",\"type\":\"scatter\"},{\"customdata\":[[\"C6657611\",\"EUR\",\"0.95\",\"SAS\",\"0.024\"],[\"C6281807\",\"EUR\",\"0.94\",\"SAS\",\"0.029\"],[\"C6061051\",\"EUR\",\"0.94\",\"AMR\",\"0.034\"],[\"C6514151\",\"EUR\",\"0.93\",\"SAS\",\"0.046\"]],\"hovertemplate\":\"\\u003cb\\u003e%{hovertext}\\u003c\\u002fb\\u003e\\u003cbr\\u003e\\u003cbr\\u003eID_Group=C6\\u003cbr\\u003ePC1=%{x}\\u003cbr\\u003ePC2=%{y}\\u003cbr\\u003eSample=%{customdata[0]}\\u003cbr\\u003ePred=%{customdata[1]}\\u003cbr\\u003ePrimary_Perc=%{customdata[2]}\\u003cbr\\u003eSecond=%{customdata[3]}\\u003cbr\\u003eSecond_Perc=%{customdata[4]}\\u003cextra\\u003e\\u003c\\u002fextra\\u003e\",\"hovertext\":[\"C6657611\",\"C6281807\",\"C6061051\",\"C6514151\"],\"legendgroup\":\"C6\",\"marker\":{\"color\":\"#FF97FF\",\"symbol\":\"circle\"},\"mode\":\"markers\",\"name\":\"C6\",\"orientation\":\"v\",\"showlegend\":true,\"x\":[-12.947477681366433,-9.220932579991285,-10.38070514494221,-12.29066030206702],\"xaxis\":\"x\",\"y\":[-3.573505725328391,-3.483637523941354,-3.9504109772418405,0.5792747676699316],\"yaxis\":\"y\",\"type\":\"scatter\"},{\"customdata\":[[\"C4013619\",\"EUR\",\"0.98\",\"AMR\",\"0.0077\"],[\"C4934163\",\"EAS\",\"0.97\",\"AMR\",\"0.014\"],[\"C4850216\",\"SAS\",\"0.79\",\"EUR\",\"0.13\"],[\"C4566059\",\"EUR\",\"0.88\",\"SAS\",\"0.089\"],[\"C4261455\",\"EUR\",\"0.88\",\"SAS\",\"0.064\"],[\"C4723222\",\"EUR\",\"0.89\",\"SAS\",\"0.069\"]],\"hovertemplate\":\"\\u003cb\\u003e%{hovertext}\\u003c\\u002fb\\u003e\\u003cbr\\u003e\\u003cbr\\u003eID_Group=C4\\u003cbr\\u003ePC1=%{x}\\u003cbr\\u003ePC2=%{y}\\u003cbr\\u003eSample=%{customdata[0]}\\u003cbr\\u003ePred=%{customdata[1]}\\u003cbr\\u003ePrimary_Perc=%{customdata[2]}\\u003cbr\\u003eSecond=%{customdata[3]}\\u003cbr\\u003eSecond_Perc=%{customdata[4]}\\u003cextra\\u003e\\u003c\\u002fextra\\u003e\",\"hovertext\":[\"C4013619\",\"C4934163\",\"C4850216\",\"C4566059\",\"C4261455\",\"C4723222\"],\"legendgroup\":\"C4\",\"marker\":{\"color\":\"#FECB52\",\"symbol\":\"circle\"},\"mode\":\"markers\",\"name\":\"C4\",\"orientation\":\"v\",\"showlegend\":true,\"x\":[-8.659026409733585,52.2813338215372,-5.444542293579824,-12.306309332421476,-10.531233498392211,-10.328470400131547],\"xaxis\":\"x\",\"y\":[-6.09537314111657,-6.82184454561812,0.38279028699220485,-3.550581269385214,-1.9259190114701497,0.49069225405270334],\"yaxis\":\"y\",\"type\":\"scatter\"}],                        {\"template\":{\"data\":{\"histogram2dcontour\":[{\"type\":\"histogram2dcontour\",\"colorbar\":{\"outlinewidth\":0,\"ticks\":\"\"},\"colorscale\":[[0.0,\"#0d0887\"],[0.1111111111111111,\"#46039f\"],[0.2222222222222222,\"#7201a8\"],[0.3333333333333333,\"#9c179e\"],[0.4444444444444444,\"#bd3786\"],[0.5555555555555556,\"#d8576b\"],[0.6666666666666666,\"#ed7953\"],[0.7777777777777778,\"#fb9f3a\"],[0.8888888888888888,\"#fdca26\"],[1.0,\"#f0f921\"]]}],\"choropleth\":[{\"type\":\"choropleth\",\"colorbar\":{\"outlinewidth\":0,\"ticks\":\"\"}}],\"histogram2d\":[{\"type\":\"histogram2d\",\"colorbar\":{\"outlinewidth\":0,\"ticks\":\"\"},\"colorscale\":[[0.0,\"#0d0887\"],[0.1111111111111111,\"#46039f\"],[0.2222222222222222,\"#7201a8\"],[0.3333333333333333,\"#9c179e\"],[0.4444444444444444,\"#bd3786\"],[0.5555555555555556,\"#d8576b\"],[0.6666666666666666,\"#ed7953\"],[0.7777777777777778,\"#fb9f3a\"],[0.8888888888888888,\"#fdca26\"],[1.0,\"#f0f921\"]]}],\"heatmap\":[{\"type\":\"heatmap\",\"colorbar\":{\"outlinewidth\":0,\"ticks\":\"\"},\"colorscale\":[[0.0,\"#0d0887\"],[0.1111111111111111,\"#46039f\"],[0.2222222222222222,\"#7201a8\"],[0.3333333333333333,\"#9c179e\"],[0.4444444444444444,\"#bd3786\"],[0.5555555555555556,\"#d8576b\"],[0.6666666666666666,\"#ed7953\"],[0.7777777777777778,\"#fb9f3a\"],[0.8888888888888888,\"#fdca26\"],[1.0,\"#f0f921\"]]}],\"heatmapgl\":[{\"type\":\"heatmapgl\",\"colorbar\":{\"outlinewidth\":0,\"ticks\":\"\"},\"colorscale\":[[0.0,\"#0d0887\"],[0.1111111111111111,\"#46039f\"],[0.2222222222222222,\"#7201a8\"],[0.3333333333333333,\"#9c179e\"],[0.4444444444444444,\"#bd3786\"],[0.5555555555555556,\"#d8576b\"],[0.6666666666666666,\"#ed7953\"],[0.7777777777777778,\"#fb9f3a\"],[0.8888888888888888,\"#fdca26\"],[1.0,\"#f0f921\"]]}],\"contourcarpet\":[{\"type\":\"contourcarpet\",\"colorbar\":{\"outlinewidth\":0,\"ticks\":\"\"}}],\"contour\":[{\"type\":\"contour\",\"colorbar\":{\"outlinewidth\":0,\"ticks\":\"\"},\"colorscale\":[[0.0,\"#0d0887\"],[0.1111111111111111,\"#46039f\"],[0.2222222222222222,\"#7201a8\"],[0.3333333333333333,\"#9c179e\"],[0.4444444444444444,\"#bd3786\"],[0.5555555555555556,\"#d8576b\"],[0.6666666666666666,\"#ed7953\"],[0.7777777777777778,\"#fb9f3a\"],[0.8888888888888888,\"#fdca26\"],[1.0,\"#f0f921\"]]}],\"surface\":[{\"type\":\"surface\",\"colorbar\":{\"outlinewidth\":0,\"ticks\":\"\"},\"colorscale\":[[0.0,\"#0d0887\"],[0.1111111111111111,\"#46039f\"],[0.2222222222222222,\"#7201a8\"],[0.3333333333333333,\"#9c179e\"],[0.4444444444444444,\"#bd3786\"],[0.5555555555555556,\"#d8576b\"],[0.6666666666666666,\"#ed7953\"],[0.7777777777777778,\"#fb9f3a\"],[0.8888888888888888,\"#fdca26\"],[1.0,\"#f0f921\"]]}],\"mesh3d\":[{\"type\":\"mesh3d\",\"colorbar\":{\"outlinewidth\":0,\"ticks\":\"\"}}],\"scatter\":[{\"fillpattern\":{\"fillmode\":\"overlay\",\"size\":10,\"solidity\":0.2},\"type\":\"scatter\"}],\"parcoords\":[{\"type\":\"parcoords\",\"line\":{\"colorbar\":{\"outlinewidth\":0,\"ticks\":\"\"}}}],\"scatterpolargl\":[{\"type\":\"scatterpolargl\",\"marker\":{\"colorbar\":{\"outlinewidth\":0,\"ticks\":\"\"}}}],\"bar\":[{\"error_x\":{\"color\":\"#2a3f5f\"},\"error_y\":{\"color\":\"#2a3f5f\"},\"marker\":{\"line\":{\"color\":\"#E5ECF6\",\"width\":0.5},\"pattern\":{\"fillmode\":\"overlay\",\"size\":10,\"solidity\":0.2}},\"type\":\"bar\"}],\"scattergeo\":[{\"type\":\"scattergeo\",\"marker\":{\"colorbar\":{\"outlinewidth\":0,\"ticks\":\"\"}}}],\"scatterpolar\":[{\"type\":\"scatterpolar\",\"marker\":{\"colorbar\":{\"outlinewidth\":0,\"ticks\":\"\"}}}],\"histogram\":[{\"marker\":{\"pattern\":{\"fillmode\":\"overlay\",\"size\":10,\"solidity\":0.2}},\"type\":\"histogram\"}],\"scattergl\":[{\"type\":\"scattergl\",\"marker\":{\"colorbar\":{\"outlinewidth\":0,\"ticks\":\"\"}}}],\"scatter3d\":[{\"type\":\"scatter3d\",\"line\":{\"colorbar\":{\"outlinewidth\":0,\"ticks\":\"\"}},\"marker\":{\"colorbar\":{\"outlinewidth\":0,\"ticks\":\"\"}}}],\"scattermapbox\":[{\"type\":\"scattermapbox\",\"marker\":{\"colorbar\":{\"outlinewidth\":0,\"ticks\":\"\"}}}],\"scatterternary\":[{\"type\":\"scatterternary\",\"marker\":{\"colorbar\":{\"outlinewidth\":0,\"ticks\":\"\"}}}],\"scattercarpet\":[{\"type\":\"scattercarpet\",\"marker\":{\"colorbar\":{\"outlinewidth\":0,\"ticks\":\"\"}}}],\"carpet\":[{\"aaxis\":{\"endlinecolor\":\"#2a3f5f\",\"gridcolor\":\"white\",\"linecolor\":\"white\",\"minorgridcolor\":\"white\",\"startlinecolor\":\"#2a3f5f\"},\"baxis\":{\"endlinecolor\":\"#2a3f5f\",\"gridcolor\":\"white\",\"linecolor\":\"white\",\"minorgridcolor\":\"white\",\"startlinecolor\":\"#2a3f5f\"},\"type\":\"carpet\"}],\"table\":[{\"cells\":{\"fill\":{\"color\":\"#EBF0F8\"},\"line\":{\"color\":\"white\"}},\"header\":{\"fill\":{\"color\":\"#C8D4E3\"},\"line\":{\"color\":\"white\"}},\"type\":\"table\"}],\"barpolar\":[{\"marker\":{\"line\":{\"color\":\"#E5ECF6\",\"width\":0.5},\"pattern\":{\"fillmode\":\"overlay\",\"size\":10,\"solidity\":0.2}},\"type\":\"barpolar\"}],\"pie\":[{\"automargin\":true,\"type\":\"pie\"}]},\"layout\":{\"autotypenumbers\":\"strict\",\"colorway\":[\"#636efa\",\"#EF553B\",\"#00cc96\",\"#ab63fa\",\"#FFA15A\",\"#19d3f3\",\"#FF6692\",\"#B6E880\",\"#FF97FF\",\"#FECB52\"],\"font\":{\"color\":\"#2a3f5f\"},\"hovermode\":\"closest\",\"hoverlabel\":{\"align\":\"left\"},\"paper_bgcolor\":\"white\",\"plot_bgcolor\":\"#E5ECF6\",\"polar\":{\"bgcolor\":\"#E5ECF6\",\"angularaxis\":{\"gridcolor\":\"white\",\"linecolor\":\"white\",\"ticks\":\"\"},\"radialaxis\":{\"gridcolor\":\"white\",\"linecolor\":\"white\",\"ticks\":\"\"}},\"ternary\":{\"bgcolor\":\"#E5ECF6\",\"aaxis\":{\"gridcolor\":\"white\",\"linecolor\":\"white\",\"ticks\":\"\"},\"baxis\":{\"gridcolor\":\"white\",\"linecolor\":\"white\",\"ticks\":\"\"},\"caxis\":{\"gridcolor\":\"white\",\"linecolor\":\"white\",\"ticks\":\"\"}},\"coloraxis\":{\"colorbar\":{\"outlinewidth\":0,\"ticks\":\"\"}},\"colorscale\":{\"sequential\":[[0.0,\"#0d0887\"],[0.1111111111111111,\"#46039f\"],[0.2222222222222222,\"#7201a8\"],[0.3333333333333333,\"#9c179e\"],[0.4444444444444444,\"#bd3786\"],[0.5555555555555556,\"#d8576b\"],[0.6666666666666666,\"#ed7953\"],[0.7777777777777778,\"#fb9f3a\"],[0.8888888888888888,\"#fdca26\"],[1.0,\"#f0f921\"]],\"sequentialminus\":[[0.0,\"#0d0887\"],[0.1111111111111111,\"#46039f\"],[0.2222222222222222,\"#7201a8\"],[0.3333333333333333,\"#9c179e\"],[0.4444444444444444,\"#bd3786\"],[0.5555555555555556,\"#d8576b\"],[0.6666666666666666,\"#ed7953\"],[0.7777777777777778,\"#fb9f3a\"],[0.8888888888888888,\"#fdca26\"],[1.0,\"#f0f921\"]],\"diverging\":[[0,\"#8e0152\"],[0.1,\"#c51b7d\"],[0.2,\"#de77ae\"],[0.3,\"#f1b6da\"],[0.4,\"#fde0ef\"],[0.5,\"#f7f7f7\"],[0.6,\"#e6f5d0\"],[0.7,\"#b8e186\"],[0.8,\"#7fbc41\"],[0.9,\"#4d9221\"],[1,\"#276419\"]]},\"xaxis\":{\"gridcolor\":\"white\",\"linecolor\":\"white\",\"ticks\":\"\",\"title\":{\"standoff\":15},\"zerolinecolor\":\"white\",\"automargin\":true,\"zerolinewidth\":2},\"yaxis\":{\"gridcolor\":\"white\",\"linecolor\":\"white\",\"ticks\":\"\",\"title\":{\"standoff\":15},\"zerolinecolor\":\"white\",\"automargin\":true,\"zerolinewidth\":2},\"scene\":{\"xaxis\":{\"backgroundcolor\":\"#E5ECF6\",\"gridcolor\":\"white\",\"linecolor\":\"white\",\"showbackground\":true,\"ticks\":\"\",\"zerolinecolor\":\"white\",\"gridwidth\":2},\"yaxis\":{\"backgroundcolor\":\"#E5ECF6\",\"gridcolor\":\"white\",\"linecolor\":\"white\",\"showbackground\":true,\"ticks\":\"\",\"zerolinecolor\":\"white\",\"gridwidth\":2},\"zaxis\":{\"backgroundcolor\":\"#E5ECF6\",\"gridcolor\":\"white\",\"linecolor\":\"white\",\"showbackground\":true,\"ticks\":\"\",\"zerolinecolor\":\"white\",\"gridwidth\":2}},\"shapedefaults\":{\"line\":{\"color\":\"#2a3f5f\"}},\"annotationdefaults\":{\"arrowcolor\":\"#2a3f5f\",\"arrowhead\":0,\"arrowwidth\":1},\"geo\":{\"bgcolor\":\"white\",\"landcolor\":\"#E5ECF6\",\"subunitcolor\":\"white\",\"showland\":true,\"showlakes\":true,\"lakecolor\":\"white\"},\"title\":{\"x\":0.05},\"mapbox\":{\"style\":\"light\"}}},\"xaxis\":{\"anchor\":\"y\",\"domain\":[0.0,1.0],\"title\":{\"text\":\"PC1\"}},\"yaxis\":{\"anchor\":\"x\",\"domain\":[0.0,1.0],\"title\":{\"text\":\"PC2\"}},\"legend\":{\"title\":{\"text\":\"ID_Group\"},\"tracegroupgap\":0},\"title\":{\"text\":\"Colored by Patient ID\"},\"autosize\":true,\"width\":800,\"height\":800},                        {\"responsive\": true}                    ).then(function(){\n",
       "                            \n",
       "var gd = document.getElementById('277c0557-90fd-4691-8ed4-ed288ab6235f');\n",
       "var x = new MutationObserver(function (mutations, observer) {{\n",
       "        var display = window.getComputedStyle(gd).display;\n",
       "        if (!display || display === 'none') {{\n",
       "            console.log([gd, 'removed!']);\n",
       "            Plotly.purge(gd);\n",
       "            observer.disconnect();\n",
       "        }}\n",
       "}});\n",
       "\n",
       "// Listen for the removal of the full notebook cells\n",
       "var notebookContainer = gd.closest('#notebook-container');\n",
       "if (notebookContainer) {{\n",
       "    x.observe(notebookContainer, {childList: true});\n",
       "}}\n",
       "\n",
       "// Listen for the clearing of the current output cell\n",
       "var outputEl = gd.closest('.output');\n",
       "if (outputEl) {{\n",
       "    x.observe(outputEl, {childList: true});\n",
       "}}\n",
       "\n",
       "                        })                };                });            </script>        </div>"
      ]
     },
     "metadata": {},
     "output_type": "display_data"
    }
   ],
   "source": [
    "import plotly.express as px\n",
    "\n",
    "# Assuming you have merged_df from the previous steps\n",
    "\n",
    "# Create the interactive plot with Plotly\n",
    "fig = px.scatter(\n",
    "    merged_df,\n",
    "    x='PC1',\n",
    "    y='PC2',\n",
    "    color='ID_Group',  # Color points by their predicted labels\n",
    "    hover_name='Sample',  # Show the sample ID on hover\n",
    "    hover_data=['Sample', 'Pred', 'Primary_Perc', 'Second', 'Second_Perc'], \n",
    "    #labels={'PC1': 'Principal Component 1', 'PC2': 'Principal Component 2', 'Second':'Secondary Ancestry'},\n",
    "    title='Colored by Patient ID',\n",
    "    color_continuous_scale='Viridis'\n",
    ")\n",
    "\n",
    "# Highlight specific IDs by increasing their marker size\n",
    "#highlight_ids = ['C0953478_A', 'C7486770', 'C0000613']  # Replace with your specific IDs\n",
    "#fig.update_traces(marker=dict(size=8, opacity=0.6))  # Default marker settings\n",
    "\n",
    "fig.update_layout(\n",
    "    autosize=True,\n",
    "    width=800,\n",
    "    height=800,\n",
    ")\n",
    "\n",
    "# Show the plot\n",
    "fig.show()\n",
    "\n",
    "\n",
    "fig.write_html(\"Patient_ID_PCA_Ancestry.html\")"
   ]
  },
  {
   "cell_type": "code",
   "execution_count": 56,
   "id": "dc13d92b",
   "metadata": {},
   "outputs": [
    {
     "data": {
      "image/png": "[encoded data removed]",
      "text/plain": [
       "<Figure size 1000x800 with 1 Axes>"
      ]
     },
     "metadata": {},
     "output_type": "display_data"
    }
   ],
   "source": [
    "# List of specific sample IDs to highlight\n",
    "highlight_ids = []\n",
    "\n",
    "\n",
    "import seaborn as sns\n",
    "import matplotlib.pyplot as plt\n",
    "\n",
    "# Plot the PCA results with color labels\n",
    "plt.figure(figsize=(10, 8))\n",
    "sns.scatterplot(x='PC1', y='PC2', hue='Pred', data=merged_df, s=100, palette='Set1')\n",
    "\n",
    "# Highlight specific IDs\n",
    "for i, row in merged_df.iterrows():\n",
    "    if row['Sample'] in highlight_ids:\n",
    "        plt.text(row['PC1'] + 0.02, row['PC2'], row['Sample'], fontsize=9, color='black', weight='bold')\n",
    "        plt.scatter(row['PC1'], row['PC2'], color='black', s=200, edgecolor='yellow', linewidth=2)  # Optional: Highlight with a larger marker\n",
    "\n",
    "plt.title('PCA of Genotype Data')\n",
    "plt.xlabel('PC1')\n",
    "plt.ylabel('PC2')\n",
    "plt.grid(True)\n",
    "plt.show()\n"
   ]
  },
  {
   "cell_type": "code",
   "execution_count": 85,
   "id": "f2b886aa",
   "metadata": {},
   "outputs": [],
   "source": [
    "svm_preds.to_excel('Ancestry_Predictions_SVM.xlsx', index = None)"
   ]
  },
  {
   "cell_type": "code",
   "execution_count": null,
   "id": "5ec733c4",
   "metadata": {},
   "outputs": [],
   "source": []
  }
 ],
 "metadata": {
  "kernelspec": {
   "display_name": "Python 3 (ipykernel)",
   "language": "python",
   "name": "python3"
  },
  "language_info": {
   "codemirror_mode": {
    "name": "ipython",
    "version": 3
   },
   "file_extension": ".py",
   "mimetype": "text/x-python",
   "name": "python",
   "nbconvert_exporter": "python",
   "pygments_lexer": "ipython3",
   "version": "3.12.4"
  }
 },
 "nbformat": 4,
 "nbformat_minor": 5
}
